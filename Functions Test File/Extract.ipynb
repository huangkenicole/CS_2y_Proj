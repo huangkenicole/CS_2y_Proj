{
 "cells": [
  {
   "cell_type": "code",
   "execution_count": 4,
   "id": "42f3ef47-5959-49c8-bbac-7b5ba3738210",
   "metadata": {},
   "outputs": [],
   "source": [
    "from IPython.core.interactiveshell import InteractiveShell\n",
    "InteractiveShell.ast_node_interactivity = \"all\"  # 如果不需要，则修改为none即可。删除该段代码不起作用。"
   ]
  },
  {
   "cell_type": "markdown",
   "id": "0934aad8-4dba-4fa5-a052-aaa41c8a3ccb",
   "metadata": {},
   "source": [
    "## 1. Extract Text From PDF - PyMuPDF"
   ]
  },
  {
   "cell_type": "markdown",
   "id": "59480797-06ba-426f-af7d-1323a410bcf2",
   "metadata": {},
   "source": [
    "ignore_tables、页眉、页脚、侧边栏"
   ]
  },
  {
   "cell_type": "code",
   "execution_count": 1,
   "id": "b16be8e2-b1de-4a05-b782-459b1ce4fe91",
   "metadata": {
    "scrolled": true
   },
   "outputs": [
    {
     "data": {
      "text/plain": [
       "'Journal\\n of\\n Science\\n and\\n Medicine\\n in\\n Sport\\n 17 (2014) 177–\\n 182\\nContents\\n lists\\n available\\n at\\n ScienceDirect\\nJournal\\n of\\n Science\\n and\\n Medicine\\n in\\n Sport\\nj\\n our\\n na\\n l\\n ho\\n me\\n page:\\n www.elsevier.com/locate/jsams\\nReview\\nExercise\\n and\\n the\\n treatment\\n of\\n depression:\\n A\\n review\\n of\\n the\\n exercise\\nprogram\\n variables\\nRobert\\n Stanton a,∗,  Peter\\n Reaburn b\\na Central\\n Queensland\\n University,\\n Institute\\n for\\n Health\\n and\\n Social\\n Science,\\n Centre\\n for\\n Mental\\n Health\\n Nursing\\n Innovation,\\n Rockhampton,\\n Australia\\nb School\\n of\\n Medical\\n and\\n Applied\\n Sciences,\\n Central\\n Queensland\\n University,\\n Rockhampton,\\n Australia\\na  r\\n t  i  c  l e  \\ni n\\n f\\n o\\nArticle\\n history:\\nReceived\\n 3\\n January\\n 2013\\nReceived\\n in\\n revised\\n form\\n 10\\n March\\n 2013\\nAccepted\\n 21\\n March\\n 2013\\nAvailable online 18 April 2013\\nKeywords:\\nDepressive\\n disorder\\nClinical\\n depression\\nAerobic\\n exercise\\nRandomized\\n controlled\\n trials\\nExercise\\n training\\na\\n b  s  t\\n r\\n a  c  t\\nObjectives:\\n There  is  growing\\n interest\\n in  the  use  of exercise\\n in  the  treatment\\n of  depression.\\n A number\\nof\\n randomized\\n controlled\\n trials  (RCTs)  have  demonstrated\\n a reduction\\n in  depressive\\n symptoms\\n with\\nboth\\n aerobic\\n and non-aerobic\\n exercise\\n interventions.\\n This  has  been  supported\\n in  a number  of  systematic\\nreviews\\n and  meta-analyses.\\n However,\\n the heterogeneous\\n nature  of the  exercise\\n intervention\\n trials\\n makes\\ndetermining\\n the appropriate\\n program\\n variables\\n (frequency,\\n intensity,\\n duration\\n and  type of  exercise)\\ndifﬁcult.\\nDesign:\\n A  systematic\\n review\\n was  undertaken\\n on  all RCTs  reporting\\n a  signiﬁcant\\n treatment\\n effect\\n of  exercise\\nin\\n the  treatment\\n of depression.\\nMethods:\\n Studies\\n were  analyzed\\n for  exercise\\n frequency,\\n intensity,\\n session\\n duration,\\n exercise\\n type,  exercise\\nmode,\\n intervention\\n duration,\\n delivery\\n of  exercise,\\n level\\n and  quality  of  supervision\\n and  compliance.\\n Study\\nquality\\n was  assessed\\n using  the  PEDro\\n scale.\\nResults:\\n Five RCTs  published\\n since  2007  met\\n the  inclusion\\n criteria\\n and\\n were\\n subsequently\\n analyzed.\\n Most\\nprograms\\n were  performed\\n three  times\\n weekly\\n and  of  moderate\\n intensity.\\n All  included\\n trials\\n used aerobic\\nexercise,\\n either  treadmill\\n or  outdoor\\n walking,\\n stationary\\n cycle\\n or  elliptical\\n cross  trainer\\n exercise.\\n Inter-\\nvention\\n duration\\n ranged  from  four  to  twelve\\n weeks.  Both  group\\n and  individual\\n programs\\n were  shown\\n to\\nbe\\n effective\\n in  lowering\\n the symptoms\\n of  depression.\\n Some\\n level\\n of  supervision\\n is recommended.\\nConclusions:\\n There  is  evidence\\n for  the  use  supervised\\n aerobic\\n exercise,\\n undertaken\\n three\\n times\\n weekly  at\\nmoderate\\n intensity\\n for  a minimum\\n of nine  weeks\\n in  the  treatment\\n of  depression.\\n Further  research\\n on\\n the\\nmanipulation\\n of program\\n variables\\n is  warranted.\\n© 2013 Sports Medicine Australia. Published by Elsevier Ltd. All rights reserved.\\n1.\\n Introduction\\nDepression\\n is\\n a\\n debilitating\\n condition\\n exerting\\n a\\n signiﬁcant\\n neg-\\native\\n effect\\n on\\n quality\\n of\\n life\\n for\\n millions\\n of\\n people\\n worldwide.1\\nDepression\\n is\\n typically\\n managed\\n in\\n primary\\n care\\n using\\n both\\n phar-\\nmacotherapy\\n and\\n psychological\\n interventions.\\n However,\\n the\\n role\\n of\\nexercise\\n as\\n an\\n adjunct\\n to\\n conventional\\n therapies\\n is\\n gaining\\n momen-\\ntum\\n with\\n large\\n number\\n of\\n recent\\n studies\\n having\\n demonstrated\\nexercise\\n to\\n be\\n effective\\n in\\n reducing\\n depression\\n symptoms.2–6\\nIndeed,\\n a\\n number\\n of\\n previous\\n studies\\n have\\n found\\n exercise\\n to\\n be\\n as\\neffective\\n as\\n medication3,7,8 or\\n psychological\\n interventions9 in\\n the\\ntreatment\\n of\\n depression.\\nWhilst\\n the\\n effectiveness\\n of\\n exercise\\n in\\n the\\n treatment\\n of\\n depres-\\nsion\\n is\\n clear,\\n studies\\n investigating\\n the\\n dose\\n response\\n to\\n exercise\\nin\\n people\\n with\\n depression\\n remains\\n equivocal.\\n For\\n example,\\n Singh\\nand\\n colleagues10 randomized\\n 60\\n older\\n adults\\n aged\\n >\\n 60\\n years\\n with\\n∗ Corresponding\\n author.\\nE-mail\\n address:\\n r.stanton@cqu.edu.au\\n (R.\\n Stanton).\\nminor\\n or\\n major\\n depression,\\n to\\n a\\n supervised\\n high\\n (80%\\n of\\n one\\nrepetition\\n maximum)\\n or\\n low\\n intensity\\n (20%\\n of\\n one\\n repetition\\n max-\\nimum)\\n progressive\\n resistance\\n training\\n program\\n for\\n eight\\n weeks.\\nResults\\n from\\n this\\n study\\n showed\\n that\\n the\\n high\\n intensity\\n resistance\\ntraining\\n program\\n was\\n deemed\\n to\\n be\\n more\\n effective\\n compared\\n to\\nthe\\n low\\n intensity\\n program\\n in\\n the\\n reduction\\n of\\n depressive\\n symp-\\ntoms.\\n In\\n contrast,\\n using\\n an\\n aerobic\\n exercise\\n intervention,\\n Dunn\\n and\\ncolleagues11 found\\n that\\n in\\n adults\\n with\\n mild\\n to\\n moderate\\n major\\ndepressive\\n disorder\\n aged\\n 20–45\\n years,\\n an\\n exercise\\n dose\\n equiv-\\nalent\\n to\\n that\\n recommended\\n for\\n the\\n general\\n population\\n (energy\\nexpenditure\\n equivalent\\n to\\n 17.5\\n kcal/kg/week)\\n was\\n more\\n effective\\nthan\\n a\\n low\\n dose\\n of\\n exercise\\n (energy\\n expenditure\\n equivalent\\n to\\n7\\n kcal/kg/week\\n for\\n the\\n reduction\\n in\\n the\\n primary\\n outcome\\n mea-\\nsure\\n of\\n Hamilton\\n Rating\\n Scale\\n for\\n Depression.\\n More\\n recently\\n Chu\\nand\\n co-workers5 reported\\n no\\n difference\\n between\\n a\\n high\\n intensity\\naerobic\\n exercise\\n (65–75%MVO2reserve),\\n low\\n intensity\\n aerobic\\n exer-\\ncise\\n (40–55%MVO2reserve),\\n or\\n a\\n stretching\\n program\\n in\\n the\\n reduction\\nof\\n depressive\\n symptoms\\n after\\n 10\\n weeks\\n of\\n training\\n in\\n a\\n group\\n of\\nsedentary\\n women\\n with\\n mild\\n to\\n moderate\\n depression.\\n Despite\\n their\\nrespective\\n success\\n at\\n improving\\n depressive\\n symptoms,\\n studies\\n such\\n1440-2440/$\\n –\\n see\\n front\\n matter ©\\n \\n 2013 Sports Medicine Australia. Published by Elsevier Ltd. All rights reserved.\\nhttp://dx.doi.org/10.1016/j.jsams.2013.03.010\\n178\\nR.\\n Stanton,\\n P.\\n Reaburn\\n / Journal\\n of\\n Science\\n and\\n Medicine\\n in\\n Sport\\n 17 (2014) 177–\\n 182\\nas\\n these\\n fail\\n to\\n provide\\n signiﬁcant\\n insight\\n into\\n the\\n most\\n effective\\nexercise\\n variables\\n to\\n be\\n used\\n for\\n the\\n treatment\\n of\\n depression.\\n This\\nis\\n likely\\n due\\n to\\n the\\n heterogeneous\\n nature\\n of\\n intervention\\n type,\\ndifferences\\n in\\n study\\n duration,\\n depression\\n scores\\n at\\n baseline,\\n and\\nassessment\\n methods\\n used.\\nA number\\n of\\n recent\\n systematic\\n reviews\\n have\\n identiﬁed\\n method-\\nological\\n weakness\\n in\\n included\\n studies\\n such\\n as\\n lack\\n of\\n blinding\\n to\\nassessment\\n (was\\n the\\n therapist\\n or\\n assessor\\n aware\\n of\\n which\\n group\\na\\n participant\\n was\\n assigned\\n to?),\\n poor\\n concealment\\n (was\\n the\\n per-\\nson\\n responsible\\n for\\n determining\\n eligibility\\n for\\n inclusion\\n aware,\\nat\\n the\\n time\\n of\\n the\\n decision,\\n of\\n which\\n group\\n a\\n participant\\n would\\nbe\\n assigned\\n to?),\\n lack\\n of\\n reporting\\n of\\n key\\n program\\n variables,\\n low\\nsample\\n size,\\n differences\\n in\\n the\\n deﬁnition\\n and\\n assessment\\n of\\n depres-\\nsion,\\n and\\n lack\\n of\\n long\\n term\\n follow\\n up.12–14 In\\n an\\n attempt\\n to\\n close\\nthis\\n knowledge\\n gap,\\n Teychene\\n and\\n colleagues15 reviewed\\n multi-\\nple\\n studies\\n including\\n observational\\n and\\n interventional\\n designs\\n and\\nconcluded\\n that\\n there\\n may\\n not\\n be\\n an\\n optimal\\n loading\\n parameter\\n for\\npeople\\n with\\n depression\\n since\\n beneﬁcial\\n effects\\n were\\n noted\\n from\\nboth\\n low\\n volume9 and\\n higher\\n volume16 programs.\\n However\\n a\\n more\\nrecent\\n meta-analysis17 demonstrated\\n that\\n in\\n a\\n clinically\\n depressed\\npopulation,\\n program\\n durations\\n of\\n 10–14\\n weeks,\\n with\\n sessions\\n last-\\ning\\n 45–59\\n min,\\n performed\\n ﬁve\\n times\\n weekly,\\n showed\\n the\\n greatest\\neffect\\n sizes.\\n Both\\n aerobic\\n and\\n resistance\\n exercise\\n interventions\\n were\\nof\\n similar\\n beneﬁt.\\n High\\n intensity\\n exercise\\n (>75%\\n maximal\\n heart\\n rate)\\nshowed\\n a\\n larger\\n effect\\n size\\n however\\n the\\n difference\\n was\\n not\\n signiﬁ-\\ncantly\\n different\\n to\\n lower\\n intensity\\n exercise\\n (61–74%\\n maximal\\n heart\\nrate).\\n These\\n recommendations\\n have\\n been\\n used\\n to\\n formulate\\n the\\n UK\\nNational\\n Institute\\n for\\n Health\\n and\\n Clinical\\n Excellence\\n (NICE)\\n guide-\\nlines\\n for\\n the\\n treatment\\n and\\n management\\n of\\n depression\\n in\\n adults18\\nthat\\n remain\\n the\\n most\\n widely\\n used\\n and\\n quoted\\n guidelines\\n relating\\nto\\n exercise\\n in\\n the\\n treatment\\n of\\n depression.\\nA recent\\n Cochrane\\n Review19 concluded\\n that\\n exercise\\n has\\n a\\n mod-\\nerate\\n effect\\n compared\\n to\\n no\\n treatment,\\n is\\n superior\\n to\\n bright\\n light\\ntherapy,\\n and\\n is\\n no\\n different\\n to\\n pharmocotherapies\\n or\\n psychologi-\\ncal\\n interventions\\n in\\n the\\n treatment\\n of\\n depression.\\n This\\n same\\n review\\nreported\\n that\\n both\\n aerobic\\n and\\n resistance\\n training\\n interventions\\nare\\n effective\\n with\\n resistance\\n training\\n or\\n combined\\n interventions\\n(resistance\\n training\\n and\\n aerobic\\n training)\\n showing\\n slightly\\n larger\\neffect\\n sizes.19 This\\n ﬁnding\\n may\\n argue\\n for\\n the\\n additive\\n effect\\n of\\nresistance\\n training\\n in\\n the\\n treatment\\n of\\n depression.\\n The\\n Cochrane\\nReview\\n was\\n unable\\n to\\n perform\\n an\\n analysis\\n of\\n exercise\\n intensity\\ndue\\n to\\n the\\n methodological\\n differences\\n between\\n studies\\n and\\n lack\\nof\\n sufﬁcient\\n reporting\\n of\\n exercise\\n intensity\\n parameters.19 The\\n ﬁnd-\\nings\\n of\\n the\\n review\\n by\\n Rimer\\n and\\n colleagues19 differs\\n from\\n both\\n a\\nprevious\\n Cochrane\\n Review\\n which\\n failed\\n to\\n ﬁnd\\n a\\n signiﬁcant\\n effect\\nof\\n exercise20 and\\n the\\n ﬁndings\\n of\\n a\\n recent\\n review\\n of\\n RCTs\\n which\\nonly\\n included\\n studies\\n with\\n a\\n clinician\\n diagnosis\\n of\\n depression.21\\nAn\\n even\\n more\\n recent\\n review\\n and\\n meta-analysis\\n of\\n studies\\n relating\\nto\\n exercise\\n and\\n depression\\n included\\n only\\n walking\\n as\\n the\\n exercise\\nintervention\\n concluded\\n that\\n while\\n walking\\n demonstrates\\n a\\n statis-\\ntically\\n signiﬁcant\\n effect\\n on\\n depression\\n symptoms,\\n further\\n RCTs\\n are\\nrequired\\n to\\n determine\\n the\\n appropriate\\n combinations\\n of\\n program\\nvariables.22 Moreover,\\n the\\n translation\\n of\\n clinical\\n research\\n into\\n pri-\\nmary\\n care\\n requires\\n further\\n investigation.\\nTo\\n date,\\n only\\n one\\n systematic\\n review\\n of\\n RCTs\\n has\\n been\\n performed\\nspeciﬁcally\\n to\\n establish\\n recommendations\\n for\\n exercise\\n program\\nvariables\\n in\\n the\\n treatment\\n of\\n patients\\n with\\n depression.\\n Perraton\\nand\\n colleagues23 analyzed\\n 15\\n papers\\n meeting\\n their\\n strict\\n inclu-\\nsion\\n criteria.\\n Their\\n review\\n concluded\\n that\\n 30\\n min\\n of\\n supervised\\naerobic\\n exercise\\n performed\\n three\\n times\\n weekly\\n for\\n at\\n least\\n eight\\nweeks\\n is\\n likely\\n to\\n be\\n effective\\n in\\n treating\\n the\\n symptoms\\n of\\n depres-\\nsion.\\n Due\\n to\\n the\\n limited\\n available\\n evidence,\\n the\\n authors\\n concluded\\nthat\\n further\\n research\\n is\\n required\\n before\\n making\\n recommendation\\nrelated\\n to\\n non-aerobic\\n exercise.\\n The\\n above\\n recommendations\\n for\\naerobic\\n exercise\\n are\\n not\\n dissimilar\\n to\\n those\\n typically\\n used\\n for\\nhealthy\\n populations24 thus\\n leading\\n to\\n the\\n question,\\n is\\n exercise\\nfor\\n patients\\n with\\n depression\\n necessarily\\n any\\n different\\n from\\n those\\nwithout\\n depression,\\n or\\n in\\n fact\\n other\\n clinical\\n populations\\n such\\n as\\ntype\\n II\\n diabetes\\n mellitus?\\n The\\n above\\n recommendations\\n of\\n Perra-\\nton\\n and\\n colleagues23 differ\\n from\\n the\\n National\\n Institute\\n for\\n Health\\nand\\n Clinical\\n Exercise\\n (NICE)\\n guidelines\\n which\\n recommend\\n a\\n pro-\\ngram\\n of\\n three\\n times\\n weekly,\\n for\\n 45–60\\n min\\n per\\n session,\\n performed\\nfor\\n 10–14\\n weeks\\n and\\n this\\n difference\\n may\\n reﬂect\\n methodological\\ndifferences\\n between\\n the\\n studies\\n reviewed.\\n Similarly\\n the\\n recom-\\nmendations\\n from\\n Perraton\\n and\\n colleagues23 differ\\n from\\n the\\n most\\nrecent\\n recommendations\\n for\\n people\\n with\\n diabetes,25 where\\n a\\n rec-\\nommendation\\n of\\n both\\n aerobic\\n exercise\\n and\\n resistance\\n exercise\\n be\\nperformed\\n for\\n a\\n minimum\\n of\\n 210\\n min\\n per\\n week\\n with\\n no\\n more\\n than\\ntwo\\n consecutive\\n days\\n without\\n exercise.\\nFrom\\n the\\n RCTs\\n conducted\\n to\\n date\\n there\\n is\\n a\\n wide\\n variety\\n of\\n pro-\\ngram\\n variable\\n combinations\\n utilized\\n making\\n effective\\n prescription\\nof\\n exercise\\n in\\n the\\n treatment\\n of\\n patients\\n with\\n depression\\n challenging\\nfor\\n the\\n practitioner.\\n Thus,\\n the\\n purpose\\n of\\n this\\n review\\n is\\n to\\n build\\n on\\nthe\\n systematic\\n review\\n of\\n Perraton\\n and\\n colleagues23 by\\n analyzing\\n the\\nstudies\\n published\\n since\\n 2007\\n which\\n report\\n a\\n signiﬁcant\\n treatment\\neffect\\n of\\n exercise\\n for\\n patients\\n with\\n depression\\n and\\n to\\n examine\\n the\\nprogram\\n variables\\n which\\n may\\n lead\\n to\\n successful\\n treatment.\\n Recom-\\nmendations\\n will\\n be\\n developed\\n which\\n researchers\\n and\\n practitioners\\nmay\\n draw\\n upon\\n for\\n the\\n design\\n of\\n exercise\\n interventions\\n for\\n the\\ntreatment\\n of\\n patients\\n with\\n depression.\\n2.\\n Methods\\nOur\\n methodology\\n is\\n similar\\n to\\n that\\n of\\n Perraton\\n and\\n colleagues.23\\nOur\\n review\\n initially\\n considered\\n all\\n RCTs\\n published\\n since\\n 1960\\n ful-\\nﬁlling\\n the\\n following\\n criteria:\\n1.\\n Population:  All\\n adults\\n aged\\n 18–65\\n years\\n with\\n a\\n diagnosis\\n of\\ndepression\\n as\\n deﬁned\\n by\\n the\\n Diagnostic\\n and\\n Statistical\\n Manual\\n of\\nMental\\n Disorders,\\n Fourth\\n Edition\\n (DSM\\n IV),\\n International\\n Statis-\\ntical\\n Classiﬁcation\\n of\\n Diseases\\n and\\n Related\\n Health\\n Problems\\n 10th\\nRevision\\n (ICD-10)\\n criteria\\n or\\n a\\n validated\\n depression\\n scale.\\n2.\\n Intervention:\\n Aerobic\\n or\\n resistance\\n training\\n program,\\n or\\n a\\n com-\\nbination\\n of\\n both,\\n of\\n any\\n duration.\\n3.\\n Comparison\\n group:\\n Any\\n other\\n intervention\\n including\\n pharmaco-\\ntherapy,\\n education,\\n psychotherapy,\\n other\\n exercise\\n program,\\n or\\nno\\n intervention\\n including\\n wait\\n list\\n controls.\\n4.\\n Outcome\\n measures:\\n Validated\\n depression\\n rating\\n scales.\\nThe\\n following\\n databases\\n were\\n searched:\\n Pubmed,\\n CINAHL,\\nSPORTDiscus,\\n psychARTICLES,\\n and\\n psychINFO.\\n In\\n addition,\\n the\\nauthors’\\n personal\\n library\\n was\\n reviewed\\n for\\n additional\\n relevant\\n peer-\\nreviewed\\n and\\n published\\n articles.\\n The\\n reference\\n lists\\n of\\n relevant\\narticles\\n were\\n also\\n examined\\n and\\n followed-up.\\n The\\n search\\n terms\\nused\\n were:\\n depression,\\n ‘major\\n depression’,\\n ‘major\\n depressive\\n dis-\\norder’,\\n ‘exercise’,\\n ‘exercise\\n therapy’,\\n ‘exercise\\n programming’.\\n The\\nsearch\\n was\\n limited\\n to\\n English\\n language\\n RCTs\\n published\\n since\\n 1960,\\nwith\\n human\\n subjects\\n aged\\n 18–65\\n of\\n either\\n gender.\\n All\\n references\\nwere\\n imported\\n into\\n Endnote\\n bibliographic\\n software.\\nAll\\n RCTs\\n from\\n peer\\n reviewed\\n journals\\n where\\n exercise\\n was\\ndemonstrated\\n to\\n be\\n beneﬁcial\\n in\\n the\\n treatment\\n of\\n depression\\n were\\nincluded\\n in\\n the\\n ﬁnal\\n review.\\n Where\\n no\\n statistically\\n signiﬁcant\\neffect\\n compared\\n to\\n other\\n treatments\\n was\\n found,\\n the\\n trial\\n was\\n only\\nincluded\\n if\\n a\\n signiﬁcant\\n treatment\\n effect\\n of\\n exercise\\n was\\n present.\\nRCTs\\n were\\n excluded\\n where\\n a\\n diagnosis\\n of\\n depressive\\n disorders\\nor\\n depression\\n was\\n not\\n made\\n using\\n DSM-IV,\\n ICD-10\\n or\\n validated\\ninstruments.\\n Trials\\n investigating\\n a\\n mental\\n illness\\n other\\n than\\n depres-\\nsion\\n such\\n as\\n seasonal\\n affective\\n disorder,\\n bipolar\\n disorder,\\n postnatal\\ndepression,\\n schizophrenia,\\n psychotic\\n depression\\n or\\n post-traumatic\\nstress\\n disorder\\n (PTSD)\\n were\\n excluded.\\n Exercise\\n interventions\\n other\\nR.\\n Stanton,\\n P.\\n Reaburn\\n / Journal\\n of\\n Science\\n and\\n Medicine\\n in\\n Sport\\n 17 (2014) 177–\\n 182\\n179\\nthan\\n standard\\n aerobic\\n or\\n non-aerobic\\n exercise\\n such\\n as\\n Tai\\n Chi,\\n Yoga\\nor\\n dancing\\n were\\n also\\n excluded.\\nAfter\\n removal\\n of\\n duplicate\\n studies\\n and\\n scanning\\n of\\n titles\\n and\\nabstracts\\n for\\n studies\\n which\\n failed\\n to\\n meet\\n the\\n inclusion\\n criteria,\\nthe\\n remaining\\n studies\\n were\\n analyzed\\n for\\n the\\n following\\n data;\\n exer-\\ncise\\n frequency\\n (days\\n per\\n week),\\n exercise\\n intensity\\n (heart\\n rate\\n or\\nperceived\\n exertion\\n scale),\\n exercise\\n session\\n duration\\n (number\\n of\\nminutes),\\n exercise\\n type\\n (aerobic\\n or\\n non-aerobic),\\n mode\\n of\\n exercise\\n(walking,\\n running,\\n machine\\n weights,\\n etc.),\\n duration\\n of\\n intervention\\n(number\\n of\\n weeks),\\n delivery\\n (group\\n or\\n individual),\\n level\\n of\\n supervi-\\nsion\\n (was\\n it\\n supervised\\n and\\n by\\n whom)\\n and\\n compliance\\n (number\\n or\\npercentage\\n of\\n completers).\\nAll\\n included\\n trials\\n were\\n evaluated\\n using\\n the\\n Physiotherapy\\n Evi-\\ndence\\n Database\\n Scale\\n (PEDro).26 This\\n 10\\n point\\n scale\\n is\\n commonly\\nused\\n in\\n the\\n evaluation\\n of\\n physical\\n therapy\\n RCTs\\n and\\n demon-\\nstrates\\n good\\n inter-rater\\n reliability.27 Papers\\n are\\n rated\\n on\\n the\\nfollowing\\n criteria:\\n random\\n allocation;\\n allocation\\n concealment;\\n sim-\\nilar\\n between-group\\n prognostic\\n indicators\\n at\\n baseline;\\n blinding\\n of\\nparticipants;\\n blinding\\n of\\n therapists;\\n blinding\\n of\\n assessors;\\n key\\n out-\\ncome\\n measures\\n obtained\\n from\\n at\\n least\\n 85%\\n of\\n participants\\n initially\\nassigned\\n to\\n groups;\\n intention\\n to\\n treat\\n analysis\\n performed;\\n between\\ngroup\\n statistical\\n analysis\\n performed\\n on\\n at\\n least\\n one\\n key\\n outcome\\nand\\n ﬁnally,\\n both\\n point\\n measures\\n and\\n measures\\n of\\n variability\\n were\\nperformed\\n for\\n at\\n least\\n one\\n key\\n outcome.\\n External\\n validity\\n of\\n this\\ninstrument\\n is\\n addressed\\n by\\n criteria\\n one\\n of\\n the\\n scale\\n and\\n internal\\nvalidity\\n is\\n address\\n by\\n criteria\\n two\\n to\\n nine\\n of\\n the\\n scale.26 This\\n scale\\nis\\n limited\\n since\\n blinding\\n participants\\n and\\n therapists\\n or\\n observers\\n to\\nan\\n exercise\\n intervention\\n is\\n not\\n possible.\\n Thus\\n the\\n highest\\n possible\\nscore\\n using\\n the\\n PEDro\\n scale\\n is\\n eight\\n out\\n of\\n 10\\n for\\n the\\n present\\n review.\\nIncluded\\n studies\\n were\\n independently\\n review\\n by\\n both\\n authors.\\nWhere\\n any\\n discrepancy\\n in\\n PEDro\\n scores\\n existed\\n this\\n was\\n resolved\\nby\\n discussion.\\nFor\\n the\\n purpose\\n of\\n this\\n review,\\n interventions\\n are\\n deﬁned\\n as\\nan\\n aerobic\\n exercise\\n intervention\\n where\\n the\\n intervention\\n included\\nwalking,\\n running\\n or\\n similar\\n continuous\\n activities;\\n non-aerobic\\ninterventions\\n where\\n the\\n intervention\\n included\\n free\\n weight\\n train-\\ning,\\n machine\\n resistance\\n exercise,\\n body\\n weight\\n or\\n similar\\n forms\\n of\\nexercise;\\n or\\n combined\\n interventions\\n where\\n both\\n aerobic\\n and\\n non-\\naerobic\\n exercise\\n were\\n performed.\\n3.\\n Results\\nOur\\n search\\n revealed\\n 2696\\n potential\\n studies.\\n After\\n removal\\n of\\nduplicates,\\n the\\n remaining\\n titles\\n and\\n abstracts\\n were\\n scanned\\n for\\nrelevance,\\n leaving\\n 102\\n potential\\n studies.\\n Full\\n text\\n versions\\n were\\nobtained\\n for\\n the\\n remaining\\n papers\\n and\\n further\\n screened\\n for\\n inclu-\\nsion.\\n A\\n further\\n 90\\n were\\n subsequently\\n excluded,\\n leaving\\n 12\\n papers\\nfor\\n inclusion\\n in\\n this\\n review.\\n The\\n principle\\n reasons\\n for\\n exclusion\\nincluded\\n studies\\n which\\n included\\n participants\\n with\\n multiple\\n diag-\\nnoses\\n (41\\n papers),\\n were\\n not\\n structured\\n exercise\\n interventions\\n (26\\npapers),\\n or\\n showed\\n no\\n signiﬁcant\\n or\\n treatment\\n effect\\n of\\n exercise\\n(23\\n papers).\\n To\\n avoid\\n conﬂict\\n with\\n the\\n review\\n of\\n Perraton\\n and\\ncolleagues,23 the\\n publication\\n date\\n inclusion\\n criteria\\n was\\n narrowed\\nto\\n papers\\n published\\n since\\n 2007,\\n leaving\\n ﬁve\\n papers\\n for\\n inclusion\\n in\\nthis\\n review.\\nStudy\\n quality\\n was\\n evaluated\\n using\\n the\\n PEDro\\n scale.\\n Fig.\\n 1\\n shows\\nthe\\n range\\n of\\n PEDro\\n scores\\n for\\n the\\n ﬁve\\n included\\n RCTs.\\nAll\\n participants\\n in\\n the\\n included\\n studies\\n were\\n evaluated\\n accord-\\ning\\n to\\n DSM-IV,\\n ICD-10\\n or\\n validated\\n instruments.\\n Two\\n studies\\n used\\nthe\\n Beck\\n Depression\\n Inventory,5,6 two\\n studies\\n reported\\n diagno-\\nsis\\n according\\n to\\n DSM-IV\\n criteria28,29 and\\n one\\n study\\n used\\n multiple\\ncriteria.30 Three\\n studies\\n included\\n participants\\n with\\n a\\n diagnosis\\nof\\n MDD,28–30 one\\n study\\n reported\\n participants\\n with\\n mild\\n to\\n mod-\\nerate\\n depression5 and\\n one\\n study\\n failed\\n to\\n report\\n the\\n severity\\n of\\ndepression.6\\nFig.\\n 1.\\n PEDro\\n scores.\\nThe\\n program\\n characteristics\\n of\\n aerobic\\n exercise\\n interventions\\nmeeting\\n the\\n inclusion\\n criteria\\n are\\n shown\\n in\\n Table\\n 1. All\\n trials\\n used\\nwalking\\n as\\n the\\n principle\\n mode\\n of\\n exercise.\\nSince\\n 2007\\n there\\n were\\n no\\n non-aerobic\\n or\\n resistance\\n training\\nstudies\\n identiﬁed\\n meeting\\n the\\n inclusion\\n criteria.\\nSince\\n 2007\\n there\\n were\\n no\\n combined\\n studies\\n identiﬁed\\n meeting\\nthe\\n inclusion\\n criteria.\\nAll\\n studies\\n except\\n one5 included\\n co-interventions.\\n A\\n summary\\nof\\n these\\n is\\n shown\\n in\\n Table\\n 2.\\nTraining\\n frequency\\n was\\n adequately\\n reported\\n in\\n all\\n trials.\\n Train-\\ning\\n intensity\\n was\\n adequately\\n reported\\n in\\n two\\n trials,5,6 deﬁned\\n as\\nmoderate\\n intensity\\n in\\n one28 and\\n two\\n studies\\n combined\\n intensity\\nand\\n duration\\n to\\n report\\n energy\\n expenditure.29,30 All\\n studies\\n except\\none,6 reported\\n training\\n session\\n duration.\\n All\\n studies\\n utilized\\n tread-\\nmill\\n walking\\n either\\n alone,\\n or\\n combined\\n with\\n other\\n forms\\n of\\n aerobic\\nexercise\\n such\\n as\\n stationary\\n cycling,29,30 cross\\n trainer,30 outdoor\\nwalking28 or\\n the\\n participants\\n personal\\n preference.5 Intervention\\nduration\\n was\\n adequately\\n reported\\n in\\n four\\n out\\n of\\n ﬁve\\n studies\\n with\\none\\n study\\n reporting\\n a\\n variable\\n length\\n as\\n it\\n was\\n conducted\\n in\\n a\\n hos-\\npital\\n setting.30 Two\\n studies\\n reported\\n exercise\\n undertaken\\n on\\n an\\nindividual\\n basis5,30 with\\n one\\n study\\n reporting\\n a\\n group\\n intervention.6\\nBoth\\n group\\n and\\n individual\\n sessions\\n were\\n used\\n in\\n one\\n study28 with\\nthe\\n mode\\n of\\n delivery\\n being\\n unclear\\n in\\n the\\n ﬁnal\\n study.29 All\\n studies\\nreported\\n some\\n level\\n of\\n supervision.\\n However,\\n one\\n study\\n failed\\n to\\nreport\\n the\\n completion\\n rate.30 None\\n of\\n the\\n ﬁve\\n RCTs\\n reported\\n the\\n use\\nof\\n recovery\\n strategies\\n or\\n dietary\\n co-interventions\\n or\\n instructions\\n to\\nmaintain\\n usual\\n daily\\n activities.\\n4.\\n Discussion\\nThe\\n aim\\n of\\n this\\n review\\n was\\n to\\n identify\\n the\\n exercise\\n program\\nvariables\\n which\\n may\\n lead\\n to\\n successful\\n treatment\\n of\\n patients\\n with\\ndepression\\n and\\n provide\\n recommendations\\n which\\n future\\n studies\\nmay  draw\\n upon.\\nThe\\n present\\n review\\n observed\\n a\\n mean\\n frequency\\n of\\n aerobic\\n exer-\\ncise\\n in\\n the\\n included\\n RCTs\\n of\\n 3.8\\n sessions\\n per\\n week.\\n However,\\n there\\nwas\\n considerable\\n variability\\n in\\n the\\n frequency\\n of\\n exercise\\n train-\\ning\\n in\\n the\\n studies\\n reviewed,\\n ranging\\n from\\n twice\\n weekly29 to\\n ﬁve\\ntimes\\n weekly.5 Three\\n times\\n weekly\\n is\\n the\\n most\\n commonly\\n reported\\nfrequency\\n and\\n this\\n is\\n consistent\\n with\\n the\\n review\\n of\\n Perraton\\n and\\ncolleagues,23 the\\n NICE\\n guidelines18 and\\n with\\n recommendation\\n for\\nclinical25 and\\n non-clinical24 populations.\\nThere\\n is\\n considerable\\n variation\\n in\\n the\\n intensity\\n of\\n exercise\\n ran-\\nging\\n from\\n patient-preferred6 to\\n 75%VO2reserve.5 Given\\n this\\n range\\n180\\nR.\\n Stanton,\\n P.\\n Reaburn\\n / Journal\\n of\\n Science\\n and\\n Medicine\\n in\\n Sport\\n 17 (2014) 177–\\n 182\\nTable\\n 1\\nProgram\\n variables\\n of\\n aerobic\\n interventions.\\nAuthor\\n \\nFrequency\\n (per\\nweek)\\nIntensity\\n \\nSession\\nduration\\nMode\\n of\\n exercise\\n \\nIntervention\\nduration\\nIndividual\\n or\\ngroup\\nLevel\\n of\\nsupervision\\nCompliance\\nChu\\n et\\n al.5\\n4–5\\nHigh\\n(65–75%VO2reserve)\\n30–40\\n min\\n \\nTreadmill\\n(supervised),\\npersonal\\npreference\\n when\\nunsupervised\\n10\\n weeks\\n \\nIndividual\\n \\nOnce\\n weekly\\n by\\ninvestigator\\n80–100%\\n(supervised\\nsession)\\nLow\\n(40–55%VO2reserve)\\nCallaghan\\n et\\n al.6\\n3\\n \\nPatient\\n preferred\\nNR\\n \\nTreadmill\\n \\n4\\n weeks\\n \\nGroup\\n \\nQualiﬁed\\n exercise\\ntherapist\\n66%\\nPrescribed\\n(RPE\\n =\\n 12)\\nNR\\n \\n50%\\nMota-Pereira\\n et\\nal.28\\n5\\n (1\\nsupervised,\\n 4\\nunsupervised)\\nModerate\\n \\n30–45\\n min\\n \\nTreadmill\\n(supervised),\\noutdoor\\n walking\\n(unsupervised)\\n12\\n weeks\\n \\nBoth\\n \\nPhysical\\n training\\nteacher\\n91%\\nSchuch\\n et\\n al.30\\n3\\n \\nVariable\\n –\\n duration\\nand\\n intensity\\naimed\\n to\\n expend\\n16\\n kcal/kg/week\\nStationary\\n cycle,\\ntreadmill\\n or\\n cross\\ntrainer\\nVariable\\n –\\n ﬁnal\\nassessment\\n at\\nhospital\\n discharge\\nIndividual\\n \\nTrained\\n researcher\\n \\nNR\\nTrivedi et\\n al.29\\n3\\n (median)\\n \\nVariable\\n –\\n High\\ndose\\n(16\\n kcal/kg/week\\nTreadmill\\n and/or\\ncycle\\n ergometer\\n12\\n weeks\\n \\nNR\\n \\nCooper\\n Institute\\nstaff\\n63.8%\\n2\\n (median)\\n \\nVariable\\n –\\n Low\\ndose\\n(4\\n kcal/kg/week)\\n99.4%\\nNR\\n –\\n not\\n reported.\\nof\\n intensities\\n and\\n the\\n differing\\n methods\\n used\\n to\\n measure\\n inten-\\nsity\\n it\\n makes\\n any\\n attempt\\n to\\n conclude\\n an\\n optimal\\n exercise\\n intensity\\ndifﬁcult\\n from\\n the\\n present\\n review.\\nTraining\\n session\\n duration\\n was\\n reported\\n as\\n variable\\n in\\n two\\n stud-\\nies\\n included\\n in\\n this\\n review29,30 and\\n not\\n reported\\n in\\n another.6 The\\nremaining\\n two\\n studies5,28 reported\\n session\\n durations\\n of\\n 30–40\\n min.\\nThis\\n is\\n less\\n that\\n that\\n suggested\\n in\\n the\\n NICE\\n guidelines,18 but\\n consis-\\ntent\\n with\\n the\\n normal\\n healthy\\n population\\n recommendation.24\\nTwo\\n studies\\n since\\n 2007\\n have\\n employed\\n aerobic\\n exercise\\n dosages\\nbased\\n on\\n public\\n health\\n recommendations.\\n Schuch\\n and\\n colleagues30\\nused\\n an\\n exercise\\n dose\\n of\\n 16\\n kcal/kg/week\\n where\\n the\\n participant\\nwas\\n able\\n to\\n self-select\\n the\\n duration\\n and\\n intensity\\n of\\n exercise\\n in\\norder\\n to\\n achieve\\n the\\n required\\n energy\\n expenditure.\\n Trivedi\\n and\\ncoworkers29 used\\n two\\n differing\\n dosages,\\n one\\n at\\n the\\n upper\\n limit\\n of\\npublic\\n health\\n recommendations\\n (16\\n kcal/kg/week)\\n and\\n compared\\nthis\\n to\\n a\\n dosage\\n at\\n the\\n lower\\n end\\n of\\n the\\n public\\n health\\n recommenda-\\ntions\\n (4\\n kcal/kg/week)\\n and\\n found\\n that\\n although\\n exit\\n remission\\n rates\\nwere\\n identical\\n for\\n both\\n groups\\n (29.5%),\\n median\\n adherence\\n rates\\nfor\\n the\\n lower\\n dose\\n was\\n signiﬁcantly\\n better\\n than\\n with\\n the\\n higher\\ndose.\\n Whilst\\n not\\n explicitly\\n identiﬁed,\\n participants\\n randomized\\n to\\nthe\\n higher\\n dose\\n group\\n may\\n have\\n exercised\\n at\\n a\\n higher\\n intensity\\nresulting\\n in\\n a\\n more\\n negative\\n affect\\n response\\n to\\n the\\n exercise\\n bout.\\nThis\\n may\\n support\\n the\\n observed\\n adherence\\n rates\\n which\\n were\\n signif-\\nicantly\\n lower\\n in\\n the\\n high\\n dose\\n group\\n (63.8%)\\n compared\\n to\\n the\\n low\\ndose\\n group\\n (99.4%).29\\nThe\\n present\\n review\\n did\\n not\\n identify\\n any\\n non-aerobic\\n or\\n mixed\\ninterventions\\n meeting\\n the\\n inclusion\\n criteria.\\n This\\n may\\n be\\n because\\nresistance\\n training\\n interventions\\n typically\\n require\\n more\\n physical\\nspace,\\n ﬁnancial\\n investment\\n and\\n adequately\\n qualiﬁed\\n supervision,\\nwhereas\\n a\\n walking\\n program\\n is\\n easier\\n to\\n develop\\n and\\n implement.\\nHowever,\\n two\\n interventions\\n used\\n stationary\\n cycles29,30 or\\n elliptical\\ncross\\n trainers30 and\\n all\\n studies\\n used\\n a\\n treadmill\\n for\\n some\\n compo-\\nnent\\n of\\n the\\n intervention\\n which\\n reﬂects\\n both\\n a\\n capital\\n investment\\nand\\n dedication\\n of\\n physical\\n space.\\n One\\n study30 used\\n an\\n in-patient\\nsetting.\\n There\\n is\\n a\\n paucity\\n of\\n literature\\n investigating\\n the\\n effect\\n of\\nexercise\\n in\\n this\\n population;\\n however,\\n recent\\n studies\\n demonstrate\\na\\n positive\\n effect\\n across\\n a\\n range\\n of\\n conditions31–33 with\\n only\\n one\\nretrospective\\n study\\n showing\\n no\\n effect.34\\nThe\\n \\npresent\\n \\nreview\\n \\nshowed\\n \\nthat\\n \\nintervention\\n \\ndurations\\nbetween\\n four\\n and\\n twelve\\n weeks\\n are\\n effective\\n in\\n reducing\\n depres-\\nsive\\n symptoms.\\n However,\\n the\\n mean\\n duration,\\n excluding\\n the\\n study\\nof\\n Schuch\\n and\\n colleagues30 (duration\\n not\\n reported)\\n was\\n 9.3\\n weeks.\\nThis\\n ﬁgure\\n is\\n in\\n line\\n with\\n the\\n recommendations\\n from\\n the\\n previ-\\nous\\n systematic\\n review\\n of\\n Perraton\\n and\\n colleagues23 and\\n with\\n the\\nNICE\\n guidelines.18 Twelve\\n weeks\\n was\\n the\\n most\\n commonly\\n reported\\nduration\\n for\\n the\\n ﬁve\\n RCTs\\n used\\n in\\n the\\n present\\n review.29,28\\nIt\\n would\\n appear\\n both\\n group\\n and\\n individual\\n exercise\\n programs\\nmay\\n be\\n used\\n successfully\\n by\\n people\\n with\\n depression.\\n Interestingly,\\nin\\n the\\n small\\n number\\n of\\n studies\\n which\\n report\\n both\\n the\\n mode\\n of\\ndelivery\\n and\\n the\\n compliance,5,6,28 it\\n would\\n appear\\n programs\\n deliv-\\nered\\n either\\n individually5 or\\n with\\n both\\n an\\n individual\\n and\\n group\\ncomponent28 have\\n higher\\n compliance,\\n suggesting\\n a\\n possible\\n addi-\\ntive\\n effect\\n of\\n individual\\n exercise\\n sessions.\\nAll\\n RCTs\\n included\\n in\\n the\\n present\\n review\\n were\\n supervised\\n to\\nsome\\n degree.\\n However,\\n the\\n qualiﬁcations\\n of\\n professionals\\n pro-\\nviding\\n supervision\\n were\\n varied.\\n The\\n inﬂuence\\n of\\n this\\n variable\\n is\\npresently\\n unknown\\n however\\n all\\n supervisors\\n were\\n well\\n trained\\n in\\nthe\\n provision\\n of\\n exercise.\\nTable\\n 2\\nCo-interventions\\n for\\n depression.\\nAuthor\\n \\nMedication\\n \\nPsychotherapy\\n \\nBehavioral\\n intervention\\n \\nElectroconvulsive\\n therapy\\nChu\\n et\\n al.5\\nX\\n \\nX\\n \\nX\\n \\nX\\nCallaghan\\n et\\n al.6\\nX\\n√\\n \\n√\\nX\\nMota-Pereira\\n et\\n al.28\\n√\\nX\\n \\nX\\n \\nX\\nSchuch\\n et\\n al.30\\n√\\nX\\n \\nX\\n√\\nTrivedi\\n et\\n al.29\\n√\\nX\\n√\\nX\\nR.\\n Stanton,\\n P.\\n Reaburn\\n / Journal\\n of\\n Science\\n and\\n Medicine\\n in\\n Sport\\n 17 (2014) 177–\\n 182\\n181\\nTable 3\\nSummary\\n of\\n the\\n aerobic\\n exercise\\n prescription\\n guidelines\\n for\\n healthy\\n and\\n clinical\\n populations\\n and\\n for\\n those\\n with\\n depression.\\nAuthor\\n \\nFrequency\\n (per\\nweek)\\nIntensity\\n \\nSession\\n duration\\n \\nMode\\n of\\n exercise\\n \\nIntervention\\nduration\\nIndividual\\n or\\ngroup\\nLevel\\n of\\nsupervision\\nPerraton\\n et\\n al.23\\n(depression)\\n3\\n \\n60–80%HRmax\\n30\\n min\\n \\nIndividualized\\naccording\\n to\\npreference\\n8\\n weeks\\n \\nGroup\\n or\\nindividual\\nRecommended.\\nQualiﬁcations\\n and\\nexperience\\nunspeciﬁed\\nNICE18\\n(depression)\\n3\\n \\nNR\\n \\n45–60\\n min\\n \\nNR\\n \\n10–14\\n weeks\\n \\nGroup\\n \\nCompetent\\npractitioner\\nGarber\\n et\\n al.24\\n(healthy\\npopulation)\\n≥5\\nModerate\\n \\nMin\\n 30\\n min/session\\n or\\n≥150\\n min/week\\nIndividualized\\naccording\\n to\\npreference\\nOngoing\\n \\nNR\\n \\nExperienced\\n ﬁtness\\ninstructor\\n≥3\\n \\nVigorous\\n \\nMin\\n 20\\n min/session\\n or\\n≥75\\n min/week\\nOr\\n a\\n combination\\n to\\nachieve\\n≥500–1000\\n kcal/week\\nHorden\\n et\\n al.23\\n(type\\n II\\n diabetes\\nand\\n pre\\n diabetes)\\nMin\\n 3\\n with\\n no\\nmore\\n than\\n 2\\nconsecutive\\n days\\nwithout\\n exercise\\nModerate\\n(55–69%HRmax) or\\nVigorous\\n(70–89%HRmax)\\nMin\\n 210\\n min/week\\n of\\nmoderate\\n or\\n 125\\nmins/week\\n of\\n vigorous\\nexercise\\n or\\n a\\ncombination\\n of\\n both\\nWalking,\\n running\\ncycling\\n or\\nswimming\\nOngoing\\n \\nNR\\n \\nAppropriately\\ntrained\\n and\\nqualiﬁed\\n personnel\\nStanton\\n and\\nReaburn\\n (current\\nreview)\\n(depression)\\n3–4\\n \\nLow\\n –\\n moderate\\n or\\npatient\\n preferred\\n30–40\\n min\\n \\nAny\\n aerobic\\nactivity\\n9\\n weeks\\n \\nGroup\\n or\\nindividual\\nAppropriately\\ntrained\\n and\\nqualiﬁed\\n personnel\\nNR\\n –\\n not\\n reported.\\nThe\\n present\\n review\\n of\\n RCTs\\n related\\n to\\n the\\n effects\\n of\\n exercise\\ninterventions\\n on\\n symptoms\\n of\\n depression\\n showed\\n that\\n compli-\\nance\\n was\\n highly\\n variable\\n ranging\\n from\\n 50%6 to\\n 100%.5 This\\n may\\nbe\\n a\\n reﬂection\\n of\\n the\\n group\\n versus\\n individual\\n participation,\\n the\\nexercise\\n intensity,\\n the\\n exercise\\n mode,\\n or\\n a\\n combination\\n of\\n any\\n of\\nthese\\n variables.\\n In\\n the\\n study\\n of\\n Trividi\\n and\\n colleagues,29 participants\\nrandomized\\n to\\n the\\n low\\n dose\\n group\\n (4\\n kcal/kg/week)\\n had\\n a\\n signiﬁ-\\ncantly\\n higher\\n compliance\\n rate\\n compared\\n to\\n participants\\n in\\n the\\n high\\ndose\\n group\\n (16\\n kcal/kg/week).\\n Similarly,\\n exercise\\n undertaken\\n at\\n the\\nindividuals\\n preferred\\n intensity\\n resulted\\n in\\n higher\\n compliance\\n rates\\ncompared\\n to\\n a\\n prescribed\\n intensity.6 In\\n contrast,\\n no\\n signiﬁcant\\ndifference\\n was\\n noted\\n in\\n supervised\\n session\\n compliance\\n between\\nthe\\n high\\n intensity\\n or\\n low\\n intensity\\n arms\\n of\\n the\\n study\\n of\\n Chu\\n and\\ncolleagues.5 This\\n ﬁnding\\n highlights\\n the\\n complex\\n interplay\\n between\\nprogram\\n variables\\n and\\n needs\\n further\\n investigation.\\n5.\\n Recommendations\\n from\\n this\\n review\\nTaken\\n together,\\n it\\n would\\n seem\\n that\\n a\\n program\\n of\\n supervised\\naerobic\\n exercise\\n comprising\\n indoor\\n or\\n outdoor\\n walking,\\n station-\\nary\\n cycle\\n or\\n cross\\n trainer\\n exercise\\n in\\n either\\n group,\\n individual\\n or\\ncombined\\n formats,\\n performed\\n three\\n to\\n four\\n times\\n weekly,\\n under-\\ntaken\\n at\\n low\\n to\\n moderate\\n intensity\\n or\\n at\\n the\\n participants\\n preferred\\nintensity,\\n with\\n sessions\\n lasting\\n 30–40\\n min\\n is\\n beneﬁcial\\n in\\n the\\n treat-\\nment\\n of\\n depression.\\n This\\n appears\\n to\\n be\\n effective\\n for\\n a\\n range\\n of\\nco-interventions\\n including\\n medication\\n use,\\n psychotherapy,\\n behav-\\nioral\\n interventions\\n to\\n aid\\n adherence\\n and\\n electroconvulsive\\n therapy.\\nPrograms\\n should\\n be\\n of\\n at\\n least\\n nine\\n weeks\\n duration.\\n These\\n param-\\neters\\n are\\n slightly\\n increased\\n over\\n those\\n proposed\\n in\\n the\\n previous\\nsystematic\\n review\\n of\\n Perration\\n and\\n colleagues23 with\\n respect\\n to\\n fre-\\nquency,\\n session\\n duration\\n and\\n length\\n of\\n intervention;\\n but\\n slightly\\nless\\n than\\n the\\n 45–60\\n min\\n over\\n 10–14\\n weeks\\n recommended\\n by\\n the\\nNICE\\n guidelines.18\\nA\\n recent\\n systematic\\n review\\n and\\n meta-analysis\\n conﬁrmed\\n the\\nefﬁcacy\\n of\\n walking\\n for\\n the\\n treatment\\n of\\n depression\\n but\\n was\\n unable\\nto\\n provide\\n recommendations\\n as\\n to\\n the\\n other\\n most\\n appropriate\\n pro-\\ngram\\n variables\\n to\\n be\\n used\\n in\\n the\\n treatment\\n of\\n depression.22 In\\ncontrast,\\n the\\n present\\n review\\n and\\n the\\n earlier\\n review\\n of\\n Perraton\\nand\\n colleagues23 conﬁrm\\n that\\n an\\n intervention\\n using\\n the\\n program\\nvariables\\n similar\\n to\\n those\\n recommended\\n for\\n the\\n general\\n population\\nis\\n beneﬁcial\\n for\\n the\\n treatment\\n of\\n depression.\\n6.\\n Comparison\\n with\\n healthy\\n and\\n clinical\\n populations\\nThe\\n current\\n review\\n considers\\n effective\\n exercise\\n interventions\\nfor\\n people\\n with\\n depression.\\n Compared\\n to\\n the\\n previous\\n review\\n of\\nPerraton\\n and\\n colleagues23 our\\n review\\n recommends\\n more\\n frequent,\\nlonger\\n duration\\n exercise\\n sessions\\n over\\n a\\n greater\\n duration\\n and\\n with\\nappropriately\\n qualiﬁed\\n supervision.\\n Compared\\n to\\n the\\n most\\n recent\\nreviews\\n for\\n exercise\\n prescription\\n for\\n healthy\\n populations,24 the\\ncurrent\\n review\\n recommends\\n a\\n similar\\n total\\n volume\\n of\\n exercise,\\nhowever\\n the\\n recommendations\\n from\\n Garber\\n and\\n colleagues24 high-\\nlight\\n the\\n additional\\n value\\n of\\n more\\n vigorous\\n exercise.\\n To\\n date\\n this\\nhas\\n not\\n been\\n established\\n in\\n people\\n with\\n depression.\\n Similarly,\\n the\\nreview\\n of\\n Garber\\n at\\n colleagues24 highlights\\n the\\n need\\n for\\n ongoing\\ncompliance\\n for\\n the\\n maintenance\\n of\\n beneﬁts.\\n Whilst\\n the\\n current\\nreview\\n agrees\\n with\\n this\\n recommendation,\\n the\\n majority\\n of\\n studies\\nhave\\n used\\n a\\n clinical\\n endpoint\\n such\\n as\\n remission,\\n or\\n ﬁxed\\n study\\n dura-\\ntion\\n without\\n long\\n term\\n follow\\n up.\\n Further\\n long\\n term\\n studies\\n are\\nneeded\\n to\\n investigate\\n the\\n ongoing\\n beneﬁts\\n for\\n people\\n with\\n depres-\\nsion.\\nCompared\\n to\\n the\\n common\\n clinical\\n condition,\\n type\\n II\\n diabetes\\nmellitus,\\n for\\n which\\n there\\n has\\n been\\n a\\n signiﬁcant\\n body\\n of\\n research\\ninvestigating\\n the\\n effects\\n of\\n exercise,\\n the\\n present\\n review\\n recom-\\nmends\\n a\\n similar\\n exercise\\n frequency,\\n however\\n the\\n total\\n volume\\n(160\\n min/week\\n versus\\n 210\\n min/week)\\n and\\n the\\n inclusion\\n of\\n more\\nvigorous\\n exercise\\n remain\\n disparate\\n recommendations.25 As\\n with\\nthe\\n review\\n of\\n Garber\\n and\\n colleagues,24 Horden\\n and\\n co-workers25\\nemphasize\\n the\\n need\\n for\\n ongoing\\n exercise\\n compliance.\\nConsidering\\n the\\n NICE\\n recommendations\\n for\\n exercise\\n in\\n the\\n treat-\\nment\\n of\\n depression,18 those\\n for\\n healthy\\n populations,24 people\\n with\\ndiabetes25 and\\n the\\n outcomes\\n of\\n the\\n present\\n review\\n collectively,\\nthere\\n is\\n a\\n signiﬁcant\\n overlap\\n in\\n the\\n recommended\\n exercise\\n pre-\\nscription\\n parameters.\\n Based\\n on\\n this\\n overlap,\\n one\\n could\\n consider\\nthe\\n prescription\\n of\\n a\\n supervised,\\n group\\n based,\\n individualized\\n aero-\\nbic\\n exercise\\n program\\n of\\n ≥150\\n min/week\\n to\\n be\\n a\\n universal\\n program\\nacross\\n people\\n without\\n clinical\\n contraindications,\\n for\\n those\\n with\\ndepression\\n or\\n for\\n those\\n with\\n type\\n II\\n diabetes.\\n Table\\n 3\\n shows\\n a\\n sum-\\nmary\\n of\\n the\\n relevant\\n recommendations\\n from\\n these\\n reviews.\\n182\\nR.\\n Stanton,\\n P.\\n Reaburn\\n / Journal\\n of\\n Science\\n and\\n Medicine\\n in\\n Sport\\n 17 (2014) 177–\\n 182\\nTherefore,\\n health\\n professionals\\n should\\n not\\n be\\n discouraged\\n in\\nrecommending\\n exercise\\n in\\n general\\n and\\n aerobic\\n exercise\\n speciﬁ-\\ncally\\n for\\n people\\n with\\n depression.\\n As\\n with\\n other\\n clinical\\n populations,\\npre-screening\\n for\\n co-morbid\\n conditions,\\n individually\\n tailoring\\n exer-\\ncise\\n to\\n suit\\n the\\n client’s\\n preference,\\n access\\n to\\n facilities\\n and\\n ensuring\\nsupervision\\n and\\n follow\\n up\\n are\\n likely\\n to\\n enhance\\n the\\n long\\n term\\n out-\\ncomes.\\n7.\\n Limitations\\nThis\\n review\\n included\\n trials\\n which\\n showed\\n a\\n positive\\n effect\\n of\\nexercise\\n in\\n people\\n with\\n clinical\\n depression\\n only\\n and\\n excludes\\n post-\\nnatal\\n depression,\\n bipolar\\n disorder\\n or\\n depression\\n with\\n co-morbid\\nillness\\n such\\n as\\n diabetes\\n or\\n cancer.\\n Similarly,\\n this\\n review\\n only\\nincludes\\n structured\\n exercise\\n interventions\\n and\\n not\\n leisure\\n time\\nphysical\\n activity,\\n sports\\n participation,\\n or\\n other\\n forms\\n of\\n exercise\\nsuch\\n as\\n Yoga,\\n Tai\\n Chi,\\n stretching\\n or\\n other\\n lower\\n intensity\\n exer-\\ncise.\\n Finally,\\n since\\n no\\n non-aerobic\\n exercise\\n interventions\\n such\\n as\\nresistance\\n training\\n were\\n examined,\\n we\\n cannot\\n compare\\n the\\n loading\\nparameters\\n for\\n each\\n exercise\\n modality.\\nAs\\n with\\n previous\\n reviews,13,19,20,35 methodological\\n inconsis-\\ntencies\\n exist\\n in\\n the\\n literature.\\n The\\n heterogeneous\\n nature\\n of\\n study\\ndesign\\n including\\n outcome\\n measures,\\n depression\\n score\\n at\\n baseline,\\nco-interventions,\\n exercise\\n loading\\n and\\n blinding\\n of\\n assessors\\n makes\\nit\\n difﬁcult\\n to\\n develop\\n strong\\n conclusions.\\n8.\\n Future\\n recommendations\\nThere\\n is\\n a\\n need\\n to\\n develop\\n a\\n series\\n of\\n consecutive\\n interven-\\ntions\\n in\\n which\\n just\\n one\\n exercise\\n program\\n variable\\n is\\n manipulated\\nat\\n one\\n time.\\n Thus,\\n the\\n effect\\n of\\n separately\\n manipulating\\n exercise\\nfrequency,\\n intensity,\\n session\\n duration\\n and\\n length\\n of\\n intervention\\nmay be\\n addressed.\\n Alternatively,\\n we\\n may\\n look\\n to\\n determine\\n the\\nminimum\\n effective\\n dose\\n required\\n to\\n have\\n an\\n effect\\n on\\n symptoms\\nof\\n depression.\\n People\\n with\\n depression\\n may\\n have\\n less\\n motivation\\ninitially36 and\\n thus\\n prescribing\\n the\\n minimum\\n amount\\n of\\n exercise\\nknown\\n to\\n be\\n effective\\n may\\n encourage\\n better\\n initial\\n compliance.\\nThere\\n has\\n also\\n been\\n keen\\n interest\\n in\\n an\\n affect-regulated\\n approach\\nto\\n exercise\\n prescription\\n with\\n one\\n recent\\n training\\n study\\n conﬁrming\\nthe\\n utility\\n of\\n such\\n an\\n approach\\n in\\n a\\n non-clinical\\n population.37\\n9.\\n Summary\\nExercise\\n which\\n is\\n effective\\n for\\n the\\n treatment\\n of\\n depression\\n is\\n not\\nsubstantially\\n different\\n to\\n that\\n recommended\\n for\\n population\\n health,\\nnor\\n for\\n those\\n with\\n type\\n II\\n diabetes.\\n Aerobic\\n exercise\\n which\\n is\\n super-\\nvised\\n to\\n some\\n degree,\\n performed\\n three\\n to\\n four\\n times\\n weekly\\n at\\n a\\nmoderate\\n or\\n self-selected\\n intensity\\n for\\n 30–40\\n min\\n over\\n a\\n period\\n of\\nat\\n least\\n nine\\n weeks\\n appear\\n effective\\n in\\n the\\n treatment\\n of\\n depres-\\nsion.\\n Further\\n research\\n is\\n necessary\\n to\\n elucidate\\n the\\n full\\n effect\\n of\\nmanipulating\\n the\\n variables\\n commonly\\n used\\n in\\n exercise\\n programs.\\nReferences\\n1.\\n Gelenberg\\n AJ.\\n The\\n prevalence\\n and\\n impact\\n of\\n depression.\\n J Clin\\n Psychiatry\\n 2010;\\n71(3):e06.\\n2.\\n Antunes\\n HK,\\n Stella\\n SG,\\n Santos\\n RF\\n et\\n al.\\n Depression,\\n anxiety\\n and\\n quality\\n of\\n life\\nscores\\n in\\n seniors\\n after\\n an\\n endurance\\n exercise\\n program.\\n Rev\\n Bras\\n Psiquiatr\\n 2005;\\n27(4):266–271.\\n3.\\n Blumenthal\\n JA,\\n Babyak\\n MA,\\n Moore\\n KA\\n et\\n al.\\n Effects\\n of\\n exercise\\n training\\n on\\n older\\npatients\\n with\\n major\\n depression.\\n Arch\\n Intern\\n Med\\n 1999;\\n 159(19):2349–2356.\\n4.\\n Singh\\n NA,\\n Clements\\n KM,\\n Singh\\n MA.\\n The\\n efﬁcacy\\n of\\n exercise\\n as\\n a long-term\\n antide-\\npressant\\n in\\n elderly\\n subjects:\\n a\\n randomized,\\n controlled\\n trial.\\n J Gerontol\\n A:\\n Biol\\n Sci\\nMed\\n Sci\\n 2001;\\n 56(8):M497–M504.\\n5.\\n Chu\\n IH,\\n Buckworth\\n J,\\n Kirby\\n TE\\n et\\n al.\\n Effect\\n of\\n exercise\\n intensity\\n on\\n depressive\\nsymptoms\\n in\\n women.\\n Ment\\n Health\\n Phys\\n Act\\n 2009;\\n 2(1):37–43.\\n6.\\n Callaghan\\n P,\\n Khalil\\n E,\\n Morres\\n I\\n et\\n al.\\n Pragmatic\\n randomised\\n controlled\\n trial\\n of\\npreferred\\n intensity\\n exercise\\n in\\n women\\n living\\n with\\n depression.\\n BMC\\n Public\\n Health\\n2011;\\n 11:465.\\n7.\\n Brenes\\n GA,\\n Williamson\\n JD,\\n Messier\\n SP\\n et\\n al.\\n Treatment\\n of\\n minor\\n depression\\n in\\nolder\\n adults:\\n a\\n pilot\\n study\\n comparing\\n sertraline\\n and\\n exercise.\\n Aging\\n Ment\\n Health\\n2007;\\n 11(1):61–68.\\n8.\\n Blumenthal\\n JA,\\n Babyak\\n MA,\\n Doraiswamy\\n PM\\n et\\n al.\\n Exercise\\n and\\n pharmaco-\\ntherapy\\n in\\n the\\n treatment\\n of\\n major\\n depressive\\n disorder.\\n Psychosom\\n Med\\n 2007;\\n69(7):587–596.\\n9.\\n Fremont\\n J,\\n Craighead\\n L.\\n Aerobic\\n exercise\\n and\\n cognitive\\n therapy\\n in\\n the\\n treatment\\nof dysphoric\\n moods.\\n Cognit\\n Ther\\n Res\\n 1987;\\n 11(2):241–251.\\n10.\\n Singh\\n NA,\\n Stavrinos\\n TM,\\n Scarbek\\n Y\\n et\\n al.\\n A\\n randomized\\n controlled\\n trial\\n of\\n high\\nversus\\n low\\n intensity\\n weight\\n training\\n versus\\n general\\n practitioner\\n care\\n for\\n clinical\\ndepression\\n in\\n older\\n adults.\\n J Gerontol\\n A:\\n Biol\\n Sci\\n Med\\n Sci\\n 2005;\\n 60(6):768–776.\\n11.\\n Dunn\\n AL,\\n Trivedi\\n MH,\\n Kampert\\n JB\\n et\\n al.\\n Exercise\\n treatment\\n for\\n depression:\\n efﬁ-\\ncacy\\n and\\n dose\\n response.\\n Am\\n J Prev\\n Med\\n 2005;\\n 28(1):1–8.\\n12.\\n Barbour\\n KA,\\n Blumenthal\\n JA.\\n Exercise\\n training\\n and\\n depression\\n in\\n older\\n adults.\\nNeurobiol\\n Aging\\n 2005;\\n 26(1):s119–s123.\\n13.\\n Daley\\n A.\\n Exercise\\n and\\n depression:\\n a\\n review\\n of\\n reviews.\\n J Clin\\n Psychol\\n Med\\n Settings\\n2008;\\n 15(2):140–147.\\n14.\\n Lawlor\\n DA,\\n Hopker\\n SW.\\n The\\n effectiveness\\n of\\n exercise\\n as\\n an\\n intervention\\n in\\n the\\nmanagement\\n of\\n depression:\\n systematic\\n review\\n and\\n meta-regression\\n analysis\\n of\\nrandomised\\n controlled\\n trials.\\n BMJ\\n 2001;\\n 322(7289):763–767.\\n15.\\n Teychenne\\n M,\\n Ball\\n K,\\n Salmon\\n J.\\n Physical\\n activity\\n and\\n likelihood\\n of\\n depression\\n in\\nadults:\\n a\\n review.\\n Prev\\n Med\\n 2008;\\n 46(5):397–411.\\n16.\\n Nabkasorn\\n C,\\n Miyai\\n N,\\n Sootmongkol\\n A\\n et\\n al.\\n Effects\\n of\\n physical\\n exercise\\non\\n depression,\\n neuroendocrine\\n stress\\n hormones\\n and\\n physiological\\n ﬁtness\\n in\\nadolescent\\n females\\n with\\n depressive\\n symptoms.\\n Eur\\n J Public\\n Health\\n 2005;\\n16(2):179–184.\\n17.\\n Rethorst\\n CD,\\n Wipﬂi\\n BM,\\n Landers\\n DM.\\n The\\n antidepressive\\n effects\\n of\\n exercise:\\n a\\nmeta-analysis\\n of\\n randomized\\n trials.\\n Sports\\n Med\\n 2009;\\n 39(6):491–511.\\n18.\\n NICE\\n \\nDepression:\\n \\nthe\\n \\ntreatment\\n \\nand\\n \\nmanagement\\n \\nof\\n \\ndepression\\n \\nin\\nadults\\n \\n(update)\\n \\nNICE\\n \\nclinical\\n \\nguideline\\n \\n90,\\n \\n2009.\\n \\nAvailable\\n \\nfrom:\\nwww.nice.org.uk/CG90. Accessed\\n 2\\n November\\n 2012.\\n19.\\n Rimer\\n J,\\n Dwan\\n K,\\n LD\\n A\\n et\\n al.\\n Exercise\\n for\\n depression.\\n Cochrane\\n Database\\n Syst\\n Rev\\n2012;\\n 11(7):CD004366.\\n20.\\n Mead\\n GE,\\n Morley\\n W,\\n Campbell\\n P\\n et\\n al.\\n Exercise\\n for\\n depression.\\n Cochrane\\n Database\\nSyst Rev\\n 2009;\\n 8(3):CD004366.\\n21.\\n Krogh\\n J,\\n Nordentoft\\n M,\\n Sterne\\n JA\\n et\\n al.\\n The\\n effect\\n of\\n exercise\\n in\\n clinically\\n depressed\\nadults:\\n systematic\\n review\\n and\\n meta-analysis\\n of\\n randomized\\n controlled\\n trials.\\n J\\nClin\\n Psychiatry\\n 2011;\\n 72(4):529–538.\\n22.\\n Robertson\\n R,\\n Robertson\\n A,\\n Jepson\\n R\\n et\\n al.\\n Walking\\n for\\n depression\\n or\\n depressive\\nsymptoms:\\n a\\n systematic\\n review\\n and\\n meta-analysis.\\n Ment\\n Health\\n Phys\\n Act\\n 2012;\\n5(1):66–75.\\n23.\\n Perraton\\n LG,\\n Kumar\\n S,\\n Machotka\\n Z.\\n Exercise\\n parameters\\n in\\n the\\n treatment\\n of\\n clin-\\nical depression:\\n a\\n systematic\\n review\\n of\\n randomized\\n controlled\\n trials.\\n J Eval\\n Clin\\nPract\\n 2010;\\n 16:597–604.\\n24.\\n Garber\\n CE,\\n Blissmer\\n B,\\n Deschenes\\n MR  et\\n al.\\n Quantity\\n and\\n quality\\n of\\n exercise\\n for\\ndeveloping\\n and\\n maintaining\\n cardiorespiratory,\\n musculoskeletal,\\n and\\n neuromo-\\ntor ﬁtness\\n in\\n apparently\\n healthy\\n adults:\\n guidance\\n for\\n prescribing\\n exercise.\\n Med\\nSci  Sports\\n Exerc\\n 2011;\\n 43(7):1334–1359.\\n25.\\n Hordern\\n MD,\\n Dunstan\\n DW,\\n Prins\\n JB\\n et\\n al.\\n Exercise\\n prescription\\n for\\n patients\\n with\\ntype\\n 2\\n diabetes\\n and\\n pre-diabetes:\\n a position\\n statement\\n from\\n Exercise\\n and\\n Sport\\nScience\\n Australia.\\n J Sci\\n Med\\n Sport\\n 2012;\\n 15(1):25–31.\\n26.\\n Sherrington\\n C,\\n Herbert\\n RD,\\n Maher\\n CG\\n et\\n al.\\n PEDro.\\n A database\\n of\\n random-\\nized trials\\n and\\n systematic\\n reviews\\n in\\n physiotherapy.\\n Man\\n Ther\\n 2000;\\n 5(4):\\n223–226.\\n27.\\n Maher\\n CG,\\n Sherrington\\n C,\\n Herbert\\n RD\\n et\\n al.\\n Reliability\\n of\\n the\\n PEDro\\n scale\\n for\\nrating\\n quality\\n of\\n randomized\\n controlled\\n trials.\\n Phys\\n Ther\\n 2003;\\n 83(8):713–721.\\n28.\\n Mota-Pereira\\n J,\\n Silverio\\n J, Carvalho\\n S\\n et\\n al.\\n Moderate\\n exercise\\n improves\\n depres-\\nsion parameters\\n in\\n treatment-resistant\\n patients\\n with\\n major\\n depressive\\n disorder.\\nJ\\n Psychiatr\\n Res\\n 2011;\\n 45(8):1005–1011.\\n29.\\n Trivedi\\n MH,\\n Greer\\n TL,\\n Church\\n TS\\n et\\n al.\\n Exercise\\n as\\n an\\n augmentation\\n treatment\\nfor nonremitted\\n major\\n depressive\\n disorder:\\n a\\n randomized,\\n parallel\\n dose\\n com-\\nparison.\\n J Clin\\n Psychiatry\\n 2011;\\n 72(5):677–684.\\n30.\\n Schuch\\n FB,\\n Vasconcelos-Moreno\\n MP,\\n Borowsky\\n C\\n et\\n al.\\n Exercise\\n and\\n severe\\ndepression:\\n preliminary\\n results\\n of\\n an\\n add-on\\n study.\\n J Affect\\n Disord\\n 2011;\\n133(3):615–618.\\n31.\\n Knubben\\n K,\\n Reischies\\n FM,\\n Adli\\n M\\n et\\n al.\\n A\\n randomised,\\n controlled\\n study\\n on\\n the\\neffects\\n of\\n a\\n short-term\\n endurance\\n training\\n programme\\n in\\n patients\\n with\\n major\\ndepression.\\n Br\\n J Sports\\n Med\\n 2007;\\n 41(1):29–33.\\n32.\\n Scheewe\\n TW,\\n Backx\\n FJ,\\n Takken\\n T\\n et\\n al.\\n Exercise\\n therapy\\n improves\\n mental\\n and\\nphysical\\n health\\n in\\n schizophrenia:\\n a\\n randomised\\n controlled\\n trial.\\n Acta\\n Psychiatr\\nScand\\n 2012.\\n http://dx.doi.org/10.1111/acps.12029.\\n33.\\n Stark\\n R,\\n Schony\\n W,\\n Kopp\\n M.\\n Acute\\n effects\\n of\\n a\\n single\\n bout\\n of\\n moderate\\n exercise\\non\\n psychological\\n well-being\\n in\\n patients\\n with\\n affective\\n disorder\\n during\\n hospital\\ntreatment.\\n Neuropsychiatry\\n 2012;\\n 26(4):166–170.\\n34.\\n Ng\\n F,\\n Dodd\\n S,\\n Jacka\\n FN\\n et\\n al.\\n Effects\\n of\\n a\\n walking\\n program\\n in\\n the\\n psychi-\\natric\\n in-patient\\n treatment\\n setting:\\n a\\n cohort\\n study.\\n Health\\n Promot\\n J Austr\\n 2007;\\n18(1):39–42.\\n35.\\n Stathopoulou\\n G,\\n Powers\\n MB,\\n Berry\\n AC\\n et\\n al.\\n Exercise\\n interventions\\n for\\n men-\\ntal\\n health:\\n a\\n quantitative\\n and\\n qualitative\\n review.\\n Clin\\n Psychol\\n Sci\\n Prac\\n 2006;\\n13(2):179–193.\\n36.\\n Pollock\\n KM.\\n Exercise\\n in\\n treating\\n depression:\\n Broadening\\n the\\n psychotherapist’s\\nrole. J Clin\\n Psychol\\n 2001;\\n 57(11):1289–1300.\\n37.\\n Parﬁtt\\n G,\\n Alrumh\\n A,\\n Rowlands\\n AV.\\n Affect-regulated\\n exercise\\n intensity:\\n does\\ntraining\\n at\\n an\\n intensity\\n that\\n feels\\n ‘good’\\n improve\\n physical\\n health?\\n J Sci\\n Med\\n Sport\\n2012;\\n 15:548–553.\\n'"
      ]
     },
     "execution_count": 1,
     "metadata": {},
     "output_type": "execute_result"
    }
   ],
   "source": [
    "import fitz  # 安装PyMuPDF，导入fitz\n",
    "\n",
    "# 读取PDF文件内容并进行文本过滤 + 存储在一个字符串中\n",
    "def extract_text_from_pdf(pdf_path):\n",
    "    document = fitz.open(pdf_path)\n",
    "    text = \"\"\n",
    "    for page_num in range(len(document)):\n",
    "        page = document.load_page(page_num)\n",
    "        text += page.get_text()\n",
    "    document.close()\n",
    "    return text\n",
    "\n",
    "pdf_path = \"../test_paper2.pdf\" # pdf_path = \"../test_depression_pubmed13.pdf\"\n",
    "raw_text = extract_text_from_pdf(pdf_path)\n",
    "raw_text"
   ]
  },
  {
   "cell_type": "code",
   "execution_count": 53,
   "id": "36e4e5da-b805-4f6e-aaa0-1b2ada8b8b8d",
   "metadata": {},
   "outputs": [],
   "source": [
    "from nltk.corpus import stopwords\n",
    "\n",
    "\n",
    "# 加载 NLTK 的停用词\n",
    "STOPWORDS = set(stopwords.words('english'))\n",
    "\n",
    "# 添加自定义停用词 - 先处理大小写\n",
    "# 定义不同类别的停用词\n",
    "my_stopwords = {'et', 'al', 'week', 'weeks', 'weekly', 'journal'}\n",
    "roman_numerals = {'i', 'ii', 'iii', 'iv', 'v', 'vi', 'vii', 'viii', 'ix', 'x',\n",
    "                  'I', 'II', 'III', 'IV', 'V', 'VI', 'VII', 'VIII', 'IX', 'X',\n",
    "                 }  # 将罗马数字转为集合\n",
    "arabic_numerals = set(map(str, range(1, 11)))  # 1-10\n",
    "\n",
    "# 合并所有停用词集合\n",
    "custom_stopwords = my_stopwords.union(roman_numerals, arabic_numerals)\n",
    "\n",
    "# 合并其他库的停用词 比如来自nltk或者sklearn\n",
    "from sklearn.feature_extraction.text import ENGLISH_STOP_WORDS\n",
    "custom_stopwords = custom_stopwords.union(ENGLISH_STOP_WORDS)\n",
    "\n",
    "# 最终的停用词集合\n",
    "STOPWORDS = STOPWORDS.union(custom_stopwords)\n",
    "\n",
    "def remove_stopwords(text):\n",
    "    \"\"\"Remove stopwords from a piece of text.\"\"\"\n",
    "    return \" \".join([word for word in str(text).split() if word not in STOPWORDS])\n"
   ]
  },
  {
   "cell_type": "markdown",
   "id": "47268208-c398-4f33-987d-042cbc251c60",
   "metadata": {},
   "source": [
    "## 2. Data Cleaning"
   ]
  },
  {
   "cell_type": "markdown",
   "id": "ad46d493-30ff-419c-9443-101bfabe2c65",
   "metadata": {},
   "source": [
    "### remove_stopwords + custom"
   ]
  },
  {
   "cell_type": "markdown",
   "id": "349b1a73-62e5-4a59-a2c6-e9884c342785",
   "metadata": {},
   "source": [
    "### remove in-text reference del_reference"
   ]
  },
  {
   "cell_type": "code",
   "execution_count": 54,
   "id": "6b8ae33e-a841-44b2-9304-bcf90d583b63",
   "metadata": {},
   "outputs": [],
   "source": [
    "def del_reference(text):\n",
    "    # 使用正则表达式删除括号内的引用\n",
    "    cleaned_text = re.sub(r'\\([^)]*\\)', '', text)\n",
    "    return cleaned_text"
   ]
  },
  {
   "cell_type": "markdown",
   "id": "499a43b3-7dac-4d3c-8475-030e79adb250",
   "metadata": {},
   "source": [
    "### spacy deal_name"
   ]
  },
  {
   "cell_type": "code",
   "execution_count": 15,
   "id": "b1b077af-610c-4450-9561-8f5476a1407a",
   "metadata": {},
   "outputs": [],
   "source": [
    "def deal_name(text):\n",
    "    nlp = spacy.load('en_core_web_sm') # 加载英语模型 加载spaCy模型\n",
    "    \n",
    "    # non_person_keywords = [] 存储没有被识别为人名的关键词\n",
    "\n",
    "    # # 对关键词列表中的每个关键词进行NER\n",
    "    # for keyword in textrank_keywords_result:\n",
    "    #     # 将关键词转换为一个spaCy文档对象\n",
    "    #     doc = nlp(keyword)\n",
    "    #     # 检查文档中是否有被识别为人名的实体\n",
    "    #     if not any(ent.label_ == 'PERSON' for ent in doc.ents):\n",
    "    #         non_person_keywords.append(keyword)\n",
    "\n",
    "    # # non_person_keywords 现在包含了不包括人名的关键词\n",
    "    # non_person_keywords[:10]\n",
    "\n",
    "    # example = \"John William and monroe • Harkness .... the United States.\" # monroe • Harkness无法识别\n",
    "    doc = nlp(text) # 处理句子\n",
    "\n",
    "\n",
    "    # 打印出不是人名的词 # 保持人名大写，小写无法识别\n",
    "    # SpaCy 的命名实体识别（NER）功能来提取 'PERSON' 类型的实体。它遍历文档中的所有实体，仅保留标签为 'PERSON' 的实体，并将它们的文本内容存储在列表中。这意味着它只提取被明确标记为人名的实体，并且能够正确地处理较长的人名。\n",
    "    result = ' '.join([ent.text for ent in doc.ents if ent.label_ != 'PERSON'])\n",
    "    return result"
   ]
  },
  {
   "cell_type": "markdown",
   "id": "115a8ed1-fbe3-4fd0-a272-fc2dd976aea7",
   "metadata": {},
   "source": [
    "### lower casing"
   ]
  },
  {
   "cell_type": "markdown",
   "id": "8aab193e-0f8a-4541-a9a7-4f201f266881",
   "metadata": {},
   "source": [
    "df[\"text_lower\"] = df[\"text\"].str.lower()\n",
    "df.head()"
   ]
  },
  {
   "cell_type": "markdown",
   "id": "c6a15fd9-f351-4672-a478-56bfa07114a4",
   "metadata": {},
   "source": [
    "### deal web/www"
   ]
  },
  {
   "cell_type": "code",
   "execution_count": null,
   "id": "9ed66831-9875-4660-95b5-3728e506fac4",
   "metadata": {},
   "outputs": [],
   "source": [
    "# **************************** 处理网址 否则www http org会被放在关键字前面几行 ****************************\n",
    "def remove_urls(text): \n",
    "    url_pattern = re.compile(r'https?://\\S+|www\\.\\S+')\n",
    "    return url_pattern.sub(r'', text)"
   ]
  },
  {
   "cell_type": "markdown",
   "id": "6d688bf5-290b-4fd5-b8ba-40f5295979b1",
   "metadata": {},
   "source": [
    "### deal hyphens"
   ]
  },
  {
   "cell_type": "code",
   "execution_count": null,
   "id": "267f32e4-7ffa-4537-9d39-f95338a33f3b",
   "metadata": {},
   "outputs": [],
   "source": [
    "# **************************** 处理连字符 ****************************\n",
    "# 处理跨行的连字符（例如 distinc-\n",
    "# tive 处理为 distinctive）\n",
    "def deal_hyphen(text):\n",
    "    return re.sub(r'(\\w+)-\\s(\\w+)', r'\\1\\2', text)"
   ]
  },
  {
   "cell_type": "markdown",
   "id": "44968e3b-226d-42f2-aa50-723c9d0dc7c6",
   "metadata": {},
   "source": [
    "### deal newline character \\n"
   ]
  },
  {
   "cell_type": "code",
   "execution_count": 19,
   "id": "61b88e4e-7eef-4d1d-967f-cc433d808be1",
   "metadata": {},
   "outputs": [],
   "source": [
    "# **************************** 处理换行符：只删除\\n符号，因为textrank是基于上下文的，不要去掉标点符号****************************\n",
    "# 换行符替换为空格\n",
    "# .strip() 去除开头和结尾的空格\n",
    "def del_space(text):\n",
    "    text1 = text.replace('\\n', ' ').strip() \n",
    "    text2 = text1.replace(\" .\", \".\")  # 替换句号前面的空格 \"depressive episode .\"\n",
    "    text3 = re.sub(r'\\s+', ' ', text2)  # 使用正则表达式替换多个连续空格为单个空格\n",
    "    return text3"
   ]
  },
  {
   "cell_type": "markdown",
   "id": "40100af1-1260-4d40-b802-3b7175abc108",
   "metadata": {},
   "source": [
    "### remove reference"
   ]
  },
  {
   "cell_type": "code",
   "execution_count": 20,
   "id": "af8bbb02-797d-48b1-b140-c495e5831427",
   "metadata": {},
   "outputs": [],
   "source": [
    "# **************************** 处理引用 ****************************\n",
    "def del_reference(text):\n",
    "    # 使用正则表达式删除括号内的引用\n",
    "    cleaned_text = re.sub(r'\\([^)]*\\)', '', text)\n",
    "    return cleaned_text"
   ]
  },
  {
   "cell_type": "markdown",
   "id": "c341c4bc-0be4-4aa1-a3b6-bd917196d480",
   "metadata": {},
   "source": [
    "### filter numbers"
   ]
  },
  {
   "cell_type": "code",
   "execution_count": 18,
   "id": "b8480e3c-1ed0-4a48-aede-e43a40ef7731",
   "metadata": {},
   "outputs": [],
   "source": [
    "# **************************** 过滤数字 ****************************\n",
    "def remove_numbers(text):\n",
    "    pattern = r'\\d+'\n",
    "    filtered_text = re.sub(pattern, '', text)\n",
    "    return filtered_text"
   ]
  },
  {
   "cell_type": "markdown",
   "id": "28a1333a-30a6-4d11-9556-7376639fdb88",
   "metadata": {},
   "source": [
    "## 3. Extract Keywords"
   ]
  },
  {
   "cell_type": "markdown",
   "id": "1d1aa5d9-dda2-4525-884c-5b3d6fc5f900",
   "metadata": {},
   "source": [
    "### gensim - TextRank - keywords"
   ]
  },
  {
   "cell_type": "code",
   "execution_count": 363,
   "id": "893a1810-f0d1-4452-9b00-39b30dc92a28",
   "metadata": {},
   "outputs": [
    {
     "data": {
      "text/plain": [
       "['exercised',\n",
       " 'study',\n",
       " 'clinically depressed',\n",
       " 'reviewed',\n",
       " 'interventional',\n",
       " 'effects',\n",
       " 'intensities',\n",
       " 'trained',\n",
       " 'health',\n",
       " 'durations',\n",
       " 'recommending',\n",
       " 'programming',\n",
       " 'individuals',\n",
       " 'includes',\n",
       " 'groups',\n",
       " 'variability',\n",
       " 'week',\n",
       " 'med',\n",
       " 'trial',\n",
       " 'sports',\n",
       " 'dose',\n",
       " 'supervised',\n",
       " 'report',\n",
       " 'disord',\n",
       " 'mins',\n",
       " 'aerobic',\n",
       " 'treatments',\n",
       " 'populations',\n",
       " 'therapy']"
      ]
     },
     "execution_count": 363,
     "metadata": {},
     "output_type": "execute_result"
    }
   ],
   "source": [
    "from gensim.summarization import keywords\n",
    "import spacy\n",
    "\n",
    "\n",
    "# **************************** textrank算法实现 - 调用keywords方法 ****************************\n",
    "def extract_keywords_with_textrank(text, ratio=0.2, words=None, split=False, \n",
    "                                   scores=False, pos_filter=None,lemmatize=False, deacc=True):\n",
    "    # 使用gensim的keywords提取\n",
    "    result = keywords(text=text, ratio=ratio, words=words, split=split, scores=scores, \n",
    "                      pos_filter=pos_filter, lemmatize=lemmatize, deacc=deacc)\n",
    "    return result\n",
    "\n",
    "text1 = remove_urls(raw_text)\n",
    "text2 = del_name(text1)\n",
    "\n",
    "# 好像会把所有单词变小写，所以在这处理前先处理大写的人名，否则spacy无法处理小写人名\n",
    "textrank_keywords_result = extract_keywords_with_textrank(text1, words=30, split=True,scores=False,lemmatize=True) \n",
    "textrank_keywords_result\n",
    "\n",
    "# 无需对copyright、p、连字符、\\n等额外处理\n",
    "# lemmatize: 决定是否应用词形还原。词形还原是将单词还原到基本形态或词根的过程。例如，“running”变为“run”。\n",
    "# scores相同会全部输出 算做一个\n",
    " # ('depression', 0.3569175294181351),\n",
    " # ('depressed', 0.3569175294181351),\n",
    " # ('depress', 0.3569175294181351),\n",
    " # ('depressions', 0.3569175294181351),\n"
   ]
  },
  {
   "cell_type": "markdown",
   "id": "40c23023-5710-4a53-a596-48640961441f",
   "metadata": {},
   "source": [
    "### TF-IDF - keyword"
   ]
  },
  {
   "cell_type": "code",
   "execution_count": 75,
   "id": "5c8358df-d6e8-4c88-b59e-0c979be5fd16",
   "metadata": {},
   "outputs": [
    {
     "name": "stdout",
     "output_type": "stream",
     "text": [
      "Top 50 keywords: ['perraton', 'science', 'journal', 'medicine', 'health', 'reaburn', 'pedro', 'colleagues', 'med', 'institute', 'treadmill', 'sports', 'dsm', 'nr', 'clin', 'cochrane', 'iv', 'clinical', 'table', 'psychiatry', 'years', 'two', 'singh', 'rockhampton', 'consecutive', 'national', 'elsevier', 'exercise', 'university', 'ltd', 'three', 'march', 'review', 'australia', 'public', 'central', 'queensland', 'qualiﬁed', 'days', 'depression', 'english', 'dw', 'yoga', 'eur', 'evidence', 'excellence', 'exerc', 'five', 'fj', 'ge']\n"
     ]
    }
   ],
   "source": [
    "from sklearn.feature_extraction.text import TfidfVectorizer # pip install scikit-learn\n",
    "import re\n",
    "import spacy # !python -m spacy download en_core_web_sm\n",
    "# from collections.abc import Mapping\n",
    "import string\n",
    "\n",
    "\n",
    "# 如果text是这种形式 已经分割成多个文档的列表，可以直接传入 \n",
    "# documents = [\n",
    "#     \"这是第一篇文档的内容。\",\n",
    "#     \"这是第二篇文档的内容。\",\n",
    "#     \"这是第三篇文档的内容。\",\n",
    "#     # 在此添加更多文档\n",
    "# ]\n",
    "\n",
    "# 如果是字符串形式，需要[]这样传入\n",
    "\n",
    "text = raw_text\n",
    "text = del_space(text)\n",
    "text = remove_urls(text)\n",
    "text = deal_hyphen(text)\n",
    "text = deal_name(text)\n",
    "text = del_reference(text)\n",
    "text = remove_stopwords(text)\n",
    "text = remove_numbers(text)\n",
    "\n",
    "\n",
    "from sklearn.feature_extraction.text import TfidfVectorizer\n",
    "\n",
    "import numpy as np\n",
    "from nltk.stem import PorterStemmer\n",
    "from nltk.tokenize import word_tokenize\n",
    "\n",
    "\n",
    "# 假设你的长文本存储在一个字符串变量中\n",
    "\n",
    "# 将长文本放入列表中\n",
    "documents = [text]\n",
    "\n",
    "# 初始化一个TfidfVectorizer\n",
    "vectorizer = TfidfVectorizer()\n",
    "\n",
    "# 对文本进行向量化并转换成稀疏矩阵 使用TF-IDF向量化器拟合和转换文本数据转换文本为TF-IDF表示\n",
    "X = vectorizer.fit_transform(documents)\n",
    "\n",
    "# 获取特征名（单词） 获取提取的关键词列表 获取特征词汇\n",
    "feature_names = vectorizer.get_feature_names_out()\n",
    "\n",
    "import numpy as np\n",
    "\n",
    "# 将文档的tf-idf向量转换成数组\n",
    "tf_idf_array = X.toarray()[0]\n",
    "\n",
    "# 获取排序的tf-idf索引\n",
    "sorted_indices = np.argsort(tf_idf_array).tolist()\n",
    "\n",
    "# 获取具有最高tf-idf值的词\n",
    "top_n = 50  # 假设你想提取前10个关键词\n",
    "top_n_indices = sorted_indices[-top_n:]\n",
    "\n",
    "# 提取对应的关键词\n",
    "TF_IDF_keywords = [feature_names[j] for j in reversed(top_n_indices)]\n",
    "\n",
    "# 打印结果\n",
    "print(f\"Top {top_n} keywords: {TF_IDF_keywords}\")\n"
   ]
  },
  {
   "cell_type": "code",
   "execution_count": null,
   "id": "020eb25b-de27-4282-a4e7-ef5f828f846c",
   "metadata": {},
   "outputs": [],
   "source": []
  },
  {
   "cell_type": "markdown",
   "id": "1a1c0cd5-b53a-4621-86f5-fd4e38fd7104",
   "metadata": {},
   "source": [
    "### LDA - keyword"
   ]
  },
  {
   "cell_type": "code",
   "execution_count": null,
   "id": "a46d3b18-5b44-4b41-bdb8-fad6f26c67d4",
   "metadata": {},
   "outputs": [],
   "source": []
  },
  {
   "cell_type": "code",
   "execution_count": null,
   "id": "c8b79a58-6fda-4ee5-add4-a7dd701bda84",
   "metadata": {},
   "outputs": [],
   "source": [
    "from nltk.tokenize import word_tokenize\n",
    "from nltk.corpus import stopwords\n",
    "from nltk.stem import WordNetLemmatizer\n",
    "import re\n",
    "\n",
    "text=raw_text\n",
    "\n",
    "text = remove_stopwords(text)\n",
    "\n",
    "\n",
    "# 清理和分词\n",
    "# 使用正则表达式去除标点符号和数字\n",
    "text = re.sub(r'[\\d\\W]+', ' ', text)\n",
    "tokens = word_tokenize(text.lower()) # 分词 tokens = word_tokenize(text)\n",
    "\n",
    "# 去除停用词并进行词形还原\n",
    "stop_words = set(stopwords.words('english'))\n",
    "lemmatizer = WordNetLemmatizer() # # 词干提取\n",
    "tokens = [lemmatizer.lemmatize(word) for word in tokens if word not in stop_words and len(word) > 1]  # 去除单个字符\n",
    "\n",
    "\n",
    "\n",
    "\n",
    "from gensim import corpora, models # 最新版的4.3.2就可以用gensim\n",
    "\n",
    "# 创建字典\n",
    "dictionary = corpora.Dictionary([tokens])\n",
    "\n",
    "# 创建文档-词汇矩阵\n",
    "corpus = [dictionary.doc2bow(token) for token in [tokens]]\n",
    "# 设置主题数\n",
    "num_topics = 3\n",
    "\n",
    "# 创建并训练LDA模型\n",
    "lda_model = models.LdaModel(corpus, num_topics=num_topics, id2word=dictionary, passes=10)\n",
    "\n",
    "# 打印主题\n",
    "topics = lda_model.print_topics(num_words=5)\n",
    "for topic in topics:\n",
    "    print(topic)\n",
    "\n",
    "\n",
    "\n",
    "\n",
    "#### 整理输出\n",
    "# 创建一个空列表用于存储结果\n",
    "topics_list = []\n",
    "\n",
    "# LDA模型中的topics是上面提到的topics变量\n",
    "for topic_num, topic in lda.show_topics(num_topics=num_topics, formatted=False):\n",
    "    topic_keywords = [(word, weight) for word, weight in topic]\n",
    "    topics_list.append((topic_num, topic_keywords))\n",
    "\n",
    "# 打印结果\n",
    "for topic_num, topic_keywords in topics_list:\n",
    "    print(f\"主题 {topic_num}:\")\n",
    "    for word, weight in topic_keywords:\n",
    "        print(f\"    {word}: {weight}\")\n",
    "\n",
    "\n",
    "# 创建一个空列表用于存储所有关键词\n",
    "keywords_list = []\n",
    "\n",
    "# LDA模型中的topics是上面提到的topics变量\n",
    "for topic_num, topic in lda.show_topics(num_topics=num_topics, formatted=False):\n",
    "    for word, weight in topic:\n",
    "        # 只添加关键词到列表\n",
    "        keywords_list.append(word)\n",
    "\n",
    "# 如果需要去重，可以将列表转换成集合再转回列表\n",
    "keywords_list = list(set(keywords_list))\n",
    "\n",
    "# 打印结果\n",
    "print(keywords_list)\n"
   ]
  },
  {
   "cell_type": "code",
   "execution_count": 45,
   "id": "2694b86d-a281-46cb-adcd-7322c6896d2a",
   "metadata": {},
   "outputs": [
    {
     "data": {
      "text/html": [
       "\n",
       "<link rel=\"stylesheet\" type=\"text/css\" href=\"https://cdn.jsdelivr.net/gh/bmabey/pyLDAvis@3.4.0/pyLDAvis/js/ldavis.v1.0.0.css\">\n",
       "\n",
       "\n",
       "<div id=\"ldavis_el92634112362053769712860526\" style=\"background-color:white;\"></div>\n",
       "<script type=\"text/javascript\">\n",
       "\n",
       "var ldavis_el92634112362053769712860526_data = {\"mdsDat\": {\"x\": [0.0781395135617137, -0.03821121316062462, -0.03992830040108906], \"y\": [-0.0, -0.0, -0.0], \"topics\": [1, 2, 3], \"cluster\": [1, 1, 1], \"Freq\": [99.98071733758003, 0.009642803863885463, 0.009639858556084145]}, \"tinfo\": {\"Term\": [\"exercise\", \"depression\", \"study\", \"review\", \"intervention\", \"intensity\", \"treatment\", \"al\", \"program\", \"aerobic\", \"effect\", \"duration\", \"week\", \"group\", \"min\", \"variable\", \"training\", \"colleague\", \"used\", \"included\", \"recommendation\", \"session\", \"trial\", \"health\", \"reported\", \"population\", \"clinical\", \"patient\", \"rcts\", \"sport\", \"exercise\", \"depression\", \"review\", \"study\", \"intervention\", \"intensity\", \"aerobic\", \"al\", \"treatment\", \"program\", \"effect\", \"duration\", \"group\", \"week\", \"min\", \"variable\", \"used\", \"training\", \"colleague\", \"trial\", \"session\", \"recommendation\", \"included\", \"reported\", \"health\", \"rcts\", \"clinical\", \"population\", \"dose\", \"effective\", \"single\", \"exercised\", \"conventional\", \"weakness\", \"variety\", \"cooper\", \"introduction\", \"ptsd\", \"april\", \"scanned\", \"bibliographic\", \"coworkers\", \"locate\", \"argue\", \"broadening\", \"ld\", \"antunes\", \"ge\", \"backx\", \"given\", \"moreover\", \"tical\", \"needed\", \"sootmongkol\", \"compo\", \"vised\", \"deschenes\", \"therefore\", \"version\", \"contraindication\", \"kirby\", \"nonremitted\", \"qualitative\", \"exercise\", \"study\", \"depression\", \"intervention\", \"review\", \"program\", \"treatment\", \"intensity\", \"al\", \"week\", \"effect\", \"duration\", \"aerobic\", \"group\", \"training\", \"min\", \"moderate\", \"colleague\", \"recommendation\", \"trial\", \"criterion\", \"variable\", \"patient\", \"reported\", \"individual\", \"people\", \"included\", \"science\", \"participant\", \"health\", \"session\", \"used\", \"effective\", \"upon\", \"dence\", \"stella\", \"twice\", \"parison\", \"twelve\", \"interventional\", \"sterne\", \"recovery\", \"resulted\", \"elderly\", \"scanning\", \"doraiswamy\", \"bra\", \"physiological\", \"si\", \"investigator\", \"despite\", \"coworkers\", \"gender\", \"rpe\", \"impact\", \"exerc\", \"exit\", \"contraindication\", \"gaining\", \"ommendation\", \"brenes\", \"wip\\ufb02i\", \"perra\", \"found\", \"stark\", \"ng\", \"manual\", \"prevalence\", \"dura\", \"exercise\", \"depression\", \"study\", \"review\", \"intervention\", \"duration\", \"effect\", \"al\", \"intensity\", \"treatment\", \"aerobic\", \"week\", \"walking\", \"included\", \"program\", \"session\", \"used\", \"group\", \"min\", \"colleague\", \"dose\", \"health\", \"recommendation\", \"population\", \"variable\", \"sport\", \"patient\", \"perraton\", \"people\", \"clinical\", \"training\"], \"Freq\": [137.0, 79.0, 59.0, 58.0, 48.0, 36.0, 34.0, 34.0, 30.0, 34.0, 29.0, 26.0, 24.0, 25.0, 23.0, 22.0, 21.0, 20.0, 21.0, 18.0, 18.0, 18.0, 19.0, 17.0, 17.0, 15.0, 15.0, 14.0, 16.0, 14.0, 137.72736849664506, 79.01700410557154, 58.215922167239, 59.09420925735737, 48.23731001826913, 36.48564711472983, 34.689163376144464, 34.67852939507015, 34.66960568241157, 30.137536079260542, 29.235611695604504, 26.515576421894025, 25.628902755440315, 24.70898595261299, 23.825882759817173, 22.928589941206052, 21.113443186874058, 21.105984241673653, 20.200196101336605, 19.305822931697232, 18.3895309752231, 18.388128818747386, 18.385082300153275, 17.49514462432426, 17.487481369602133, 16.600001998663554, 15.679053762283006, 15.67776529417019, 14.777249657619597, 14.775292240588874, 0.0003020223854262686, 0.0003019866503113401, 0.0003018689171116842, 0.00030175597110641275, 0.00030173539212972243, 0.00030163382812603746, 0.00030158728706195886, 0.00030166133959584065, 0.00030162234680506544, 0.00030156644985486605, 0.0003016205987838794, 0.00030147028882575614, 0.00030158222177329477, 0.0003015002236885673, 0.00030156221884904073, 0.0003015386801546604, 0.00030152272946133767, 0.0003015815464014729, 0.0003014861004719391, 0.00030148540523624006, 0.0003014789693400551, 0.0003015423351080494, 0.000301532522352755, 0.00030151404894703876, 0.0003014824852463043, 0.00030146760720234573, 0.00030139065454240526, 0.0003014294089666551, 0.00030150940079979406, 0.0003013504103273719, 0.0003014488159745957, 0.0003014323686843451, 0.0003014493324354007, 0.0006534253761646146, 0.00043542822385307607, 0.00044202799702427326, 0.00042159152378836616, 0.0004235664301788154, 0.0003872249902653124, 0.0003883208406379493, 0.00038308293488170246, 0.00037203579853564993, 0.00036440910264540216, 0.00036759185194765827, 0.00036340816187761696, 0.00036912307877888447, 0.00036009232459869564, 0.0003563884663442253, 0.0003530430318884038, 0.000342241254152466, 0.0003473076949214629, 0.00034428778968378915, 0.00034264969519368847, 0.00033732677204339285, 0.00034395252716585547, 0.0003376331922117567, 0.00033965640755134773, 0.0003373275268707232, 0.0003339080001532657, 0.00033899271568920764, 0.0003296258845721235, 0.0003339956395790936, 0.00033686624791637694, 0.00033671937440899445, 0.0003370211464301136, 0.00033449736138724435, 0.00030281515827260797, 0.0003027108650551633, 0.00030277891776959266, 0.0003025512281216069, 0.00030247628474715216, 0.0003024219339215341, 0.0003025170528308182, 0.00030242810970040413, 0.0003024028902818674, 0.0003024062065361159, 0.00030246768631547787, 0.00030248387043052305, 0.00030238140413158654, 0.0003024509064661365, 0.00030240640511421465, 0.0003024115284291615, 0.00030232933695410367, 0.00030231883217268166, 0.00030221475739114555, 0.0003023683774083109, 0.0003023608512983696, 0.0003023403580385823, 0.0003022234749696791, 0.00030227943427789676, 0.0003022051263533579, 0.0003023462558081141, 0.00030231688610731427, 0.0003023246306531641, 0.00030230570616035664, 0.0003022325897044101, 0.0003023687547066984, 0.00030227929527322766, 0.00030229408934158186, 0.00030226908835895376, 0.0003022953205257939, 0.0003023101940253876, 0.0005745399762356443, 0.0004607295459694807, 0.0004080796609137459, 0.0003902456398775603, 0.0003796518954673542, 0.00036130935563598115, 0.00036194599702045894, 0.00036430419137392975, 0.0003626046011426545, 0.0003567654518655827, 0.00035668947588501465, 0.0003503874807754597, 0.00033970036494323824, 0.00034203854262435866, 0.00034852537422819675, 0.00033990795848763407, 0.00034059881169306086, 0.00034321519729047986, 0.0003368439778557132, 0.0003351602341567153, 0.00033195552122623566, 0.00033357220510129773, 0.00033369687243167055, 0.0003320362035077433, 0.00033506761733147504, 0.0003303831202671869, 0.00032955806798264906, 0.0003256866290857364, 0.0003272741616959072, 0.0003295210728828586, 0.0003285161684143153], \"Total\": [137.0, 79.0, 59.0, 58.0, 48.0, 36.0, 34.0, 34.0, 30.0, 34.0, 29.0, 26.0, 24.0, 25.0, 23.0, 22.0, 21.0, 20.0, 21.0, 18.0, 18.0, 18.0, 19.0, 17.0, 17.0, 15.0, 15.0, 14.0, 16.0, 14.0, 137.72859646199745, 79.01790686311453, 58.21673597930906, 59.09505276524214, 48.23811126168838, 36.486392802265854, 34.68988918869913, 34.679265735060056, 34.670350768704076, 30.138271829625037, 29.236341233453473, 26.51630113941154, 25.629606062962203, 24.70970074919641, 23.826572646826918, 22.92926896135055, 21.11412080683218, 21.10666914630841, 20.200878569265683, 19.306491625581238, 18.390207602555996, 18.3888068034095, 18.38576333141159, 17.495807453401884, 17.48815180805515, 16.600651859496157, 15.679716115071589, 15.678428925821278, 14.777905618581093, 14.775950089142045, 1.2059484867646144, 1.205998690621174, 1.2060624755728215, 1.2061745092696818, 1.2065677057884616, 1.2065032025210776, 1.206323578882116, 1.2067179068439544, 1.2065980551674471, 1.2065010424522005, 1.2067204791118908, 1.2061366520224808, 1.20659167753216, 1.2063694625469723, 1.2066478481348037, 1.206618836621594, 1.206579023677748, 1.2068225333405918, 1.206550526457754, 1.2065818012684575, 1.2065920891568291, 1.206878396232784, 1.2068558660799846, 1.2067914649031104, 1.2066698642211897, 1.2066572101619693, 1.2063557805991407, 1.2065196635637385, 1.2068480469283573, 1.2062683351076058, 1.2066793288484028, 1.2067644085554394, 1.2070131653476937, 137.72859646199745, 59.09505276524214, 79.01790686311453, 48.23811126168838, 58.21673597930906, 30.138271829625037, 34.670350768704076, 36.486392802265854, 34.679265735060056, 24.70970074919641, 29.236341233453473, 26.51630113941154, 34.68988918869913, 25.629606062962203, 21.10666914630841, 23.826572646826918, 12.9578176157606, 20.200878569265683, 18.3888068034095, 19.306491625581238, 13.864032944121114, 22.92926896135055, 14.766516707099008, 17.495807453401884, 14.773140311235888, 12.047679861873902, 18.38576333141159, 9.337866534204275, 13.873403772630247, 17.48815180805515, 18.390207602555996, 21.11412080683218, 14.775950089142045, 1.2061803773762103, 1.2063572238343652, 1.2066950742914642, 1.206394259049802, 1.206440656372133, 1.2062378843863604, 1.2066484699826194, 1.2063294454054272, 1.20632131816929, 1.2063898345306656, 1.206781901371971, 1.2068653352434564, 1.2064814982398286, 1.2067904404161154, 1.2066947642180865, 1.2067886909839565, 1.2064951807815316, 1.2065278957570185, 1.2061366520224808, 1.2067653378795398, 1.2068018591288834, 1.206757210306572, 1.206332942211032, 1.2065591706897811, 1.2062683351076058, 1.2068783998603039, 1.2067809751867917, 1.2068262409707973, 1.2067927024934073, 1.2065075258269171, 1.2070879618677772, 1.2067115327635456, 1.2068637912185138, 1.2067315936681633, 1.2070693407224449, 1.2072706722118574, 137.72859646199745, 79.01790686311453, 59.09505276524214, 58.21673597930906, 48.23811126168838, 26.51630113941154, 29.236341233453473, 34.679265735060056, 36.486392802265854, 34.670350768704076, 34.68988918869913, 24.70970074919641, 13.862098923132814, 18.38576333141159, 30.138271829625037, 18.390207602555996, 21.11412080683218, 25.629606062962203, 23.826572646826918, 20.200878569265683, 14.777905618581093, 17.48815180805515, 18.3888068034095, 15.678428925821278, 22.92926896135055, 14.770327277287551, 14.766516707099008, 10.243973233618496, 12.047679861873902, 15.679716115071589, 21.10666914630841], \"Category\": [\"Default\", \"Default\", \"Default\", \"Default\", \"Default\", \"Default\", \"Default\", \"Default\", \"Default\", \"Default\", \"Default\", \"Default\", \"Default\", \"Default\", \"Default\", \"Default\", \"Default\", \"Default\", \"Default\", \"Default\", \"Default\", \"Default\", \"Default\", \"Default\", \"Default\", \"Default\", \"Default\", \"Default\", \"Default\", \"Default\", \"Topic1\", \"Topic1\", \"Topic1\", \"Topic1\", \"Topic1\", \"Topic1\", \"Topic1\", \"Topic1\", \"Topic1\", \"Topic1\", \"Topic1\", \"Topic1\", \"Topic1\", \"Topic1\", \"Topic1\", \"Topic1\", \"Topic1\", \"Topic1\", \"Topic1\", \"Topic1\", \"Topic1\", \"Topic1\", \"Topic1\", \"Topic1\", \"Topic1\", \"Topic1\", \"Topic1\", \"Topic1\", \"Topic1\", \"Topic1\", \"Topic2\", \"Topic2\", \"Topic2\", \"Topic2\", \"Topic2\", \"Topic2\", \"Topic2\", \"Topic2\", \"Topic2\", \"Topic2\", \"Topic2\", \"Topic2\", \"Topic2\", \"Topic2\", \"Topic2\", \"Topic2\", \"Topic2\", \"Topic2\", \"Topic2\", \"Topic2\", \"Topic2\", \"Topic2\", \"Topic2\", \"Topic2\", \"Topic2\", \"Topic2\", \"Topic2\", \"Topic2\", \"Topic2\", \"Topic2\", \"Topic2\", \"Topic2\", \"Topic2\", \"Topic2\", \"Topic2\", \"Topic2\", \"Topic2\", \"Topic2\", \"Topic2\", \"Topic2\", \"Topic2\", \"Topic2\", \"Topic2\", \"Topic2\", \"Topic2\", \"Topic2\", \"Topic2\", \"Topic2\", \"Topic2\", \"Topic2\", \"Topic2\", \"Topic2\", \"Topic2\", \"Topic2\", \"Topic2\", \"Topic2\", \"Topic2\", \"Topic2\", \"Topic2\", \"Topic2\", \"Topic2\", \"Topic2\", \"Topic2\", \"Topic2\", \"Topic2\", \"Topic2\", \"Topic3\", \"Topic3\", \"Topic3\", \"Topic3\", \"Topic3\", \"Topic3\", \"Topic3\", \"Topic3\", \"Topic3\", \"Topic3\", \"Topic3\", \"Topic3\", \"Topic3\", \"Topic3\", \"Topic3\", \"Topic3\", \"Topic3\", \"Topic3\", \"Topic3\", \"Topic3\", \"Topic3\", \"Topic3\", \"Topic3\", \"Topic3\", \"Topic3\", \"Topic3\", \"Topic3\", \"Topic3\", \"Topic3\", \"Topic3\", \"Topic3\", \"Topic3\", \"Topic3\", \"Topic3\", \"Topic3\", \"Topic3\", \"Topic3\", \"Topic3\", \"Topic3\", \"Topic3\", \"Topic3\", \"Topic3\", \"Topic3\", \"Topic3\", \"Topic3\", \"Topic3\", \"Topic3\", \"Topic3\", \"Topic3\", \"Topic3\", \"Topic3\", \"Topic3\", \"Topic3\", \"Topic3\", \"Topic3\", \"Topic3\", \"Topic3\", \"Topic3\", \"Topic3\", \"Topic3\", \"Topic3\", \"Topic3\", \"Topic3\", \"Topic3\", \"Topic3\", \"Topic3\", \"Topic3\"], \"logprob\": [30.0, 29.0, 28.0, 27.0, 26.0, 25.0, 24.0, 23.0, 22.0, 21.0, 20.0, 19.0, 18.0, 17.0, 16.0, 15.0, 14.0, 13.0, 12.0, 11.0, 10.0, 9.0, 8.0, 7.0, 6.0, 5.0, 4.0, 3.0, 2.0, 1.0, -3.2461, -3.8017, -4.1072, -4.0923, -4.2953, -4.5745, -4.625, -4.6253, -4.6255, -4.7656, -4.796, -4.8937, -4.9277, -4.9642, -5.0006, -5.039, -5.1215, -5.1218, -5.1657, -5.211, -5.2596, -5.2597, -5.2599, -5.3095, -5.3099, -5.362, -5.4191, -5.4192, -5.4783, -5.4785, -7.0299, -7.03, -7.0304, -7.0308, -7.0308, -7.0312, -7.0313, -7.0311, -7.0312, -7.0314, -7.0312, -7.0317, -7.0314, -7.0316, -7.0314, -7.0315, -7.0316, -7.0314, -7.0317, -7.0317, -7.0317, -7.0315, -7.0315, -7.0316, -7.0317, -7.0317, -7.032, -7.0319, -7.0316, -7.0321, -7.0318, -7.0319, -7.0318, -6.2582, -6.6641, -6.649, -6.6964, -6.6917, -6.7814, -6.7786, -6.7921, -6.8214, -6.8421, -6.8334, -6.8449, -6.8293, -6.854, -6.8644, -6.8738, -6.9049, -6.8902, -6.8989, -6.9037, -6.9193, -6.8999, -6.9184, -6.9125, -6.9193, -6.9295, -6.9144, -6.9424, -6.9293, -6.9207, -6.9211, -6.9203, -6.9278, -7.027, -7.0273, -7.0271, -7.0278, -7.0281, -7.0283, -7.028, -7.0282, -7.0283, -7.0283, -7.0281, -7.0281, -7.0284, -7.0282, -7.0283, -7.0283, -7.0286, -7.0286, -7.029, -7.0284, -7.0285, -7.0285, -7.0289, -7.0287, -7.029, -7.0285, -7.0286, -7.0286, -7.0287, -7.0289, -7.0284, -7.0287, -7.0287, -7.0288, -7.0287, -7.0286, -6.3865, -6.6073, -6.7286, -6.7733, -6.8008, -6.8504, -6.8486, -6.8421, -6.8468, -6.863, -6.8632, -6.8811, -6.912, -6.9052, -6.8864, -6.9114, -6.9094, -6.9017, -6.9205, -6.9255, -6.9351, -6.9302, -6.9299, -6.9348, -6.9258, -6.9398, -6.9423, -6.9542, -6.9493, -6.9425, -6.9455], \"loglift\": [30.0, 29.0, 28.0, 27.0, 26.0, 25.0, 24.0, 23.0, 22.0, 21.0, 20.0, 19.0, 18.0, 17.0, 16.0, 15.0, 14.0, 13.0, 12.0, 11.0, 10.0, 9.0, 8.0, 7.0, 6.0, 5.0, 4.0, 3.0, 2.0, 1.0, 0.0002, 0.0002, 0.0002, 0.0002, 0.0002, 0.0002, 0.0002, 0.0002, 0.0002, 0.0002, 0.0002, 0.0002, 0.0002, 0.0002, 0.0002, 0.0002, 0.0002, 0.0002, 0.0002, 0.0002, 0.0002, 0.0002, 0.0002, 0.0002, 0.0002, 0.0002, 0.0002, 0.0002, 0.0001, 0.0001, 0.9544, 0.9543, 0.9538, 0.9534, 0.953, 0.9527, 0.9527, 0.9526, 0.9526, 0.9525, 0.9525, 0.9525, 0.9524, 0.9524, 0.9523, 0.9523, 0.9523, 0.9523, 0.9522, 0.9521, 0.9521, 0.9521, 0.9521, 0.9521, 0.9521, 0.952, 0.952, 0.952, 0.952, 0.9519, 0.9519, 0.9518, 0.9517, -3.0119, -2.5716, -2.8471, -2.4009, -2.5843, -2.0156, -2.1529, -2.2175, -2.1959, -1.8777, -2.0372, -1.951, -2.2041, -1.9262, -1.7424, -1.873, -1.295, -1.7243, -1.6391, -1.6925, -1.377, -1.8607, -1.4392, -1.6028, -1.4406, -1.2468, -1.6544, -1.0049, -1.3876, -1.6106, -1.6614, -1.7986, -1.4492, 0.9572, 0.9567, 0.9566, 0.9561, 0.9558, 0.9558, 0.9558, 0.9558, 0.9557, 0.9556, 0.9555, 0.9555, 0.9555, 0.9555, 0.9554, 0.9553, 0.9553, 0.9552, 0.9552, 0.9552, 0.9552, 0.9551, 0.9551, 0.9551, 0.9551, 0.955, 0.955, 0.955, 0.955, 0.955, 0.9549, 0.955, 0.9549, 0.9549, 0.9547, 0.9546, -3.1402, -2.8054, -2.6362, -2.6659, -2.5054, -1.9565, -2.0524, -2.2166, -2.2721, -2.2373, -2.2381, -1.9166, -1.3696, -1.6451, -2.1206, -1.6516, -1.7877, -1.9739, -1.9197, -1.7596, -1.4566, -1.6202, -1.67, -1.5155, -1.8866, -1.4609, -1.4631, -1.1092, -1.2666, -1.5232, -1.8235]}, \"token.table\": {\"Topic\": [1, 1, 1, 1, 1, 1, 1, 1, 1, 1, 1, 1, 1, 1, 1, 1, 1, 1, 1, 1, 1, 1, 1, 1, 1, 1, 1, 1, 1, 1, 1, 1, 1, 1, 1, 1, 1, 1, 1, 1, 1, 1, 1, 1, 1, 1, 1, 1, 1, 1, 1, 1, 1, 1, 1, 1, 1, 1, 1, 1, 1, 1, 1, 1, 1, 1, 1, 1, 1, 1, 1, 1, 1, 1, 1, 1, 1, 1, 1, 1, 1, 1, 1, 1, 1, 1, 1, 1, 1, 1, 1, 1, 1, 1, 1, 1, 1, 1, 1, 1, 1, 1, 1, 1, 1, 1, 1], \"Freq\": [1.0089395157653573, 1.0092485886924558, 0.8287894786633379, 0.8287764062915084, 0.828933449532724, 0.828809053638098, 0.8286923254472065, 0.828644283638167, 0.8286197018682476, 0.828742206390843, 1.0204266379938187, 0.990055948874852, 0.8287270857181979, 0.8290029431227626, 0.8291444433880162, 0.828841562882242, 0.8290934516608665, 1.0098071792260521, 0.8289418592127581, 0.9997733822139132, 0.8289428509252441, 0.8288245995112815, 0.8288564735214998, 1.015028813091055, 0.8283146629975581, 1.0182415661236224, 0.9919161829598896, 1.015163147513783, 0.8286501470258346, 0.8289585445350983, 1.0019705678049033, 0.8291882966182408, 0.8288031157463311, 0.828440040486079, 0.8285838905690498, 0.8286222475743068, 0.8286615206873142, 0.8287875707628924, 1.014451799849279, 0.9720867125690031, 0.8286671017660245, 0.9790183673933993, 1.0153562265019287, 0.9866692000795527, 0.9950638353065557, 0.8287417792974983, 0.8289649788050124, 0.8288470736801699, 0.8287205855712738, 0.8287621323730491, 0.8287807869231275, 0.8286846928074943, 1.0072787368852305, 1.0032553617816085, 0.8287805041874621, 0.8285993614532631, 0.8285939202719362, 0.8286621588360007, 0.8286507830016254, 0.8288845329591948, 1.0091251022059564, 1.0158116702491349, 0.9960424029837653, 0.8288385928754313, 0.9761837298815045, 0.8287099850374999, 1.020510414385278, 0.8284528206154987, 0.9954120849925735, 0.8286940919070277, 0.8284913774838063, 1.0240561722445496, 0.9788563332267207, 0.8289665323312012, 0.9716613563150822, 0.8289194515544309, 0.9962770846619418, 0.8286364430378313, 0.8288430468054223, 0.8285928601953537, 0.9638175879932871, 0.9787817728331809, 0.82864548488986, 0.8292228158790228, 0.8286435801733872, 1.015549602821978, 0.8286984692272344, 0.8287097720914877, 0.8289609474499039, 0.9983915275341282, 0.8288302546568248, 0.8285838930595282, 0.9949461875974369, 1.0095081019945575, 0.9841249445251289, 0.8290238707837649, 0.8289164114454878, 0.8290633961193168, 0.9945950481255534, 1.0030847489629378, 0.8287972529038685, 0.8286047299369441, 0.8287357764727319, 1.0099480661357176, 0.829067429559163, 1.011748392008067, 0.8286427303826549], \"Term\": [\"aerobic\", \"al\", \"antunes\", \"april\", \"argue\", \"backx\", \"bibliographic\", \"bra\", \"brenes\", \"broadening\", \"clinical\", \"colleague\", \"compo\", \"contraindication\", \"conventional\", \"cooper\", \"coworkers\", \"criterion\", \"dence\", \"depression\", \"deschenes\", \"despite\", \"doraiswamy\", \"dose\", \"dura\", \"duration\", \"effect\", \"effective\", \"elderly\", \"exerc\", \"exercise\", \"exercised\", \"exit\", \"found\", \"gaining\", \"ge\", \"gender\", \"given\", \"group\", \"health\", \"impact\", \"included\", \"individual\", \"intensity\", \"intervention\", \"interventional\", \"introduction\", \"investigator\", \"kirby\", \"ld\", \"locate\", \"manual\", \"min\", \"moderate\", \"moreover\", \"needed\", \"ng\", \"nonremitted\", \"ommendation\", \"parison\", \"participant\", \"patient\", \"people\", \"perra\", \"perraton\", \"physiological\", \"population\", \"prevalence\", \"program\", \"ptsd\", \"qualitative\", \"rcts\", \"recommendation\", \"recovery\", \"reported\", \"resulted\", \"review\", \"rpe\", \"scanned\", \"scanning\", \"science\", \"session\", \"si\", \"single\", \"sootmongkol\", \"sport\", \"stark\", \"stella\", \"sterne\", \"study\", \"therefore\", \"tical\", \"training\", \"treatment\", \"trial\", \"twelve\", \"twice\", \"upon\", \"used\", \"variable\", \"variety\", \"version\", \"vised\", \"walking\", \"weakness\", \"week\", \"wip\\ufb02i\"]}, \"R\": 30, \"lambda.step\": 0.01, \"plot.opts\": {\"xlab\": \"PC1\", \"ylab\": \"PC2\"}, \"topic.order\": [3, 1, 2]};\n",
       "\n",
       "function LDAvis_load_lib(url, callback){\n",
       "  var s = document.createElement('script');\n",
       "  s.src = url;\n",
       "  s.async = true;\n",
       "  s.onreadystatechange = s.onload = callback;\n",
       "  s.onerror = function(){console.warn(\"failed to load library \" + url);};\n",
       "  document.getElementsByTagName(\"head\")[0].appendChild(s);\n",
       "}\n",
       "\n",
       "if(typeof(LDAvis) !== \"undefined\"){\n",
       "   // already loaded: just create the visualization\n",
       "   !function(LDAvis){\n",
       "       new LDAvis(\"#\" + \"ldavis_el92634112362053769712860526\", ldavis_el92634112362053769712860526_data);\n",
       "   }(LDAvis);\n",
       "}else if(typeof define === \"function\" && define.amd){\n",
       "   // require.js is available: use it to load d3/LDAvis\n",
       "   require.config({paths: {d3: \"https://d3js.org/d3.v5\"}});\n",
       "   require([\"d3\"], function(d3){\n",
       "      window.d3 = d3;\n",
       "      LDAvis_load_lib(\"https://cdn.jsdelivr.net/gh/bmabey/pyLDAvis@3.4.0/pyLDAvis/js/ldavis.v3.0.0.js\", function(){\n",
       "        new LDAvis(\"#\" + \"ldavis_el92634112362053769712860526\", ldavis_el92634112362053769712860526_data);\n",
       "      });\n",
       "    });\n",
       "}else{\n",
       "    // require.js not available: dynamically load d3 & LDAvis\n",
       "    LDAvis_load_lib(\"https://d3js.org/d3.v5.js\", function(){\n",
       "         LDAvis_load_lib(\"https://cdn.jsdelivr.net/gh/bmabey/pyLDAvis@3.4.0/pyLDAvis/js/ldavis.v3.0.0.js\", function(){\n",
       "                 new LDAvis(\"#\" + \"ldavis_el92634112362053769712860526\", ldavis_el92634112362053769712860526_data);\n",
       "            })\n",
       "         });\n",
       "}\n",
       "</script>"
      ],
      "text/plain": [
       "<IPython.core.display.HTML object>"
      ]
     },
     "execution_count": 45,
     "metadata": {},
     "output_type": "execute_result"
    }
   ],
   "source": [
    "import pyLDAvis\n",
    "import pyLDAvis.gensim_models as gensimvis\n",
    "\n",
    "# 准备要显示的数据\n",
    "vis_data = gensimvis.prepare(lda_model, corpus, dictionary)\n",
    "\n",
    "# 显示主题模型的可视化\n",
    "pyLDAvis.display(vis_data)\n"
   ]
  },
  {
   "cell_type": "markdown",
   "id": "2e44f475-e53d-42e5-b0e0-9f97a55d8e3a",
   "metadata": {},
   "source": [
    "### BERT - keyword"
   ]
  },
  {
   "cell_type": "code",
   "execution_count": 1,
   "id": "3b5fe57b-50f9-4b6e-9258-f636ef6bcec3",
   "metadata": {},
   "outputs": [],
   "source": [
    "# 使用BERT进行关键词提取：\n",
    "# 使用BERT进行关键词提取通常需要使用预训练的BERT模型和相应的库来进行微调和处理。以下是一个使用Hugging Face Transformers库的示例代码："
   ]
  },
  {
   "cell_type": "code",
   "execution_count": 43,
   "id": "47720298-ce6d-4876-81db-2352ca786d47",
   "metadata": {},
   "outputs": [
    {
     "name": "stderr",
     "output_type": "stream",
     "text": [
      "Some weights of the model checkpoint at bert-base-uncased were not used when initializing BertForMaskedLM: ['bert.pooler.dense.bias', 'cls.seq_relationship.bias', 'cls.seq_relationship.weight', 'bert.pooler.dense.weight']\n",
      "- This IS expected if you are initializing BertForMaskedLM from the checkpoint of a model trained on another task or with another architecture (e.g. initializing a BertForSequenceClassification model from a BertForPreTraining model).\n",
      "- This IS NOT expected if you are initializing BertForMaskedLM from the checkpoint of a model that you expect to be exactly identical (initializing a BertForSequenceClassification model from a BertForSequenceClassification model).\n",
      "Token indices sequence length is longer than the specified maximum sequence length for this model (8624 > 512). Running this sequence through the model will result in indexing errors\n"
     ]
    },
    {
     "ename": "RuntimeError",
     "evalue": "The expanded size of the tensor (8624) must match the existing size (512) at non-singleton dimension 1.  Target sizes: [1, 8624].  Tensor sizes: [1, 512]",
     "output_type": "error",
     "traceback": [
      "\u001b[0;31m---------------------------------------------------------------------------\u001b[0m",
      "\u001b[0;31mRuntimeError\u001b[0m                              Traceback (most recent call last)",
      "Cell \u001b[0;32mIn[43], line 28\u001b[0m\n\u001b[1;32m     26\u001b[0m masked_input \u001b[38;5;241m=\u001b[39m tokenizer\u001b[38;5;241m.\u001b[39mencode(masked_text, add_special_tokens\u001b[38;5;241m=\u001b[39m\u001b[38;5;28;01mFalse\u001b[39;00m, return_tensors\u001b[38;5;241m=\u001b[39m\u001b[38;5;124m'\u001b[39m\u001b[38;5;124mpt\u001b[39m\u001b[38;5;124m'\u001b[39m)  \u001b[38;5;66;03m# 重新编码带有替换词语的文本\u001b[39;00m\n\u001b[1;32m     27\u001b[0m \u001b[38;5;28;01mwith\u001b[39;00m torch\u001b[38;5;241m.\u001b[39mno_grad():\n\u001b[0;32m---> 28\u001b[0m     outputs \u001b[38;5;241m=\u001b[39m model(masked_input)\n\u001b[1;32m     29\u001b[0m     predictions \u001b[38;5;241m=\u001b[39m outputs\u001b[38;5;241m.\u001b[39mlogits\n\u001b[1;32m     31\u001b[0m \u001b[38;5;66;03m# 获取当前词语的预测分数\u001b[39;00m\n",
      "File \u001b[0;32m~/anaconda3/lib/python3.11/site-packages/torch/nn/modules/module.py:1518\u001b[0m, in \u001b[0;36mModule._wrapped_call_impl\u001b[0;34m(self, *args, **kwargs)\u001b[0m\n\u001b[1;32m   1516\u001b[0m     \u001b[38;5;28;01mreturn\u001b[39;00m \u001b[38;5;28mself\u001b[39m\u001b[38;5;241m.\u001b[39m_compiled_call_impl(\u001b[38;5;241m*\u001b[39margs, \u001b[38;5;241m*\u001b[39m\u001b[38;5;241m*\u001b[39mkwargs)  \u001b[38;5;66;03m# type: ignore[misc]\u001b[39;00m\n\u001b[1;32m   1517\u001b[0m \u001b[38;5;28;01melse\u001b[39;00m:\n\u001b[0;32m-> 1518\u001b[0m     \u001b[38;5;28;01mreturn\u001b[39;00m \u001b[38;5;28mself\u001b[39m\u001b[38;5;241m.\u001b[39m_call_impl(\u001b[38;5;241m*\u001b[39margs, \u001b[38;5;241m*\u001b[39m\u001b[38;5;241m*\u001b[39mkwargs)\n",
      "File \u001b[0;32m~/anaconda3/lib/python3.11/site-packages/torch/nn/modules/module.py:1527\u001b[0m, in \u001b[0;36mModule._call_impl\u001b[0;34m(self, *args, **kwargs)\u001b[0m\n\u001b[1;32m   1522\u001b[0m \u001b[38;5;66;03m# If we don't have any hooks, we want to skip the rest of the logic in\u001b[39;00m\n\u001b[1;32m   1523\u001b[0m \u001b[38;5;66;03m# this function, and just call forward.\u001b[39;00m\n\u001b[1;32m   1524\u001b[0m \u001b[38;5;28;01mif\u001b[39;00m \u001b[38;5;129;01mnot\u001b[39;00m (\u001b[38;5;28mself\u001b[39m\u001b[38;5;241m.\u001b[39m_backward_hooks \u001b[38;5;129;01mor\u001b[39;00m \u001b[38;5;28mself\u001b[39m\u001b[38;5;241m.\u001b[39m_backward_pre_hooks \u001b[38;5;129;01mor\u001b[39;00m \u001b[38;5;28mself\u001b[39m\u001b[38;5;241m.\u001b[39m_forward_hooks \u001b[38;5;129;01mor\u001b[39;00m \u001b[38;5;28mself\u001b[39m\u001b[38;5;241m.\u001b[39m_forward_pre_hooks\n\u001b[1;32m   1525\u001b[0m         \u001b[38;5;129;01mor\u001b[39;00m _global_backward_pre_hooks \u001b[38;5;129;01mor\u001b[39;00m _global_backward_hooks\n\u001b[1;32m   1526\u001b[0m         \u001b[38;5;129;01mor\u001b[39;00m _global_forward_hooks \u001b[38;5;129;01mor\u001b[39;00m _global_forward_pre_hooks):\n\u001b[0;32m-> 1527\u001b[0m     \u001b[38;5;28;01mreturn\u001b[39;00m forward_call(\u001b[38;5;241m*\u001b[39margs, \u001b[38;5;241m*\u001b[39m\u001b[38;5;241m*\u001b[39mkwargs)\n\u001b[1;32m   1529\u001b[0m \u001b[38;5;28;01mtry\u001b[39;00m:\n\u001b[1;32m   1530\u001b[0m     result \u001b[38;5;241m=\u001b[39m \u001b[38;5;28;01mNone\u001b[39;00m\n",
      "File \u001b[0;32m~/anaconda3/lib/python3.11/site-packages/transformers/models/bert/modeling_bert.py:1360\u001b[0m, in \u001b[0;36mBertForMaskedLM.forward\u001b[0;34m(self, input_ids, attention_mask, token_type_ids, position_ids, head_mask, inputs_embeds, encoder_hidden_states, encoder_attention_mask, labels, output_attentions, output_hidden_states, return_dict)\u001b[0m\n\u001b[1;32m   1351\u001b[0m \u001b[38;5;250m\u001b[39m\u001b[38;5;124mr\u001b[39m\u001b[38;5;124;03m\"\"\"\u001b[39;00m\n\u001b[1;32m   1352\u001b[0m \u001b[38;5;124;03mlabels (`torch.LongTensor` of shape `(batch_size, sequence_length)`, *optional*):\u001b[39;00m\n\u001b[1;32m   1353\u001b[0m \u001b[38;5;124;03m    Labels for computing the masked language modeling loss. Indices should be in `[-100, 0, ...,\u001b[39;00m\n\u001b[1;32m   1354\u001b[0m \u001b[38;5;124;03m    config.vocab_size]` (see `input_ids` docstring) Tokens with indices set to `-100` are ignored (masked), the\u001b[39;00m\n\u001b[1;32m   1355\u001b[0m \u001b[38;5;124;03m    loss is only computed for the tokens with labels in `[0, ..., config.vocab_size]`\u001b[39;00m\n\u001b[1;32m   1356\u001b[0m \u001b[38;5;124;03m\"\"\"\u001b[39;00m\n\u001b[1;32m   1358\u001b[0m return_dict \u001b[38;5;241m=\u001b[39m return_dict \u001b[38;5;28;01mif\u001b[39;00m return_dict \u001b[38;5;129;01mis\u001b[39;00m \u001b[38;5;129;01mnot\u001b[39;00m \u001b[38;5;28;01mNone\u001b[39;00m \u001b[38;5;28;01melse\u001b[39;00m \u001b[38;5;28mself\u001b[39m\u001b[38;5;241m.\u001b[39mconfig\u001b[38;5;241m.\u001b[39muse_return_dict\n\u001b[0;32m-> 1360\u001b[0m outputs \u001b[38;5;241m=\u001b[39m \u001b[38;5;28mself\u001b[39m\u001b[38;5;241m.\u001b[39mbert(\n\u001b[1;32m   1361\u001b[0m     input_ids,\n\u001b[1;32m   1362\u001b[0m     attention_mask\u001b[38;5;241m=\u001b[39mattention_mask,\n\u001b[1;32m   1363\u001b[0m     token_type_ids\u001b[38;5;241m=\u001b[39mtoken_type_ids,\n\u001b[1;32m   1364\u001b[0m     position_ids\u001b[38;5;241m=\u001b[39mposition_ids,\n\u001b[1;32m   1365\u001b[0m     head_mask\u001b[38;5;241m=\u001b[39mhead_mask,\n\u001b[1;32m   1366\u001b[0m     inputs_embeds\u001b[38;5;241m=\u001b[39minputs_embeds,\n\u001b[1;32m   1367\u001b[0m     encoder_hidden_states\u001b[38;5;241m=\u001b[39mencoder_hidden_states,\n\u001b[1;32m   1368\u001b[0m     encoder_attention_mask\u001b[38;5;241m=\u001b[39mencoder_attention_mask,\n\u001b[1;32m   1369\u001b[0m     output_attentions\u001b[38;5;241m=\u001b[39moutput_attentions,\n\u001b[1;32m   1370\u001b[0m     output_hidden_states\u001b[38;5;241m=\u001b[39moutput_hidden_states,\n\u001b[1;32m   1371\u001b[0m     return_dict\u001b[38;5;241m=\u001b[39mreturn_dict,\n\u001b[1;32m   1372\u001b[0m )\n\u001b[1;32m   1374\u001b[0m sequence_output \u001b[38;5;241m=\u001b[39m outputs[\u001b[38;5;241m0\u001b[39m]\n\u001b[1;32m   1375\u001b[0m prediction_scores \u001b[38;5;241m=\u001b[39m \u001b[38;5;28mself\u001b[39m\u001b[38;5;241m.\u001b[39mcls(sequence_output)\n",
      "File \u001b[0;32m~/anaconda3/lib/python3.11/site-packages/torch/nn/modules/module.py:1518\u001b[0m, in \u001b[0;36mModule._wrapped_call_impl\u001b[0;34m(self, *args, **kwargs)\u001b[0m\n\u001b[1;32m   1516\u001b[0m     \u001b[38;5;28;01mreturn\u001b[39;00m \u001b[38;5;28mself\u001b[39m\u001b[38;5;241m.\u001b[39m_compiled_call_impl(\u001b[38;5;241m*\u001b[39margs, \u001b[38;5;241m*\u001b[39m\u001b[38;5;241m*\u001b[39mkwargs)  \u001b[38;5;66;03m# type: ignore[misc]\u001b[39;00m\n\u001b[1;32m   1517\u001b[0m \u001b[38;5;28;01melse\u001b[39;00m:\n\u001b[0;32m-> 1518\u001b[0m     \u001b[38;5;28;01mreturn\u001b[39;00m \u001b[38;5;28mself\u001b[39m\u001b[38;5;241m.\u001b[39m_call_impl(\u001b[38;5;241m*\u001b[39margs, \u001b[38;5;241m*\u001b[39m\u001b[38;5;241m*\u001b[39mkwargs)\n",
      "File \u001b[0;32m~/anaconda3/lib/python3.11/site-packages/torch/nn/modules/module.py:1527\u001b[0m, in \u001b[0;36mModule._call_impl\u001b[0;34m(self, *args, **kwargs)\u001b[0m\n\u001b[1;32m   1522\u001b[0m \u001b[38;5;66;03m# If we don't have any hooks, we want to skip the rest of the logic in\u001b[39;00m\n\u001b[1;32m   1523\u001b[0m \u001b[38;5;66;03m# this function, and just call forward.\u001b[39;00m\n\u001b[1;32m   1524\u001b[0m \u001b[38;5;28;01mif\u001b[39;00m \u001b[38;5;129;01mnot\u001b[39;00m (\u001b[38;5;28mself\u001b[39m\u001b[38;5;241m.\u001b[39m_backward_hooks \u001b[38;5;129;01mor\u001b[39;00m \u001b[38;5;28mself\u001b[39m\u001b[38;5;241m.\u001b[39m_backward_pre_hooks \u001b[38;5;129;01mor\u001b[39;00m \u001b[38;5;28mself\u001b[39m\u001b[38;5;241m.\u001b[39m_forward_hooks \u001b[38;5;129;01mor\u001b[39;00m \u001b[38;5;28mself\u001b[39m\u001b[38;5;241m.\u001b[39m_forward_pre_hooks\n\u001b[1;32m   1525\u001b[0m         \u001b[38;5;129;01mor\u001b[39;00m _global_backward_pre_hooks \u001b[38;5;129;01mor\u001b[39;00m _global_backward_hooks\n\u001b[1;32m   1526\u001b[0m         \u001b[38;5;129;01mor\u001b[39;00m _global_forward_hooks \u001b[38;5;129;01mor\u001b[39;00m _global_forward_pre_hooks):\n\u001b[0;32m-> 1527\u001b[0m     \u001b[38;5;28;01mreturn\u001b[39;00m forward_call(\u001b[38;5;241m*\u001b[39margs, \u001b[38;5;241m*\u001b[39m\u001b[38;5;241m*\u001b[39mkwargs)\n\u001b[1;32m   1529\u001b[0m \u001b[38;5;28;01mtry\u001b[39;00m:\n\u001b[1;32m   1530\u001b[0m     result \u001b[38;5;241m=\u001b[39m \u001b[38;5;28;01mNone\u001b[39;00m\n",
      "File \u001b[0;32m~/anaconda3/lib/python3.11/site-packages/transformers/models/bert/modeling_bert.py:979\u001b[0m, in \u001b[0;36mBertModel.forward\u001b[0;34m(self, input_ids, attention_mask, token_type_ids, position_ids, head_mask, inputs_embeds, encoder_hidden_states, encoder_attention_mask, past_key_values, use_cache, output_attentions, output_hidden_states, return_dict)\u001b[0m\n\u001b[1;32m    977\u001b[0m \u001b[38;5;28;01mif\u001b[39;00m \u001b[38;5;28mhasattr\u001b[39m(\u001b[38;5;28mself\u001b[39m\u001b[38;5;241m.\u001b[39membeddings, \u001b[38;5;124m\"\u001b[39m\u001b[38;5;124mtoken_type_ids\u001b[39m\u001b[38;5;124m\"\u001b[39m):\n\u001b[1;32m    978\u001b[0m     buffered_token_type_ids \u001b[38;5;241m=\u001b[39m \u001b[38;5;28mself\u001b[39m\u001b[38;5;241m.\u001b[39membeddings\u001b[38;5;241m.\u001b[39mtoken_type_ids[:, :seq_length]\n\u001b[0;32m--> 979\u001b[0m     buffered_token_type_ids_expanded \u001b[38;5;241m=\u001b[39m buffered_token_type_ids\u001b[38;5;241m.\u001b[39mexpand(batch_size, seq_length)\n\u001b[1;32m    980\u001b[0m     token_type_ids \u001b[38;5;241m=\u001b[39m buffered_token_type_ids_expanded\n\u001b[1;32m    981\u001b[0m \u001b[38;5;28;01melse\u001b[39;00m:\n",
      "\u001b[0;31mRuntimeError\u001b[0m: The expanded size of the tensor (8624) must match the existing size (512) at non-singleton dimension 1.  Target sizes: [1, 8624].  Tensor sizes: [1, 512]"
     ]
    }
   ],
   "source": [
    "from transformers import BertTokenizer, BertForMaskedLM\n",
    "import torch\n",
    "\n",
    "# 加载预训练的BERT模型和分词器\n",
    "model_name = 'bert-base-uncased'\n",
    "tokenizer = BertTokenizer.from_pretrained(model_name)\n",
    "model = BertForMaskedLM.from_pretrained(model_name)\n",
    "\n",
    "# 载入你的PDF文本，假设存储在变量pdf_text中\n",
    "pdf_text = raw_text\n",
    "\n",
    "# 对文本进行分词和编码\n",
    "input_text = \"[CLS] \" + pdf_text + \" [SEP]\"  # 添加CLS和SEP标记\n",
    "input_ids = tokenizer.encode(input_text, add_special_tokens=False, return_tensors='pt')\n",
    "\n",
    "# 设置要提取的关键词数量\n",
    "num_keywords = 15\n",
    "\n",
    "# 初始化一个空的关键词列表\n",
    "keywords = []\n",
    "\n",
    "# 遍历文本中的每个词语\n",
    "for token_id in input_ids[0]:\n",
    "    token = tokenizer.decode(token_id.item())  # 将token_id解码成文本\n",
    "    masked_text = input_text.replace(tokenizer.mask_token, token)  # 替换[MASK]标记为当前词语\n",
    "    masked_input = tokenizer.encode(masked_text, add_special_tokens=False, return_tensors='pt')  # 重新编码带有替换词语的文本\n",
    "    with torch.no_grad():\n",
    "        outputs = model(masked_input)\n",
    "        predictions = outputs.logits\n",
    "    \n",
    "    # 获取当前词语的预测分数\n",
    "    token_index = masked_input[0].tolist().index(tokenizer.mask_token_id)\n",
    "    token_score = predictions[0, token_index, :].numpy()\n",
    "    \n",
    "    # 使用平均分数作为关键词的重要性分数\n",
    "    keyword_score = token_score.mean()\n",
    "    \n",
    "    # 将关键词和其分数添加到列表中\n",
    "    keywords.append((token, keyword_score))\n",
    "\n",
    "# 按关键词分数降序排序\n",
    "keywords.sort(key=lambda x: x[1], reverse=True)\n",
    "\n",
    "# 提取前num_keywords个关键词\n",
    "top_keywords = [kw[0] for kw in keywords[:num_keywords]]\n",
    "\n",
    "# 打印提取的关键词\n",
    "for keyword in top_keywords:\n",
    "    print(keyword)\n"
   ]
  },
  {
   "cell_type": "markdown",
   "id": "8a992f9f-86e7-409a-a8e9-f62f35e0a8dc",
   "metadata": {},
   "source": [
    "### BoW - keywords"
   ]
  },
  {
   "cell_type": "code",
   "execution_count": 9,
   "id": "e066520b-f3f5-4527-82ff-0a1cb80a05ee",
   "metadata": {},
   "outputs": [
    {
     "name": "stdout",
     "output_type": "stream",
     "text": [
      "Document 1 Keywords: ['exercise', 'depression', 'review', 'studies', 'intensity', 'aerobic', 'al', 'et', 'treatment', 'interventions', 'duration', 'group', 'program', 'min', 'intervention']\n"
     ]
    }
   ],
   "source": [
    "from sklearn.feature_extraction.text import CountVectorizer, TfidfTransformer\n",
    "\n",
    "# 示例文本\n",
    "documents = [raw_text]\n",
    "\n",
    "# 步骤1: 预处理文本（在这里我们使用CountVectorizer来简化预处理步骤）\n",
    "vectorizer = CountVectorizer(stop_words='english')\n",
    "\n",
    "# 步骤2和步骤3: 创建词汇表并向量化文本\n",
    "word_count_vector = vectorizer.fit_transform(documents)\n",
    "\n",
    "# 步骤4: 使用TF-IDF来确定文本中词的权重\n",
    "tfidf_transformer = TfidfTransformer(smooth_idf=True, use_idf=True)\n",
    "tfidf_transformer.fit(word_count_vector)\n",
    "tf_idf_vector = tfidf_transformer.transform(word_count_vector)\n",
    "\n",
    "# 获取关键字\n",
    "feature_names = vectorizer.get_feature_names_out()\n",
    "for doc_idx in range(len(documents)):\n",
    "    doc_vector = tf_idf_vector[doc_idx]\n",
    "    sorted_items = sorted(zip(feature_names, doc_vector.toarray().flatten()), key=lambda x: x[1], reverse=True)\n",
    "    keywords = [item[0] for item in sorted_items[:15]]  # 提取前3个关键字\n",
    "    print(f\"Document {doc_idx + 1} Keywords: {keywords}\")\n"
   ]
  },
  {
   "cell_type": "markdown",
   "id": "c12aee75-7388-4c00-bee5-39b91231184c",
   "metadata": {},
   "source": [
    "### keyword - wordcloud"
   ]
  },
  {
   "cell_type": "code",
   "execution_count": 364,
   "id": "bae6e259-f0fb-4059-b01f-08c4a7ca3a0a",
   "metadata": {},
   "outputs": [
    {
     "data": {
      "text/plain": [
       "<Figure size 500x500 with 0 Axes>"
      ]
     },
     "execution_count": 364,
     "metadata": {},
     "output_type": "execute_result"
    },
    {
     "data": {
      "text/plain": [
       "<matplotlib.image.AxesImage at 0x292ee4650>"
      ]
     },
     "execution_count": 364,
     "metadata": {},
     "output_type": "execute_result"
    },
    {
     "data": {
      "text/plain": [
       "(-0.5, 499.5, 199.5, -0.5)"
      ]
     },
     "execution_count": 364,
     "metadata": {},
     "output_type": "execute_result"
    },
    {
     "data": {
      "image/png": "[encoded data removed]",
      "text/plain": [
       "<Figure size 500x500 with 1 Axes>"
      ]
     },
     "metadata": {},
     "output_type": "display_data"
    }
   ],
   "source": [
    "import matplotlib.pyplot as plt\n",
    "from wordcloud import WordCloud, STOPWORDS\n",
    "\n",
    "# list ->string\n",
    "keywords = textrank_keywords_result[:30]\n",
    "my_string = ' '.join(keywords[:30])\n",
    "\n",
    "# summary 应该是一个字符串，包含了所有要显示在词云中的文本\n",
    "# 创建 WordCloud 对象\n",
    "wordcloud = WordCloud(\n",
    "                width = 500, height = 200, \n",
    "                background_color ='black', \n",
    "                # stopwords = stopwords, \n",
    "                min_font_size = 10\n",
    "            ).generate(my_string)  # <wordcloud.wordcloud.WordCloud at 0x1673575d0> 是一个对象\n",
    "\n",
    "\n",
    "# 使用 matplotlib 显示词云\n",
    "plt.figure(figsize = (5, 5), facecolor = 'k', edgecolor = 'k' )  # plt.figure(figsize=(75, 50), facecolor=None)\n",
    "plt.imshow(wordcloud)  # plt.imshow(wordcloud, interpolation=\"bilinear\")\n",
    "plt.axis(\"off\")\n",
    "plt.tight_layout(pad=0)\n",
    "\n",
    "# 显示图形\n",
    "plt.show()\n",
    "\n"
   ]
  },
  {
   "cell_type": "code",
   "execution_count": 162,
   "id": "4eb2b89d-ff90-46c8-b0c0-5d7b17425d56",
   "metadata": {},
   "outputs": [
    {
     "ename": "TypeError",
     "evalue": "'function' object is not iterable",
     "output_type": "error",
     "traceback": [
      "\u001b[0;31m---------------------------------------------------------------------------\u001b[0m",
      "\u001b[0;31mTypeError\u001b[0m                                 Traceback (most recent call last)",
      "Cell \u001b[0;32mIn[162], line 16\u001b[0m\n\u001b[1;32m     14\u001b[0m     venn2([paper_keywords, gensim_keywords], (\u001b[38;5;124m'\u001b[39m\u001b[38;5;124mPaper\u001b[39m\u001b[38;5;124m'\u001b[39m, \u001b[38;5;124m'\u001b[39m\u001b[38;5;124mgensim\u001b[39m\u001b[38;5;124m'\u001b[39m))\n\u001b[1;32m     15\u001b[0m     plt\u001b[38;5;241m.\u001b[39mshow()\n\u001b[0;32m---> 16\u001b[0m compare(\u001b[38;5;28mset\u001b[39m(keywords))\n",
      "\u001b[0;31mTypeError\u001b[0m: 'function' object is not iterable"
     ]
    }
   ],
   "source": [
    "# from matplotlib_venn import venn2 # !pip install matplotlib_venn\n",
    "# def compare(gensim_keywords):\n",
    "#     # 假设这是通过gensim和PyTextRank提取的关键词集合\n",
    "#     # paper_keywords = set(\n",
    "#     #     ['Depressive disorder', 'Clinical depression', 'Aerobic exercise', 'Randomized controlled trials',\n",
    "#     #      'Exercise training'])\n",
    "#     paper_keywords = set(\n",
    "#     ['life stress', 'major depression', 'recurrence', 'recurrent depression', 'stress sensitization', 'dual pathway models'])\n",
    "#     # pytextrank_kewords = set(\n",
    "#     #     ['First episode major depression', 'Monroe et al', 'recurrent depression', 'many recurrences', 'et al',\n",
    "#     #      'defining recurrences', 'recurrence predictors', 'recurrence risk', 'RECURRENCES', 'recurrence'])\n",
    "\n",
    "#     # 创建Venn图\n",
    "#     venn2([paper_keywords, gensim_keywords], ('Paper', 'gensim'))\n",
    "#     plt.show()\n",
    "# compare(set(keywords))"
   ]
  },
  {
   "cell_type": "markdown",
   "id": "2d6b4fe8-ccba-469d-93b9-872f4e278304",
   "metadata": {},
   "source": [
    "---"
   ]
  },
  {
   "cell_type": "code",
   "execution_count": 170,
   "id": "661fbe32-d68c-43c7-b1de-ccab8b0ca7e9",
   "metadata": {},
   "outputs": [
    {
     "name": "stdout",
     "output_type": "stream",
     "text": [
      "                                                text\n",
      "0  [recurrent, depressions, episode, disord, clin...\n"
     ]
    }
   ],
   "source": [
    "import pandas as pd\n",
    "\n",
    "\n",
    "# 创建一个包含提取文本的DataFrame\n",
    "df = pd.DataFrame({'text': [textrank_keywords_result]})\n",
    "\n",
    "# 打印DataFrame的前几行\n",
    "print(df.head())\n"
   ]
  },
  {
   "cell_type": "code",
   "execution_count": 174,
   "id": "1c6cdd0d-23aa-446a-bf40-ef904908e22b",
   "metadata": {},
   "outputs": [
    {
     "data": {
      "text/html": [
       "<div>\n",
       "<style scoped>\n",
       "    .dataframe tbody tr th:only-of-type {\n",
       "        vertical-align: middle;\n",
       "    }\n",
       "\n",
       "    .dataframe tbody tr th {\n",
       "        vertical-align: top;\n",
       "    }\n",
       "\n",
       "    .dataframe thead th {\n",
       "        text-align: right;\n",
       "    }\n",
       "</style>\n",
       "<table border=\"1\" class=\"dataframe\">\n",
       "  <thead>\n",
       "    <tr style=\"text-align: right;\">\n",
       "      <th></th>\n",
       "      <th>text</th>\n",
       "    </tr>\n",
       "  </thead>\n",
       "  <tbody>\n",
       "    <tr>\n",
       "      <th>0</th>\n",
       "      <td>recurrent</td>\n",
       "    </tr>\n",
       "    <tr>\n",
       "      <th>1</th>\n",
       "      <td>depressions</td>\n",
       "    </tr>\n",
       "    <tr>\n",
       "      <th>2</th>\n",
       "      <td>episode</td>\n",
       "    </tr>\n",
       "    <tr>\n",
       "      <th>3</th>\n",
       "      <td>disord</td>\n",
       "    </tr>\n",
       "    <tr>\n",
       "      <th>4</th>\n",
       "      <td>clinically</td>\n",
       "    </tr>\n",
       "  </tbody>\n",
       "</table>\n",
       "</div>"
      ],
      "text/plain": [
       "          text\n",
       "0    recurrent\n",
       "1  depressions\n",
       "2      episode\n",
       "3       disord\n",
       "4   clinically"
      ]
     },
     "execution_count": 174,
     "metadata": {},
     "output_type": "execute_result"
    }
   ],
   "source": [
    "# 将列表转换为 DataFrame\n",
    "df = pd.DataFrame(textrank_keywords_result, columns=['text'])\n",
    "df.head()"
   ]
  },
  {
   "cell_type": "code",
   "execution_count": 169,
   "id": "ba35951e-cd04-45e5-9b6a-43eda53cdcbe",
   "metadata": {},
   "outputs": [
    {
     "name": "stdout",
     "output_type": "stream",
     "text": [
      "                                                   text\n",
      "0     Annual Review of Clinical Psychology\\nMajor De...\n",
      "1                              University of Notre Dame\n",
      "2                                            Notre Dame\n",
      "3                                               Indiana\n",
      "4      USA;\\nemail: smonroe1@nd.edu\\n2Department of ...\n",
      "...                                                 ...\n",
      "1100   and Affect in Depression: Insights from the T...\n",
      "1101                                 Christiana Westlin\n",
      "1102                                   Karen S. Quigley\n",
      "1103                           Susan Whitfield-Gabrieli\n",
      "1104  \\nand Lisa Feldman Barrett p p p p p p p p p p...\n",
      "\n",
      "[1105 rows x 1 columns]\n"
     ]
    }
   ],
   "source": [
    "# 拆分文本-dataframe： 如果文本非常长，可能会对内存造成压力，因此要确保你的计算机具有足够的内存来处理这个数据 - 考虑分割文本或其他来处理\n",
    "\n",
    "import pandas as pd\n",
    "\n",
    "splited_raw_text = raw_text.split('\\n') # 将文本按换行符分割成多个段落\n",
    "\n",
    "\n",
    "df = pd.DataFrame({'text': splited_raw_text}) # 创建一个包含多个段落的DataFrame\n",
    "\n",
    "\n",
    "print(df) # 打印 DataFrame的内容\n"
   ]
  },
  {
   "cell_type": "code",
   "execution_count": 175,
   "id": "84e117af-81ab-4f2b-89c7-a8d0ed885d5f",
   "metadata": {},
   "outputs": [],
   "source": [
    "import numpy as np\n",
    "import pandas as pd\n",
    "import re\n",
    "import nltk\n",
    "import spacy\n",
    "import string\n",
    "pd.options.mode.chained_assignment = None"
   ]
  },
  {
   "cell_type": "code",
   "execution_count": 176,
   "id": "3c026fb8-bc13-4f65-8613-a8b685d74b3a",
   "metadata": {},
   "outputs": [
    {
     "data": {
      "text/html": [
       "<div>\n",
       "<style scoped>\n",
       "    .dataframe tbody tr th:only-of-type {\n",
       "        vertical-align: middle;\n",
       "    }\n",
       "\n",
       "    .dataframe tbody tr th {\n",
       "        vertical-align: top;\n",
       "    }\n",
       "\n",
       "    .dataframe thead th {\n",
       "        text-align: right;\n",
       "    }\n",
       "</style>\n",
       "<table border=\"1\" class=\"dataframe\">\n",
       "  <thead>\n",
       "    <tr style=\"text-align: right;\">\n",
       "      <th></th>\n",
       "      <th>text</th>\n",
       "    </tr>\n",
       "  </thead>\n",
       "  <tbody>\n",
       "    <tr>\n",
       "      <th>0</th>\n",
       "      <td>recurrent</td>\n",
       "    </tr>\n",
       "    <tr>\n",
       "      <th>1</th>\n",
       "      <td>depressions</td>\n",
       "    </tr>\n",
       "    <tr>\n",
       "      <th>2</th>\n",
       "      <td>episode</td>\n",
       "    </tr>\n",
       "    <tr>\n",
       "      <th>3</th>\n",
       "      <td>disord</td>\n",
       "    </tr>\n",
       "    <tr>\n",
       "      <th>4</th>\n",
       "      <td>clinically</td>\n",
       "    </tr>\n",
       "  </tbody>\n",
       "</table>\n",
       "</div>"
      ],
      "text/plain": [
       "          text\n",
       "0    recurrent\n",
       "1  depressions\n",
       "2      episode\n",
       "3       disord\n",
       "4   clinically"
      ]
     },
     "execution_count": 176,
     "metadata": {},
     "output_type": "execute_result"
    }
   ],
   "source": [
    "\n",
    "\n",
    "def remove_urls(text):\n",
    "    url_pattern = re.compile(r'https?://\\S+|www\\.\\S+')\n",
    "    return url_pattern.sub(r'', text)\n",
    "# remove_urls(df[0])\n",
    "# df.head()\n",
    "\n",
    "df['text'] = df['text'].apply(remove_urls)\n",
    "df[\"text\"] = df[\"text\"].str.lower()\n",
    "df.head()"
   ]
  },
  {
   "cell_type": "code",
   "execution_count": 180,
   "id": "2e1c2778-81ea-4272-bfd3-4e7787861924",
   "metadata": {},
   "outputs": [
    {
     "data": {
      "text/html": [
       "<div>\n",
       "<style scoped>\n",
       "    .dataframe tbody tr th:only-of-type {\n",
       "        vertical-align: middle;\n",
       "    }\n",
       "\n",
       "    .dataframe tbody tr th {\n",
       "        vertical-align: top;\n",
       "    }\n",
       "\n",
       "    .dataframe thead th {\n",
       "        text-align: right;\n",
       "    }\n",
       "</style>\n",
       "<table border=\"1\" class=\"dataframe\">\n",
       "  <thead>\n",
       "    <tr style=\"text-align: right;\">\n",
       "      <th></th>\n",
       "      <th>text</th>\n",
       "    </tr>\n",
       "  </thead>\n",
       "  <tbody>\n",
       "    <tr>\n",
       "      <th>0</th>\n",
       "      <td>recurrent</td>\n",
       "    </tr>\n",
       "    <tr>\n",
       "      <th>1</th>\n",
       "      <td>depressions</td>\n",
       "    </tr>\n",
       "    <tr>\n",
       "      <th>2</th>\n",
       "      <td>episode</td>\n",
       "    </tr>\n",
       "    <tr>\n",
       "      <th>3</th>\n",
       "      <td>disord</td>\n",
       "    </tr>\n",
       "    <tr>\n",
       "      <th>4</th>\n",
       "      <td>clinically</td>\n",
       "    </tr>\n",
       "  </tbody>\n",
       "</table>\n",
       "</div>"
      ],
      "text/plain": [
       "          text\n",
       "0    recurrent\n",
       "1  depressions\n",
       "2      episode\n",
       "3       disord\n",
       "4   clinically"
      ]
     },
     "execution_count": 180,
     "metadata": {},
     "output_type": "execute_result"
    }
   ],
   "source": [
    "PUNCT_TO_REMOVE = string.punctuation\n",
    "\n",
    "# 添加自定义的标点符号或字符 Add\n",
    "custom_punctuations = '©•'\n",
    "PUNCT_TO_REMOVE += custom_punctuations  # 将它们添加到标点字符串中\n",
    "\n",
    "def remove_punctuation(text):\n",
    "    \"\"\"custom function to remove the punctuation\"\"\"\n",
    "    return text.translate(str.maketrans('', '', PUNCT_TO_REMOVE))\n",
    "\n",
    "\n",
    "\n",
    "df[\"text\"] = df[\"text\"].apply(lambda text: remove_punctuation(text))\n",
    "df.head()"
   ]
  },
  {
   "cell_type": "code",
   "execution_count": 184,
   "id": "49d7d467-fe1f-4842-859b-2ddd5b06a3d2",
   "metadata": {},
   "outputs": [
    {
     "data": {
      "text/html": [
       "<div>\n",
       "<style scoped>\n",
       "    .dataframe tbody tr th:only-of-type {\n",
       "        vertical-align: middle;\n",
       "    }\n",
       "\n",
       "    .dataframe tbody tr th {\n",
       "        vertical-align: top;\n",
       "    }\n",
       "\n",
       "    .dataframe thead th {\n",
       "        text-align: right;\n",
       "    }\n",
       "</style>\n",
       "<table border=\"1\" class=\"dataframe\">\n",
       "  <thead>\n",
       "    <tr style=\"text-align: right;\">\n",
       "      <th></th>\n",
       "      <th>text</th>\n",
       "    </tr>\n",
       "  </thead>\n",
       "  <tbody>\n",
       "    <tr>\n",
       "      <th>0</th>\n",
       "      <td>recurrent</td>\n",
       "    </tr>\n",
       "    <tr>\n",
       "      <th>1</th>\n",
       "      <td>depressions</td>\n",
       "    </tr>\n",
       "    <tr>\n",
       "      <th>2</th>\n",
       "      <td>episode</td>\n",
       "    </tr>\n",
       "    <tr>\n",
       "      <th>3</th>\n",
       "      <td>disord</td>\n",
       "    </tr>\n",
       "    <tr>\n",
       "      <th>4</th>\n",
       "      <td>clinically</td>\n",
       "    </tr>\n",
       "    <tr>\n",
       "      <th>5</th>\n",
       "      <td>monroe</td>\n",
       "    </tr>\n",
       "    <tr>\n",
       "      <th>6</th>\n",
       "      <td>research</td>\n",
       "    </tr>\n",
       "    <tr>\n",
       "      <th>7</th>\n",
       "      <td>definiteness</td>\n",
       "    </tr>\n",
       "    <tr>\n",
       "      <th>8</th>\n",
       "      <td>studying</td>\n",
       "    </tr>\n",
       "    <tr>\n",
       "      <th>9</th>\n",
       "      <td>psychol</td>\n",
       "    </tr>\n",
       "    <tr>\n",
       "      <th>10</th>\n",
       "      <td>stressful</td>\n",
       "    </tr>\n",
       "    <tr>\n",
       "      <th>11</th>\n",
       "      <td>psychiatry</td>\n",
       "    </tr>\n",
       "    <tr>\n",
       "      <th>12</th>\n",
       "      <td>bases</td>\n",
       "    </tr>\n",
       "    <tr>\n",
       "      <th>13</th>\n",
       "      <td>empirically</td>\n",
       "    </tr>\n",
       "    <tr>\n",
       "      <th>14</th>\n",
       "      <td>following</td>\n",
       "    </tr>\n",
       "  </tbody>\n",
       "</table>\n",
       "</div>"
      ],
      "text/plain": [
       "            text\n",
       "0      recurrent\n",
       "1    depressions\n",
       "2        episode\n",
       "3         disord\n",
       "4     clinically\n",
       "5         monroe\n",
       "6       research\n",
       "7   definiteness\n",
       "8       studying\n",
       "9        psychol\n",
       "10     stressful\n",
       "11    psychiatry\n",
       "12         bases\n",
       "13   empirically\n",
       "14     following"
      ]
     },
     "execution_count": 184,
     "metadata": {},
     "output_type": "execute_result"
    }
   ],
   "source": [
    "STOPWORDS = set(stopwords.words('english'))\n",
    "\n",
    "# 添加自定义停用词 Add\n",
    "custom_stopwords = {'et al.', 'first', 'case', 'one','http','https'}  # 可以根据需要添加更多\n",
    "STOPWORDS.update(custom_stopwords)\n",
    "                 \n",
    "def remove_stopwords(text):\n",
    "    \"\"\"custom function to remove the stopwords\"\"\"\n",
    "    return \" \".join([word for word in str(text).split() if word not in STOPWORDS])\n",
    "\n",
    "df[\"text\"] = df[\"text\"].apply(lambda text: remove_stopwords(text))\n",
    "df.head(15)"
   ]
  },
  {
   "cell_type": "code",
   "execution_count": 179,
   "id": "6361e68b-9a6c-447b-a6c0-2b919b44fcef",
   "metadata": {},
   "outputs": [
    {
     "data": {
      "text/plain": [
       "[('recurrent', 1),\n",
       " ('depressions', 1),\n",
       " ('episode', 1),\n",
       " ('disord', 1),\n",
       " ('clinically', 1),\n",
       " ('monroe', 1),\n",
       " ('research', 1),\n",
       " ('definiteness', 1),\n",
       " ('studying', 1),\n",
       " ('psychol', 1),\n",
       " ('stressful', 1),\n",
       " ('psychiatry', 1),\n",
       " ('bases', 1),\n",
       " ('empirically', 1),\n",
       " ('following', 1),\n",
       " ('org', 1),\n",
       " ('majority', 1),\n",
       " ('http', 1),\n",
       " ('theory', 1),\n",
       " ('cases', 1)]"
      ]
     },
     "execution_count": 179,
     "metadata": {},
     "output_type": "execute_result"
    }
   ],
   "source": [
    "from collections import Counter\n",
    "cnt = Counter()\n",
    "for text in df[\"text\"].values:\n",
    "    for word in text.split():\n",
    "        cnt[word] += 1\n",
    "        \n",
    "cnt.most_common(20)"
   ]
  },
  {
   "cell_type": "code",
   "execution_count": 99,
   "id": "50dc6f36-b68d-4098-ae1a-9b58d5fadce6",
   "metadata": {},
   "outputs": [
    {
     "data": {
      "text/html": [
       "<div>\n",
       "<style scoped>\n",
       "    .dataframe tbody tr th:only-of-type {\n",
       "        vertical-align: middle;\n",
       "    }\n",
       "\n",
       "    .dataframe tbody tr th {\n",
       "        vertical-align: top;\n",
       "    }\n",
       "\n",
       "    .dataframe thead th {\n",
       "        text-align: right;\n",
       "    }\n",
       "</style>\n",
       "<table border=\"1\" class=\"dataframe\">\n",
       "  <thead>\n",
       "    <tr style=\"text-align: right;\">\n",
       "      <th></th>\n",
       "      <th>text</th>\n",
       "    </tr>\n",
       "  </thead>\n",
       "  <tbody>\n",
       "    <tr>\n",
       "      <th>0</th>\n",
       "      <td>annual review clinical psychology course matte...</td>\n",
       "    </tr>\n",
       "  </tbody>\n",
       "</table>\n",
       "</div>"
      ],
      "text/plain": [
       "                                                text\n",
       "0  annual review clinical psychology course matte..."
      ]
     },
     "execution_count": 99,
     "metadata": {},
     "output_type": "execute_result"
    }
   ],
   "source": [
    "FREQWORDS = set([w for (w, wc) in cnt.most_common(10)])\n",
    "def remove_freqwords(text):\n",
    "    \"\"\"custom function to remove the frequent words\"\"\"\n",
    "    return \" \".join([word for word in str(text).split() if word not in FREQWORDS])\n",
    "\n",
    "df[\"text\"] = df[\"text\"].apply(lambda text: remove_freqwords(text))\n",
    "df.head()"
   ]
  },
  {
   "cell_type": "code",
   "execution_count": 186,
   "id": "0af12eab-ed5b-4e5d-a590-c12c4c3be6d4",
   "metadata": {},
   "outputs": [
    {
     "data": {
      "text/html": [
       "<div>\n",
       "<style scoped>\n",
       "    .dataframe tbody tr th:only-of-type {\n",
       "        vertical-align: middle;\n",
       "    }\n",
       "\n",
       "    .dataframe tbody tr th {\n",
       "        vertical-align: top;\n",
       "    }\n",
       "\n",
       "    .dataframe thead th {\n",
       "        text-align: right;\n",
       "    }\n",
       "</style>\n",
       "<table border=\"1\" class=\"dataframe\">\n",
       "  <thead>\n",
       "    <tr style=\"text-align: right;\">\n",
       "      <th></th>\n",
       "      <th>text</th>\n",
       "    </tr>\n",
       "  </thead>\n",
       "  <tbody>\n",
       "    <tr>\n",
       "      <th>0</th>\n",
       "      <td>recurrent</td>\n",
       "    </tr>\n",
       "    <tr>\n",
       "      <th>1</th>\n",
       "      <td>depressions</td>\n",
       "    </tr>\n",
       "    <tr>\n",
       "      <th>2</th>\n",
       "      <td>episode</td>\n",
       "    </tr>\n",
       "    <tr>\n",
       "      <th>3</th>\n",
       "      <td>disord</td>\n",
       "    </tr>\n",
       "    <tr>\n",
       "      <th>4</th>\n",
       "      <td>clinically</td>\n",
       "    </tr>\n",
       "  </tbody>\n",
       "</table>\n",
       "</div>"
      ],
      "text/plain": [
       "          text\n",
       "0    recurrent\n",
       "1  depressions\n",
       "2      episode\n",
       "3       disord\n",
       "4   clinically"
      ]
     },
     "execution_count": 186,
     "metadata": {},
     "output_type": "execute_result"
    }
   ],
   "source": [
    "\n",
    "n_rare_words = 10\n",
    "RAREWORDS = set([w for (w, wc) in cnt.most_common()[:-n_rare_words-1:-1]])\n",
    "def remove_rarewords(text):\n",
    "    \"\"\"custom function to remove the rare words\"\"\"\n",
    "    return \" \".join([word for word in str(text).split() if word not in RAREWORDS])\n",
    "\n",
    "df[\"text\"] = df[\"text\"].apply(lambda text: remove_rarewords(text))\n",
    "df.head()"
   ]
  },
  {
   "cell_type": "code",
   "execution_count": 187,
   "id": "a491ea70-2a05-44ff-bb90-32bbab328cf2",
   "metadata": {},
   "outputs": [
    {
     "data": {
      "text/html": [
       "<div>\n",
       "<style scoped>\n",
       "    .dataframe tbody tr th:only-of-type {\n",
       "        vertical-align: middle;\n",
       "    }\n",
       "\n",
       "    .dataframe tbody tr th {\n",
       "        vertical-align: top;\n",
       "    }\n",
       "\n",
       "    .dataframe thead th {\n",
       "        text-align: right;\n",
       "    }\n",
       "</style>\n",
       "<table border=\"1\" class=\"dataframe\">\n",
       "  <thead>\n",
       "    <tr style=\"text-align: right;\">\n",
       "      <th></th>\n",
       "      <th>text</th>\n",
       "    </tr>\n",
       "  </thead>\n",
       "  <tbody>\n",
       "    <tr>\n",
       "      <th>0</th>\n",
       "      <td>recurr</td>\n",
       "    </tr>\n",
       "    <tr>\n",
       "      <th>1</th>\n",
       "      <td>depress</td>\n",
       "    </tr>\n",
       "    <tr>\n",
       "      <th>2</th>\n",
       "      <td>episod</td>\n",
       "    </tr>\n",
       "    <tr>\n",
       "      <th>3</th>\n",
       "      <td>disord</td>\n",
       "    </tr>\n",
       "    <tr>\n",
       "      <th>4</th>\n",
       "      <td>clinic</td>\n",
       "    </tr>\n",
       "  </tbody>\n",
       "</table>\n",
       "</div>"
      ],
      "text/plain": [
       "      text\n",
       "0   recurr\n",
       "1  depress\n",
       "2   episod\n",
       "3   disord\n",
       "4   clinic"
      ]
     },
     "execution_count": 187,
     "metadata": {},
     "output_type": "execute_result"
    }
   ],
   "source": [
    "from nltk.stem.porter import PorterStemmer\n",
    "\n",
    "\n",
    "\n",
    "stemmer = PorterStemmer()\n",
    "def stem_words(text):\n",
    "    return \" \".join([stemmer.stem(word) for word in text.split()])\n",
    "\n",
    "df[\"text\"] = df[\"text\"].apply(lambda text: stem_words(text))\n",
    "df.head()"
   ]
  },
  {
   "cell_type": "code",
   "execution_count": 188,
   "id": "21740d17-fcad-497c-a088-2d09b11c6566",
   "metadata": {},
   "outputs": [
    {
     "data": {
      "text/html": [
       "<div>\n",
       "<style scoped>\n",
       "    .dataframe tbody tr th:only-of-type {\n",
       "        vertical-align: middle;\n",
       "    }\n",
       "\n",
       "    .dataframe tbody tr th {\n",
       "        vertical-align: top;\n",
       "    }\n",
       "\n",
       "    .dataframe thead th {\n",
       "        text-align: right;\n",
       "    }\n",
       "</style>\n",
       "<table border=\"1\" class=\"dataframe\">\n",
       "  <thead>\n",
       "    <tr style=\"text-align: right;\">\n",
       "      <th></th>\n",
       "      <th>text</th>\n",
       "    </tr>\n",
       "  </thead>\n",
       "  <tbody>\n",
       "    <tr>\n",
       "      <th>0</th>\n",
       "      <td>recurr</td>\n",
       "    </tr>\n",
       "    <tr>\n",
       "      <th>1</th>\n",
       "      <td>depress</td>\n",
       "    </tr>\n",
       "    <tr>\n",
       "      <th>2</th>\n",
       "      <td>episod</td>\n",
       "    </tr>\n",
       "    <tr>\n",
       "      <th>3</th>\n",
       "      <td>disord</td>\n",
       "    </tr>\n",
       "    <tr>\n",
       "      <th>4</th>\n",
       "      <td>clinic</td>\n",
       "    </tr>\n",
       "  </tbody>\n",
       "</table>\n",
       "</div>"
      ],
      "text/plain": [
       "      text\n",
       "0   recurr\n",
       "1  depress\n",
       "2   episod\n",
       "3   disord\n",
       "4   clinic"
      ]
     },
     "execution_count": 188,
     "metadata": {},
     "output_type": "execute_result"
    }
   ],
   "source": [
    "from nltk.stem import WordNetLemmatizer\n",
    "\n",
    "lemmatizer = WordNetLemmatizer()\n",
    "def lemmatize_words(text):\n",
    "    return \" \".join([lemmatizer.lemmatize(word) for word in text.split()])\n",
    "\n",
    "df[\"text\"] = df[\"text\"].apply(lambda text: lemmatize_words(text))\n",
    "df.head()"
   ]
  },
  {
   "cell_type": "code",
   "execution_count": 194,
   "id": "f868a674-c18e-45aa-9a21-07569ef3a660",
   "metadata": {},
   "outputs": [
    {
     "data": {
      "text/html": [
       "<div>\n",
       "<style scoped>\n",
       "    .dataframe tbody tr th:only-of-type {\n",
       "        vertical-align: middle;\n",
       "    }\n",
       "\n",
       "    .dataframe tbody tr th {\n",
       "        vertical-align: top;\n",
       "    }\n",
       "\n",
       "    .dataframe thead th {\n",
       "        text-align: right;\n",
       "    }\n",
       "</style>\n",
       "<table border=\"1\" class=\"dataframe\">\n",
       "  <thead>\n",
       "    <tr style=\"text-align: right;\">\n",
       "      <th></th>\n",
       "      <th>text</th>\n",
       "    </tr>\n",
       "  </thead>\n",
       "  <tbody>\n",
       "    <tr>\n",
       "      <th>0</th>\n",
       "      <td>recurr</td>\n",
       "    </tr>\n",
       "    <tr>\n",
       "      <th>1</th>\n",
       "      <td>depress</td>\n",
       "    </tr>\n",
       "    <tr>\n",
       "      <th>2</th>\n",
       "      <td>episod</td>\n",
       "    </tr>\n",
       "    <tr>\n",
       "      <th>3</th>\n",
       "      <td>disord</td>\n",
       "    </tr>\n",
       "    <tr>\n",
       "      <th>4</th>\n",
       "      <td>clinic</td>\n",
       "    </tr>\n",
       "    <tr>\n",
       "      <th>5</th>\n",
       "      <td>monro</td>\n",
       "    </tr>\n",
       "    <tr>\n",
       "      <th>6</th>\n",
       "      <td>research</td>\n",
       "    </tr>\n",
       "    <tr>\n",
       "      <th>7</th>\n",
       "      <td>definit</td>\n",
       "    </tr>\n",
       "    <tr>\n",
       "      <th>8</th>\n",
       "      <td>studi</td>\n",
       "    </tr>\n",
       "    <tr>\n",
       "      <th>9</th>\n",
       "      <td>psychol</td>\n",
       "    </tr>\n",
       "    <tr>\n",
       "      <th>10</th>\n",
       "      <td>stress</td>\n",
       "    </tr>\n",
       "    <tr>\n",
       "      <th>11</th>\n",
       "      <td>psychiatri</td>\n",
       "    </tr>\n",
       "    <tr>\n",
       "      <th>12</th>\n",
       "      <td>base</td>\n",
       "    </tr>\n",
       "    <tr>\n",
       "      <th>13</th>\n",
       "      <td>empir</td>\n",
       "    </tr>\n",
       "    <tr>\n",
       "      <th>14</th>\n",
       "      <td>follow</td>\n",
       "    </tr>\n",
       "    <tr>\n",
       "      <th>15</th>\n",
       "      <td>org</td>\n",
       "    </tr>\n",
       "    <tr>\n",
       "      <th>16</th>\n",
       "      <td>major</td>\n",
       "    </tr>\n",
       "    <tr>\n",
       "      <th>17</th>\n",
       "      <td></td>\n",
       "    </tr>\n",
       "    <tr>\n",
       "      <th>18</th>\n",
       "      <td>theori</td>\n",
       "    </tr>\n",
       "    <tr>\n",
       "      <th>19</th>\n",
       "      <td>case</td>\n",
       "    </tr>\n",
       "  </tbody>\n",
       "</table>\n",
       "</div>"
      ],
      "text/plain": [
       "          text\n",
       "0       recurr\n",
       "1      depress\n",
       "2       episod\n",
       "3       disord\n",
       "4       clinic\n",
       "5        monro\n",
       "6     research\n",
       "7      definit\n",
       "8        studi\n",
       "9      psychol\n",
       "10      stress\n",
       "11  psychiatri\n",
       "12        base\n",
       "13       empir\n",
       "14      follow\n",
       "15         org\n",
       "16       major\n",
       "17            \n",
       "18      theori\n",
       "19        case"
      ]
     },
     "execution_count": 194,
     "metadata": {},
     "output_type": "execute_result"
    }
   ],
   "source": [
    "def remove_html(text):\n",
    "    html_pattern = re.compile('<.*?>')\n",
    "    return html_pattern.sub(r'', text)\n",
    "\n",
    "text = \"\"\"<div>\n",
    "<h1> H2O</h1>\n",
    "<p> AutoML</p>\n",
    "<a href=\"https://www.h2o.ai/products/h2o-driverless-ai/\"> Driverless AI</a>\n",
    "</div>\"\"\"\n",
    "\n",
    "df['text'] = df['text'].apply(remove_urls)\n",
    "df.head(20)"
   ]
  },
  {
   "cell_type": "code",
   "execution_count": 191,
   "id": "a7ae8bcc-af7a-4a36-bc63-391ef654e26b",
   "metadata": {},
   "outputs": [
    {
     "name": "stdout",
     "output_type": "stream",
     "text": [
      "                           text\n",
      "0                        recurr\n",
      "1                       depress\n",
      "2                        episod\n",
      "3                        disord\n",
      "4                        clinic\n",
      "5                         monro\n",
      "6                      research\n",
      "7                       definit\n",
      "8                         studi\n",
      "9                       psychol\n",
      "10                       stress\n",
      "11                   psychiatri\n",
      "12                         base\n",
      "13                        empir\n",
      "14                       follow\n",
      "15                          org\n",
      "16                        major\n",
      "17                             \n",
      "18                       theori\n",
      "19                         case\n",
      "20                         rate\n",
      "21                       differ\n",
      "22                       provid\n",
      "23                    psychiatr\n",
      "24                         time\n",
      "25                     recoveri\n",
      "26                        gener\n",
      "27                      theoret\n",
      "28                    predictor\n",
      "29                         life\n",
      "30                    psycholog\n",
      "31                news prognost\n",
      "32                        cours\n",
      "33                     question\n",
      "34                    nonrecurr\n",
      "35                 indic associ\n",
      "36                     individu\n",
      "37                     diagnost\n",
      "38                       inform\n",
      "39                      predict\n",
      "40                     conceptu\n",
      "41                        initi\n",
      "42                       health\n",
      "43                         like\n",
      "44                          rel\n",
      "45                         data\n",
      "46                         risk\n",
      "47                        earli\n",
      "48                      lifetim\n",
      "49                       requir\n",
      "50                       burden\n",
      "51                        sampl\n",
      "52                      analysi\n",
      "53                        onset\n",
      "54                         hark\n",
      "55                       subtyp\n",
      "56                       import\n",
      "57                     subgroup\n",
      "58         acut phase treatment\n",
      "59                      symptom\n",
      "60                       second\n",
      "61                        event\n",
      "62                        sever\n",
      "63                       matter\n",
      "64                        popul\n",
      "65                        model\n",
      "66                       review\n",
      "67                        point\n",
      "68                       factor\n",
      "69                       preval\n",
      "70              current afflict\n",
      "71                        addit\n",
      "72                         evid\n",
      "73                     progress\n",
      "74                         tion\n",
      "75                        press\n",
      "76                      present\n",
      "77                        peopl\n",
      "78                         arch\n",
      "79                        brown\n",
      "80                       mental\n",
      "81                        posit\n",
      "82                       person\n",
      "83                        group\n",
      "84                         clin\n",
      "85                         term\n",
      "86                          mdd\n",
      "87                          mde\n",
      "88                      potenti\n",
      "89                      kendler\n",
      "90                       design\n",
      "91                         caus\n",
      "92                        exist\n",
      "93                       liabil\n",
      "94                       recent\n",
      "95                         lisa\n",
      "96                        singl\n",
      "97                     perspect\n",
      "98                       sensit\n",
      "99                      problem\n",
      "100                      improv\n",
      "101                       futur\n",
      "102                      implic\n",
      "103                remain entir\n",
      "104                      measur\n",
      "105                   construct\n",
      "106                         apa\n",
      "107                     practic\n",
      "108                      highli\n",
      "109                         van\n",
      "110                         sci\n",
      "111                        fact\n",
      "112                         use\n",
      "113                      specif\n",
      "114                         www\n",
      "115                     statist\n",
      "116                  help defin\n",
      "117                     consist\n",
      "118               global number\n",
      "119                        york\n",
      "120                        past\n",
      "121                     support\n",
      "122                        annu\n",
      "123                      repres\n",
      "124                      andrew\n",
      "125                            \n",
      "126                  understand\n",
      "127                       relat\n",
      "128                       lower\n",
      "129                      propos\n",
      "130                         rev\n",
      "131                    standard\n",
      "132                         ill\n",
      "133                     concept\n",
      "134                      object\n",
      "135                   distribut\n",
      "136                       think\n",
      "137                     broader\n",
      "138                     chronic\n",
      "139                     process\n",
      "140                       estim\n",
      "141                      effect\n",
      "142                      author\n",
      "143                      altern\n",
      "144                      compar\n",
      "145                     success\n",
      "146                       versu\n",
      "147                       susan\n",
      "148                       medic\n",
      "149                      includ\n",
      "150                   heterogen\n",
      "151                    investig\n",
      "152                         med\n",
      "153                      remiss\n",
      "154                      condit\n",
      "155                     explain\n",
      "156                         sen\n",
      "157                       final\n",
      "158                      analyz\n",
      "159                      common\n",
      "160                         dsm\n",
      "161                    consensu\n",
      "162                        forb\n",
      "163               care consider\n",
      "164                         sex\n",
      "165                       frank\n",
      "166                       valid\n",
      "167                      hollon\n",
      "168                      eventu\n",
      "169                      advers\n",
      "170                      subset\n",
      "171                        high\n",
      "172                   statement\n",
      "173                tent suggest\n",
      "174                     section\n",
      "175                        need\n",
      "176                        curr\n",
      "177                     prevent\n",
      "178                      report\n",
      "179                        larg\n",
      "180                         way\n",
      "181                      observ\n",
      "182                          re\n",
      "183                      causal\n",
      "184                         dpm\n",
      "185                      articl\n",
      "186                    circumst\n",
      "187                      advanc\n",
      "188                      involv\n",
      "189                       stand\n",
      "190                        issu\n",
      "191                   criterion\n",
      "192                        find\n",
      "193                      steven\n",
      "194                  longitudin\n",
      "195                   literatur\n",
      "196                   symptomat\n",
      "197                        beal\n",
      "198                      jennif\n",
      "199                      action\n",
      "200                  membership\n",
      "201                     endogen\n",
      "202                    efficaci\n",
      "203                        cite\n",
      "204                     possibl\n",
      "205                        fals\n",
      "206                 better suit\n",
      "207                    determin\n",
      "208                       occur\n",
      "209                      compel\n",
      "210                        long\n",
      "211                   introduct\n",
      "212                       chang\n",
      "213                      situat\n",
      "214                        ment\n",
      "215                    function\n",
      "216                         pre\n",
      "217                     clinpsi\n",
      "218                     foundat\n",
      "219                    anderson\n",
      "220                      reveal\n",
      "221                  particular\n",
      "222                         day\n",
      "223                    scientif\n",
      "224                        year\n",
      "225                   intervent\n",
      "226                      threat\n",
      "227                        valu\n",
      "228                   evalu put\n",
      "229                     develop\n",
      "230                postrecoveri\n",
      "231                    prospect\n",
      "232                       adequ\n",
      "233                  comparison\n",
      "234                   rein forc\n",
      "235                     variabl\n",
      "236                     reevalu\n",
      "237                    stressor\n",
      "238                       enabl\n",
      "239                     similar\n",
      "240                      slater\n",
      "241                      keenan\n",
      "242                        kate\n",
      "243                     crucial\n",
      "244                        bear\n",
      "245                     jackson\n",
      "246                   threshold\n",
      "247                  trajectori\n",
      "248                       equal\n",
      "249                     pathway\n",
      "250                       short\n",
      "251                       theme\n",
      "252                 prerequisit\n",
      "253                     decreas\n",
      "254                        univ\n",
      "255                       simon\n",
      "256                contemporari\n",
      "257                      method\n",
      "258                      promis\n",
      "259                     insight\n",
      "260                        sole\n",
      "261            distinct consequ\n",
      "262                    iatrogen\n",
      "263                      social\n",
      "264                 favor natur\n",
      "265                       learn\n",
      "266                       puzzl\n",
      "267                         atf\n",
      "268                   whitfield\n",
      "269                         end\n",
      "270                   framework\n",
      "271                       craig\n",
      "272                 antidepress\n",
      "273                        tive\n",
      "274             loss extramarit\n",
      "275         shorter intermorbid\n",
      "276                       email\n",
      "277                        dame\n",
      "278                        wide\n",
      "279                     feldman\n",
      "280                        erin\n",
      "281                       sonja\n",
      "282              reliabl detect\n",
      "283                  retrospect\n",
      "284                        post\n",
      "285                        ness\n",
      "286                        mood\n",
      "287                        reed\n",
      "288             bias methodolog\n",
      "289                     patient\n",
      "290                       cohen\n",
      "291                      depend\n",
      "292                broadli writ\n",
      "293                        kati\n",
      "294                       activ\n",
      "295                    pro pose\n",
      "296                       minor\n",
      "297                      justif\n",
      "298                        sive\n",
      "299                     indiana\n",
      "300                         usa\n",
      "301                      appear\n",
      "302                     previou\n",
      "303              cognit therapi\n",
      "304                       reduc\n",
      "305                     buckman\n",
      "306                     burcusa\n",
      "307                       numer\n",
      "308                evolutionari\n",
      "309                      iation\n",
      "310                      mechan\n",
      "311                          ad\n",
      "312                      repeat\n",
      "313                     histori\n",
      "314                   inconsist\n",
      "315                         bmc\n",
      "316                        drop\n",
      "317                     westlin\n",
      "318                 distinguish\n",
      "319                      taylor\n",
      "320            microlevel basic\n",
      "321                     concern\n",
      "322           comput tomographi\n",
      "323                    symp tom\n",
      "324                  vul nerabl\n",
      "325                    big step\n",
      "326                      enhanc\n",
      "327                 merckelbach\n",
      "328           cd drew primarili\n",
      "329                       prior\n",
      "330                      maxwel\n",
      "331                   edinburgh\n",
      "332                       genet\n",
      "333                       cumul\n",
      "334                      hammen\n",
      "335                      tempor\n",
      "336                    approach\n",
      "337                       imped\n",
      "338                      extrem\n",
      "339                      origin\n",
      "340                    contrast\n",
      "341                 environment\n",
      "342                        make\n",
      "343                   establish\n",
      "344                       limit\n",
      "345                     trigger\n",
      "346                       brian\n",
      "347                      dalena\n",
      "348                     thought\n",
      "349                     multipl\n",
      "350                      nation\n",
      "351                     solomon\n",
      "352                      capabl\n",
      "353                     diagnos\n",
      "354                        ther\n",
      "355                     breakup\n",
      "356                      experi\n",
      "357                        task\n",
      "358                        depr\n",
      "359        thing subsequ happen\n",
      "360                    diagnosi\n",
      "361                      oxford\n",
      "362                      vulner\n",
      "363                       humil\n",
      "364                       scand\n",
      "365                       durat\n",
      "366                       given\n",
      "367                        note\n",
      "368                particularli\n",
      "369                       recov\n",
      "370                 epidemiolog\n",
      "371                  christiana\n",
      "372                    hypothet\n",
      "373                         red\n",
      "374                      econom\n",
      "375                        guid\n",
      "376                      exampl\n",
      "377                        site\n",
      "378                       pract\n",
      "379                       assum\n",
      "380                      harald\n",
      "381                         key\n",
      "382                    accelera\n",
      "383                    behavior\n",
      "384                     conceiv\n",
      "385                      critic\n",
      "386                    american\n",
      "387                       scotl\n",
      "388                      notabl\n",
      "389               fewer outpati\n",
      "390                        rise\n",
      "391                  acknowledg\n",
      "392                     paramet\n",
      "393                      chosen\n",
      "394                    prefront\n",
      "395               overrepresent\n",
      "396                      cortex\n",
      "397                 underrepres\n",
      "398                        shed\n",
      "399                       light\n",
      "400              unwarr relianc\n",
      "401                         lau\n",
      "402                      hakwan\n",
      "403               significantli\n",
      "404                   intertwin\n",
      "405                     tightli\n",
      "406                     network\n",
      "407                     nomolog\n",
      "408        intergener transmiss\n",
      "409                  fifth edit\n",
      "410                      extend\n",
      "411              proclam devoid\n",
      "412                        jaim\n",
      "413                consol prize\n",
      "414                     lorenzo\n",
      "415                  delgadillo\n",
      "416                       tedli\n",
      "417                       admit\n",
      "418                   alexandra\n",
      "419               softer demarc\n",
      "420                       polic\n",
      "421                      codifi\n",
      "422            translat excerpt\n",
      "423                        burt\n",
      "424                        piec\n",
      "425                    mccarter\n",
      "426                     central\n",
      "427                     kristen\n",
      "428                  foreordain\n",
      "429            unparallel corpu\n",
      "430                      recenc\n",
      "431                     violenc\n",
      "432                      ramona\n",
      "433                     shannon\n",
      "434                     baselin\n",
      "435                   giangrand\n",
      "436                     timothi\n",
      "437                    erickson\n",
      "438                      reason\n",
      "439                      specul\n",
      "440                       twice\n",
      "441                       power\n",
      "442                     laricka\n",
      "443                      wingat\n",
      "444                     belinda\n",
      "445                       motiv\n",
      "446                      kelsey\n",
      "447                       child\n",
      "448                    approxim\n",
      "449                     krueger\n",
      "450                     donofri\n",
      "451                    strauman\n",
      "452                      deanna\n",
      "453                       deidr\n",
      "454                   preschool\n",
      "455                     mariann\n",
      "456                       sewel\n",
      "457                       barch\n",
      "458                     zinbarg\n",
      "459                     tillman\n",
      "460                       erika\n",
      "461                      devyld\n",
      "462                       ajdac\n",
      "463                     alexand\n",
      "464                         gin\n",
      "465                         ori\n",
      "466              assert contend\n",
      "467                        munk\n",
      "468           characteri zation\n",
      "469                  char acter\n",
      "470                   exp rienc\n",
      "471                         gee\n",
      "472                rhetor allur\n",
      "473                     kathryn\n",
      "474                       onlin\n",
      "475             declin linearli\n",
      "476                         log\n",
      "477             inconveni truth\n",
      "478                    turkheim\n",
      "479                    mod erat\n",
      "480                        eric\n",
      "481                     melissa\n",
      "482             enthusiast call\n",
      "483                       equat\n",
      "484                 indiscrimin\n",
      "485                     gardner\n",
      "486              unknown mixtur\n",
      "487                   mar shall\n",
      "488                     dismiss\n",
      "489                     num ber\n",
      "490                     lightli\n",
      "491                     highest\n",
      "492                    prioriti\n",
      "493               pervas impact\n",
      "494                     societi\n",
      "495                      intern\n",
      "496                      depict\n",
      "497                     cleaner\n",
      "498             reiter verbatim\n",
      "499                      iacono\n",
      "500                     content\n",
      "501                     adolesc\n",
      "502                        ical\n",
      "503                       drive\n",
      "504                        bwjh\n",
      "505                    robinson\n",
      "506                     suscept\n",
      "507                 preliminari\n",
      "508                      biolog\n",
      "509                     goodwin\n",
      "510                     control\n",
      "511                        lutz\n",
      "512                         set\n",
      "513                      pictur\n",
      "514                     qualifi\n",
      "515                        draw\n",
      "516                     complet\n",
      "517                         age\n",
      "518                   substanti\n",
      "519                       woman\n",
      "520                      preced\n",
      "521                         ing\n",
      "522                     shaffer\n",
      "523                         low\n",
      "524                       adapt\n",
      "525                 controversi\n",
      "526                        harm\n",
      "527                    cronbach\n",
      "528                      cohort\n",
      "529                  witkiewitz\n",
      "530                      physic\n",
      "531                        bass\n",
      "532                        lack\n",
      "533                      period\n",
      "534                      residu\n",
      "535                       state\n",
      "536                    lifelong\n",
      "537                       ideal\n",
      "538                      finlay\n",
      "539                       figur\n",
      "540                     mislead\n",
      "541                       begin\n",
      "542                        abil\n",
      "543                      simpli\n",
      "544                     conveni\n",
      "545                        role\n",
      "546                        fink\n",
      "547                        poli\n",
      "548                 monoaminerg\n",
      "549                        skew\n",
      "550                     virtual\n",
      "551                     polizzi\n",
      "552                     anxieti\n",
      "553                   represent\n",
      "554                        acta\n",
      "555                     syndrom\n",
      "556               easili confus\n",
      "557                      direct\n",
      "558                       unlik\n",
      "559  serotonin transport length\n",
      "560                  mclaughlin\n",
      "561                  livingston\n",
      "562                       crite\n",
      "563                      reserv\n",
      "564                       uniqu\n",
      "565                        mate\n",
      "566                       exami\n",
      "567                   hardeveld\n",
      "568                       recur\n",
      "569                      consid\n",
      "570                     mueller\n",
      "571                  taschereau\n",
      "572                     project\n",
      "573                    pression\n",
      "574                      survey\n",
      "575                      formal\n",
      "576                        exce\n",
      "577                      result\n",
      "578                    argument\n",
      "579                        meta\n",
      "580                      kendel\n",
      "581               complementari\n",
      "582                        hold\n",
      "583                       adult\n",
      "584                         ass\n",
      "585          morphism childhood\n",
      "586                     probabl\n",
      "587                      colleg\n",
      "588                       harri\n",
      "589                     technic\n",
      "590                      accord\n",
      "591                     nonclin\n",
      "592            distress respons\n",
      "593                devast marit\n",
      "594               opposit toler\n",
      "595                       typic\n",
      "596                 unnecessari\n",
      "597                        bull\n",
      "598                  prac tical\n",
      "599                  psychosoci\n",
      "600             spurious inflat\n",
      "601                      provok\n",
      "602                      realiz\n",
      "603                         sub\n",
      "604                      monica\n",
      "605                       clare\n",
      "606                 work premis\n",
      "607                      parker\n",
      "608                      affair\n",
      "609                        yale\n",
      "610                    wolfgang\n",
      "611                      modest\n",
      "612                  com plicat\n",
      "613                      suppli\n",
      "614                       oppos\n",
      "615                    authorit\n",
      "616                        elev\n",
      "617                     environ\n",
      "618                       ultim\n",
      "619                     obstacl\n",
      "620                         eve\n",
      "621                        lynn\n",
      "622                   disappear\n",
      "623                     clearli\n",
      "624                         adv\n",
      "625                        drug\n",
      "626                        renc\n",
      "627               overli welcom\n",
      "628                      strong\n",
      "629         perfect pathognomon\n",
      "630                     penninx\n",
      "631                  licli echo\n",
      "632                    demonstr\n",
      "633                   christoph\n",
      "634                      potent\n",
      "635                        lead\n",
      "636           multidisciplinari\n",
      "637                        rush\n",
      "638                   criterion\n",
      "639                      cultur\n",
      "640                         jay\n",
      "641               receiv extens\n",
      "642                       focus\n",
      "643                     prodist\n",
      "644                        free\n",
      "645                         jej\n",
      "646                     essenti\n",
      "647                    dot line\n",
      "648                       marta\n",
      "649                         sam\n",
      "650                        self\n",
      "651                    sequenti\n",
      "652                      famili\n",
      "653                         der\n",
      "654                    prematur\n",
      "655                       obser\n",
      "656                      outcom\n",
      "657                       teriz\n",
      "658                    directli\n",
      "659                      agenda\n",
      "660                   fundament\n",
      "661                     increas\n",
      "662                       lamer\n",
      "663                       fatal\n",
      "664                    destruct\n",
      "665                        ongo\n",
      "666                   mattisson\n",
      "667                         fri\n",
      "668                        wors\n",
      "669                      confin\n",
      "670                      absent\n",
      "671              readili access\n",
      "672                      albeit\n",
      "673                      attent\n",
      "674                       flake\n",
      "675                        imum\n",
      "676                     overcom\n",
      "677                    pronounc\n",
      "678                      diseas\n",
      "679                   operation\n",
      "680                       topic\n",
      "681                         eri\n",
      "682                       jerom\n",
      "683                      signal\n",
      "684                        good\n",
      "685                    systemat\n",
      "686                       flint\n",
      "687                       behav\n",
      "688                     classif\n",
      "689                    signific\n",
      "690                       disor\n",
      "691                     spencer\n",
      "692                    margaret\n",
      "693                        scan\n",
      "694                    withdraw\n",
      "695                        hall\n",
      "696                       dylan\n",
      "697                  mandviwala\n",
      "698                       accru\n",
      "699                   allostasi\n",
      "700                     forward\n",
      "701                        fund\n",
      "702                      affili\n",
      "703              specifi precis\n",
      "704                    phenotyp\n",
      "705                      invari\n",
      "706                         ral\n",
      "707                        unit\n",
      "708              psychopatholog\n",
      "709                      exclud\n",
      "710                    kingston\n",
      "711                   territori\n",
      "712                     outlook\n",
      "713                        rais\n",
      "714                        idea\n",
      "715                       scott\n",
      "716                        prob\n",
      "717                      stroud\n",
      "718                      discus\n",
      "719                       emerg\n",
      "720                     ontario\n",
      "721                        clue\n",
      "722                   unsubstan\n",
      "723                       ratio\n",
      "724                       worth\n",
      "725                     briefli\n",
      "726                      lesser\n",
      "727                       statu\n",
      "728                       eaton\n",
      "729                        rare\n",
      "730                        goal\n",
      "731                         cur\n",
      "732                       start\n",
      "733                         tkj\n",
      "734                   necessari\n",
      "735                      school\n",
      "736                       entri\n",
      "737                     summari\n",
      "738                       decis\n",
      "739                       later\n",
      "740                     certifi\n",
      "741                     mainten\n",
      "742                       youth\n",
      "743                        weak\n",
      "744                     vincent\n",
      "745                  likelihood\n",
      "746                          su\n",
      "747                      silent\n",
      "748                        form\n",
      "749                       accur\n",
      "750                      explan\n",
      "751                        test\n",
      "752                   percentag\n",
      "753                 development\n",
      "754                          fy\n",
      "755                      divorc\n",
      "756                      commun\n",
      "757                        fava\n",
      "758                      gender\n",
      "759                      dramat\n",
      "760                     sustain\n",
      "761                     greater\n",
      "762                       debat\n",
      "763                     moffitt\n",
      "764                        emot\n",
      "765                    reinforc\n",
      "766                      allevi\n",
      "767                        blue\n",
      "768                    collabor\n",
      "769                         sum\n",
      "770                       guish\n",
      "771                     collect\n",
      "772                     keyword\n",
      "773                        esti\n",
      "774                      overal\n",
      "775                      cessiv\n",
      "776                        true\n",
      "777                     fallibl\n",
      "778                         non\n",
      "779                      depart\n",
      "780                      lundbi\n",
      "781                    influenc\n",
      "782                      provoc\n",
      "783                    substant\n",
      "784                      curiou\n",
      "785                        dual\n",
      "786              latent transit\n",
      "787                    comorbid\n",
      "788                     lenienc\n",
      "789                    particip\n",
      "790                        indi\n",
      "791                       stark\n",
      "792                   experienc\n",
      "793                    nonsever\n",
      "794                       ormel\n",
      "795                       eliot\n",
      "796                       caleb\n",
      "797                      whippl\n",
      "798                      patten\n",
      "799              prime opportun\n",
      "800         anomali erron index\n",
      "801                     univers\n",
      "802                      sooner\n",
      "803                    backward\n",
      "804                       class\n",
      "805                      declar\n",
      "806                    antisoci\n",
      "807                 explanatori\n",
      "808                        sion\n",
      "809                    archpsyc\n",
      "810                      canada\n",
      "811                         gut\n",
      "812                        notr\n",
      "813                      smonro\n",
      "814                     quigley\n",
      "815                      mineka\n",
      "816                  guggenheim\n",
      "817                        isbd\n",
      "818                    paterson\n",
      "819                     barrett\n",
      "820                       baker\n",
      "821                     pohlman\n",
      "822                      permit\n",
      "823                   elegantli\n",
      "824                    strongli\n",
      "825                        tree\n",
      "826                        mean\n",
      "827                       volum\n",
      "828                        chiu\n",
      "829                     thomson\n",
      "830                    unproven\n",
      "831                         ple\n",
      "832                     roughen\n",
      "833                      longer\n",
      "834                        book\n",
      "835                      entrap\n",
      "836                      bowleg\n",
      "837                      fedina\n",
      "838                      anglin\n",
      "839                      robert\n",
      "840                       karen\n",
      "841                     purview\n",
      "842                   catchment\n",
      "843                      examin\n",
      "844                      meadow\n",
      "845                      psycho\n",
      "846                     sequenc\n",
      "847                        chui\n",
      "848                    deleteri\n",
      "849                     bipolar\n",
      "850                    maltreat\n",
      "851                    paranoia\n",
      "852                        lend\n",
      "853                      manner\n",
      "854                      haslam\n",
      "855                        appi\n",
      "856                 trial enrol\n",
      "857                 neurobiolog\n",
      "858                         liu\n",
      "859                     assumpt\n",
      "860                       minim\n",
      "861                     correct\n",
      "862                    reexamin\n",
      "863                      neurol\n",
      "864                       birth\n",
      "865                    neurotic\n",
      "866                     heugten\n",
      "867                         loo\n",
      "868                    schwartz\n",
      "869                     conduct\n",
      "870                        oper\n",
      "871                     gressiv\n",
      "872                  macrolevel\n",
      "873                       unask\n",
      "874                         peo\n",
      "875                    cambridg\n",
      "876                    identifi\n",
      "877                      popper\n",
      "878                       kindl\n",
      "879                      suppos\n",
      "880                       yield\n",
      "881                   unequivoc\n",
      "882                        area\n",
      "883                       cloth\n",
      "884                       illus\n",
      "885                   hypothesi\n",
      "886                   underscor\n",
      "887                         mol\n",
      "888                   neurochir\n",
      "889                     erratum\n",
      "890                          di\n",
      "891                            \n",
      "892                            \n",
      "893                            \n",
      "894                            \n",
      "895                            \n",
      "896                            \n",
      "897                            \n",
      "898                            \n",
      "899                            \n",
      "900                            \n"
     ]
    }
   ],
   "source": [
    "text_str = df.to_string()\n",
    "print(text_str)"
   ]
  },
  {
   "cell_type": "code",
   "execution_count": 117,
   "id": "0806e8fa-60c8-4d09-9436-4f56822bf583",
   "metadata": {},
   "outputs": [
    {
     "name": "stdout",
     "output_type": "stream",
     "text": [
      "annual review clinic psycholog cour matter scott monroe1 kate l harkness2 1depart psycholog univ notr dame notr dame indiana usa email smonroe1ndedu 2depart psycholog queen’ univ kingston ontario canada annu rev clin psychol 2022 18329–57 publish review advanc februari 25 2022 annual review clinic psycholog onlin clinpsyannualreviewsorg 021440 copyright 2022 annual review right reserv keyword stress stress sensit dual pathway model abstract preval debilit person public health condit worldwid le appreci depr sion’ tremend burden share equal among becom depress suffer rest live wherea half never base two distinc tive cour prototyp propo subtyp distinct research origin lifetim cour press goal determin time depression’ onset follow clinic trajectori lack recognit distinct result mani obstacl includ conceptu bia methodolog oversight definit dead end current theori review compar implic contemporari diagnost controversi reevalu research treatment preventionand enhanc predict strength tradit weak indic discu 329 annu rev clin psychol 202218329357 download access provid 3120524788 011124 person use content introduct 330 prelud question answer 331 risk overst oversold 332 rate estim clinic popul research practic 333 rate estim nonclin popul research practic 334 research predictor fail mostli 335 predict definit consid 336 predict methodolog issu 338 summari 339 curiou conceptu defin 340 defin theori evid 340 defin defin 341 conceptu 341 conceptu nonrecurr beyond two episod 341 nonrecurr 342 343 conceptu mine episod inform 343 nonrecurr what’ stress got 345 stress tale two theori 345 stress sensit introduct evalu 345 dual pathway model 346 gener comparison stress sensit dual pathway model 348 model comparison preliminari yet potenti determin predict 348 close question thought 349 thought diagnost lenienc 349 thought treatment prevent 349 reevalu candid risk indic 351 introduct depress disord mdd wide recogn press mental health problem global number incid increa almost 50 past 30 year 264 million peopl age current afflict liu 2020 cour initi depress episod particularli problemat estim rang high 75–90 american psychiatr associ apa 2000 gotlib 2020 solomon 2000 econom cost unit state alon increa 48 past 330 hark annu rev clin psychol 202218329357 download access provid 3120524788 011124 person use 10 year exceed 325 billion per year greenberg 2021 ind accord world health organ lead cau global mental physic disabl contributor global burden disea 2021 articl typic commenc despair theme cite dire fact daunt statist societi depress furukawa 2019 hand charac teriz make good clinic human sen appeal devast effect provid power motiv research action extrem destruct mental ill hand charact make complet scientif sen least half becom depress never hark 2011 2019 inconveni truth statement uncov characteri zation mdd extrem burdensom often lifelong disord fate portion depress popul howev fact conveni left conver research practic polici implic mdd inconveni truth depr sion broadli writ diminish person graviti public health urgenc disabl destruct form disord clear suggest form dismiss lightli rather suggest use strategi reduc person societ burden de pression focu form disord bear greatest burden variabl lifetim cour provid promi focal point research action unfortun subset depress individu repeat live stark contrast larger subset depress individu never experi recur renc hark 2011 2012 rottenberg 2018 latter lone fact forc reevalu almost everyth present believ etiolog acut phase treatment prevent question util extant research predict prevent importantli two promin subset within popul depress peopl cur rentli indistinguish time given person’ initi depress episod futur trajectori cannot forecast clinic confid statist preci time onset though clue like exist could penetr key prognost impass futur lifetim cour consist emphasi sole upon depression’ perva sive deleteri chronic effect howev becom domin eclip insight glean compar research involv le form disord eg peopl never perhap appreci acknowledg latter effort mitig graviti ill former compromi determin among initi depress follow two diverg clin ical trajectori goal highest prioriti research must begin clinic outset prior someon experienc multipl episod multipl episod treatment con found comparison individu never compar baselin eventu mani comparison may provid inform genet en dophenotyp biolog psycholog social correl contributor success could enabl reimagin transform presentday treatment result breakthrough prevent aspir lead dramat reduct person societ burden attribut disord hark 2011 2019 prelud question answer critic could counter “if terribl import distinguish base recur renc known topic already” fair question worthi sever 331 annu rev clin psychol 202218329357 download access provid 3120524788 011124 person use answer introduc answer provid preview address exten throughout articl undeni much research conduct mdd consi tent charact highli distort empir pictur led mislead idea lifetim cour misunderstand stand way mean progress research prevent half articl begin show rate overestim detail past research predictor destin fail present definit empir unsubstan tiat theoret useless awar inadequaci becom appar littl might known prognost indic peopl bear greatest burden cour second half articl turn presentday theori among initi depress like becom highli two gener theori exist draw upon stress concept central piec explanatori puzzl stress sensit longstand reign theori explain develop via withinperson neurobiolog process evolv time relat stress depress episod post 1992 stroud 2018 contrast two newli propo dual pathway model dpm provid betweenperson ie subtyp explan subset among initi depress goe mani wherea anoth 2019 strength weak two theoret posit discu particularli regard abil iti discov among initi depress eventu becom intriguingli stress sensit dpm invok stress causal factor diametr oppo way prime opportun therebi exist make definit comparison contrast viewpoint could transform current understand na ture cour close thought depression’ inconveni truth relat contemporari diagnost controversi mdd reevalu research treatment prevent enhanc predict strength tradit indic risk overst oversold alway view highli disord jackson 1986 begin 1970 though clinic eye research agenda expand focu acut time limit episod broader tempor gaze repeat cour brought forefront stark realiz mani suffer time live appar taken new realiz need empha public exampl earli angst colleagu 1973 490 opin “singl episod extrem rare period observ significantli extended” affirm follow reinforc theme singl episod extrem rare “highli illness”solomon al2000p229 “highli disorder”burcusa iacono 2007 959 fifth edit diagnost statist manual mental disord dsm authorit declar “a diagnosi base singl episod possibl although disord major cases” apa 2013 155 recent gotlib 2020 174 provid glimp truth behind statement “depress episod clinic sampl 75 individu mdd experi episod mueller 1999” ital ad 332 hark annu rev clin psychol 202218329357 download access provid 3120524788 011124 person use although highli ill often howev “highli recurrent” make compel stori exceedingli import psychiatr prob lem well intend stori may estim oversold section evalu research rate clinic commun sampl rate estim clinic popul research practic clinic sampl predominantli highli quot gotlib 2020 indic sinc peopl suffer common readili access treatment set provid conveni start point research exampl largesc sequenc treatment altern reliev star∗d trial enrol outpati 18 primari care 23 specialti care site hollon 2006 ap proxim 74 experienc 18 report 10 lifetim episod landmark collabor studi cd drew primarili inpati 74 fa ciliti includ far fewer outpati clinic solomon 2000 begin project major experienc least prior episod 62 25 experienc three show research project base clinic sampl uniformli report higher rate rel nonclin sampl longstand cd particularli import singl regard wide cite pub licli echo rate begin 1960 track depress patient span four decad project provid unparallel corpu inform time eg mueller 1999 simpson 1997 solomon 2000 pertin port cd suppli data inform wide cite estim publish dsmiv dsmivtr dsm estim becam standard esti mate appear across world decad perhap sourc inform perva impact percept norm depress people—a oppo le common clinic crucial except base data cd dsmiv dsmivtr indic approxim 60 peopl incur lifetim depress episod develop second 70 second suffer third 90 three experi addit often mani apa 2000 2013 mueller 1999 simpson 1997 solomon 2000 might expect debat least discu highli visibl influenti data knowledg though matter gone mostli without notic see hark 2011 2019 close critic examin estim deriv warrant crucial appear confu report cd data index episod initi episod disord hark 2011 solomon 2000 index episod gener term denot depress episod mde person’ could episod shown clinic sampl like eg third episod fifteenth episod initi episod person’ lifetim episod may lifetim episod may turn mani come report solomon 2000 as prospect 10 year follow patient’ index episod ie ignor actual number past episod 318 patient recov index episod 202 least 635 202 patient 172 recov risk anoth 172 patient 115 least second 669 see tabl 2 solomon 2000 clear rate 318 patient recov index episod 333 annu rev clin psychol 202218329357 download access provid 3120524788 011124 person use least prospect cannot equat rate number firstepisod patient recov least prospect 38 initi sampl 318 patient lifetim episod consequ investigators’ approach data estim firstonset almost certainli inflat token rate like underestim prior episod hark 2011 anoth reason confu inflat rate involv differ definit across public exampl report cd oper new episod mdd solomon 2000 anoth new episod minor lavori 1994 yet anoth “episod affect disorder” mueller 1999 latter studi 22 episod mdd rather episod schizoaffect disord hypomania mania altern definit may make sen within context goal particular studi easili confu common label indiscrimin equat across investig quest obtain accur rate discov earli predictor obviou compromi differ clinic phenomenon permit within definit boundari hark 2011 rate estim nonclin popul research practic indic clinic sampl includ mani sever chronic associ increa preval gener popul sampl includ le sever chronic associ decrea preval notabl latter vestig overcom import sampl bia eg “clinician’ illusion” cohen cohen 1984 gener popul studi therefor necessari counterpart clinic sampl obtain complet pictur base gener popul sampl 687 nondepress individu lifetim toru mdd hardeveld 2013 examin prospect 3year followup baselin recenc sever prior mde as retrospect investig report over cumul estim 42 20 year notabl sampl diver regard past episod 47 singl versu 53 cd data indic firstonset rate would even lower 42 three populationba studi report rate specif firstonset depressionanalyz data baltimor site epidemiolog catchment area studi eaton 2008 follow 92 peopl subsequ lifetim onset mdd report approxim 50 firstonset recov addit depress episod maximum followup period 23 year second longitudin investig employ geograph defin populationba sam ple longstand lundbi studi mattisson 2007 nöbbelin 2018 begin 1947 cohort studi follow 3563 particip cour outcom detail 344 individu develop episod 1947 1997 incid diagnost heterogen 60 mdd subtyp otherwi specifi adjust disord depress mood mattisson 2007 comment “the probabl remain free 60 whole sample” 889 empha lower rate rel patient sampl final dunedin multidisciplinari health develop studi n 1037 base repr birth cohort 1972–1973 nonclin particip follow age 32 96 334 hark annu rev clin psychol 202218329357 download access provid 3120524788 011124 person use retent rate moffitt 2010 remark lifetim preval statist base form research design approxim twice rate found retrospect survey investig found cumul lifetim preval 414 closer exami nation reveal 60 lifetim depress diagno ongo longitudin as author note “retrospect survey may undercount primarili individu rel shortterm disord singl episodes” moffitt 2010 906 find moffitt 2010 affirm mani incid mdd gener popul ad uniqu valu find rare design strongli suggest measur error lifetim risk work favor increa proport singl lifetim depress popul eg perhap 60 b decrea proport suspect falseneg eg singl lifetim owe underreport episod four studi provid consist evid lower rate firstonset gener popul sampl rel rate base index episod clinic sampl unawar evid studi indic anyth otherwi combin studi converg indic roughli 50–60 firstonset episod mdd gener popul never popul preval acut nonr current subgroup least equal like exc “recurrent” subgroup debat must move beyond whether highli present defin diagno classifi unknown mixtur hark 2012 discu start explain signifi effort made detect prognost indic earli lifetim cour mani research predictor fail mostli pauciti predictor lack effort numer studi tackl topic eg buckman 2018 burcusa iacono 2007 hardeveld 2010 shown entrench definit methodolog shortcom block progress obstacl though conceptu failur recogn capit fact mani peopl initi becom depress never becom depress research origin mindset everyon becom depress highli suscept repr specif conceptu stanc receiv exten research attentionit particular implic guid researchattempt understand origin knowledg mani becom depress repr differ conceptu stanc hardli receiv attent date distinct implic guid research discov predictor follow initi episod comparison group peopl without seem indispensableit comparison lack exist evid base address microlevel basic concern defin discu macrolevel broader problem research design topic reveal difficult discov predictor determin among initi depress 335 annu rev clin psychol 202218329357 download access provid 3120524788 011124 person use predict definit consid discov predictor recurrencewhat qualifi must stipul clearli possibl without valid depend variabl el destin fail explain next though defin oper obviou easi clearli stipul definit issu microlevel defin surprisingli com plicat matter simpl exampl foreshadow inconsist count point altern definit employ differ cd anali new episod mdd episod minor etc see note pre dictor lack thereof inconsist across inconsist definit particular exampl though could redress rel readili defini tion simpli could standardized—eg requir new episod mdd beg next question qualifi new episod mdd defin new episod mdd complic actual multistep process requir defin episod mdd second defin episod mdd qualifi new latter two addit prerequisit previou mde recoveri previou mde end point sequenti process definit heir individu liabil valid definit prerequisit well entir sequenti definit process hark 2011 instanc recoveri empir certifi construct rather work premi depend substanti upon chosen paramet defin degr initi symptomat improv b degr symptomat improv sustain c durat sustain symptomat improv individu definit compon oper yield highli variabl clinic outcom defin exampl degr symptomat improv low high 4 symptom versu 0 symptom durat sustain improv low high eg 8 24 week result dramat differ rate eg frank 1991 hark 2011 figur 2 3 without gold standard defin recoveri without research valid propo standard valid standard defin exist recogn seriou inconsist defin chang point cour depress episod precedentset articl frank 1991 sponsor macarthur foundat propo consensu deriv system defin oper relat clinic construct see also rush 2006 conceptu recoveri impli period sustain symptom improv continu wellb expect mde like occur near futur occur deem new episod ie oppo relap “back” origin episod see frank 1991 hark 2011 draw ing upon updat analysi literatur followup consensu confer provid recommend oper recoveri rush 2006 “base larg logic clinic impress consensus” author suggest recoveri requir sustain symptomat improv 4 month follow remiss symptomat “roughening” permit rush 2006 1850 frank 1991 rush 2006 clear provis natur recommend frank 1991 855 enthusiast call “other challeng tent suggest altern conceptu empir de rive criteria” sever decad recommend guid widerang research consensusba definit “paramount drive forc consist mdd research well clinic practice” de zwart 2019 544 done base 336 hark annu rev clin psychol 202218329357 download access provid 3120524788 011124 person use mostli faith face valid without much empir evid critic analysi cf hark 2011 recent howev de zwart 2019 publish muchne systemat review accumul evid valid macarthur consensu definit remiss recoveri relap evalu 56 qualifi studi includ 39315 particip author conclud episod le 12 week spontan remiss rate high therefor 2 week short minimum mde durat criterion b oper mission lax ≤7 symptom result mani fal neg ie individu char acter remiss still meet criterion mde fundament present purpo c evid durat threshold distinguish remiss recov eri instead common pattern gradual improv prognosi time refer latter point author argu “the whole concept durat crite ria must rejected” “i model lack empir support” lastli “it addit valu patient clinician assum origin reoccur symptom implic treatment prognosis” de zwart 2019 559 review de zwart 2019 import initi contribut toward greater empir clariti regard fundament conceptu definit matter gener implic henc predictor evid durat criterion defin mde lengthen symptom criterion defin remiss reduc henc defin durat criterion distinguish remiss recoveri prognost util differ clinic pictur emerg qualifi eg hark 2011 figur 2 3 valid recommend would result differ rate like differ predictor broadli provis natur current practic defin need recogn frank 1991 rush 2006 unambigu indic research along line sore need definit issu recoveri assumpt addit provid guidelin defin coveri frank 1991 853 state term recoveri “i use design recoveri episod ill per se” despit absenc theoret empir ratio nale see de zwart 2019 hark 2011 comment adopt reiter verbatim subsequ consensu report eg rush 2006 tohen 2009 statement appear coast rhetor allur simultan reinforc popular theme highli disord statement prematur foreclo altern way conceptu matter lation recoveri episod ill foreordain codifi final certified—without substant evid consid person becom depress age 24 follow devast marit breakup suppo person becom depress second time age 84 without environ adver white matter hyperinten comput tomographi scan return sign symptom qualifi depr sion return disord whether repr open question analysi debat hark 2011 understood heterogen least mean etiolog distinct subtyp disord would seem prudent remain open idea etiolog ical heterogen anderson 2015 2019 manner similar recoveri silent dictat definit ill becom silent equal dictatori construct oper behind entir product conceptu defin 337 annu rev clin psychol 202218329357 download access provid 3120524788 011124 person use fundament comment “recoveri episod ill per se” frank 1991 853 directli odd uptod repr gener popul rate review clash fact mani individu de pression occur lifetim mani peopl never anoth episod yet still recov ill perhap premi could use consid subset peopl mani predict methodolog issu broadli speak macrolevel gener object investig factor distin guish depress person accord number previou episod experienc gener sen consid statist analyz equiv eg weight fifth fifteenth second focu research tradit priorit occur earli lifetim cour base assump tion earlier inform later address tradit turn predict gener studi common research practic evalu put risk indic associ current index episod ie crosssect design futur episod ie prospect design risk indic associ typic made singl group full distribut lifetim episod eg hollon 2006 kendler 2000 2007 solomon 2000 investig correl sampl peopl alreadi mani currenc howev like unproduct exampl person 7 may differ substant someon 12 alreadi highli like similar liabil like ind person 7 probabl becom person 12 time person 12 person 7 put predictor relat peopl alreadi mani becom difficult imposs discern number lifetim episod rise hark 2011 peopl need gener research design “recurr heavy” includ mostli patient often mani thu alreadi highli statist anali overpow detect predictor minim theoret interest eg predictor patient 5 versu 6 12 past episod underpow detect predictor max imum import eg predictor patient 0 versu 1 past episod studi compar appl appl wherea con text compar appl orang nonrecurr need hark 2011 anoth substanti limit gener design much research crosssect larg confin inform patient vari past number depress episod eghollon al2006thi mean peopl cannot discern thu cannot directli compar without simpli disappear research protocol absenc gone unnot infer peopl present differ number past episod as arbitrari point lifetim cour differ anoth respect risk indic noth directli infer peopl differ hark 2011 338 hark annu rev clin psychol 202218329357 download access provid 3120524788 011124 person use consol prize gener studi oftrep mantra past episod predict futur episod icon indic problemat well like true mani episod true latter group mani major never addit episod provoc consid suggest risk singlelifetimeepisod group could lower popul neverdepress peopl address matter turn research appropri design still imperfectli predict onset versu research design compar onset predict repr signif advanc gener studi depend strategi implement though studi better suit detect prognost relat straightforward easili conduct studi crosssect compar onset varieti predictor shortcom design heterogen risk within popul depress sinc approxi mate 50 firstonset go singl lifetim temporarili thu realiti like share high liabil peopl alreadi falseposit singl lifetim would attenu prognost comparison initi predictor true singl lifetim current signif lesson learn studi although commonli confu firstonset singl lifetim hark 2011 similar le pronounc heterogen problem exist mani peopl never anoth episod may falseposit ie liabil closer singlelifetimeepisod group result predictor also harder find subgroup’ mislead inclu support content clear major peopl ever becom depress place highli ill see also buckman 2018 explain prognost indic might elu insight afford time longitudin studi capabl better identifi valid singl lifetim given 50 firstonset eventu “convert”to caseswhil 50 remain singleepisod casesearli error identif correct natur time longer followup secur valid respect group becom perhap within 6 year hark 2011 2019 cite sever longitudin studi provid repr rate follow lifetim episod eaton 2008 mattisson 2007 moffitt 2010 unfortun studi provid data specif risk measur taken time lifetim episod predict cf nöbbelin 2018 summari microlevel perspect conceiv defin fundament drive abil detect predictor contemporari concept procedur howev rest complex larg unproven assumpt recent theori empir research reveal opportun investig updat procedur de zwart 2019 hark 2011 improv definit oper guidelin provid optim promi futur research discov among initi depress may mani subsequ episod 339 annu rev clin psychol 202218329357 download access provid 3120524788 011124 person use macrolevel perspect research design investig live potenti gener design insensit discov predictor consid analyz equal prognost indic easili may gone unnot research design priorit earli cour insensit detect predictor sinc mani incid presenc within firstonset sampl would dilut predictor associ never repeat firstonset singl lifetim ie nonrecurr subgroup earli predictor like exist part predictor elud detect improv concept practic may provid guidanc assist discoveri begin address follow section curiou conceptu defin pau moment take big step back ask ultim object search might certainli clinic object prevent individu suffer depress episod assist scientif object predict anyon experienc depress episod exist theori research object address form ind bear greatest burden think assert import matter resolv individu indisput piec broader landscap lifetim cour howev attent individu alon may insuffici think tree imp attent form bear greatest burden cour think forest focu research commun may overlook broader scientif clinic object predict prevent bear greatest burden skeptic might question assert contend noth novel propo wealth inform exist evolv “been still work it”thi understand pivot point central thesisin technic sen skeptic correct technic hing upon whether current definit adequ captur popul depress individu bear greatest burden cour next take big step forward reveal present definit fail live expect directli stand way clinic scientif object understand might actual defin theori evid unclear two lifetim episod becam threshold instanti definit hark 2011 conceptu ration readili discern convinc theoret argument explicitli put forward perhap closest justif come dsm5 “a diagnosi base singl episod possibl although disord major cases” apa 2013 155 proclam devoid support inform absent theoret justif empir data inform definit de pression yet measur deci question flake fri 2020 fact appear nonexist within clinic sampl afterthefact evid mar shall eg hollon 2006 within commun sampl though matter remain entir 340 hark annu rev clin psychol 202218329357 download access provid 3120524788 011124 person use uncertain dsm5 statement “the disord major cases” apa 2013 155 beli compel evid contrari base upon commun sam ple eg eaton 2008 moffitt 2010 clearli mani question rai theoret empir base justifi contemporari definit de pression defin defin explain defin prerequisit concept definit crite ria ie episod mdd recoveri new mdd episod definit depr sion though need build upon definit prerequisit theoret prac tical valu term requir ad mean uniqu privileg statu superordin concept potenti fatal flaw defin base two depress episod essenti confound singl defin episod happen time follow recoveri previou depr sive episod also defin episod happen time follow recoveri previou albeit initi depress episod eg apa 2013 burcusa iacono 2007 singl defin anyon meet criterion simpli someon experi without design noth sub stantiv semant gain term “recurr depression” beyond inform alreadi suppli knowledg superordin concept conceptu contrast theori substant differ simpli instanc anoth mde follow recoveri point someone’ infer cau particular remain unspecifi like heterogen construct howev repr much singl denot mani collect mde lifetim infer cau high liabil shackl definit singl currenc import conceptu distinct two lost function differ larg name rebrand depressionhoweverpr definit practic creat appear someth differ someth someth new prac tice “emperor” cloth least new cloth view way seem inescap predictor obscur predictor individu peopl alreadi mani ie sen individu becom red might inabl de termin time depression’ onset mani consequ fatal flaw defin wise observ import recogn “the differ know name someth know something” feynman 1999 5 conceptu nonrecurr beyond two episod virtual research de facto adher authorit prece dichotom popul depress peopl sole base 341 annu rev clin psychol 202218329357 download access provid 3120524788 011124 person use upon second episod construct valid though typic draw upon multipl indic cronbach meehl 1955 singleepisod howev ba sical requir “perfect” pathognomon indic singleepisod lone episod mdd second lifetim episod arbitrari invari number initi intend index construct resembl appear becom construct brown harri 1986 kendler 2016 hark 2011 two lifetim episod howev translat absolut natu ral number pi e two singl fallibl number insuffici theoret object exact number episod le use degr particular number reflect underli liabil recur episod time ie shownthoughthat static definit approach justic progress evolut two subgroup time eventu final cour phenotyp ie nonrecurr ideal end point cour phenotyp would use descript inform concept help defin nonrecurr arbitrari time point along way current definit approach mostli tempor backward consequ predict prevent bear greatest burden yet know look for—what cour phenotyp might look like obviou obstacl final lifetim trajectori unknown admit tedli difficult come present said confid mani peopl lifetim episod mani count well two extrem cour trajectori repr depress peopl anoth key question second episod though current indic separ two subgroup next pro pose altern way think episod histori futur specul possibl complementari indic redefin nonrecurr singlelifetimeepisod group quintessenti nonrecurr can’t sinc proven capabl would seem suscept anoth episod conduc circumst rel unlik individu collect hark 2011 simon 1991 patten 2018 individu prone softer demarc number episodes—a flexibl matter degr rather invari decree—i worth entertain mani episod would accept mani would mani oret empir ground deci made previou present someon two lifetim episod separ 60 year differ cau underscor definit hesit two episod second someon two lifetim episod yet sole happen shortli recoveri rai similar concern lastli fact secondlargest subset depress popul singl lifetim depress probabl two lifetim episod argument hark 2011 clinic exampl epidemiolog data squar exp rienc depress peopl bear burden cour despit two lifetim episod three point alon perhap afford stronger two lifetim episod yet marshal support wellestablish practic past histori doubt use entir trustworthi someon capabl second mdemight circumst possibly—just probably— provok third well numer count worth evalu whether 342 hark annu rev clin psychol 202218329357 download access provid 3120524788 011124 person use lifetim episod dogmat restrictivean imperfect indic nonrecurr ie someon low liabil token directli impli two lifetim episod inclu indic ie someon high liabil barbuti 2019 goodwin jamison 2007 next turn topic question definit two lifetim episod abandon object becom obscureth task liken climb mountainnot know vista appear next ridg new observ come view untold way someon might experi lifetim depr sion might look like amid unchart territori remain discov step data descript data time cour provid start point theoret eye toward distinguish like bear burden depr sion time recent longitudin studi draw upon populationba sampl recur renc would appear capabl provid empir guidanc substanc delin nonrecurr subgroup eg mattisson 2007 moffitt 2010 retrospec tive research could suppli use preliminari observ exampl clinic inform peopl mani episod could shed light age initi onset tim ing sever associ stressor compar clinic trajectori peopl lifetim episod although retrospect research limit likelihood obtain complet histori episod cour may well greater complet followup oepen 2004 would take le time resourc could provid muchne clue ideal base end point analysi might final distribut lifetim episod look like without much question initi onset least num ber decrea subsequ illumin question though happen thereaft might distribut continu declin linearli asymptot skew posit eventu reach plateau mani count might come depress progress move rightward graph time eventu bimod distribut reveal cleaner depict nonrecurr subgroup two hypothet possibl portray figur 1 gener multipl indic need elabor nomolog network therebi “increa definit components” identifi construct cronbach meehl 1955 290 next propo addit inform potenti valu defin exceedingli import clinic group peopl lifelong problem 2019 conceptu mine episod inform inform extract past histori potenti bolster prognost util possibl time episod lifetim long time 60 year episod appear permiss defin peopl de pression po high liabil would like manifest frequent episod rel short period well recoveri initi lifetim episod peopl eventu becom shorter intermorbid well period rel 343 annu rev clin psychol 202218329357 download access provid 3120524788 011124 person use 1 2 3 4 5 10 11 20 lifetim depress episod percentag peopl 80 90 100 10 20 30 40 50 60 70 0 posit skew distribut bimod distribut figur 1 end point cour epidemiolog two hypothet distribut project percentag peopl experi final number lifetim episod may anoth episod becom highli recent longitudin studi found depress individu becam highli ind consist shorter intermorbid well period even episod anderson 2016 research warrant find exampl addit inform prior episod may predict valu well proof concept time recur renc potenti indic high likelihood stabil symptom episod next might anoth indic subtyp classif kendel 1974 lamer 2012 view heterogen surpri difficult demonstr phenotyp consist episod rodger 2014 young 1987 yet way par heterogen ie versu nonrecurr subgroup incorpor factor symptom alon eg stress brown 1994 frank 1994 could provid leverag improv subtyp determin ulbricht 2018 elev liabil might result greater syndrom consist across episod exampl lower liabil might yield le consist owe distinct consequ differ type sever event provok onset finlayjon brown 1981 fri ness 2015 kendler 2003 time episod syndrom consist could supplement episod histori signifi earli likelihood instanc mani peopl second episod never anoth perhap would better categor nonrecurr base episod histori alon would falseposit episod time syndrom consist conceiv could help offset imperfect fallibl episod histori indic depend imperfect addit indic might least might provid note prognost caution best might provid prognost correct even inform domain could mine defin subgroupsthu farhowev indic discu descript believ reflect go hypothet constructsthey silent causal factor ienumb episod cau subtyp depressionth causal factorthoughthat could definit understand subgroup differ origin recurrenceswhich turn could repr advanc toward predict among initi depress becom examin promi topic next 344 hark annu rev clin psychol 202218329357 download access provid 3120524788 011124 person use nonrecurr what’ stress got abund research document adver event potent cau mdd eg hammen 2005 mazur 1998 2014a particular highli threaten sever event especi potent provok onset eg job loss extramarit affair divorc brown harri 1978 kendler 1998 even risk factor taken account se vere event remain among strongest predictor onset eg daley 2000 kendler 2002 2004 special interest understand nonrecurr subgroup second search literatur indic associ sever event onset mod erat number prior episod eg hammen 2018 kraepelin 1921 post 1992 stroud 2008 2011 specif sever event occur frequent episod pro gressiv le like occur success observ might provid key insight cau 2019 might chang associ stress success explain might explan point way better understand among initi depress becom stress tale two theori section two theori focu stress explain mdd outlin briefli evalu compar present purpo chiefli confin analysi util two approach understand bear greatest burden ascertain might time initi mdd onset thorough analysi avail elsewh 2019 stress sensit introduct evalu stress sensit ie kindl hypothesi reign theori design account observ stress becom le common success episod provid hypothet mechan via liabil develop time post 1992 stroud 2018 consequ stressor trigger earli depress episod theori propo individu becom increasingli vulner pro gressiv lower level stress need trigger subsequ premi elegantli explain progress disappear stress prior success lesser stressor begin substitut event provok onset reciproc progress manner sever event becom le essenti trigger later regard empir evid indic abund research support initi observ decrea relat sever event prior onset suc cessiv see metaanalysi stroud 2008 see also stroud 2018 find though base predominantli crosssect research prospect studi demonstr individu follow onset like recent sever event individu follow eg stroud 2011 crucial ever find predic betweenperson effect wherea stress sensit base upon withinperson effect limit support evid exist declin presenc sever event success episod within individu eg kendler 2000 altern explan result rule hark 2005 345 annu rev clin psychol 202218329357 download access provid 3120524788 011124 person use 2019 equal crucial evid uniqu premi stress sensitization— progress lower degr stress within person becom increasingli capabl trigger recurrences—do yet appear exist 2019 regard theoret consid addit limit question recent rai stress sensit theori domin problem go unnot key question unask popper 1972 outset theoret scope stress sensit restrict peopl experi stress onset mani theori develop focu sole stress stress sensit explicitli exclud firstonset never silent firstonset without stress two group beyond theory’ explanatori purview 2019 troublesom situat discern stress sensit theori exclud 50 firstonset without firstonset without stress stress sensit research exclud test theori realiz bear empha least 50 onset studi review never recur renc thu individu relev test stress sensit least 40 onset studi review like prece event 2019 post 1992 thu individu also relev test stress sensit associ event disappear exclu two substanti group stress sensit would longer explain origin obser vation establish credibl henc b longer suppli viabl mechan revi observ see 2019 pointedli present purpo explicitli exclud individu never stress sensit becom poorli suit guid theori research que tion among initi depress bear depression’ greatest burden respect recogn concern stress sensit theori per se rather stem unwarr relianc singl theori explain virtual eve ryth altern theori need recent attempt fill void describ next dual pathway model dpm develop provid altern stress sensit understand object establish theoret framework research could guid discoveri among initi depress repeat cour basic betweenperson structur theori found upon two wellestablish find decrea associ event success b presenc two subset within over de press popul mani specif framework posit two relat model dpma dpmb describ develop nonrecurr subgroup subgroup pathway nonrecurr subgroup dpma dpmb model ident rel low liabil subgroup requir sever event coincid enabl factor time eg low social support provok onset simon 1991 patten 2018 subgroup unlik mani capabl prone perfect storm sever event ephem enabl circumst may never encount 346 hark annu rev clin psychol 202218329357 download access provid 3120524788 011124 person use unlik ari context sever event nonrecurr may benefit depress experi evolutionari theori propo capabl becom depress enhanc surviv immedi threat potenti steel person surviv futur threat andrew thomson 2009 gut 1989 hollon 2021 keller 2018 hark 2011 ness 2000 rottenberg 2018 conceiv could becom even le like sever stress occur pathway dpma dpmb requir episod prece sever event b experienc cour c relev time sporad mostli long intermorbid interv anderson 2016 2019 second pathway dpma dpmb depict two altern explan ori gin lifetim cour subgroupth individu prone dpm propo member subgroup ongo pronounc liabil therefor episod repeatedli time howev two dpm model differ second pathway regard causal condit activ elev liabil subgroup eventu dpma posit subgroup sensit stress nonsev stressor capabl trigger episod even ie onset limit sever event base genet famili predi posit burcusa iacono 2007 flint kendler 2014 kendler 2001 2014b earli adver mclaughlin 2010 nanni 2012 factor brown 2013 trigger mostli nonsev stress therefor dpma second pathway requir episod trigger stress sever often nonsev b least episod occur nonsev event c cour phenotyp mani interv rel consist brief anderson 2016 2019 dpmb second pathway propo subgroup onset independ stress 2019 centuri clinic chronicl frequent sever subset depress popul describ episod appear blue unrel stress andor disproport discern stress circumst jackson 1986 describ differ diagnost label “autonomous” “endogenous” “environ insensitive” present assum biolog cau eg burcusa iacono 2007 heali 2013 kendler 2001 lewi 1934 cummin 2017 depu 1991 reid 2009 parker paterson 2014 shorter 2007 taylor fink 2006 uher 2008 therefor dpmb second pathway requir depress episod occur regardless form stress b cour phenotyp mani currenc c interv rel consist brief 2019 two dpm cour pathway highliabl recurrencepron lowliabl depressioncap subgroup depict figur 2 presenc ab senc sever event prior success episod distinguish two subgroup nonrecurr pathway requir episod provok sever event consequ proport repres within success drop pre cipit progress reflect decrea presenc mandatori sever event complementari fashion second pathway requir sever event provok onset episod consequ proport repres within subsequ rise rapidli progress mirror correspond drop presenc unnecessari sever event collect chang repres nonrecurr subgroup repeat account appear decrea associ sever event success 347 annu rev clin psychol 202218329357 download access provid 3120524788 011124 person use subtyp within lifetim episod 20 40 60 80 100 120 140 capabl prone sever event 1 2 3 4 5 6 7 8 9 lifetim depress episod figur 2 chang repres depressioncap nonrecurr recurrencepron subgroup lifetim depress episod number explain dual pathway model red dot line repr decrea percentag prece sever event depressioncap subtyp becom le common gener comparison stress sensit dual pathway model stress sensit theoret attent restrict neurobiolog process escal liabil follow stress therebi progress increa like lihood success consequ comparison peopl without recur renc peopl relev theori incap shed light upon among initi depress becom perhap ori could adapt redress limit singular import nonrecurr subgroup need recogn incorpor theoret research agenda advanc possibl could enhanc theory’ capabl find earli predictor subgroup matter remain open dpm design specif explain origin distinct depress person mani con sequent model strong prerequisit credenti research earli predictor causal mechan involv given recenc introduct 2019 studi yet conduct basic precept predic tion model anderson 2016 research topic need detail next obviou potenti deci initi test compar stress sensit dpm model comparison preliminari yet potenti determin predict stress sensit unequivoc specifi peopl becom depress time recent event vulner peopl progress mani recur renc ie develop dpm clearli specifi preci opposit peopl becom depress time consequ sever stress least like mani peopl onset prece stress le like mani recurrences—that go suffer 348 hark annu rev clin psychol 202218329357 download access provid 3120524788 011124 person use whatev outcom emerg theori advanc ideal eventu benefit peopl suffer time close question thought much still need learn nonrecurr subgroup follow ing section rai question provid addit thought understand propo subtyp distinct implic thought diagnost lenienc recent classif diagnost standard undergird presentday empir pictur mdd ie dsmiii dsm5 apa 1980 2000 2013 mani concern rai standard particularli regard type condit formal qualifi foremost critic lower diagnost threshold result inclu distress truli clinic depress peo ple “the loss sadness” andrew 2011 horwitz 2017 ind conclu review de zwart 2019 durat 2 week short minimum mde durat criterion lend strong empir credibl concern le clinic sever con dition assign falseposit diagno eg formerli adjust disord situat stress reaction might alter think rel proport nonrecurr subgroup conceiv much argument nonrecurr group could undermin fal posit diagno spuriou inflat proport nonrecurr exampl person rel minor situat distress respon might qualifi current standard mde diagnosi meet “spirit” clinic syndrom individu would rel low liabil possibl escap addit episod rest live would oneoff diagnost misfit empir anomali erron index overli welcom diagnost rule scenario would yield appar nonrecurr notabl counter emphasi often rel benign cour true conceiv undermin legitimaci recurrentnonrecurr subtyp upon reflect though implic bear persua argument opposit interpret presentday standard defin includ minor nonmd conditionswhi would individu inclin reaction oneoff wouldn’t individu mani reaction lower diagnost threshold would like pseudoepisod spuriou inflat nonrecurr subgroup falseposit firstonset would falseposit recurrencestherebi overestim subgroup over consequ lower diagnost threshold like rein forc premi peopl becom clinic depress initi mani thought treatment prevent research treatment volumin acut phase treatment ie promot respon recoveri lesser extent longterm mainten treatment ie prevent relap receiv much attent bia toward view highli result precautionari clinic measur andrew 2001 frank 1991 accordingli effort direct toward stave relap prevent follow success treatment 349 annu rev clin psychol 202218329357 download access provid 3120524788 011124 person use howev repres nonrecurr treatment literatur unclear may well repr underrepr overrepres seem unlik given lack attent subgroup infer probabl entir absent eg hollon 2006 solomon 2000 either way matter clear implic reinterpret exist interv literatur envi futur treatment prevent practic might enhanc assum nonrecurr adequ repr interv research clinic implic substanti proport firstonset never anoth episod exist find reconsid fact obviou currenc prevent becom irrelev peopl nonrecurr subgroup could reliabl detect initi onset preciou clinic resourc consid econom cost could spare redirect toward vulner subgroup second fact current statist acut phase efficaci mainten treatment gain prevent relap overli optimist data capit favor natur cour nonrecurr thu make treatment appear benefici actual notabl appli control group well eg nonrecurr individu also would reduc compar degr reason specul nonrecurr could determin around time initi onsetthey could inform favor outlookallevi unnecessari concern inevit bad thing subsequ happen low mood set would necessarili signal impend requir treatment anoth reason specul subtyp distinct could made around onset efficaci acut phase treatment prevent interv individu could becom better focu enhanc person accord suscept profil high liabil acut phase treatment implic nonrecurr le obviou clinic matter though deserv weigh nonrecurr like recov rel quickli without formal assist eg “spontaneous” remiss treatment necessari empir support psychotherapi antidepress medic requir week achiev effect treatment might minim shorten episod du ration nonrecurr subgroup would especi treatment seek delay firstepisod perhap due stress eg ginsberg brown 1982 cf 1991 even optim treatment condit recoveri rate remain modest ormel 2022 whether modest success rate exceed natur cour nonr current subgroup empir question fewer day though would still seem therapeut success compass goal tempt declar “sooner better later” “no harm done” “be safe sorry” rai second question proprieti acut phase treatment non subgroup mani wellintend initi promi psycholog interv proven ultim benefici effect sometim deleteri consequ lilienfeld 2007 could psychotherapi antidepress medic use even harm ful nonrecurr subgroup antidepress medic mani side effect ta pere medic follow success treatment often difficult eg withdraw symp tom opposit toler mimic symptom andrew 2011 fava 2020 ormel 2022 pharmacolog psycholog treatment also might reduc selfhelp ac tiviti patient’ sen selfefficaci haslam 2016 meadow 2019 ormel 2022 lastli evolutionari theori provid cautionari note could activ treatment nonrecurr individu imp natur adapt might hamper learn cope 350 hark annu rev clin psychol 202218329357 download access provid 3120524788 011124 person use problemsolv abil well one’ sen agenc overcom per hap iatrogen render individu vulner hollon 2020 matter requir care consid regard treatment nonrecurr subgroup second assum nonrecurr adequ repr tervent research clinic implic mani simpli opposit assum adequ repres eg efficaci data exist treatment accu rate point stand efficaci treatment nonrecurr subgroup would unknown would provid caveat treat nonrecurr individu interv might lack demonstr support condit think treatment consid light recurrentnonrecurr subtyp compel recognit littl known nonrecurr subgroup import better understand implic current think reevalu candid risk indic review previou mani studi investig gener predictor support garner genet factor famili histori earli age onset earli adver residu symptom recoveri neurot albeit alway consist see buckman 2018 burcusa iacono 2007 hardeveld 2010 intriguingli woman like men becom depress initi may like kessler 1993 none candid risk indic risen level clinic use scientif compel recognit recurrentnonrecurr subtyp possibl improv understand potenti gener predictor prognost “signals” research would affect variabl pro portion nonrecurr studi next may explain inconsist find buckman 2018 pointedli indic risk factor mod erat subgroup rather inconsist weakli predict gener predictor could expect distinguish two subgroup reliabl robustli perhap especi evalu cumul hardeveld al2013for examplemost pre dictor common theme ongo elev suscept ie genet factor famili histori earli age onset earli adver neurot marker high probabl becom depress repeatedli cour predict strength enhanc help distinguish nonrecurr subgroup gender sinc over woman like becom depress thought like becom woman overrepr within nonr current subgroup eg van loo 2018 would good news prognost woman rel likelihood anoth episod would reduc interestingli also impli gender differ could primarili nonrecurr sub group unfortun men would bad news depress time would like becom pariti prognosi would equal final residu symptom consid among robust predictor recur renc buckman 2018 hardeveld 2010 presenc would expect signifi subgroup although residu symptom might repr anoth gener indi cator liabil also could theoret inform accord stress sensit recoveri initi episod provok stress accru vul nerabl could manifest postrecoveri residu symptom would predict greater 351 annu rev clin psychol 202218329357 download access provid 3120524788 011124 person use likelihood contrast accord dpm initi depress episod pro voke sever event predict opposit complet stabl postrecoveri clinic pictur would predict lower likelihood peopl experi onset provok sever stress better wor postrecoveri symptomat function ultim better wor chanc mani close anoth intrigu op portun directli compar two theoret system understand learn among initi depress becom summari point 1 among peopl develop time recur renc rest live wherea like never experi singl 2 present cannot reliabl forecast time initi onset mani lifetim 3 abil predict lifelong among becom depress time could transform advanc allevi individu global burden 4 mani establish belief requir reevalu light recur rent nonrecurr subset within popul depress individu 5 conceptu bia definit dead end faulti research design lack de scriptiv data begin explain failur discov earli prognost indic differ cour trajectori nonrecurr subgroup 6 two compet theori cau base presenc ab senc sever event hold promi advanc understand among initi depress burden repeat cour disclosur statement author awar affili membership fund financ hold might perceiv affect object review acknowledg scott grate acknowledg support john simon guggenheim foundat william k warren foundat provid time resourc develop mani idea involv present articl literatur cite anderson sfmonro smrohd plewinsohn pm2016question kindl analysi cycl accelera tion unipolar clin psychol sci 42229–38 andrew g 2001 manag chronic disea bmj 322419–21 andrew pwkornstein sghalberstadt ljgardner coneal mc2011blue perturb effect antidepress suggest monoaminerg homeostasi depressionfrontpsychol2159http doiorg103389fpsyg201100159 352 hark annu rev clin psychol 202218329357 download access provid 3120524788 011124 person use andrew pw thomson ja 2009 bright side blue adapt analyz complex problem psychol rev 116620–54 angst j baastrup grof h hippiu h pölinger w wei 1973 cour monopolar bipolar psycho psychiatr neurol neurochir 766489–500 apa psychiatr assoc 1980 diagnost statist manual mental disord washington dc psychiatr publ 3rd ed dsmiii apa psychiatr assoc 2000 diagnost statist manual mental disord washington dc psychiatr publ 4th ed text rev apa psychiatr assoc 2013 diagnost statist manual mental disord arlington va psychiatr publ 5th ed barbuti mmazzarini lvieta eazorin jmangst jet al2019relationship polar depress disord pool analysi bridg bridgeiimix cohort j affect disord 256250–58 brown gw ban craig tkj harri herbert j uher r 2013 serotonin transport length poli morphism childhood maltreat chronic specif gene–environ interact depress anxieti 305–13 brown gw harri 1978 social origin studi psychiatr disord woman new york free press brown gw harri 1986 establish causal link bedford colleg studi event psychiatr disord controversi issu ed h katschnig pp 107–87 cambridg uk cambridg univ press brown gw harri hepworth c 1994 event endogen puzzl reexamin arch gen psychiatri 51525–34 buckman jej underwood clark k saunder r hollon sd 2018 risk factor relap recur renc adult oper fourpha systemat review metasynthesi clin psychol rev 6413–38 burcusa sl iacono wg 2007 risk clin psychol rev 278959–85 org101016jcpr200702005 cohen cohen j 1984 clinician’ illu arch gen psychiatri 411178–82 cronbach lj meehl pe 1955 construct valid psycholog test psychol bull 524281–302 daley se hammen c rao u 2000 predictor onset young woman 5 year follow high school graduat j abnorm psychol 109525–33 de zwart pi jeronimu bf de jong 2019 empir evid definit episod remiss recoveri relap systemat review epidemiol psychiatr serv 28544–62 eaton ww shao h nestadt g lee bh bienvenu oj zandi 2008 populationba studi onset chronic depress disord arch gen psychiatri 655513–20 archpsyc655513 fava ga 2020 may antidepress drug worsen condit suppo treat clinic foundat opposit model toler ther adv psychopharmacol 10 11772045125320970325 feynman rp 1999 pleasur find thing pleasur find thing best short work richard feynman ed j robbin 5 cambridg perseu finlayjon rbrown gw1981type stress event onset anxieti depress disord psychol med 11803–15 flake jk fri ei 2020 measur schmeasur question measur practic avoid adv method pract psychol sci 3456–65 flint j kendler k 2014 genet neuron 813484–503 frank e anderson b reynold cf ritenour kupfer dj 1994 event research diagnost criterion endogen subtyp confirm distinct use bedford colleg method arch gen psychiatri 51519–24 frank e prien rf jarrett rb keller mb kupfer dj 1991 conceptu ration consen su definit term depress disord remiss recoveri relap arch gen psychiatri 48851–55 353 annu rev clin psychol 202218329357 download access provid 3120524788 011124 person use fri ei ness rm 2015 sumscor don’t add analyz specif symptom essenti bmc med 1372 furukawa ta 2019 epidem plagu common mental disord acta psychiatr scand 140391–92 ginsberg sm brown gw 1982 time studi helpseek among mother preschool child symptom ill behavior helpseek ed mechan pp 87–114 new york prodist goodwin fk jamison kr 2007 manicdepress ill new york oxford univ press 2nd ed gotlib ih goodman sh humphrey kl 2020 studi intergen transmiss risk de pression current statu futur direct curr dir psychol sci 29174–79 greenberg pe fournier aa sisitski sime berman r 2021 econom burden adult depress disord unit state 2010 2018 pharmacoeconom 39653–65 http doiorg101007s40273021010194 gut e 1989 product unproduct success failur vital process new york basic book hammen c 2005 stress annu rev clin psychol 1293–319 hammen c 2018 risk factor autobiograph review annu rev clin psychol 141–28 hardeveld f spijker j de graaf r nolen wa beekman atf 2010 preval predictor depress disord adult popul acta psychiatr scand 122184–91 101111j16000447200901519x hardeveld f spijker j de graaf r nolen wa beekman atf 2013 depress disord predictor gener popul result netherland mental health survey incid studi nemesi psychol med 4339–48 haslam n 2016 concept creep psychology’ expand concept harm patholog psychol inq 2711– 17 heali 2013 melancholia past present j psychiatri 58190–94 hollon sd 2020 cognit therapi endur antidepress medic iatrogen evolv adapt psychol 751207–18 hollon sd andrew pw singla dr maslej mm mulsant bh 2021 evolutionari theori treatment squid sea bass behav ther 143103849 101016jbrat2021103849 hollon sd shelton rc wisniewski warden bigg mm 2006 present characterist de press outpati function preliminari find star∗d clinic trial j psychiatr 40159–69 horwitz av wakefield jc lorenzoluac l 2017 histori oxford handbook mood disord ed rj derubei dr strunk pp 11–23 new york oxford univ press jackson sw 1986 melancholia hippocrat time modern time new ct london yale univ press keller mc 2018 evolutionari perspect genet environ risk factor psychiatr disor der annu rev clin psychol 14471–93 kendel 1974 stabil psychiatr diagno br j psychiatri 124352–56 1192bjp1244352 kendler k 2016 phenomenolog repr natur dsm criterion j psychiatri 173771–80 kendler k gardner co prescott ca 2002 toward comprehen develop model de pression woman j psychiatri 1591133–45 kendler k hettema jm butera f gardner co prescott ca 2003 event dimen loss humil iation entrap danger predict onset gener anxieti arch gen psychiatri 60789–96 kendler kskarkowski lprescott ca1998stress event risk periodlongterm contextu threat diagnost specif j nerv ment di 186661–69 kendler k kuhn j prescott ca 2004 interrelationship neurot sex stress event predict episod j psychiatri 161631–36 1176appiajp1614631 kendler k thornton lm gardner co 2000 stress event previou episod etiolog woman evalu “kindling” hypothesi j psychiatri 1571243–51 354 hark annu rev clin psychol 202218329357 download access provid 3120524788 011124 person use kendler k thornton lm gardner co 2001 genet risk number previou depress episod stress event predict onset j psychiatri 1584582–86 kessler rc mcgonagl ka swartz blazer dg nelson cb 1993 sex nation comorbid survey lifetim preval chronic j affect disord 2985–96 http doiorg101016016503279390026g kraepelin e 1921 manicdepress insan paranoia edinburgh scotl livingston lamer f rhebergen merikanga kr de jong beekman atf penninx bwjh 2012 stabil transit depress subtyp 2year followup psychol med 422083–93 lavori pw keller mb mueller ti scheftner w fawcett j coryel w 1994 recoveri unipolar mdd observ followup studi clinic predictor somat treatment mediat factor int j method psychiatr 4211–29 lewi aj 1934 melancholia histor review j ment sci 801–42 lilienfeld 2007 psycholog treatment cau harm perspect psychol sci 253–70 liu q h yang j feng x zhao f lyu j 2020 chang global burden 1990 2017 find global burden disea studi j psychiatr 126134–40 101016jjpsychires201908002 mattisson c bogren horstmann v munkjörgensen nettelbladt 2007 longterm cour depress disord lundbi studi psychol med 37883–91 s0033291707000074 mazur cm 1998 stressor risk factor clin psychol sci pract 5291–313 mclaughlin ka conron kj koenen kc gilman se 2010 childhood adver adult stress event risk pastyear psychiatr disord test stress sensit hypothesi popul base sampl adult psychol med 401647–58 meadow gn prodan patten shawyer f franci 2019 resolv paradox increa mental health expenditur stabl preval aust nz j psychiatri 53844–58 0004867419857821 moffitt te caspi taylor kokaua j miln bj 2010 common common mental disord evid lifetim preval rate doubl prospect versu retrospect ascertain psychol med 40899–909 sm anderson sf 2015 shroud heterogen curr dir psychol sci 24227–31 sm anderson sf hark kl 2019 stress mysteri psychol rev 126791–816 sm cummin lf 2017 environ risk protect unipolar oxford handbook mood disord vol 1 ed rj derubei dr strunk pp 120–31 new york oxford univ press sm depu ra 1991 stress psychosoci aspect ed j becker kleinman pp 101–30 new york erlbaum sm hark kl 2005 stress “kindling” hypothesi consid stress perspect psychol rev 112417–45 295x1122417 sm hark kl 2011 conceptu analysi psychol rev 1184655–74 sm hark kl 2012 chronic mental ill psychol med 425899–902 http doiorg101017s0033291711002066 sm reid mw 2009 stress curr dir psychol sci 18268–72 sm simon ad 1991 diathesis–stress theori context stress research implic depress disord psychol bull 110406–25 sm simon ad thase 1991 onset time treatment entri role stress j consult clin psychol 59566–73 sm slavich gm georgiad ih 2014a social environ role stress handbook ed ih gotlib cl hammen pp 296–314 new york guilford 3rd ed 355 annu rev clin psychol 202218329357 download access provid 3120524788 011124 person use sm slavich gm gotlib ih 2014b stress famili histori moder role past depress episod j psychiatr 4990–95 11005 sm slavich gm torr ld gotlib ih 2007 event chronic difficulti differenti associ histori depress episod j abnorm psychol 116116–24 mueller ti leon ac keller mb solomon da endicott j 1999 recoveri depress disord 15 year observ followup j psychiatri 1561000–6 nanni v uher r dane 2012 childhood maltreat predict unfavor cour ill treat ment outcom metaanalysi j psychiatri 169141–51 ness rm 2000 adapt arch gen psychiatri 5714–20 nöbbelin l bogren mattisson c brådvik l 2018 risk factor lundbi popul 1947–1997 j affect disord 228125–31 oepen g baldessarini rj salvat 2004 period manicdepress insan eliot slater 1938 translat excerpt commentaryjaffectdisord781–9 032702003592 ormel j hollon sd kessler rc cuijper sm 2022 treatment le treatmentprev paradox clin psychol rev 91102111 parker gpaterson a2014melancholia definit managementcurropinpsychiatri 2711–6http doiorg101097yco0000000000000024 patten sb 2018 “clinician’ illusion” epidemiolog diagnosi treatment depress disor der bmc psychiatri 18395 popper kr 1972 object knowledg evolutionari approach new york oxford univ press post r 1992 transduct psychosoci stress neurobiolog affect disord j psychiatri 149999–1010 rodger ajdacicgross v müller hengartn mp holtforth mg 2014 role sex stabil chang symptom subtyp 20 year latent transit analysiseurarchpsychiatri clin neurosci 264577–88 rottenberg j devendorf ar kashdan tb disabato dd 2018 curiou neglect high function psychopatholog perspect psychol sci 14549–66 rush aj kraemer hc sackeim ha fava trivedi mh 2006 report acnp task forc respon remiss depress disord neuropsychopharmacolog 311841–53 org101038sjnpp1301131 shorter e 2007 doctrin two depress histor perspect acta psychiatr scand 115suppl 4335–13 simpson hb nee jc endicott j 1997 firstepisod sex differ cour arch gen psychiatri 54633–39 solomon da keller mb leon ac mueller ti lavori pw 2000 multipl de pressiv disord j psychiatri 157229–33 stroud cb 2018 stress sensit model oxford handbook stress mental health ed k hark ep hayden new york oxford univ press 978019068177701316 stroud cbdavila jhammen cvrshekschallhorn s2011sever nonsev event onset versu evid stress sensit j abnorm psychol 120142–54 org101037a0021659 stroud cb davila j moyer 2008 relationship stress onset versu metaanalyt review j abnorm psychol 1171206–13 843x1171206 taylor fink 2006 melancholia diagnosi pathophysiolog treatment depress ill cambridg uk cambridg univ press tohen frank e bowden cl colom f ghaemi sn 2009 intern societi bipolar disord isbd task forc report nomenclatur cour outcom bipolar disord bipolar disord 11453–73 356 hark annu rev clin psychol 202218329357 download access provid 3120524788 011124 person use uher r 2008 implic gene–environ interact cau inform cure mol psychiatri 13121070–78 ulbricht cm chrysanthopoul sa levin l lapan kl 2018 use latent class analysi identi fy subtyp systemat review psychiatri 266228–46 jpsychres201803003 van loo hm aggen sh gardner co kendler k 2018 sex similar differ risk factor psychol med 481685–93 world health organ 2021 fact sheet geneva roomfactsheetsdetaildepress young keller mb lavori pw scheftner wa fawcett ja 1987 lack stabil rdc endogen subtyp consecut episod j affect disord 122139–43 http doiorg1010160165032787900061 357 annu rev clin psychol 202218329357 download access provid 3120524788 011124 person use annual review clinic psycholog volum 18 2022 content tempera theoret contribut clinic psycholog jerom kagan 1 know genet architectur psychopatholog evan j giangrand ramona weber eric turkheim p19 train next gener clinic psycholog scientist datadriven call action dylan g gee kathryn deyoung kati mclaughlin rachael tillman deanna barch erika e forb robert f krueger timothi j strauman mariann r weierich alexand j shackman p43 measurementba datainform psycholog therapi wolfgang lutz brian schwartz jaim delgadillo p71 behavior interv reduc cardiovascular risk among peopl sever mental disord amanda l baker erin forb sonja pohlman kristen mccarter p99 realtim function mri treatment mental health disord vincent taschereaudumouchel codi cush hakwan lau 125 genet environ cultur forc influenc youth antisoci behavior tightli intertwin alexandra burt 155 invi power cultur ecolog develop contemporari unit state tasneem mandviwala jennif hall margaret beal spencer 179 differencesdisord sex develop medic condit intersect sex gender david e sandberg melissa gardner 201 annu rev clin psychol 202218329357 download access provid 3120524788 011124 person use current learn theori approach etiolog cour anxieti relat disord richard e zinbarg alexand l william susan mineka 233 dissoci dissoci disord reconsid beyond sociocognit trauma model toward transtheoret framework steven jay lynn craig polizzi harald merckelbach chuid chiu reed maxwel dalena van heugten scott lilienfeld 259 psychosoci treatment bipolar disord child adolesc haley brickman mari fristad 291 cour matter scott kate l hark 329 suicid african american adolesc understand risk studi resili w lavom robinson christoph r whippl kate keenan caleb e flack laricka wingat 359 psychopathi current knowledg futur direct christoph j patrick 387 cognit age promi physic activ kirk erickson shannon donofri kelsey r sewel belinda brown chelsea stillman 417 neuroplast prefront cortex psychopathologyrel deviat cognit control monica luciana paul f collin 443 biopsychosoci puzzl pain sex marta meana yitzchak binik 471 mechan behavior chang substanc use disord without formal treatment kati witkiewitz rori pfund jali tucker 497 polic violenc public health jordan e devyld deidr anglin lisa bowleg lisa fedina bruce g link 527 allostasi action affect insight theori construct emot clare shaffer christiana westlin karen susan lisa annu rev clin psychol 202218329357 download access provid 3120524788 011124 person use psycholog steven taylor onlin annual review clinic psycholog articl may found annu rev clin psychol 202218329357 download access provid 3120524788 011124 person use\n"
     ]
    }
   ],
   "source": [
    "\n",
    "\n",
    "\n",
    "# 将每一行转换为字符串，并用空格分隔每个元素\n",
    "rows_as_str = [' '.join(map(str, row)) for _, row in df.iterrows()]\n",
    "\n",
    "# 将所有行的字符串用空格连接起来\n",
    "result_str = ' '.join(rows_as_str)\n",
    "\n",
    "print(result_str)\n"
   ]
  },
  {
   "cell_type": "code",
   "execution_count": null,
   "id": "366d2a37-07ec-4c4a-b5fe-9b764dd19f36",
   "metadata": {},
   "outputs": [],
   "source": []
  },
  {
   "cell_type": "code",
   "execution_count": null,
   "id": "b16dadcd-0207-4b87-ac13-04f87376a4f9",
   "metadata": {},
   "outputs": [],
   "source": []
  },
  {
   "cell_type": "code",
   "execution_count": null,
   "id": "2a586d8e-f1b8-47ae-a42b-82cee19f9611",
   "metadata": {},
   "outputs": [],
   "source": []
  },
  {
   "cell_type": "markdown",
   "id": "c407659b-647f-45f7-afa0-40cceec7c544",
   "metadata": {},
   "source": [
    "## 4. Extract Abstract"
   ]
  },
  {
   "cell_type": "code",
   "execution_count": 3,
   "id": "88f045fe-e2cc-450a-9591-18b24a5981b8",
   "metadata": {},
   "outputs": [
    {
     "name": "stdout",
     "output_type": "stream",
     "text": [
      "Python 3.11.5\n"
     ]
    }
   ],
   "source": [
    "!python --version"
   ]
  },
  {
   "cell_type": "code",
   "execution_count": 365,
   "id": "c32f8546-900e-4bae-9df1-49681ec430f0",
   "metadata": {},
   "outputs": [
    {
     "name": "stdout",
     "output_type": "stream",
     "text": [
      "Requirement already satisfied: transformers in /Users/huang/anaconda3/lib/python3.11/site-packages (4.32.1)\n",
      "Requirement already satisfied: filelock in /Users/huang/anaconda3/lib/python3.11/site-packages (from transformers) (3.13.1)\n",
      "Requirement already satisfied: huggingface-hub<1.0,>=0.15.1 in /Users/huang/anaconda3/lib/python3.11/site-packages (from transformers) (0.17.3)\n",
      "Requirement already satisfied: numpy>=1.17 in /Users/huang/anaconda3/lib/python3.11/site-packages (from transformers) (1.26.3)\n",
      "Requirement already satisfied: packaging>=20.0 in /Users/huang/anaconda3/lib/python3.11/site-packages (from transformers) (23.1)\n",
      "Requirement already satisfied: pyyaml>=5.1 in /Users/huang/anaconda3/lib/python3.11/site-packages (from transformers) (6.0.1)\n",
      "Requirement already satisfied: regex!=2019.12.17 in /Users/huang/anaconda3/lib/python3.11/site-packages (from transformers) (2023.10.3)\n",
      "Requirement already satisfied: requests in /Users/huang/anaconda3/lib/python3.11/site-packages (from transformers) (2.31.0)\n",
      "Requirement already satisfied: tokenizers!=0.11.3,<0.14,>=0.11.1 in /Users/huang/anaconda3/lib/python3.11/site-packages (from transformers) (0.13.2)\n",
      "Requirement already satisfied: safetensors>=0.3.1 in /Users/huang/anaconda3/lib/python3.11/site-packages (from transformers) (0.4.0)\n",
      "Requirement already satisfied: tqdm>=4.27 in /Users/huang/anaconda3/lib/python3.11/site-packages (from transformers) (4.65.0)\n",
      "Requirement already satisfied: fsspec in /Users/huang/anaconda3/lib/python3.11/site-packages (from huggingface-hub<1.0,>=0.15.1->transformers) (2023.10.0)\n",
      "Requirement already satisfied: typing-extensions>=3.7.4.3 in /Users/huang/anaconda3/lib/python3.11/site-packages (from huggingface-hub<1.0,>=0.15.1->transformers) (4.7.1)\n",
      "Requirement already satisfied: charset-normalizer<4,>=2 in /Users/huang/anaconda3/lib/python3.11/site-packages (from requests->transformers) (2.0.4)\n",
      "Requirement already satisfied: idna<4,>=2.5 in /Users/huang/anaconda3/lib/python3.11/site-packages (from requests->transformers) (3.4)\n",
      "Requirement already satisfied: urllib3<3,>=1.21.1 in /Users/huang/anaconda3/lib/python3.11/site-packages (from requests->transformers) (1.26.18)\n",
      "Requirement already satisfied: certifi>=2017.4.17 in /Users/huang/anaconda3/lib/python3.11/site-packages (from requests->transformers) (2023.11.17)\n"
     ]
    }
   ],
   "source": [
    "!pip install transformers"
   ]
  },
  {
   "cell_type": "code",
   "execution_count": 30,
   "id": "de221158-b34f-440f-a6d8-e376395554b3",
   "metadata": {},
   "outputs": [
    {
     "name": "stdout",
     "output_type": "stream",
     "text": [
      "2.1.2\n",
      "False\n"
     ]
    }
   ],
   "source": [
    "import torch # !pip3 install torch torchvision torchaudio # pip-python2 pip3-python3\n",
    "\n",
    "print(torch.__version__)\n",
    "print(torch.cuda.is_available())  # 如果你有GPU并且安装了CUDA版本的PyTorch，这应该返回True\n"
   ]
  },
  {
   "cell_type": "markdown",
   "id": "44efb85e-0689-4157-9c88-2a011a67bdbf",
   "metadata": {},
   "source": [
    "### T5Tokenizer - Abstract"
   ]
  },
  {
   "cell_type": "code",
   "execution_count": 31,
   "id": "b8b5d15d-254d-4532-bfcc-166d457cdcda",
   "metadata": {},
   "outputs": [
    {
     "name": "stderr",
     "output_type": "stream",
     "text": [
      "Special tokens have been added in the vocabulary, make sure the associated word embeddings are fine-tuned or trained.\n"
     ]
    },
    {
     "data": {
      "text/plain": [
       "'Annual Review of Clinical Psychology Major depression and its Recurrences: Life Course Matters Scott M. Monroe1 and Kate L. Harkness2 1Department of Psychology, University of Notre Dame, Notre Dame, Indiana, USA. a subtype distinction for research on the origins and lifetime course of major depression.'"
      ]
     },
     "execution_count": 31,
     "metadata": {},
     "output_type": "execute_result"
    }
   ],
   "source": [
    "from transformers import T5Tokenizer, T5ForConditionalGeneration \n",
    "# install sentencepiece SentencePiece是一个用于文本分词和解码的库，T5模型在处理文本时需要它。\n",
    "# install --upgrade transformers\n",
    "# 加载预训练的T5模型和分词器\n",
    "tokenizer = T5Tokenizer.from_pretrained('t5-small')\n",
    "model = T5ForConditionalGeneration.from_pretrained('t5-small')\n",
    "\n",
    "# 对文本进行编码，并生成摘要\n",
    "inputs = tokenizer.encode(\"summarize: \" + raw_text, return_tensors=\"pt\", max_length=512, truncation=True)\n",
    "summary_ids = model.generate(inputs, max_length=150, min_length=40, length_penalty=2.0, num_beams=4, early_stopping=True)\n",
    "t5_small_summary = tokenizer.decode(summary_ids[0], skip_special_tokens=True)\n",
    "\n",
    "t5_small_summary\n"
   ]
  },
  {
   "cell_type": "code",
   "execution_count": 32,
   "id": "a32680c6-ca94-423f-ae03-3d701687a1e8",
   "metadata": {},
   "outputs": [
    {
     "name": "stderr",
     "output_type": "stream",
     "text": [
      "Special tokens have been added in the vocabulary, make sure the associated word embeddings are fine-tuned or trained.\n"
     ]
    },
    {
     "data": {
      "text/plain": [
       "\"major depression's burdens are not shared equally among all who become depressed. some will suffer recurrences over the rest of their lives, whereas half or more will never have a recurrence. authors propose a subtype distinction for research on the origins and lifetime course of major depression.\""
      ]
     },
     "execution_count": 32,
     "metadata": {},
     "output_type": "execute_result"
    }
   ],
   "source": [
    "from transformers import T5Tokenizer, T5ForConditionalGeneration \n",
    "# install sentencepiece SentencePiece是一个用于文本分词和解码的库，T5模型在处理文本时需要它。\n",
    "# install --upgrade transformers\n",
    "# 加载预训练的T5模型和分词器\n",
    "tokenizer = T5Tokenizer.from_pretrained('t5-large')\n",
    "model = T5ForConditionalGeneration.from_pretrained('t5-large')\n",
    "\n",
    "# 对文本进行编码，并生成摘要\n",
    "inputs = tokenizer.encode(\"summarize: \" + raw_text, return_tensors=\"pt\", max_length=512, truncation=True)\n",
    "summary_ids = model.generate(inputs, max_length=150, min_length=40, length_penalty=2.0, num_beams=4, early_stopping=True)\n",
    "t5_large_summary = tokenizer.decode(summary_ids[0], skip_special_tokens=True)\n",
    "\n",
    "t5_large_summary\n"
   ]
  },
  {
   "cell_type": "markdown",
   "id": "fc1220e5-90b9-4c59-bf56-415a00496bdb",
   "metadata": {},
   "source": [
    "### BartTokenizer - Abstract - bart-large-cnn"
   ]
  },
  {
   "cell_type": "code",
   "execution_count": 33,
   "id": "81e03255-410a-42b0-8dc8-e319d2fe0a54",
   "metadata": {},
   "outputs": [
    {
     "name": "stdout",
     "output_type": "stream",
     "text": [
      "Annual Review of Clinical Psychology: Major Depression and Its Recurrences. Some will suffer recurrences over the rest of their lives, whereas half or more will never have a recurrence. Current theories are reviewed and compared. The implications for contemporary diagnostic controversies, reevaluating research on treatment and prevention,and enhancing the predictive strength are discussed.\n"
     ]
    }
   ],
   "source": [
    "from transformers import BartForConditionalGeneration, BartTokenizer, BartConfig\n",
    "tokenizer=BartTokenizer.from_pretrained('facebook/bart-large-cnn')\n",
    "model=BartForConditionalGeneration.from_pretrained('facebook/bart-large-cnn')\n",
    "\n",
    "\n",
    "    \n",
    "raw_text = extract_text_from_pdf(pdf_path)\n",
    "# raw_text\n",
    "\n",
    "# Encoding the inputs and passing them to model.generate()\n",
    "# inputs = tokenizer.batch_encode_plus([raw_text],return_tensors='pt') Token indices sequence length is longer than the specified maximum sequence length for this model (30551 > 1024). Running this sequence through the model will result in indexing errors\n",
    "inputs = tokenizer.batch_encode_plus([raw_text], return_tensors='pt', max_length=1024, truncation=True)\n",
    "\n",
    "summary_ids = model.generate(inputs['input_ids'], early_stopping=True)\n",
    "\n",
    "# Decoding and printing the summary\n",
    "bart_summary = tokenizer.decode(summary_ids[0], skip_special_tokens=True)\n",
    "print(bart_summary)"
   ]
  },
  {
   "cell_type": "code",
   "execution_count": 45,
   "id": "619410b6-b0af-4aa4-b7fc-84f345752261",
   "metadata": {},
   "outputs": [
    {
     "data": {
      "text/plain": [
       "str"
      ]
     },
     "execution_count": 45,
     "metadata": {},
     "output_type": "execute_result"
    }
   ],
   "source": [
    "type(bart_summary)"
   ]
  },
  {
   "cell_type": "markdown",
   "id": "516afefa-26b9-4f90-8743-30ea5ca2c429",
   "metadata": {},
   "source": [
    "### gensim - Abstract - Result [v3.8 support]"
   ]
  },
  {
   "cell_type": "code",
   "execution_count": null,
   "id": "6336d684-09be-49f7-a063-7eab08401172",
   "metadata": {},
   "outputs": [],
   "source": [
    " ### gensim - Abstractimport gensim\n",
    "from gensim.summarization import summarize  # !pip3 install gensim==3.8\n",
    "import re\n",
    "import spacy # !python -m spacy download en_core_web_sm\n",
    "# from collections.abc import Mapping\n",
    "\n",
    "\n",
    "# **************************** 处理网址 org edu http https等 ****************************\n",
    "def remove_urls(text): \n",
    "    url_pattern = re.compile(r'https?://\\S+|www\\.\\S+')\n",
    "    return url_pattern.sub(r'', text)\n",
    "\n",
    "\n",
    "\n",
    "# **************************** 处理连字符 ****************************\n",
    "# 处理跨行的连字符（例如 distinc-\n",
    "# tive 处理为 distinctive）\n",
    "def deal_hyphen(text):\n",
    "    return re.sub(r'(\\w+)-\\s(\\w+)', r'\\1\\2', text)\n",
    "\n",
    "# **************************** 处理换行符：只删除\\n符号，因为textrank是基于上下文的，不要去掉标点符号****************************\n",
    "# 换行符替换为空格\n",
    "# .strip() 去除开头和结尾的空格\n",
    "def del_space(text):\n",
    "    text1 = text.replace('\\n', ' ').strip() \n",
    "    text2 = text1.replace(\" .\", \".\")  # 替换句号前面的空格 \"depressive episode .\"\n",
    "    text3 = re.sub(r'\\s+', ' ', text2)  # 使用正则表达式替换多个连续空格为单个空格\n",
    "    return text3\n",
    "\n",
    "\n",
    "\n",
    "# **************************** 处理边界 ****************************\n",
    "# 查找最近的句子边界：如果最后一个字符不是正确的标点符号，则从摘要结尾处向后查找最近的句号、问号或感叹号。这样可以确保您以一个完整的句子结尾。\n",
    "def del_end(text):\n",
    "        # Ensure Proper Ending\n",
    "    if not text[-1] in ['.', '?', '!']:\n",
    "        # Find Nearest Sentence Boundary\n",
    "        end_position = max(text.rfind('.'), text.rfind('?'), text.rfind('!'))\n",
    "        if end_position != -1:\n",
    "            # Slice the Summary to the nearest sentence boundary\n",
    "            text = text[:end_position + 1]\n",
    "    \n",
    "    # Step 3: Return the Processed Summary\n",
    "    return text\n",
    "\n",
    "\n",
    "summary = summarize(raw_text, ratio=0.05)  # 摘要占原文 1% 的长度\n",
    "summary = deal_hyphen(summary)\n",
    "summary = remove_urls(summary)\n",
    "summary = del_reference(summary)\n",
    "gensim_summary = del_space(summary)\n",
    "\n",
    "# summary = del_end(summary)\n",
    "gensim_summary\n"
   ]
  },
  {
   "cell_type": "markdown",
   "id": "4e988416-2473-45af-9e4c-4b036bece193",
   "metadata": {},
   "source": [
    "gensim_summaries=\"in the use of exercise trials have demonstrated in a number of systematic nature of the exercise on all RCTs reporting type, exercise type, exercise and quality of supervision Five RCTs published cross trainer Interfor the use supervised colleagues10 randomized co-workers5 reported 2013 Sports Medicine Australia. 2013 Sports Medicine Australia. colleagues15 reviewed volume16 programs. meta-analysis17 demonstrated Review19 concluded colleagues23 analyzed colleagues23 differ colleagues23 differ colleagues23 differ inter-rater reliability.27 Papers trials,5,6 deﬁned cycling,29,30 cross trainer,30 outdoor preference.5 Intervention non-clinical24 populations. patient-preferred6 to studies5,28 reported colleagues30 (duration min/session min/session reported. reported. reported. reported. reported. reported. reported. reported. reported. reported. reported. reported. reported. reported. reported. reported. reported. reported. reported. reported. reported. reported. reported. reported. reported. reported. RCTs RCTs RCTs RCTs RCTs RCTs RCTs RCTs RCTs RCTs RCTs RCTs RCTs RCTs RCTs colleagues,29 participants colleagues23 conﬁrm colleagues23 our colleagues23 our colleagues23 our colleagues23 our colleagues23 our colleagues23 our colleagues23 our colleagues23 our colleagues23 our colleagues23 our colleagues24 highcolleagues24 highlights colleagues,24 Horden populations,24 people min/week min/week min/week min/week min/week min/week min/week Stanton, Stanton, Stanton, Stanton, Stanton, Stanton, Stanton, pre-screening postnon-aerobic non-aerobic non-aerobic non-aerobic non-aerobic non-aerobic non-aerobic non-aerobic reviews,13,19,20,35 methodological non-clinical a long-term preferred preferred preferred preferred preferred preferred preferred preferred preferred Available Available Available Syst Rev meta-analysis. meta-analysis. meta-analysis. meta-analysis. meta-analysis. Sci Sports pre-diabetes: sion parameters treatment-resistant depression: depression: depression: depression: depression: depression: depression: depression: depression: depression: depression: depression: depression: depression: depression: depression:\""
   ]
  },
  {
   "cell_type": "markdown",
   "id": "a02053db-7216-4d27-adf9-405bd8e8c2e1",
   "metadata": {},
   "source": [
    "### GPT2_model - Abstract"
   ]
  },
  {
   "cell_type": "code",
   "execution_count": 12,
   "id": "40a3ca7e-2581-4d99-a43c-5ad5a24344df",
   "metadata": {},
   "outputs": [
    {
     "name": "stderr",
     "output_type": "stream",
     "text": [
      "/Users/huang/anaconda3/lib/python3.11/site-packages/sklearn/cluster/_kmeans.py:870: FutureWarning: The default value of `n_init` will change from 10 to 'auto' in 1.4. Set the value of `n_init` explicitly to suppress the warning\n",
      "  warnings.warn(\n"
     ]
    },
    {
     "name": "stdout",
     "output_type": "stream",
     "text": [
      "A number of randomized controlled trials (RCTs) have demonstrated a reduction in depressive symptoms with both aerobic and non-aerobic exercise interventions. Design: A systematic review was undertaken on all RCTs reporting a signiﬁcant treatment effect of exercise in the treatment of depression. Methods: Studies were analyzed for exercise frequency, intensity, session duration, exercise type, exercise mode, intervention duration, delivery of exercise, level and quality of supervision and compliance. Inter- vention duration ranged from four to twelve weeks. Further research on the manipulation of program variables is warranted. High intensity exercise (>75% maximal heart rate) showed a larger effect size however the difference was not signiﬁ- cantly different to lower intensity exercise (61–74% maximal heart rate). From the RCTs conducted to date there is a wide variety of pro- gram variable combinations utilized making effective prescription of exercise in the treatment of patients with depression challenging for the practitioner. The following databases were searched: Pubmed, CINAHL, SPORTDiscus, psychARTICLES, and psychINFO. The search terms used were: depression, ‘major depression’, ‘major depressive dis- order’, ‘exercise’, ‘exercise therapy’, ‘exercise programming’. Full text versions were obtained for the remaining papers and further screened for inclu- sion. 1 shows the range of PEDro scores for the ﬁve included RCTs. All participants in the included studies were evaluated accord- ing to DSM-IV, ICD-10 or validated instruments. The program characteristics of aerobic exercise interventions meeting the inclusion criteria are shown in Table 1. Since 2007 there were no non-aerobic or resistance training studies identiﬁed meeting the inclusion criteria. The inﬂuence of this variable is presently unknown however all supervisors were well trained in the provision of exercise. Compared to the previous review of Perraton and colleagues23 our review recommends more frequent, longer duration exercise sessions over a greater duration and with appropriately qualiﬁed supervision. The heterogeneous nature of study design including outcome measures, depression score at baseline, co-interventions, exercise loading and blinding of assessors makes it difﬁcult to develop strong conclusions. Effect of exercise intensity on depressive symptoms in women. Fremont J, Craighead L. Aerobic exercise and cognitive therapy in the treatment of dysphoric moods. A randomized controlled trial of high versus low intensity weight training versus general practitioner care for clinical depression in older adults. NICE Depression: the treatment and management of depression in adults (update) NICE clinical guideline 90, 2009. The effect of exercise in clinically depressed adults: systematic review and meta-analysis of randomized controlled trials. Walking for depression or depressive symptoms: a systematic review and meta-analysis. Exercise as an augmentation treatment for nonremitted major depressive disorder: a randomized, parallel dose com- parison.\n"
     ]
    }
   ],
   "source": [
    "# import gensim\n",
    "import re\n",
    "# from gensim.summarization import summarize\n",
    "\n",
    "# 不是 !pip3 install summarizer\n",
    "# pip install bert-extractive-summarizer\n",
    "from summarizer import TransformerSummarizer\n",
    "\n",
    "def del_space(text):\n",
    "    text1 = text.replace('\\n', ' ').strip() \n",
    "    text2 = text1.replace(\" .\", \".\")  # 替换句号前面的空格 \"depressive episode .\"\n",
    "    text3 = re.sub(r'\\s+', ' ', text2)  # 使用正则表达式替换多个连续空格为单个空格\n",
    "    return text3\n",
    "\n",
    "\n",
    "GPT2_model = TransformerSummarizer(transformer_type=\"GPT2\",\n",
    "                         transformer_model_key=\"gpt2-medium\")\n",
    "gpt_summary = ''.join(GPT2_model(raw_text, min_length=60,max_length=250))\n",
    "gpt_summary = del_space(gpt_summary)\n",
    "print(gpt_summary)"
   ]
  },
  {
   "cell_type": "markdown",
   "id": "5f5972cb-32b4-49ae-a902-55a9c27db700",
   "metadata": {},
   "source": [
    "### bert_model - Abstract"
   ]
  },
  {
   "cell_type": "code",
   "execution_count": 21,
   "id": "b9aa3b21-5ca9-4464-afd9-6ef269566b35",
   "metadata": {},
   "outputs": [
    {
     "name": "stderr",
     "output_type": "stream",
     "text": [
      "/Users/huang/anaconda3/lib/python3.11/site-packages/sklearn/cluster/_kmeans.py:870: FutureWarning: The default value of `n_init` will change from 10 to 'auto' in 1.4. Set the value of `n_init` explicitly to suppress the warning\n",
      "  warnings.warn(\n"
     ]
    },
    {
     "name": "stdout",
     "output_type": "stream",
     "text": [
      "A number of randomized controlled trials (RCTs) have demonstrated a reduction in depressive symptoms with both aerobic and non-aerobic exercise interventions. This has been supported in a number of systematic reviews and meta-analyses. Most programs were performed three times weekly and of moderate intensity. Conclusions: There is evidence for the use supervised aerobic exercise, undertaken three times weekly at moderate intensity for a minimum of nine weeks in the treatment of depression. Whilst the effectiveness of exercise in the treatment of depres- sion is clear, studies investigating the dose response to exercise in people with depression remains equivocal. Results from this study showed that the high intensity resistance training program was deemed to be more effective compared to the low intensity program in the reduction of depressive symp- toms. From the RCTs conducted to date there is a wide variety of pro- gram variable combinations utilized making effective prescription of exercise in the treatment of patients with depression challenging for the practitioner. Comparison group: Any other intervention including pharmaco- therapy, education, psychotherapy, other exercise program, or no intervention including wait list controls. The reference lists of relevant articles were also examined and followed-up. Exercise interventions other R. Stanton, P. Reaburn / Journal of Science and Medicine in Sport 17 (2014) 177– 182 179 than standard aerobic or non-aerobic exercise such as Tai Chi, Yoga or dancing were also excluded. Where any discrepancy in PEDro scores existed this was resolved by discussion. All participants in the included studies were evaluated accord- ing to DSM-IV, ICD-10 or validated instruments. of intensities and the differing methods used to measure inten- sity it makes any attempt to conclude an optimal exercise intensity difﬁcult from the present review. The inﬂuence of this variable is presently unknown however all supervisors were well trained in the provision of exercise. Comparison with healthy and clinical populations The current review considers effective exercise interventions for people with depression. The efﬁcacy of exercise as a long-term antide- pressant in elderly subjects: a randomized, controlled trial. Effect of exercise intensity on depressive symptoms in women. Treatment of minor depression in older adults: a pilot study comparing sertraline and exercise. Exercise treatment for depression: efﬁ- cacy and dose response. Daley A. Exercise and depression: a review of reviews. The effectiveness of exercise as an intervention in the management of depression: systematic review and meta-regression analysis of randomised controlled trials. Perraton LG, Kumar S, Machotka Z. Exercise parameters in the treatment of clin- ical depression: a systematic review of randomized controlled trials. Quantity and quality of exercise for developing and maintaining cardiorespiratory, musculoskeletal, and neuromo- tor ﬁtness in apparently healthy adults: guidance for prescribing exercise. Exercise as an augmentation treatment for nonremitted major depressive disorder: a randomized, parallel dose com- parison.\n"
     ]
    }
   ],
   "source": [
    "# !pip install transformers==2.2.0\n",
    "# !pip install bert-extractive-summarizer\n",
    "\n",
    "from summarizer import Summarizer,TransformerSummarizer\n",
    "import re\n",
    "def del_space(text):\n",
    "    text1 = text.replace('\\n', ' ').strip() \n",
    "    text2 = text1.replace(\" .\", \".\")  # 替换句号前面的空格 \"depressive episode .\"\n",
    "    text3 = re.sub(r'\\s+', ' ', text2)  # 使用正则表达式替换多个连续空格为单个空格\n",
    "    return text3\n",
    "\n",
    "\n",
    "\n",
    "bert_model = Summarizer()\n",
    "bert_summary = ''.join(bert_model(raw_text, min_length=60, max_length=250))\n",
    "bert_summary = del_space(bert_summary)\n",
    "print(bert_summary)"
   ]
  },
  {
   "cell_type": "markdown",
   "id": "fcdc0038-7c7d-48ee-9eb4-3bc7072c754f",
   "metadata": {},
   "source": [
    "### abstract - Wordcloud"
   ]
  },
  {
   "cell_type": "code",
   "execution_count": 359,
   "id": "59a12363-6225-4ffa-a02f-f42f0ef8463f",
   "metadata": {
    "scrolled": true
   },
   "outputs": [
    {
     "data": {
      "text/plain": [
       "<Figure size 500x500 with 0 Axes>"
      ]
     },
     "execution_count": 359,
     "metadata": {},
     "output_type": "execute_result"
    },
    {
     "data": {
      "text/plain": [
       "<matplotlib.image.AxesImage at 0x292297550>"
      ]
     },
     "execution_count": 359,
     "metadata": {},
     "output_type": "execute_result"
    },
    {
     "data": {
      "text/plain": [
       "(-0.5, 499.5, 199.5, -0.5)"
      ]
     },
     "execution_count": 359,
     "metadata": {},
     "output_type": "execute_result"
    },
    {
     "data": {
      "image/png": "[encoded data removed]",
      "text/plain": [
       "<Figure size 500x500 with 1 Axes>"
      ]
     },
     "metadata": {},
     "output_type": "display_data"
    }
   ],
   "source": [
    "import matplotlib.pyplot as plt\n",
    "from wordcloud import WordCloud, STOPWORDS\n",
    "\n",
    "# list ->string\n",
    "# keywords = non_person_keywords[:20]\n",
    "# my_string = ' '.join(non_person_keywords[:20])\n",
    "\n",
    "# summary 应该是一个字符串，包含了所有要显示在词云中的文本\n",
    "# 创建 WordCloud 对象\n",
    "wordcloud = WordCloud(\n",
    "                width = 500, height = 200, \n",
    "                background_color ='black', \n",
    "                # stopwords = stopwords, \n",
    "                min_font_size = 10\n",
    "            ).generate(summary)  # <wordcloud.wordcloud.WordCloud at 0x1673575d0> 是一个对象\n",
    "\n",
    "\n",
    "# 使用 matplotlib 显示词云\n",
    "plt.figure(figsize = (5, 5), facecolor = 'k', edgecolor = 'k' )  # plt.figure(figsize=(75, 50), facecolor=None)\n",
    "plt.imshow(wordcloud)  # plt.imshow(wordcloud, interpolation=\"bilinear\")\n",
    "plt.axis(\"off\")\n",
    "plt.tight_layout(pad=0)\n",
    "\n",
    "# 显示图形\n",
    "plt.show()\n",
    "\n"
   ]
  },
  {
   "cell_type": "markdown",
   "id": "a8b4821e-1562-4543-b197-279e17ab6af6",
   "metadata": {},
   "source": [
    "### Evaluate - Rouge Score"
   ]
  },
  {
   "cell_type": "code",
   "execution_count": 70,
   "id": "5ab3c5c0-5782-4782-b60d-7238ac164eea",
   "metadata": {},
   "outputs": [
    {
     "name": "stdout",
     "output_type": "stream",
     "text": [
      "ROUGE-1: 0.9791666666666666 0.31125827814569534 0.4723618090452261\n",
      "ROUGE-2: 0.9361702127659575 0.29333333333333333 0.44670050761421315\n",
      "ROUGE-L: 0.9791666666666666 0.31125827814569534 0.4723618090452261\n",
      "ROUGE-1: 0.9259259259259259 0.33112582781456956 0.4878048780487805\n",
      "ROUGE-2: 0.7924528301886793 0.28 0.4137931034482759\n",
      "ROUGE-L: 0.8703703703703703 0.31125827814569534 0.4585365853658536\n",
      "ROUGE-1: 0.09025270758122744 0.16556291390728478 0.11682242990654207\n",
      "ROUGE-2: 0.0036231884057971015 0.006666666666666667 0.004694835680751174\n",
      "ROUGE-L: 0.039711191335740074 0.0728476821192053 0.05140186915887851\n"
     ]
    }
   ],
   "source": [
    "# from rouge_score import rouge_scorer\n",
    "\n",
    "# # 定义文件路径\n",
    "\n",
    "# text_path = \"./test_pubmed12_abstract.txt\"\n",
    "\n",
    "# original_abstract=\"\"\n",
    "\n",
    "# # 打开文件，读取内容\n",
    "# with open(text_path, 'r', encoding='utf-8') as file:\n",
    "#     original_abstract = file.read()\n",
    "\n",
    "# # 现在original_abstract变量包含了文本文件的内容\n",
    "# # print(original_abstract)\n",
    "\n",
    "\n",
    "# scorer = rouge_scorer.RougeScorer(['rouge1', 'rougeL'], use_stemmer=True)\n",
    "# scores = scorer.score('original_abstract', 't5_large_summary')\n",
    "# print(scores)\n",
    "\n",
    "\n",
    "\n",
    "\n",
    "from rouge_score import rouge_scorer\n",
    "\n",
    "# 定义文件路径\n",
    "\n",
    "text_path = \"./test_pubmed12_abstract.txt\"\n",
    "\n",
    "original_abstract=\"\"\n",
    "\n",
    "# 打开文件，读取内容\n",
    "with open(text_path, 'r', encoding='utf-8') as file:\n",
    "    original_abstract = file.read()\n",
    "\n",
    "# 现在original_abstract变量包含了文本文件的内容\n",
    "# print(original_abstract)\n",
    "\n",
    "def rouge_score(original_abstract, trained_abstract):\n",
    "    # 计算ROUGE分数\n",
    "    scorer = rouge_scorer.RougeScorer(['rouge1', 'rouge2', 'rougeL'], use_stemmer=True)\n",
    "    scores = scorer.score(original_abstract, trained_abstract)\n",
    "\n",
    "    # 输出ROUGE分数\n",
    "    print(\"ROUGE-1:\", scores['rouge1'].precision, scores['rouge1'].recall, scores['rouge1'].fmeasure)\n",
    "    print(\"ROUGE-2:\", scores['rouge2'].precision, scores['rouge2'].recall, scores['rouge2'].fmeasure)\n",
    "    print(\"ROUGE-L:\", scores['rougeL'].precision, scores['rougeL'].recall, scores['rougeL'].fmeasure)\n",
    "\n",
    "\n",
    "\n",
    "\n",
    "rouge_score(original_abstract, t5_large_summary)\n",
    "rouge_score(original_abstract, bart_summary)\n",
    "rouge_score(original_abstract, gensim_summaries)\n",
    "\n",
    "\n"
   ]
  },
  {
   "cell_type": "code",
   "execution_count": 21,
   "id": "c8737ab2-8887-4c27-bebb-dbf322ffc6df",
   "metadata": {},
   "outputs": [
    {
     "data": {
      "image/png": "[encoded data removed]",
      "text/plain": [
       "<Figure size 1200x800 with 9 Axes>"
      ]
     },
     "metadata": {},
     "output_type": "display_data"
    }
   ],
   "source": [
    "import matplotlib.pyplot as plt\n",
    "import numpy as np\n",
    "\n",
    "# 假设你有三个方法的ROUGE分数数据，每个方法包含ROUGE-1、ROUGE-2和ROUGE-L的数据\n",
    "methods = ['T5', 'Bart', 'Gensim']\n",
    "\n",
    "rouge_metrics = ['ROUGE-1', 'ROUGE-2', 'ROUGE-L']\n",
    "precision_scores = np.array([[0.9791666666666666, 0.31125827814569534, 0.4723618090452261],\n",
    "                             [0.9361702127659575, 0.29333333333333333, 0.44670050761421315],\n",
    "                             [0.9791666666666666, 0.31125827814569534, 0.4723618090452261]])\n",
    "\n",
    "recall_scores = np.array([[0.9259259259259259, 0.33112582781456956, 0.4878048780487805],\n",
    "                             [0.7924528301886793, 0.28, 0.4137931034482759],\n",
    "                             [0.8703703703703703, 0.31125827814569534, 0.4585365853658536]])\n",
    "\n",
    "fmeasure_scores = np.array([[0.09025270758122744, 0.16556291390728478, 0.11682242990654207],\n",
    "                             [0.0036231884057971015, 0.006666666666666667, 0.004694835680751174],\n",
    "                             [0.039711191335740074, 0.0728476821192053, 0.05140186915887851]])\n",
    "\n",
    "# 创建一个子图的排列\n",
    "num_rows = len(rouge_metrics)\n",
    "num_cols = len(methods)\n",
    "\n",
    "# 设置子图的位置\n",
    "fig, axs = plt.subplots(num_rows, num_cols, figsize=(12, 8), sharex='col', sharey='row')\n",
    "\n",
    "# 遍历每个ROUGE指标和方法，创建柱状图\n",
    "for i in range(num_rows):\n",
    "    for j in range(num_cols):\n",
    "        ax = axs[i, j]\n",
    "        ax.bar(range(len(methods)), [precision_scores[i, j], recall_scores[i, j], fmeasure_scores[i, j]])\n",
    "        ax.set_title(f'{rouge_metrics[i]} - {methods[j]}')\n",
    "        ax.set_xticks(range(len(methods)))\n",
    "        ax.set_xticklabels(['Precision', 'Recall', 'F-measure'])\n",
    "        if j == 0:\n",
    "            ax.set_ylabel('Scores')\n",
    "\n",
    "# 设置整体标题\n",
    "plt.suptitle('ROUGE Scores Comparison by Method')\n",
    "\n",
    "# 调整子图之间的间距\n",
    "plt.tight_layout(rect=[0, 0.03, 1, 0.95])\n",
    "\n",
    "# 显示图形\n",
    "plt.show()\n"
   ]
  },
  {
   "cell_type": "code",
   "execution_count": 71,
   "id": "5849dc6c-3da0-4005-a2b8-68dc95857f8d",
   "metadata": {},
   "outputs": [
    {
     "data": {
      "text/plain": [
       "<BarContainer object of 3 artists>"
      ]
     },
     "execution_count": 71,
     "metadata": {},
     "output_type": "execute_result"
    },
    {
     "data": {
      "text/plain": [
       "<BarContainer object of 3 artists>"
      ]
     },
     "execution_count": 71,
     "metadata": {},
     "output_type": "execute_result"
    },
    {
     "data": {
      "text/plain": [
       "<BarContainer object of 3 artists>"
      ]
     },
     "execution_count": 71,
     "metadata": {},
     "output_type": "execute_result"
    },
    {
     "data": {
      "text/plain": [
       "Text(0.5, 0, 'ROUGE Metrics')"
      ]
     },
     "execution_count": 71,
     "metadata": {},
     "output_type": "execute_result"
    },
    {
     "data": {
      "text/plain": [
       "([<matplotlib.axis.XTick at 0x178b1f190>,\n",
       "  <matplotlib.axis.XTick at 0x28c435150>,\n",
       "  <matplotlib.axis.XTick at 0x28c4f4390>],\n",
       " [Text(0.3, 0, 'ROUGE-1'), Text(1.3, 0, 'ROUGE-2'), Text(2.3, 0, 'ROUGE-L')])"
      ]
     },
     "execution_count": 71,
     "metadata": {},
     "output_type": "execute_result"
    },
    {
     "data": {
      "text/plain": [
       "Text(0, 0.5, 'Scores')"
      ]
     },
     "execution_count": 71,
     "metadata": {},
     "output_type": "execute_result"
    },
    {
     "data": {
      "text/plain": [
       "<matplotlib.legend.Legend at 0x28c35fb90>"
      ]
     },
     "execution_count": 71,
     "metadata": {},
     "output_type": "execute_result"
    },
    {
     "data": {
      "text/plain": [
       "Text(0.5, 1.0, 'ROUGE Scores Comparison')"
      ]
     },
     "execution_count": 71,
     "metadata": {},
     "output_type": "execute_result"
    },
    {
     "data": {
      "image/png": "[encoded data removed]",
      "text/plain": [
       "<Figure size 640x480 with 1 Axes>"
      ]
     },
     "metadata": {},
     "output_type": "display_data"
    }
   ],
   "source": [
    "import matplotlib.pyplot as plt\n",
    "\n",
    "# 示例ROUGE分数\n",
    "rouge1_precision = 0.9791666666666666\n",
    "rouge1_recall = 0.31125827814569534\n",
    "rouge1_fmeasure = 0.4723618090452261\n",
    "\n",
    "rouge2_precision = 0.9361702127659575\n",
    "rouge2_recall = 0.29333333333333333\n",
    "rouge2_fmeasure = 0.44670050761421315\n",
    "\n",
    "rougeL_precision = 0.9791666666666666\n",
    "rougeL_recall = 0.31125827814569534\n",
    "rougeL_fmeasure = 0.4723618090452261\n",
    "\n",
    "# ROUGE指标名称\n",
    "labels = ['ROUGE-1', 'ROUGE-2', 'ROUGE-L']\n",
    "\n",
    "# ROUGE分数数值\n",
    "precision_scores = [rouge1_precision, rouge2_precision, rougeL_precision]\n",
    "recall_scores = [rouge1_recall, rouge2_recall, rougeL_recall]\n",
    "fmeasure_scores = [rouge1_fmeasure, rouge2_fmeasure, rougeL_fmeasure]\n",
    "\n",
    "# 柱状图宽度\n",
    "width = 0.3\n",
    "\n",
    "# 设置子图的位置\n",
    "x = range(len(labels))\n",
    "fig, ax = plt.subplots()\n",
    "\n",
    "# 绘制柱状图\n",
    "plt.bar(x, precision_scores, width, label='Precision')\n",
    "plt.bar([i + width for i in x], recall_scores, width, label='Recall')\n",
    "plt.bar([i + 2 * width for i in x], fmeasure_scores, width, label='F-measure')\n",
    "\n",
    "# 设置x轴标签\n",
    "plt.xlabel('ROUGE Metrics')\n",
    "plt.xticks([i + width for i in x], labels)\n",
    "\n",
    "# 设置y轴标签\n",
    "plt.ylabel('Scores')\n",
    "\n",
    "# 添加图例\n",
    "plt.legend()\n",
    "\n",
    "# 添加标题\n",
    "plt.title('ROUGE Scores Comparison')\n",
    "\n",
    "# 显示图形\n",
    "plt.tight_layout()\n",
    "plt.show()\n"
   ]
  },
  {
   "cell_type": "markdown",
   "id": "edb8a388-1d96-4cd8-ba63-04d671fa9b0e",
   "metadata": {},
   "source": [
    "### Evaluate - BERTScore"
   ]
  },
  {
   "cell_type": "code",
   "execution_count": 49,
   "id": "93659193-b253-4469-961c-10552c45a036",
   "metadata": {},
   "outputs": [
    {
     "data": {
      "application/vnd.jupyter.widget-view+json": {
       "model_id": "46c8f60d71074401ba374add3cb2618c",
       "version_major": 2,
       "version_minor": 0
      },
      "text/plain": [
       "model.safetensors:   0%|          | 0.00/1.42G [00:00<?, ?B/s]"
      ]
     },
     "metadata": {},
     "output_type": "display_data"
    },
    {
     "name": "stderr",
     "output_type": "stream",
     "text": [
      "Some weights of RobertaModel were not initialized from the model checkpoint at roberta-large and are newly initialized: ['roberta.pooler.dense.bias', 'roberta.pooler.dense.weight']\n",
      "You should probably TRAIN this model on a down-stream task to be able to use it for predictions and inference.\n"
     ]
    },
    {
     "name": "stdout",
     "output_type": "stream",
     "text": [
      "calculating scores...\n",
      "computing bert embedding.\n"
     ]
    },
    {
     "data": {
      "application/vnd.jupyter.widget-view+json": {
       "model_id": "0c3f03a6a9224127823f8815ad6cb8ec",
       "version_major": 2,
       "version_minor": 0
      },
      "text/plain": [
       "  0%|          | 0/1 [00:00<?, ?it/s]"
      ]
     },
     "metadata": {},
     "output_type": "display_data"
    },
    {
     "name": "stdout",
     "output_type": "stream",
     "text": [
      "computing greedy matching.\n"
     ]
    },
    {
     "data": {
      "application/vnd.jupyter.widget-view+json": {
       "model_id": "3c4071ac83a445a88b8c71e36a573848",
       "version_major": 2,
       "version_minor": 0
      },
      "text/plain": [
       "  0%|          | 0/1 [00:00<?, ?it/s]"
      ]
     },
     "metadata": {},
     "output_type": "display_data"
    },
    {
     "name": "stdout",
     "output_type": "stream",
     "text": [
      "done in 0.97 seconds, 1.03 sentences/sec\n",
      "T5-Large BERTScores - Precision: 0.9620826244354248, Recall: 0.8713266253471375, F1-Score: 0.9144583344459534\n"
     ]
    },
    {
     "name": "stderr",
     "output_type": "stream",
     "text": [
      "Some weights of RobertaModel were not initialized from the model checkpoint at roberta-large and are newly initialized: ['roberta.pooler.dense.bias', 'roberta.pooler.dense.weight']\n",
      "You should probably TRAIN this model on a down-stream task to be able to use it for predictions and inference.\n"
     ]
    },
    {
     "name": "stdout",
     "output_type": "stream",
     "text": [
      "calculating scores...\n",
      "computing bert embedding.\n"
     ]
    },
    {
     "data": {
      "application/vnd.jupyter.widget-view+json": {
       "model_id": "a1bbdb6d30c94dfc87a3afc6d5fe4541",
       "version_major": 2,
       "version_minor": 0
      },
      "text/plain": [
       "  0%|          | 0/1 [00:00<?, ?it/s]"
      ]
     },
     "metadata": {},
     "output_type": "display_data"
    },
    {
     "name": "stdout",
     "output_type": "stream",
     "text": [
      "computing greedy matching.\n"
     ]
    },
    {
     "data": {
      "application/vnd.jupyter.widget-view+json": {
       "model_id": "5a5ec1a82f22496ca67d1b4a9a8d1c90",
       "version_major": 2,
       "version_minor": 0
      },
      "text/plain": [
       "  0%|          | 0/1 [00:00<?, ?it/s]"
      ]
     },
     "metadata": {},
     "output_type": "display_data"
    },
    {
     "name": "stdout",
     "output_type": "stream",
     "text": [
      "done in 0.53 seconds, 1.89 sentences/sec\n",
      "BERT BERTScores - Precision: 0.9362745881080627, Recall: 0.8691570162773132, F1-Score: 0.9014682769775391\n"
     ]
    },
    {
     "name": "stderr",
     "output_type": "stream",
     "text": [
      "Some weights of RobertaModel were not initialized from the model checkpoint at roberta-large and are newly initialized: ['roberta.pooler.dense.bias', 'roberta.pooler.dense.weight']\n",
      "You should probably TRAIN this model on a down-stream task to be able to use it for predictions and inference.\n"
     ]
    },
    {
     "name": "stdout",
     "output_type": "stream",
     "text": [
      "calculating scores...\n",
      "computing bert embedding.\n"
     ]
    },
    {
     "data": {
      "application/vnd.jupyter.widget-view+json": {
       "model_id": "9545977f0911465eb8414b18c6eae048",
       "version_major": 2,
       "version_minor": 0
      },
      "text/plain": [
       "  0%|          | 0/1 [00:00<?, ?it/s]"
      ]
     },
     "metadata": {},
     "output_type": "display_data"
    },
    {
     "name": "stdout",
     "output_type": "stream",
     "text": [
      "computing greedy matching.\n"
     ]
    },
    {
     "data": {
      "application/vnd.jupyter.widget-view+json": {
       "model_id": "3590e54b4dd04c09af7ffd786dd9a48d",
       "version_major": 2,
       "version_minor": 0
      },
      "text/plain": [
       "  0%|          | 0/1 [00:00<?, ?it/s]"
      ]
     },
     "metadata": {},
     "output_type": "display_data"
    },
    {
     "name": "stdout",
     "output_type": "stream",
     "text": [
      "done in 1.13 seconds, 0.89 sentences/sec\n",
      "Gensim BERTScores - Precision: 0.7129749655723572, Recall: 0.7981893420219421, F1-Score: 0.7531794905662537\n"
     ]
    }
   ],
   "source": [
    "from bert_score import score\n",
    "\n",
    "def calculate_bert_scores(candidates, references):\n",
    "    P, R, F1 = score(candidates, references, lang=\"en\", verbose=True)\n",
    "    return P.mean().item(), R.mean().item(), F1.mean().item()\n",
    "\n",
    "# 确保 t5_large_summary, bert_summaries, gensim_summaries, 和 original_abstract 都是列表，并且它们的长度相同\n",
    "# 如果是字符串，用[]转成列表形式传参\n",
    "P, R, F1 = calculate_bert_scores([t5_large_summary], [original_abstract])\n",
    "print(f\"T5-Large BERTScores - Precision: {P}, Recall: {R}, F1-Score: {F1}\")\n",
    "\n",
    "P, R, F1 = calculate_bert_scores([bart_summary], [original_abstract])\n",
    "print(f\"BERT BERTScores - Precision: {P}, Recall: {R}, F1-Score: {F1}\")\n",
    "\n",
    "P, R, F1 = calculate_bert_scores([gensim_summaries], [original_abstract])\n",
    "print(f\"Gensim BERTScores - Precision: {P}, Recall: {R}, F1-Score: {F1}\")\n"
   ]
  },
  {
   "cell_type": "code",
   "execution_count": 19,
   "id": "465d3bc6-d834-49c4-a645-04eaa452762f",
   "metadata": {},
   "outputs": [
    {
     "data": {
      "image/png": "[encoded data removed]",
      "text/plain": [
       "<Figure size 640x480 with 1 Axes>"
      ]
     },
     "metadata": {},
     "output_type": "display_data"
    }
   ],
   "source": [
    "import matplotlib.pyplot as plt\n",
    "import numpy as np\n",
    "\n",
    "# 假设你已经有了每个模型的BERTScore的P, R, F1值\n",
    "t5_scores = {'Precision': 0.9620826244354248, 'Recall': 0.8713266253471375, 'F1': 0.9144583344459534}\n",
    "bert_scores = {'Precision': 0.9362745881080627, 'Recall': 0.8691570162773132, 'F1': 0.9014682769775391}\n",
    "gensim_scores = {'Precision': 0.7129749655723572, 'Recall': 0.7981893420219421, 'F1': 0.7531794905662537}\n",
    "\n",
    "labels = list(t5_scores.keys())\n",
    "t5_vals = list(t5_scores.values())\n",
    "bert_vals = list(bert_scores.values())\n",
    "gensim_vals = list(gensim_scores.values())\n",
    "\n",
    "x = np.arange(len(labels))  # the label locations\n",
    "width = 0.2  # the width of the bars\n",
    "\n",
    "fig, ax = plt.subplots()\n",
    "rects1 = ax.bar(x - width, t5_vals, width, label='T5')\n",
    "rects2 = ax.bar(x, bert_vals, width, label='Bart')\n",
    "rects3 = ax.bar(x + width, gensim_vals, width, label='Gensim')\n",
    "\n",
    "# Add some text for labels, title and custom x-axis tick labels, etc.\n",
    "ax.set_ylabel('Scores')\n",
    "ax.set_title('BERTScore by model and category')\n",
    "ax.set_xticks(x)\n",
    "ax.set_xticklabels(labels)\n",
    "ax.legend()\n",
    "\n",
    "# Function to attach a text label above each bar, displaying its height.\n",
    "def autolabel(rects):\n",
    "    for rect in rects:\n",
    "        height = rect.get_height()\n",
    "        ax.annotate('{}'.format(height),\n",
    "                    xy=(rect.get_x() + rect.get_width() / 2, height),\n",
    "                    xytext=(0, 3),  # 3 points vertical offset\n",
    "                    textcoords=\"offset points\",\n",
    "                    ha='center', va='bottom')\n",
    "\n",
    "# autolabel(rects1)\n",
    "# autolabel(rects2)\n",
    "# autolabel(rects3)\n",
    "\n",
    "fig.tight_layout()\n",
    "\n",
    "plt.show()\n"
   ]
  },
  {
   "cell_type": "markdown",
   "id": "2eb8b0d8-66af-409a-840b-1110a57591a3",
   "metadata": {},
   "source": [
    "### Evaluate - confusion matrix"
   ]
  },
  {
   "cell_type": "code",
   "execution_count": 58,
   "id": "15d31656-3feb-487f-a4f7-d0c124457e05",
   "metadata": {},
   "outputs": [
    {
     "name": "stderr",
     "output_type": "stream",
     "text": [
      "Some weights of RobertaModel were not initialized from the model checkpoint at roberta-large and are newly initialized: ['roberta.pooler.dense.bias', 'roberta.pooler.dense.weight']\n",
      "You should probably TRAIN this model on a down-stream task to be able to use it for predictions and inference.\n"
     ]
    },
    {
     "name": "stdout",
     "output_type": "stream",
     "text": [
      "calculating scores...\n",
      "computing bert embedding.\n"
     ]
    },
    {
     "data": {
      "application/vnd.jupyter.widget-view+json": {
       "model_id": "dede1fb31b584a279abd3584754193c2",
       "version_major": 2,
       "version_minor": 0
      },
      "text/plain": [
       "  0%|          | 0/1 [00:00<?, ?it/s]"
      ]
     },
     "metadata": {},
     "output_type": "display_data"
    },
    {
     "name": "stdout",
     "output_type": "stream",
     "text": [
      "computing greedy matching.\n"
     ]
    },
    {
     "data": {
      "application/vnd.jupyter.widget-view+json": {
       "model_id": "912cc54c30234765b8669ef68bfcc567",
       "version_major": 2,
       "version_minor": 0
      },
      "text/plain": [
       "  0%|          | 0/1 [00:00<?, ?it/s]"
      ]
     },
     "metadata": {},
     "output_type": "display_data"
    },
    {
     "name": "stdout",
     "output_type": "stream",
     "text": [
      "done in 0.50 seconds, 2.00 sentences/sec\n",
      "T5-Large BERTScores - correct: 1, incorrect: 0\n"
     ]
    },
    {
     "name": "stderr",
     "output_type": "stream",
     "text": [
      "Some weights of RobertaModel were not initialized from the model checkpoint at roberta-large and are newly initialized: ['roberta.pooler.dense.bias', 'roberta.pooler.dense.weight']\n",
      "You should probably TRAIN this model on a down-stream task to be able to use it for predictions and inference.\n"
     ]
    },
    {
     "name": "stdout",
     "output_type": "stream",
     "text": [
      "calculating scores...\n",
      "computing bert embedding.\n"
     ]
    },
    {
     "data": {
      "application/vnd.jupyter.widget-view+json": {
       "model_id": "dda252efad14460892c4e17fe676499e",
       "version_major": 2,
       "version_minor": 0
      },
      "text/plain": [
       "  0%|          | 0/1 [00:00<?, ?it/s]"
      ]
     },
     "metadata": {},
     "output_type": "display_data"
    },
    {
     "name": "stdout",
     "output_type": "stream",
     "text": [
      "computing greedy matching.\n"
     ]
    },
    {
     "data": {
      "application/vnd.jupyter.widget-view+json": {
       "model_id": "78917235681b442f825adfc2417f57f5",
       "version_major": 2,
       "version_minor": 0
      },
      "text/plain": [
       "  0%|          | 0/1 [00:00<?, ?it/s]"
      ]
     },
     "metadata": {},
     "output_type": "display_data"
    },
    {
     "name": "stdout",
     "output_type": "stream",
     "text": [
      "done in 0.40 seconds, 2.47 sentences/sec\n",
      "BERT BERTScores - correct: 1, incorrect: 0\n"
     ]
    },
    {
     "name": "stderr",
     "output_type": "stream",
     "text": [
      "Some weights of RobertaModel were not initialized from the model checkpoint at roberta-large and are newly initialized: ['roberta.pooler.dense.bias', 'roberta.pooler.dense.weight']\n",
      "You should probably TRAIN this model on a down-stream task to be able to use it for predictions and inference.\n"
     ]
    },
    {
     "name": "stdout",
     "output_type": "stream",
     "text": [
      "calculating scores...\n",
      "computing bert embedding.\n"
     ]
    },
    {
     "data": {
      "application/vnd.jupyter.widget-view+json": {
       "model_id": "8d6f9a9c39a94dfda47b42c98f67bcef",
       "version_major": 2,
       "version_minor": 0
      },
      "text/plain": [
       "  0%|          | 0/1 [00:00<?, ?it/s]"
      ]
     },
     "metadata": {},
     "output_type": "display_data"
    },
    {
     "name": "stdout",
     "output_type": "stream",
     "text": [
      "computing greedy matching.\n"
     ]
    },
    {
     "data": {
      "application/vnd.jupyter.widget-view+json": {
       "model_id": "f894709ba0a44b78bbf0b6cd97881335",
       "version_major": 2,
       "version_minor": 0
      },
      "text/plain": [
       "  0%|          | 0/1 [00:00<?, ?it/s]"
      ]
     },
     "metadata": {},
     "output_type": "display_data"
    },
    {
     "name": "stdout",
     "output_type": "stream",
     "text": [
      "done in 0.93 seconds, 1.07 sentences/sec\n",
      "Gensim BERTScores - correct: 0, incorrect: 1\n"
     ]
    }
   ],
   "source": [
    "# 混淆矩阵\n",
    "\n",
    "# 定义阈值\n",
    "bertscore_threshold = 0.8\n",
    "\n",
    "# 计算混淆矩阵\n",
    "def calculate_confusion_matrix(summaries, references, threshold):\n",
    "    _, _, F1 = score(summaries, references, lang=\"en\", verbose=True)\n",
    "    correct = (F1 > threshold).sum().item()\n",
    "    incorrect = len(F1) - correct\n",
    "    return correct, incorrect\n",
    "\n",
    "correct, incorrect = calculate_confusion_matrix([t5_large_summary], [original_abstract], bertscore_threshold)\n",
    "print(f\"T5-Large BERTScores - correct: {correct}, incorrect: {incorrect}\")\n",
    "\n",
    "correct, incorrect = calculate_confusion_matrix([bart_summary], [original_abstract], bertscore_threshold)\n",
    "print(f\"BERT BERTScores - correct: {correct}, incorrect: {incorrect}\")\n",
    "\n",
    "correct, incorrect = calculate_confusion_matrix([gensim_summaries], [original_abstract], bertscore_threshold)\n",
    "print(f\"Gensim BERTScores - correct: {correct}, incorrect: {incorrect}\")\n",
    "\n"
   ]
  },
  {
   "cell_type": "code",
   "execution_count": 66,
   "id": "b088b599-5fe7-4e89-9253-45af6ac96452",
   "metadata": {},
   "outputs": [
    {
     "data": {
      "text/plain": [
       "<Axes: >"
      ]
     },
     "execution_count": 66,
     "metadata": {},
     "output_type": "execute_result"
    },
    {
     "data": {
      "text/plain": [
       "Text(0.5, 1.0, 'Summary Quality Confusion Matrix')"
      ]
     },
     "execution_count": 66,
     "metadata": {},
     "output_type": "execute_result"
    },
    {
     "data": {
      "text/plain": [
       "Text(0.5, 23.52222222222222, 'Summary Quality')"
      ]
     },
     "execution_count": 66,
     "metadata": {},
     "output_type": "execute_result"
    },
    {
     "data": {
      "text/plain": [
       "Text(50.722222222222214, 0.5, 'Models')"
      ]
     },
     "execution_count": 66,
     "metadata": {},
     "output_type": "execute_result"
    },
    {
     "data": {
      "image/png": "[encoded data removed]",
      "text/plain": [
       "<Figure size 640x480 with 2 Axes>"
      ]
     },
     "metadata": {},
     "output_type": "display_data"
    }
   ],
   "source": [
    "import numpy as np\n",
    "import seaborn as sns\n",
    "import matplotlib.pyplot as plt\n",
    "\n",
    "# 这里是你的数据，每个元素是一个二元组 (correct, incorrect)\n",
    "t5_confusion_matrix = (1, 0)  # 例如，T5 模型正确:1，错误:0\n",
    "bert_confusion_matrix = (1, 0)  # 你需要用实际的数据替换这里\n",
    "gensim_confusion_matrix = (0, 1)  # 你需要用实际的数据替换这里\n",
    "\n",
    "# 将这些数据转换成 numpy 数组，以便绘图\n",
    "matrix_data = np.array([t5_confusion_matrix, bert_confusion_matrix, gensim_confusion_matrix])\n",
    "models = ['T5', 'BERT', 'Gensim']\n",
    "categories = ['Correct', 'Incorrect']\n",
    "\n",
    "# 创建热力图\n",
    "sns.heatmap(matrix_data, annot=True, fmt=\"d\", cmap=\"Blues\", xticklabels=categories, yticklabels=models)\n",
    "\n",
    "# 添加标题和轴标签\n",
    "plt.title('Summary Quality Confusion Matrix')\n",
    "plt.xlabel('Summary Quality')\n",
    "plt.ylabel('Models')\n",
    "plt.show()\n"
   ]
  },
  {
   "cell_type": "code",
   "execution_count": 78,
   "id": "9bf351e5-2713-42fb-a6d1-58e21da52809",
   "metadata": {},
   "outputs": [
    {
     "ename": "NameError",
     "evalue": "name 'bert_bert_scores' is not defined",
     "output_type": "error",
     "traceback": [
      "\u001b[0;31m---------------------------------------------------------------------------\u001b[0m",
      "\u001b[0;31mNameError\u001b[0m                                 Traceback (most recent call last)",
      "Cell \u001b[0;32mIn[78], line 6\u001b[0m\n\u001b[1;32m      4\u001b[0m \u001b[38;5;66;03m# 假设你已经计算了一些评估指标\u001b[39;00m\n\u001b[1;32m      5\u001b[0m t5_scores \u001b[38;5;241m=\u001b[39m {\u001b[38;5;124m'\u001b[39m\u001b[38;5;124mRouge-1\u001b[39m\u001b[38;5;124m'\u001b[39m: \u001b[38;5;241m0.5\u001b[39m, \u001b[38;5;124m'\u001b[39m\u001b[38;5;124mRouge-2\u001b[39m\u001b[38;5;124m'\u001b[39m: \u001b[38;5;241m0.4\u001b[39m, \u001b[38;5;124m'\u001b[39m\u001b[38;5;124mBERTScore\u001b[39m\u001b[38;5;124m'\u001b[39m: \u001b[38;5;241m0.7129749655723572\u001b[39m}\n\u001b[0;32m----> 6\u001b[0m bert_scores \u001b[38;5;241m=\u001b[39m {\u001b[38;5;124m'\u001b[39m\u001b[38;5;124mRouge-1\u001b[39m\u001b[38;5;124m'\u001b[39m: \u001b[38;5;241m0.6\u001b[39m, \u001b[38;5;124m'\u001b[39m\u001b[38;5;124mRouge-2\u001b[39m\u001b[38;5;124m'\u001b[39m: \u001b[38;5;241m0.45\u001b[39m, \u001b[38;5;124m'\u001b[39m\u001b[38;5;124mBERTScore\u001b[39m\u001b[38;5;124m'\u001b[39m: bert_bert_scores[\u001b[38;5;241m2\u001b[39m]}\n\u001b[1;32m      7\u001b[0m gensim_scores \u001b[38;5;241m=\u001b[39m {\u001b[38;5;124m'\u001b[39m\u001b[38;5;124mRouge-1\u001b[39m\u001b[38;5;124m'\u001b[39m: \u001b[38;5;241m0.55\u001b[39m, \u001b[38;5;124m'\u001b[39m\u001b[38;5;124mRouge-2\u001b[39m\u001b[38;5;124m'\u001b[39m: \u001b[38;5;241m0.35\u001b[39m, \u001b[38;5;124m'\u001b[39m\u001b[38;5;124mBERTScore\u001b[39m\u001b[38;5;124m'\u001b[39m: gensim_bert_scores[\u001b[38;5;241m2\u001b[39m]}\n\u001b[1;32m      9\u001b[0m labels \u001b[38;5;241m=\u001b[39m \u001b[38;5;28mlist\u001b[39m(t5_scores\u001b[38;5;241m.\u001b[39mkeys())\n",
      "\u001b[0;31mNameError\u001b[0m: name 'bert_bert_scores' is not defined"
     ]
    }
   ],
   "source": [
    "# 条形图\n",
    "import matplotlib.pyplot as plt\n",
    "\n",
    "# 假设你已经计算了一些评估指标\n",
    "t5_scores = {'Rouge-1': 0.5, 'Rouge-2': 0.4, 'BERTScore': 0.7129749655723572}\n",
    "bert_scores = {'Rouge-1': 0.6, 'Rouge-2': 0.45, 'BERTScore': bert_bert_scores[2]}\n",
    "gensim_scores = {'Rouge-1': 0.55, 'Rouge-2': 0.35, 'BERTScore': gensim_bert_scores[2]}\n",
    "\n",
    "labels = list(t5_scores.keys())\n",
    "t5_vals = list(t5_scores.values())\n",
    "bert_vals = list(bert_scores.values())\n",
    "gensim_vals = list(gensim_scores.values())\n",
    "\n",
    "x = range(len(labels))\n",
    "\n",
    "plt.bar(x, t5_vals, width=0.2, label='T5')\n",
    "plt.bar(x, bert_vals, width=0.2, label='BERT', bottom=t5_vals)\n",
    "plt.bar(x, gensim_vals, width=0.2, label='Gensim', bottom=[i+j for i,j in zip(t5_vals, bert_vals)])\n",
    "\n",
    "plt.xticks(x, labels)\n",
    "plt.ylabel(\"Scores\")\n",
    "plt.legend()\n",
    "plt.show()\n"
   ]
  },
  {
   "cell_type": "code",
   "execution_count": null,
   "id": "d016c4b6-0538-466e-b6d4-e81d2459e429",
   "metadata": {},
   "outputs": [],
   "source": []
  },
  {
   "cell_type": "code",
   "execution_count": null,
   "id": "d0a7a36c-8f36-4e12-9636-c71e941d6418",
   "metadata": {},
   "outputs": [],
   "source": []
  },
  {
   "cell_type": "code",
   "execution_count": null,
   "id": "fc9036e5-ea48-4516-b220-a42b00701adb",
   "metadata": {},
   "outputs": [],
   "source": []
  },
  {
   "cell_type": "markdown",
   "id": "8b734547-f666-4064-a6f3-8e914b956c2f",
   "metadata": {},
   "source": [
    "### Evaluate - BLEU"
   ]
  },
  {
   "cell_type": "code",
   "execution_count": 82,
   "id": "a727a759-05b8-4c45-9053-39e8b644cc8d",
   "metadata": {},
   "outputs": [
    {
     "name": "stdout",
     "output_type": "stream",
     "text": [
      "BLEU Score: 0.09063995337445475\n",
      "BLEU Score: 0.14306037729619697\n",
      "BLEU Score: 2.1622140574945903e-155\n"
     ]
    }
   ],
   "source": [
    "import nltk\n",
    "\n",
    "def bleu_score(original_abstract, trained_data):\n",
    "\n",
    "    # 使用nltk计算BLEU分数\n",
    "    reference_tokenized = nltk.word_tokenize(original_abstract)\n",
    "    system_summary_tokenized = nltk.word_tokenize(trained_data)\n",
    "    bleu_score = nltk.translate.bleu_score.sentence_bleu([reference_tokenized], system_summary_tokenized)\n",
    "    \n",
    "    # 输出BLEU分数\n",
    "    print(\"BLEU Score:\", bleu_score)\n",
    "\n",
    "bleu_score(original_abstract, t5_large_summary)\n",
    "bleu_score(original_abstract, bart_summary)\n",
    "bleu_score(original_abstract, gensim_summaries)\n",
    "\n"
   ]
  },
  {
   "cell_type": "code",
   "execution_count": null,
   "id": "542e4878-e3be-4b38-9e56-6508ac5c88db",
   "metadata": {},
   "outputs": [],
   "source": []
  },
  {
   "cell_type": "code",
   "execution_count": 5,
   "id": "a2ee3d63-13f1-475f-8beb-9c376c6c5d2b",
   "metadata": {
    "scrolled": true
   },
   "outputs": [
    {
     "data": {
      "text/plain": [
       "tensor([[[-0.1144,  0.1937,  0.1250,  ..., -0.3827,  0.2107,  0.5407],\n",
       "         [ 0.5308,  0.3207,  0.3665,  ..., -0.0036,  0.7579,  0.0388],\n",
       "         [-0.4877,  0.8849,  0.4256,  ..., -0.6976,  0.4458,  0.1231],\n",
       "         ...,\n",
       "         [-0.7003, -0.1815,  0.3297,  ..., -0.4838,  0.0680,  0.8901],\n",
       "         [-1.0355, -0.2567, -0.0317,  ...,  0.3197,  0.3999,  0.1795],\n",
       "         [ 0.6080,  0.2610, -0.3131,  ...,  0.0311, -0.6283, -0.1994]]],\n",
       "       grad_fn=<NativeLayerNormBackward0>)"
      ]
     },
     "execution_count": 5,
     "metadata": {},
     "output_type": "execute_result"
    }
   ],
   "source": [
    "# import torch # BertModel requires the PyTorch library \n",
    "# from transformers import BertModel, BertTokenizer\n",
    "\n",
    "# # 加载分词器和模型\n",
    "# tokenizer = BertTokenizer.from_pretrained('bert-base-uncased')\n",
    "# model = BertModel.from_pretrained('bert-base-uncased')\n",
    "\n",
    "\n",
    "# # 对文本进行编码\n",
    "# inputs = tokenizer(\"Hello, my dog is cute\", return_tensors=\"pt\")\n",
    "\n",
    "# # 通过模型获取输出\n",
    "# outputs = model(**inputs)\n",
    "\n",
    "# # 输出包含了多层的信息，通常我们使用最后一层的隐藏状态\n",
    "# last_hidden_states = outputs.last_hidden_state\n",
    "# last_hidden_states\n",
    "# # 现在你可以使用tokenizer来处理你的文本，然后使用model来获取文本的嵌入表示\n"
   ]
  },
  {
   "cell_type": "code",
   "execution_count": null,
   "id": "d126428d-48c2-41a2-8f59-730c2d81d871",
   "metadata": {},
   "outputs": [],
   "source": []
  },
  {
   "cell_type": "code",
   "execution_count": null,
   "id": "9e4c44e6-bdc9-4c00-a5ab-9f5ac3cb60c5",
   "metadata": {},
   "outputs": [],
   "source": [
    "pip install bert-for-tf2"
   ]
  },
  {
   "cell_type": "code",
   "execution_count": null,
   "id": "b45a58a7-5480-4bcd-b920-d6b702cb5a52",
   "metadata": {},
   "outputs": [],
   "source": [
    "data source: https://www.kaggle.com/datasets/sebastienverpile/consumercomplaintsdata/data"
   ]
  },
  {
   "cell_type": "code",
   "execution_count": null,
   "id": "2de90fae-043c-4b05-96fa-97877e96315d",
   "metadata": {},
   "outputs": [],
   "source": []
  },
  {
   "cell_type": "markdown",
   "id": "cf5ee26e-0cff-4f2c-b1f8-51758f3a5d4e",
   "metadata": {},
   "source": [
    "## 5. Extract Heading and Blocked Content"
   ]
  },
  {
   "cell_type": "code",
   "execution_count": 38,
   "id": "68b08790-86e7-4dca-8ab1-c10d2350d3cc",
   "metadata": {},
   "outputs": [
    {
     "name": "stdout",
     "output_type": "stream",
     "text": [
      "[]\n"
     ]
    }
   ],
   "source": [
    "5. How to extract text under specific headings from a pdf?"
   ]
  },
  {
   "cell_type": "code",
   "execution_count": 24,
   "id": "6a6135ff-2b41-43fc-b5ef-4cbad6d0f7d9",
   "metadata": {},
   "outputs": [
    {
     "data": {
      "text/plain": [
       "['LABEL_4',\n",
       " 'LABEL_4',\n",
       " 'LABEL_9',\n",
       " 'LABEL_0',\n",
       " 'LABEL_0',\n",
       " 'LABEL_6',\n",
       " 'LABEL_9',\n",
       " 'LABEL_2',\n",
       " 'LABEL_0',\n",
       " 'LABEL_0',\n",
       " 'LABEL_0',\n",
       " 'LABEL_2',\n",
       " 'LABEL_2',\n",
       " 'LABEL_9',\n",
       " 'LABEL_8',\n",
       " 'LABEL_1',\n",
       " 'LABEL_0',\n",
       " 'LABEL_0',\n",
       " 'LABEL_8',\n",
       " 'LABEL_0',\n",
       " 'LABEL_8',\n",
       " 'LABEL_1',\n",
       " 'LABEL_8',\n",
       " 'LABEL_8',\n",
       " 'LABEL_8',\n",
       " 'LABEL_7',\n",
       " 'LABEL_8',\n",
       " 'LABEL_8',\n",
       " 'LABEL_8',\n",
       " 'LABEL_8',\n",
       " 'LABEL_0',\n",
       " 'LABEL_4',\n",
       " 'LABEL_9',\n",
       " 'LABEL_2',\n",
       " 'LABEL_6',\n",
       " 'LABEL_1',\n",
       " 'LABEL_8',\n",
       " 'LABEL_6',\n",
       " 'LABEL_6',\n",
       " 'LABEL_4',\n",
       " 'LABEL_6',\n",
       " 'LABEL_6',\n",
       " 'LABEL_6',\n",
       " 'LABEL_6',\n",
       " 'LABEL_2',\n",
       " 'LABEL_0',\n",
       " 'LABEL_6',\n",
       " 'LABEL_6',\n",
       " 'LABEL_9',\n",
       " 'LABEL_0',\n",
       " 'LABEL_8',\n",
       " 'LABEL_9',\n",
       " 'LABEL_0',\n",
       " 'LABEL_6',\n",
       " 'LABEL_3',\n",
       " 'LABEL_0',\n",
       " 'LABEL_6',\n",
       " 'LABEL_2',\n",
       " 'LABEL_6',\n",
       " 'LABEL_1',\n",
       " 'LABEL_0',\n",
       " 'LABEL_6',\n",
       " 'LABEL_6',\n",
       " 'LABEL_3',\n",
       " 'LABEL_3',\n",
       " 'LABEL_3',\n",
       " 'LABEL_9',\n",
       " 'LABEL_6',\n",
       " 'LABEL_2',\n",
       " 'LABEL_3',\n",
       " 'LABEL_2',\n",
       " 'LABEL_2',\n",
       " 'LABEL_0',\n",
       " 'LABEL_0',\n",
       " 'LABEL_0',\n",
       " 'LABEL_6',\n",
       " 'LABEL_6',\n",
       " 'LABEL_1',\n",
       " 'LABEL_6',\n",
       " 'LABEL_6',\n",
       " 'LABEL_2',\n",
       " 'LABEL_2',\n",
       " 'LABEL_8',\n",
       " 'LABEL_4',\n",
       " 'LABEL_8',\n",
       " 'LABEL_6',\n",
       " 'LABEL_7',\n",
       " 'LABEL_4',\n",
       " 'LABEL_0',\n",
       " 'LABEL_0',\n",
       " 'LABEL_6',\n",
       " 'LABEL_6',\n",
       " 'LABEL_2',\n",
       " 'LABEL_7',\n",
       " 'LABEL_2',\n",
       " 'LABEL_7',\n",
       " 'LABEL_1',\n",
       " 'LABEL_4',\n",
       " 'LABEL_4',\n",
       " 'LABEL_7',\n",
       " 'LABEL_4',\n",
       " 'LABEL_7',\n",
       " 'LABEL_7',\n",
       " 'LABEL_7',\n",
       " 'LABEL_7',\n",
       " 'LABEL_7',\n",
       " 'LABEL_1',\n",
       " 'LABEL_7',\n",
       " 'LABEL_4',\n",
       " 'LABEL_7',\n",
       " 'LABEL_7',\n",
       " 'LABEL_4',\n",
       " 'LABEL_7',\n",
       " 'LABEL_2',\n",
       " 'LABEL_2',\n",
       " 'LABEL_2',\n",
       " 'LABEL_0',\n",
       " 'LABEL_7',\n",
       " 'LABEL_1',\n",
       " 'LABEL_4',\n",
       " 'LABEL_7',\n",
       " 'LABEL_7',\n",
       " 'LABEL_7',\n",
       " 'LABEL_2',\n",
       " 'LABEL_7',\n",
       " 'LABEL_7',\n",
       " 'LABEL_2',\n",
       " 'LABEL_7',\n",
       " 'LABEL_7',\n",
       " 'LABEL_7',\n",
       " 'LABEL_2',\n",
       " 'LABEL_2',\n",
       " 'LABEL_7',\n",
       " 'LABEL_7',\n",
       " 'LABEL_7',\n",
       " 'LABEL_7',\n",
       " 'LABEL_4',\n",
       " 'LABEL_7',\n",
       " 'LABEL_4',\n",
       " 'LABEL_7',\n",
       " 'LABEL_7',\n",
       " 'LABEL_7',\n",
       " 'LABEL_9',\n",
       " 'LABEL_2',\n",
       " 'LABEL_9',\n",
       " 'LABEL_0',\n",
       " 'LABEL_2',\n",
       " 'LABEL_2',\n",
       " 'LABEL_5',\n",
       " 'LABEL_1',\n",
       " 'LABEL_0',\n",
       " 'LABEL_0',\n",
       " 'LABEL_6',\n",
       " 'LABEL_6',\n",
       " 'LABEL_5',\n",
       " 'LABEL_9',\n",
       " 'LABEL_9']"
      ]
     },
     "execution_count": 24,
     "metadata": {},
     "output_type": "execute_result"
    }
   ],
   "source": [
    "from transformers import BertModel, BertTokenizer\n",
    "import torch\n",
    "from torch import nn\n",
    "\n",
    "class NERModel(nn.Module):\n",
    "    def __init__(self, num_labels):\n",
    "        super(NERModel, self).__init__()\n",
    "        self.bert = BertModel.from_pretrained('bert-base-uncased')\n",
    "        self.classifier = nn.Linear(self.bert.config.hidden_size, num_labels)\n",
    "\n",
    "    def forward(self, input_ids, attention_mask, token_type_ids):\n",
    "        outputs = self.bert(input_ids, attention_mask=attention_mask, token_type_ids=token_type_ids)\n",
    "        sequence_output = outputs.last_hidden_state\n",
    "        logits = self.classifier(sequence_output)\n",
    "        return logits\n",
    "\n",
    "\n",
    "# 加载模型和分词器\n",
    "tokenizer = BertTokenizer.from_pretrained('bert-base-uncased')\n",
    "model = NERModel(num_labels=10)  # 假设有10个实体标签\n",
    "\n",
    "text = methodology_text\n",
    "inputs = tokenizer(text, return_tensors=\"pt\", max_length=512, truncation=True)\n",
    "\n",
    "# 获取模型预测的实体标签\n",
    "# logits = model(**inputs)\n",
    "# 确保模型预测时使用了所有的BERT输入\n",
    "logits = model(input_ids=inputs['input_ids'], attention_mask=inputs['attention_mask'], token_type_ids=inputs['token_type_ids'])\n",
    "predicted_label_ids = torch.argmax(logits, dim=2)\n",
    "\n",
    "# # 将标签ID转换为标签名称（这里需要实体标签的映射）\n",
    "# label_map = {0: 'O', 1: 'B-METHOD', 2: 'I-METHOD'}  # 示例标签映射\n",
    "# predicted_labels = [label_map[label_id] for label_id in predicted_label_ids[0]]\n",
    "# 假设我们的label_map是0到9的标签\n",
    "label_map = {i: f'LABEL_{i}' for i in range(10)}  # 示例标签映射\n",
    "predicted_labels = [label_map.get(label_id.item(), 'UNKNOWN') for label_id in predicted_label_ids[0]]\n",
    "predicted_labels"
   ]
  },
  {
   "cell_type": "code",
   "execution_count": 22,
   "id": "f274f9e4-854e-431a-ad11-e7891b3f1330",
   "metadata": {},
   "outputs": [
    {
     "name": "stdout",
     "output_type": "stream",
     "text": [
      "Exercise and the treatment of depression: A review of the exercise program variables - 第1页\n",
      "  1 Introduction - 第1页\n",
      "  2 Methods - 第2页\n",
      "  3 Results - 第3页\n",
      "  4 Discussion - 第3页\n",
      "  5 Recommendations from this review - 第5页\n",
      "  6 Comparison with healthy and clinical populations - 第5页\n",
      "  7 Limitations - 第6页\n",
      "  8 Future recommendations - 第6页\n",
      "  9 Summary - 第6页\n",
      "  References - 第6页\n"
     ]
    }
   ],
   "source": [
    "import fitz  # PyMuPDF\n",
    "\n",
    "# 定义提取PDF目录的函数\n",
    "def extract_toc(pdf_path):\n",
    "    # 打开PDF文件\n",
    "    doc = fitz.open(pdf_path)\n",
    "    toc = doc.get_toc()  # 获取目录结构\n",
    "    doc.close()  # 关闭文档\n",
    "    return toc\n",
    "\n",
    "# 指定PDF文件路径\n",
    "pdf_path = \"../test_paper2.pdf\" # 替换为你的PDF文件路径\n",
    "\n",
    "# 提取目录结构\n",
    "table_of_contents = extract_toc(pdf_path)\n",
    "\n",
    "# 打印目录结构\n",
    "for entry in table_of_contents:\n",
    "    level, title, page = entry\n",
    "    print(f\"{'  ' * (level - 1)}{title} - 第{page}页\")\n"
   ]
  },
  {
   "cell_type": "code",
   "execution_count": 80,
   "id": "6ca245c7-5462-429b-bf73-d39c5249afbe",
   "metadata": {},
   "outputs": [
    {
     "name": "stdout",
     "output_type": "stream",
     "text": [
      "{'format': 'PDF 1.7', 'title': 'Exercise and the treatment of depression: A review of the exercise program variables', 'author': 'Robert Stanton', 'subject': 'Journal of Science and Medicine in Sport, 17 (2014) 177-182. doi:10.1016/j.jsams.2013.03.010', 'keywords': '', 'creator': 'Elsevier', 'producer': 'Acrobat Distiller 9.0.0 (Windows)', 'creationDate': 'D:20140131131119Z', 'modDate': \"D:20140223022850+05'30'\", 'trapped': '', 'encryption': None}\n",
      "[[1, 'Exercise and the treatment of depression: A review of the exercise program variables', 1], [2, '1 Introduction', 1], [2, '2 Methods', 2], [2, '3 Results', 3], [2, '4 Discussion', 3], [2, '5 Recommendations from this review', 5], [2, '6 Comparison with healthy and clinical populations', 5], [2, '7 Limitations', 6], [2, '8 Future recommendations', 6], [2, '9 Summary', 6], [2, 'References', 6]]\n",
      "('subscript', 'Journal')\n",
      "('subscript', ' ')\n",
      "('subscript', 'of')\n",
      "('subscript', ' ')\n",
      "('subscript', 'Science')\n",
      "('subscript', ' ')\n",
      "('subscript', 'and')\n",
      "('subscript', ' ')\n",
      "('subscript', 'Medicine')\n",
      "('subscript', ' ')\n"
     ]
    }
   ],
   "source": [
    "import fitz  # PyMuPDF\n",
    "\n",
    "def extract_text_with_format(pdf_path, granularity_flags):\n",
    "    doc = fitz.open(pdf_path)\n",
    "    print(doc.metadata)\n",
    "    print(doc.get_toc())\n",
    "    \n",
    "    formatted_text = []\n",
    "\n",
    "    for page_num in range(len(doc)):\n",
    "        page = doc.load_page(page_num)\n",
    "        blocks = page.get_text(\"dict\")[\"blocks\"]\n",
    "        for b in blocks:  # 遍历页面上的每一个文本块\n",
    "            if 'lines' in b:  # 确保文本块中包含'lines'\n",
    "                for l in b[\"lines\"]:  # 遍历文本块中的每一行\n",
    "                    for s in l[\"spans\"]:  # 遍历行中的每个文本跨度\n",
    "                        if granularity_flags['size'] and s['size'] < 12:\n",
    "                            # 假设小于12pt的文字可能是下标\n",
    "                            text_element = ('subscript', s['text'])\n",
    "                        elif granularity_flags['size'] and s['size'] > 13:\n",
    "                            # 假设大于13pt的文字可能是标题\n",
    "                            text_element = ('header', s['text'])\n",
    "                        else:\n",
    "                            # 其他的都假设是普通段落文本\n",
    "                            text_element = ('paragraph', s['text'])\n",
    "                        formatted_text.append(text_element)\n",
    "    \n",
    "    doc.close()\n",
    "    return formatted_text\n",
    "\n",
    "# 配置我们希望识别的文本属性\n",
    "granularity_flags = {\n",
    "    \"size\": True,   # 根据字体大小\n",
    "    \"font\": False,  # 根据字体样式\n",
    "    \"color\": False, # 根据字体颜色\n",
    "    \"flags\": False, # 根据文本属性标志，如加粗或斜体\n",
    "}\n",
    "\n",
    "# 指定PDF文件路径\n",
    "pdf_path = \"../test_paper2.pdf\" # 替换为你的PDF文件路径\n",
    "\n",
    "# 提取并尝试识别文本格式\n",
    "formatted_text = extract_text_with_format(pdf_path, granularity_flags)\n",
    "\n",
    "# 打印出前几个识别的文本格式元素，示例：(类型, 文本)\n",
    "for text_element in formatted_text[:10]:\n",
    "    print(text_element)\n"
   ]
  },
  {
   "cell_type": "code",
   "execution_count": 117,
   "id": "cc4fccd4-2366-4d5b-93ac-c9c31de2be7d",
   "metadata": {},
   "outputs": [
    {
     "name": "stdout",
     "output_type": "stream",
     "text": [
      "page 对象: page 1 of ../test_paper2.pdf\n",
      "打印检索文本的位置: [Rect(77.59620666503906, 96.395263671875, 111.08655548095703, 106.25428009033203), Rect(313.3341979980469, 325.2271423339844, 348.2352294921875, 335.173828125)]\n",
      "匹配的目录条目: 2 Methods\n",
      "位置信息 (边界框): None\n",
      "未在页面上找到章节标题。\n"
     ]
    }
   ],
   "source": [
    "# 目录结构：\n",
    "# toc.append([1, 'Exercise and the treatment of depression: A review of the exercise program variables', 1])\n",
    "# [\n",
    "#     [1, 'Exercise and the treatment of depression: A review of the exercise program variables', 1], \n",
    "#     [2, '1 Introduction', 1], \n",
    "#     [2, '2 Methods', 2], \n",
    "#     [2, '3 Results', 3], \n",
    "#     [2, '4 Discussion', 3], \n",
    "#     [2, '5 Recommendations from this review', 5], \n",
    "#     [2, '6 Comparison with healthy and clinical populations', 5], \n",
    "#     [2, '7 Limitations', 6], \n",
    "#     [2, '8 Future recommendations', 6], \n",
    "#     [2, '9 Summary', 6], \n",
    "#     [2, 'References', 6]\n",
    "# ]\n",
    "# [章节级别（Level）,章节标题（Title）,章节开始的页面]\n",
    "\n",
    "\n",
    "import fitz  # PyMuPDF\n",
    "\n",
    "# 打开PDF文件\n",
    "doc = fitz.open(\"../test_paper2.pdf\")\n",
    "\n",
    "\n",
    "\n",
    "\n",
    "\n",
    "# 获取Page 页面对象的属性和方法\n",
    "page = doc.load_page(1)  # 默认加载第一页\n",
    "print(\"page 对象:\", page) # page 对象: page 1 of ../test_paper2.pdf\n",
    "\n",
    "# 1、获取Page 页面的链接、批注或表单字段\n",
    "# links = page.get_links()\n",
    "# for link in links:\n",
    "#     print(\"链接:\", link)\n",
    " \n",
    "# annots = page.annots()\n",
    "# for annot in annots:\n",
    "#     # 涉及Annot 对象\n",
    "#     print(\"批注:\", annot)\n",
    " \n",
    "# widgets = page.widgets()\n",
    "# for widget in widgets:\n",
    "#     # 涉及表单字段\n",
    "#     print(\"表单字段:\", widget)\n",
    "\n",
    "\n",
    "# 3、Page 获取文本\\图像\\其他信息\n",
    "# 温馨提示:涉及TextPage 常量类型定义\n",
    "# text = page.get_text(\"text\")\n",
    "# print(\"指定页面文本内容:\", text)\n",
    "\n",
    "# 4、Page 文本检索\n",
    "search = page.search_for(\"Methods\")\n",
    "print(\"打印检索文本的位置:\", search)\n",
    "\n",
    "\n",
    "# 获取目录\n",
    "toc = doc.get_toc()\n",
    "\n",
    "\n",
    "# 定义可能的变形\n",
    "method_variants = {'method', 'methods', 'methodology', 'methodologies', 'research methods'}\n",
    "\n",
    "\n",
    "matching_entry = None\n",
    "for i, (level, title, page_num) in enumerate(toc):\n",
    "    if any(word.lower() in title.lower() for word in method_variants): # 将标题转换为小写，并与变形集合进行比较,any一个为True就为True\n",
    "        matching_entry = (level, title, page_num)\n",
    "        break\n",
    "\n",
    "# 检查是否找到匹配条目\n",
    "if matching_entry is None: # matching_entry == None:？？\n",
    "    print(\"未在目录中找到指定的章节标题。\")\n",
    "else:\n",
    "    level, title, page_num = matching_entry\n",
    "    page = doc.load_page(page_num - 1)  # 页面编号基于1，所以减1\n",
    "    # 寻找标题在页面上的边界框\n",
    "    text_bbox = None\n",
    "    for word in page.get_text(\"words\"):  # 获取页面上的每个词\n",
    "        if title.lower() in word[4].lower():  # word[4]是词的文本\n",
    "            # word[:4]包含边界框的坐标\n",
    "            if text_bbox is None:\n",
    "                text_bbox = fitz.Rect(word[:4])\n",
    "            else:\n",
    "                text_bbox = text_bbox | fitz.Rect(word[:4])  # 合并边界框\n",
    "    # 输出匹配的章节标题和位置信息\n",
    "    print(f\"匹配的目录条目: {title}\")\n",
    "    print(f\"位置信息 (边界框): {text_bbox}\")\n",
    "    # 如果找到了标题的边界框\n",
    "    if text_bbox:\n",
    "        # 假设章节文本从标题下方开始\n",
    "        text_area = fitz.Rect(text_bbox.x0, text_bbox.y1, text_bbox.x1, page.rect.y1)\n",
    "        section_text = page.get_textbox(text_area)\n",
    "        print(section_text)\n",
    "    else:\n",
    "        print(\"未在页面上找到章节标题。\")\n",
    "\n",
    "\n",
    "#     level, title, page_num = matching_entry\n",
    "#     page = doc.load_page(page_num - 1)  # Page numbers are 1-based, so subtract 1\n",
    "\n",
    "#     # Iterate through the words on the page to find the bounding box of the title\n",
    "#     text_bbox = None\n",
    "#     for word in page.get_text_words():\n",
    "#         if title.lower() in word[4].lower():\n",
    "#             if text_bbox is None:\n",
    "#                 text_bbox = fitz.Rect(word[:4])\n",
    "#             else:\n",
    "#                 text_bbox = text_bbox + fitz.Rect(word[:4])\n",
    "    \n",
    "#     print(f\"Matching TOC Entry: {title}\")\n",
    "#     print(f\"Position Information (Rect): {text_bbox}\")\n",
    "\n",
    "\n",
    "\n",
    "\n",
    "    \n",
    "# 关闭文档\n",
    "doc.close()\n",
    "\n",
    "\n",
    "\n",
    "\n",
    "\n"
   ]
  },
  {
   "cell_type": "markdown",
   "id": "cd2e5ff0-6aca-48ff-bced-852f61955282",
   "metadata": {},
   "source": [
    "---"
   ]
  },
  {
   "cell_type": "markdown",
   "id": "cf0315ff-38a8-4dcc-a69f-282eada97095",
   "metadata": {},
   "source": [
    "## 6. Extract Methodology"
   ]
  },
  {
   "cell_type": "markdown",
   "id": "f20a7dca-b90a-43ea-b7ce-be8f30b603c3",
   "metadata": {},
   "source": [
    " ### BERT - Methodology - bert-base-uncased"
   ]
  },
  {
   "cell_type": "code",
   "execution_count": 17,
   "id": "28324afb-efe2-42b4-bb3d-2d6c1e383ccf",
   "metadata": {},
   "outputs": [
    {
     "name": "stdout",
     "output_type": "stream",
     "text": [
      "发现关键词: Methods\n"
     ]
    },
    {
     "data": {
      "text/plain": [
       "'Methods:\\n Studies\\n were  analyzed\\n for  exercise\\n frequency,\\n intensity,\\n session\\n duration,\\n exercise\\n type,  exercise\\nmode,\\n intervention\\n duration,\\n delivery\\n of  exercise,\\n level\\n and  quality  of  supervision\\n and  compliance.\\n Study\\nquality\\n was  assessed\\n using  the  PEDro\\n scale.\\nResults'"
      ]
     },
     "execution_count": 17,
     "metadata": {},
     "output_type": "execute_result"
    }
   ],
   "source": [
    "# ********** 理解文档结构 - 需要识别文档的逻辑结构（如标题、子标题、段落）**********\n",
    "\n",
    "import re\n",
    "import spacy\n",
    "from collections import Counter\n",
    "\n",
    "\n",
    "# ********** 关键词识别：使用基本的字符串方法或正则表达式来搜索关键词。 re **********\n",
    "text = raw_text\n",
    "keywords = [\"Methods\", \"Research Methods\", \"Methodology\"]\n",
    "for keyword in keywords:\n",
    "    if re.search(keyword, text):\n",
    "        print(f\"发现关键词: {keyword}\")\n",
    "\n",
    "\n",
    "# 正则表达式：使用正则表达式来定位方法论部分的开始和结束。\n",
    "methodology_section = re.search(r'(Methods)\\s*[\\s\\S]*?(Results)', text)\n",
    "if methodology_section:\n",
    "    methodology_text = methodology_section.group()\n",
    "methodology_text\n",
    "\n",
    "# # 加载Spacy模型\n",
    "# nlp = spacy.load(\"en_core_web_sm\")\n",
    "\n",
    "# # 假设你已经有了方法论部分的文本\n",
    "# methodology_text = \"\"\"这里是你的方法论部分的文本...\"\"\"\n",
    "\n",
    "# # 对文本进行处理\n",
    "# doc = nlp(methodology_text)\n",
    "\n",
    "# # 初始化一个计数器来存储方法\n",
    "# methods = Counter()\n",
    "\n",
    "# # 遍历文档中的每个词\n",
    "# for token in doc:\n",
    "#     # 选择名词和专有名词\n",
    "#     if token.pos_ in ['NOUN', 'PROPN']:\n",
    "#         methods[token.lemma_] += 1\n",
    "\n",
    "# # 输出最常见的术语\n",
    "# print(methods.most_common(10))\n",
    "\n",
    "\n",
    "\n",
    "\n",
    "\n",
    "methodology_text = \"Our methodology is similar to that of Perraton and colleagues. Our review initially considered all RCTs published since 1960 ful- filling the following criteria: 1. Population: All adults aged 18–65 years with a diagnosis of depression as defined by the Diagnostic and Statistical Manual of Mental Disorders, Fourth Edition (DSM IV), International Statis\u0002tical Classification of Diseases and Related Health Problems 10th Revision (ICD-10) criteria or a validated depression scale. 2. Intervention: Aerobic or resistance training program, or a com\u0002bination of both, of any duration. 3. Comparison group: Any other intervention including pharmaco\u0002therapy, education, psychotherapy, other exercise program, or no intervention including wait list controls. 4. Outcome measures: Validated depression rating scales.\"\n",
    "\n",
    "\n",
    "from transformers import BertModel, BertTokenizer\n",
    "import torch\n",
    "\n",
    "def del_space(text):\n",
    "    text1 = text.replace('\\n', ' ').strip() \n",
    "    text2 = text1.replace(\" .\", \".\")  # 替换句号前面的空格 \"depressive episode .\"\n",
    "    text3 = re.sub(r'\\s+', ' ', text2)  # 使用正则表达式替换多个连续空格为单个空格\n",
    "    return text3\n",
    "    \n",
    "# 加载分词器和模型\n",
    "tokenizer = BertTokenizer.from_pretrained('bert-base-uncased')\n",
    "model = BertModel.from_pretrained('bert-base-uncased')\n",
    "\n",
    "# text = \"考虑了所有RCTs，验证了抑郁症，包括等待，验证了抑郁症状。\"\n",
    "\n",
    "# 对文本进行编码\n",
    "inputs = tokenizer(methodology_text, return_tensors=\"pt\", max_length=512, truncation=True)\n",
    "\n",
    "# 获取BERT模型的输出\n",
    "outputs = model(**inputs)\n",
    "\n",
    "# outputs.last_hidden_state有模型最后一层的隐藏状态\n",
    "# 这些隐藏状态可以用于提取高层次的语义信息\n",
    "# 你可以在此基础上构建实体提取或文本分类任务\n",
    "# 例如，你可以结合实体识别模型来识别和提取方法论中提到的方法\n",
    "\n",
    "\n",
    "\n",
    "\n"
   ]
  },
  {
   "cell_type": "markdown",
   "id": "f65d2677-9b2f-4f4e-b5cd-2b805e5d420b",
   "metadata": {},
   "source": [
    "## 7. Visualize of Frontend"
   ]
  },
  {
   "cell_type": "code",
   "execution_count": 26,
   "id": "0170e44e-0c39-4b35-b2be-bc82a613a1bd",
   "metadata": {},
   "outputs": [
    {
     "data": {
      "application/vnd.plotly.v1+json": {
       "config": {
        "plotlyServerURL": "https://plot.ly"
       },
       "data": [
        {
         "colorbar": {
          "title": {
           "text": "Number of Publication"
          }
         },
         "colorscale": [
          [
           0,
           "rgb(255,245,240)"
          ],
          [
           0.125,
           "rgb(254,224,210)"
          ],
          [
           0.25,
           "rgb(252,187,161)"
          ],
          [
           0.375,
           "rgb(252,146,114)"
          ],
          [
           0.5,
           "rgb(251,106,74)"
          ],
          [
           0.625,
           "rgb(239,59,44)"
          ],
          [
           0.75,
           "rgb(203,24,29)"
          ],
          [
           0.875,
           "rgb(165,15,21)"
          ],
          [
           1,
           "rgb(103,0,13)"
          ]
         ],
         "locations": [
          "USA",
          "CAN",
          "MEX",
          "BRA",
          "ARG",
          "COL",
          "GER",
          "FRA",
          "RUS",
          "CHN",
          "IND",
          "AUS",
          "JPN",
          "ZAF",
          "NGA"
         ],
         "text": [
          "USA",
          "CAN",
          "MEX",
          "BRA",
          "ARG",
          "COL",
          "GER",
          "FRA",
          "RUS",
          "CHN",
          "IND",
          "AUS",
          "JPN",
          "ZAF",
          "NGA"
         ],
         "type": "choropleth",
         "z": [
          20,
          30,
          15,
          40,
          20,
          25,
          30,
          35,
          45,
          50,
          40,
          25,
          35,
          20,
          10
         ]
        }
       ],
       "layout": {
        "geo": {
         "center": {
          "lat": 37.435258926560934,
          "lon": 47.095510589542016
         },
         "projection": {
          "rotation": {
           "lon": 47.095510589542016
          },
          "scale": 0.7909743853752136,
          "type": "equirectangular"
         },
         "showcoastlines": false,
         "showframe": false
        },
        "height": 600,
        "template": {
         "data": {
          "bar": [
           {
            "error_x": {
             "color": "#2a3f5f"
            },
            "error_y": {
             "color": "#2a3f5f"
            },
            "marker": {
             "line": {
              "color": "#E5ECF6",
              "width": 0.5
             },
             "pattern": {
              "fillmode": "overlay",
              "size": 10,
              "solidity": 0.2
             }
            },
            "type": "bar"
           }
          ],
          "barpolar": [
           {
            "marker": {
             "line": {
              "color": "#E5ECF6",
              "width": 0.5
             },
             "pattern": {
              "fillmode": "overlay",
              "size": 10,
              "solidity": 0.2
             }
            },
            "type": "barpolar"
           }
          ],
          "carpet": [
           {
            "aaxis": {
             "endlinecolor": "#2a3f5f",
             "gridcolor": "white",
             "linecolor": "white",
             "minorgridcolor": "white",
             "startlinecolor": "#2a3f5f"
            },
            "baxis": {
             "endlinecolor": "#2a3f5f",
             "gridcolor": "white",
             "linecolor": "white",
             "minorgridcolor": "white",
             "startlinecolor": "#2a3f5f"
            },
            "type": "carpet"
           }
          ],
          "choropleth": [
           {
            "colorbar": {
             "outlinewidth": 0,
             "ticks": ""
            },
            "type": "choropleth"
           }
          ],
          "contour": [
           {
            "colorbar": {
             "outlinewidth": 0,
             "ticks": ""
            },
            "colorscale": [
             [
              0,
              "#0d0887"
             ],
             [
              0.1111111111111111,
              "#46039f"
             ],
             [
              0.2222222222222222,
              "#7201a8"
             ],
             [
              0.3333333333333333,
              "#9c179e"
             ],
             [
              0.4444444444444444,
              "#bd3786"
             ],
             [
              0.5555555555555556,
              "#d8576b"
             ],
             [
              0.6666666666666666,
              "#ed7953"
             ],
             [
              0.7777777777777778,
              "#fb9f3a"
             ],
             [
              0.8888888888888888,
              "#fdca26"
             ],
             [
              1,
              "#f0f921"
             ]
            ],
            "type": "contour"
           }
          ],
          "contourcarpet": [
           {
            "colorbar": {
             "outlinewidth": 0,
             "ticks": ""
            },
            "type": "contourcarpet"
           }
          ],
          "heatmap": [
           {
            "colorbar": {
             "outlinewidth": 0,
             "ticks": ""
            },
            "colorscale": [
             [
              0,
              "#0d0887"
             ],
             [
              0.1111111111111111,
              "#46039f"
             ],
             [
              0.2222222222222222,
              "#7201a8"
             ],
             [
              0.3333333333333333,
              "#9c179e"
             ],
             [
              0.4444444444444444,
              "#bd3786"
             ],
             [
              0.5555555555555556,
              "#d8576b"
             ],
             [
              0.6666666666666666,
              "#ed7953"
             ],
             [
              0.7777777777777778,
              "#fb9f3a"
             ],
             [
              0.8888888888888888,
              "#fdca26"
             ],
             [
              1,
              "#f0f921"
             ]
            ],
            "type": "heatmap"
           }
          ],
          "heatmapgl": [
           {
            "colorbar": {
             "outlinewidth": 0,
             "ticks": ""
            },
            "colorscale": [
             [
              0,
              "#0d0887"
             ],
             [
              0.1111111111111111,
              "#46039f"
             ],
             [
              0.2222222222222222,
              "#7201a8"
             ],
             [
              0.3333333333333333,
              "#9c179e"
             ],
             [
              0.4444444444444444,
              "#bd3786"
             ],
             [
              0.5555555555555556,
              "#d8576b"
             ],
             [
              0.6666666666666666,
              "#ed7953"
             ],
             [
              0.7777777777777778,
              "#fb9f3a"
             ],
             [
              0.8888888888888888,
              "#fdca26"
             ],
             [
              1,
              "#f0f921"
             ]
            ],
            "type": "heatmapgl"
           }
          ],
          "histogram": [
           {
            "marker": {
             "pattern": {
              "fillmode": "overlay",
              "size": 10,
              "solidity": 0.2
             }
            },
            "type": "histogram"
           }
          ],
          "histogram2d": [
           {
            "colorbar": {
             "outlinewidth": 0,
             "ticks": ""
            },
            "colorscale": [
             [
              0,
              "#0d0887"
             ],
             [
              0.1111111111111111,
              "#46039f"
             ],
             [
              0.2222222222222222,
              "#7201a8"
             ],
             [
              0.3333333333333333,
              "#9c179e"
             ],
             [
              0.4444444444444444,
              "#bd3786"
             ],
             [
              0.5555555555555556,
              "#d8576b"
             ],
             [
              0.6666666666666666,
              "#ed7953"
             ],
             [
              0.7777777777777778,
              "#fb9f3a"
             ],
             [
              0.8888888888888888,
              "#fdca26"
             ],
             [
              1,
              "#f0f921"
             ]
            ],
            "type": "histogram2d"
           }
          ],
          "histogram2dcontour": [
           {
            "colorbar": {
             "outlinewidth": 0,
             "ticks": ""
            },
            "colorscale": [
             [
              0,
              "#0d0887"
             ],
             [
              0.1111111111111111,
              "#46039f"
             ],
             [
              0.2222222222222222,
              "#7201a8"
             ],
             [
              0.3333333333333333,
              "#9c179e"
             ],
             [
              0.4444444444444444,
              "#bd3786"
             ],
             [
              0.5555555555555556,
              "#d8576b"
             ],
             [
              0.6666666666666666,
              "#ed7953"
             ],
             [
              0.7777777777777778,
              "#fb9f3a"
             ],
             [
              0.8888888888888888,
              "#fdca26"
             ],
             [
              1,
              "#f0f921"
             ]
            ],
            "type": "histogram2dcontour"
           }
          ],
          "mesh3d": [
           {
            "colorbar": {
             "outlinewidth": 0,
             "ticks": ""
            },
            "type": "mesh3d"
           }
          ],
          "parcoords": [
           {
            "line": {
             "colorbar": {
              "outlinewidth": 0,
              "ticks": ""
             }
            },
            "type": "parcoords"
           }
          ],
          "pie": [
           {
            "automargin": true,
            "type": "pie"
           }
          ],
          "scatter": [
           {
            "fillpattern": {
             "fillmode": "overlay",
             "size": 10,
             "solidity": 0.2
            },
            "type": "scatter"
           }
          ],
          "scatter3d": [
           {
            "line": {
             "colorbar": {
              "outlinewidth": 0,
              "ticks": ""
             }
            },
            "marker": {
             "colorbar": {
              "outlinewidth": 0,
              "ticks": ""
             }
            },
            "type": "scatter3d"
           }
          ],
          "scattercarpet": [
           {
            "marker": {
             "colorbar": {
              "outlinewidth": 0,
              "ticks": ""
             }
            },
            "type": "scattercarpet"
           }
          ],
          "scattergeo": [
           {
            "marker": {
             "colorbar": {
              "outlinewidth": 0,
              "ticks": ""
             }
            },
            "type": "scattergeo"
           }
          ],
          "scattergl": [
           {
            "marker": {
             "colorbar": {
              "outlinewidth": 0,
              "ticks": ""
             }
            },
            "type": "scattergl"
           }
          ],
          "scattermapbox": [
           {
            "marker": {
             "colorbar": {
              "outlinewidth": 0,
              "ticks": ""
             }
            },
            "type": "scattermapbox"
           }
          ],
          "scatterpolar": [
           {
            "marker": {
             "colorbar": {
              "outlinewidth": 0,
              "ticks": ""
             }
            },
            "type": "scatterpolar"
           }
          ],
          "scatterpolargl": [
           {
            "marker": {
             "colorbar": {
              "outlinewidth": 0,
              "ticks": ""
             }
            },
            "type": "scatterpolargl"
           }
          ],
          "scatterternary": [
           {
            "marker": {
             "colorbar": {
              "outlinewidth": 0,
              "ticks": ""
             }
            },
            "type": "scatterternary"
           }
          ],
          "surface": [
           {
            "colorbar": {
             "outlinewidth": 0,
             "ticks": ""
            },
            "colorscale": [
             [
              0,
              "#0d0887"
             ],
             [
              0.1111111111111111,
              "#46039f"
             ],
             [
              0.2222222222222222,
              "#7201a8"
             ],
             [
              0.3333333333333333,
              "#9c179e"
             ],
             [
              0.4444444444444444,
              "#bd3786"
             ],
             [
              0.5555555555555556,
              "#d8576b"
             ],
             [
              0.6666666666666666,
              "#ed7953"
             ],
             [
              0.7777777777777778,
              "#fb9f3a"
             ],
             [
              0.8888888888888888,
              "#fdca26"
             ],
             [
              1,
              "#f0f921"
             ]
            ],
            "type": "surface"
           }
          ],
          "table": [
           {
            "cells": {
             "fill": {
              "color": "#EBF0F8"
             },
             "line": {
              "color": "white"
             }
            },
            "header": {
             "fill": {
              "color": "#C8D4E3"
             },
             "line": {
              "color": "white"
             }
            },
            "type": "table"
           }
          ]
         },
         "layout": {
          "annotationdefaults": {
           "arrowcolor": "#2a3f5f",
           "arrowhead": 0,
           "arrowwidth": 1
          },
          "autotypenumbers": "strict",
          "coloraxis": {
           "colorbar": {
            "outlinewidth": 0,
            "ticks": ""
           }
          },
          "colorscale": {
           "diverging": [
            [
             0,
             "#8e0152"
            ],
            [
             0.1,
             "#c51b7d"
            ],
            [
             0.2,
             "#de77ae"
            ],
            [
             0.3,
             "#f1b6da"
            ],
            [
             0.4,
             "#fde0ef"
            ],
            [
             0.5,
             "#f7f7f7"
            ],
            [
             0.6,
             "#e6f5d0"
            ],
            [
             0.7,
             "#b8e186"
            ],
            [
             0.8,
             "#7fbc41"
            ],
            [
             0.9,
             "#4d9221"
            ],
            [
             1,
             "#276419"
            ]
           ],
           "sequential": [
            [
             0,
             "#0d0887"
            ],
            [
             0.1111111111111111,
             "#46039f"
            ],
            [
             0.2222222222222222,
             "#7201a8"
            ],
            [
             0.3333333333333333,
             "#9c179e"
            ],
            [
             0.4444444444444444,
             "#bd3786"
            ],
            [
             0.5555555555555556,
             "#d8576b"
            ],
            [
             0.6666666666666666,
             "#ed7953"
            ],
            [
             0.7777777777777778,
             "#fb9f3a"
            ],
            [
             0.8888888888888888,
             "#fdca26"
            ],
            [
             1,
             "#f0f921"
            ]
           ],
           "sequentialminus": [
            [
             0,
             "#0d0887"
            ],
            [
             0.1111111111111111,
             "#46039f"
            ],
            [
             0.2222222222222222,
             "#7201a8"
            ],
            [
             0.3333333333333333,
             "#9c179e"
            ],
            [
             0.4444444444444444,
             "#bd3786"
            ],
            [
             0.5555555555555556,
             "#d8576b"
            ],
            [
             0.6666666666666666,
             "#ed7953"
            ],
            [
             0.7777777777777778,
             "#fb9f3a"
            ],
            [
             0.8888888888888888,
             "#fdca26"
            ],
            [
             1,
             "#f0f921"
            ]
           ]
          },
          "colorway": [
           "#636efa",
           "#EF553B",
           "#00cc96",
           "#ab63fa",
           "#FFA15A",
           "#19d3f3",
           "#FF6692",
           "#B6E880",
           "#FF97FF",
           "#FECB52"
          ],
          "font": {
           "color": "#2a3f5f"
          },
          "geo": {
           "bgcolor": "white",
           "lakecolor": "white",
           "landcolor": "#E5ECF6",
           "showlakes": true,
           "showland": true,
           "subunitcolor": "white"
          },
          "hoverlabel": {
           "align": "left"
          },
          "hovermode": "closest",
          "mapbox": {
           "style": "light"
          },
          "paper_bgcolor": "white",
          "plot_bgcolor": "#E5ECF6",
          "polar": {
           "angularaxis": {
            "gridcolor": "white",
            "linecolor": "white",
            "ticks": ""
           },
           "bgcolor": "#E5ECF6",
           "radialaxis": {
            "gridcolor": "white",
            "linecolor": "white",
            "ticks": ""
           }
          },
          "scene": {
           "xaxis": {
            "backgroundcolor": "#E5ECF6",
            "gridcolor": "white",
            "gridwidth": 2,
            "linecolor": "white",
            "showbackground": true,
            "ticks": "",
            "zerolinecolor": "white"
           },
           "yaxis": {
            "backgroundcolor": "#E5ECF6",
            "gridcolor": "white",
            "gridwidth": 2,
            "linecolor": "white",
            "showbackground": true,
            "ticks": "",
            "zerolinecolor": "white"
           },
           "zaxis": {
            "backgroundcolor": "#E5ECF6",
            "gridcolor": "white",
            "gridwidth": 2,
            "linecolor": "white",
            "showbackground": true,
            "ticks": "",
            "zerolinecolor": "white"
           }
          },
          "shapedefaults": {
           "line": {
            "color": "#2a3f5f"
           }
          },
          "ternary": {
           "aaxis": {
            "gridcolor": "white",
            "linecolor": "white",
            "ticks": ""
           },
           "baxis": {
            "gridcolor": "white",
            "linecolor": "white",
            "ticks": ""
           },
           "bgcolor": "#E5ECF6",
           "caxis": {
            "gridcolor": "white",
            "linecolor": "white",
            "ticks": ""
           }
          },
          "title": {
           "x": 0.05
          },
          "xaxis": {
           "automargin": true,
           "gridcolor": "white",
           "linecolor": "white",
           "ticks": "",
           "title": {
            "standoff": 15
           },
           "zerolinecolor": "white",
           "zerolinewidth": 2
          },
          "yaxis": {
           "automargin": true,
           "gridcolor": "white",
           "linecolor": "white",
           "ticks": "",
           "title": {
            "standoff": 15
           },
           "zerolinecolor": "white",
           "zerolinewidth": 2
          }
         }
        },
        "title": {
         "text": "Distribution of Map"
        },
        "width": 900
       }
      },
      "image/png": "[encoded data removed]",
      "text/html": [
       "<div>                            <div id=\"8b60753b-5077-4fdd-b7fb-bed6d6562391\" class=\"plotly-graph-div\" style=\"height:600px; width:900px;\"></div>            <script type=\"text/javascript\">                require([\"plotly\"], function(Plotly) {                    window.PLOTLYENV=window.PLOTLYENV || {};                                    if (document.getElementById(\"8b60753b-5077-4fdd-b7fb-bed6d6562391\")) {                    Plotly.newPlot(                        \"8b60753b-5077-4fdd-b7fb-bed6d6562391\",                        [{\"colorbar\":{\"title\":{\"text\":\"Number of Publication\"}},\"colorscale\":[[0.0,\"rgb(255,245,240)\"],[0.125,\"rgb(254,224,210)\"],[0.25,\"rgb(252,187,161)\"],[0.375,\"rgb(252,146,114)\"],[0.5,\"rgb(251,106,74)\"],[0.625,\"rgb(239,59,44)\"],[0.75,\"rgb(203,24,29)\"],[0.875,\"rgb(165,15,21)\"],[1.0,\"rgb(103,0,13)\"]],\"locations\":[\"USA\",\"CAN\",\"MEX\",\"BRA\",\"ARG\",\"COL\",\"GER\",\"FRA\",\"RUS\",\"CHN\",\"IND\",\"AUS\",\"JPN\",\"ZAF\",\"NGA\"],\"text\":[\"USA\",\"CAN\",\"MEX\",\"BRA\",\"ARG\",\"COL\",\"GER\",\"FRA\",\"RUS\",\"CHN\",\"IND\",\"AUS\",\"JPN\",\"ZAF\",\"NGA\"],\"z\":[20.0,30.0,15.0,40.0,20.0,25.0,30.0,35.0,45.0,50.0,40.0,25.0,35.0,20.0,10.0],\"type\":\"choropleth\"}],                        {\"template\":{\"data\":{\"histogram2dcontour\":[{\"type\":\"histogram2dcontour\",\"colorbar\":{\"outlinewidth\":0,\"ticks\":\"\"},\"colorscale\":[[0.0,\"#0d0887\"],[0.1111111111111111,\"#46039f\"],[0.2222222222222222,\"#7201a8\"],[0.3333333333333333,\"#9c179e\"],[0.4444444444444444,\"#bd3786\"],[0.5555555555555556,\"#d8576b\"],[0.6666666666666666,\"#ed7953\"],[0.7777777777777778,\"#fb9f3a\"],[0.8888888888888888,\"#fdca26\"],[1.0,\"#f0f921\"]]}],\"choropleth\":[{\"type\":\"choropleth\",\"colorbar\":{\"outlinewidth\":0,\"ticks\":\"\"}}],\"histogram2d\":[{\"type\":\"histogram2d\",\"colorbar\":{\"outlinewidth\":0,\"ticks\":\"\"},\"colorscale\":[[0.0,\"#0d0887\"],[0.1111111111111111,\"#46039f\"],[0.2222222222222222,\"#7201a8\"],[0.3333333333333333,\"#9c179e\"],[0.4444444444444444,\"#bd3786\"],[0.5555555555555556,\"#d8576b\"],[0.6666666666666666,\"#ed7953\"],[0.7777777777777778,\"#fb9f3a\"],[0.8888888888888888,\"#fdca26\"],[1.0,\"#f0f921\"]]}],\"heatmap\":[{\"type\":\"heatmap\",\"colorbar\":{\"outlinewidth\":0,\"ticks\":\"\"},\"colorscale\":[[0.0,\"#0d0887\"],[0.1111111111111111,\"#46039f\"],[0.2222222222222222,\"#7201a8\"],[0.3333333333333333,\"#9c179e\"],[0.4444444444444444,\"#bd3786\"],[0.5555555555555556,\"#d8576b\"],[0.6666666666666666,\"#ed7953\"],[0.7777777777777778,\"#fb9f3a\"],[0.8888888888888888,\"#fdca26\"],[1.0,\"#f0f921\"]]}],\"heatmapgl\":[{\"type\":\"heatmapgl\",\"colorbar\":{\"outlinewidth\":0,\"ticks\":\"\"},\"colorscale\":[[0.0,\"#0d0887\"],[0.1111111111111111,\"#46039f\"],[0.2222222222222222,\"#7201a8\"],[0.3333333333333333,\"#9c179e\"],[0.4444444444444444,\"#bd3786\"],[0.5555555555555556,\"#d8576b\"],[0.6666666666666666,\"#ed7953\"],[0.7777777777777778,\"#fb9f3a\"],[0.8888888888888888,\"#fdca26\"],[1.0,\"#f0f921\"]]}],\"contourcarpet\":[{\"type\":\"contourcarpet\",\"colorbar\":{\"outlinewidth\":0,\"ticks\":\"\"}}],\"contour\":[{\"type\":\"contour\",\"colorbar\":{\"outlinewidth\":0,\"ticks\":\"\"},\"colorscale\":[[0.0,\"#0d0887\"],[0.1111111111111111,\"#46039f\"],[0.2222222222222222,\"#7201a8\"],[0.3333333333333333,\"#9c179e\"],[0.4444444444444444,\"#bd3786\"],[0.5555555555555556,\"#d8576b\"],[0.6666666666666666,\"#ed7953\"],[0.7777777777777778,\"#fb9f3a\"],[0.8888888888888888,\"#fdca26\"],[1.0,\"#f0f921\"]]}],\"surface\":[{\"type\":\"surface\",\"colorbar\":{\"outlinewidth\":0,\"ticks\":\"\"},\"colorscale\":[[0.0,\"#0d0887\"],[0.1111111111111111,\"#46039f\"],[0.2222222222222222,\"#7201a8\"],[0.3333333333333333,\"#9c179e\"],[0.4444444444444444,\"#bd3786\"],[0.5555555555555556,\"#d8576b\"],[0.6666666666666666,\"#ed7953\"],[0.7777777777777778,\"#fb9f3a\"],[0.8888888888888888,\"#fdca26\"],[1.0,\"#f0f921\"]]}],\"mesh3d\":[{\"type\":\"mesh3d\",\"colorbar\":{\"outlinewidth\":0,\"ticks\":\"\"}}],\"scatter\":[{\"fillpattern\":{\"fillmode\":\"overlay\",\"size\":10,\"solidity\":0.2},\"type\":\"scatter\"}],\"parcoords\":[{\"type\":\"parcoords\",\"line\":{\"colorbar\":{\"outlinewidth\":0,\"ticks\":\"\"}}}],\"scatterpolargl\":[{\"type\":\"scatterpolargl\",\"marker\":{\"colorbar\":{\"outlinewidth\":0,\"ticks\":\"\"}}}],\"bar\":[{\"error_x\":{\"color\":\"#2a3f5f\"},\"error_y\":{\"color\":\"#2a3f5f\"},\"marker\":{\"line\":{\"color\":\"#E5ECF6\",\"width\":0.5},\"pattern\":{\"fillmode\":\"overlay\",\"size\":10,\"solidity\":0.2}},\"type\":\"bar\"}],\"scattergeo\":[{\"type\":\"scattergeo\",\"marker\":{\"colorbar\":{\"outlinewidth\":0,\"ticks\":\"\"}}}],\"scatterpolar\":[{\"type\":\"scatterpolar\",\"marker\":{\"colorbar\":{\"outlinewidth\":0,\"ticks\":\"\"}}}],\"histogram\":[{\"marker\":{\"pattern\":{\"fillmode\":\"overlay\",\"size\":10,\"solidity\":0.2}},\"type\":\"histogram\"}],\"scattergl\":[{\"type\":\"scattergl\",\"marker\":{\"colorbar\":{\"outlinewidth\":0,\"ticks\":\"\"}}}],\"scatter3d\":[{\"type\":\"scatter3d\",\"line\":{\"colorbar\":{\"outlinewidth\":0,\"ticks\":\"\"}},\"marker\":{\"colorbar\":{\"outlinewidth\":0,\"ticks\":\"\"}}}],\"scattermapbox\":[{\"type\":\"scattermapbox\",\"marker\":{\"colorbar\":{\"outlinewidth\":0,\"ticks\":\"\"}}}],\"scatterternary\":[{\"type\":\"scatterternary\",\"marker\":{\"colorbar\":{\"outlinewidth\":0,\"ticks\":\"\"}}}],\"scattercarpet\":[{\"type\":\"scattercarpet\",\"marker\":{\"colorbar\":{\"outlinewidth\":0,\"ticks\":\"\"}}}],\"carpet\":[{\"aaxis\":{\"endlinecolor\":\"#2a3f5f\",\"gridcolor\":\"white\",\"linecolor\":\"white\",\"minorgridcolor\":\"white\",\"startlinecolor\":\"#2a3f5f\"},\"baxis\":{\"endlinecolor\":\"#2a3f5f\",\"gridcolor\":\"white\",\"linecolor\":\"white\",\"minorgridcolor\":\"white\",\"startlinecolor\":\"#2a3f5f\"},\"type\":\"carpet\"}],\"table\":[{\"cells\":{\"fill\":{\"color\":\"#EBF0F8\"},\"line\":{\"color\":\"white\"}},\"header\":{\"fill\":{\"color\":\"#C8D4E3\"},\"line\":{\"color\":\"white\"}},\"type\":\"table\"}],\"barpolar\":[{\"marker\":{\"line\":{\"color\":\"#E5ECF6\",\"width\":0.5},\"pattern\":{\"fillmode\":\"overlay\",\"size\":10,\"solidity\":0.2}},\"type\":\"barpolar\"}],\"pie\":[{\"automargin\":true,\"type\":\"pie\"}]},\"layout\":{\"autotypenumbers\":\"strict\",\"colorway\":[\"#636efa\",\"#EF553B\",\"#00cc96\",\"#ab63fa\",\"#FFA15A\",\"#19d3f3\",\"#FF6692\",\"#B6E880\",\"#FF97FF\",\"#FECB52\"],\"font\":{\"color\":\"#2a3f5f\"},\"hovermode\":\"closest\",\"hoverlabel\":{\"align\":\"left\"},\"paper_bgcolor\":\"white\",\"plot_bgcolor\":\"#E5ECF6\",\"polar\":{\"bgcolor\":\"#E5ECF6\",\"angularaxis\":{\"gridcolor\":\"white\",\"linecolor\":\"white\",\"ticks\":\"\"},\"radialaxis\":{\"gridcolor\":\"white\",\"linecolor\":\"white\",\"ticks\":\"\"}},\"ternary\":{\"bgcolor\":\"#E5ECF6\",\"aaxis\":{\"gridcolor\":\"white\",\"linecolor\":\"white\",\"ticks\":\"\"},\"baxis\":{\"gridcolor\":\"white\",\"linecolor\":\"white\",\"ticks\":\"\"},\"caxis\":{\"gridcolor\":\"white\",\"linecolor\":\"white\",\"ticks\":\"\"}},\"coloraxis\":{\"colorbar\":{\"outlinewidth\":0,\"ticks\":\"\"}},\"colorscale\":{\"sequential\":[[0.0,\"#0d0887\"],[0.1111111111111111,\"#46039f\"],[0.2222222222222222,\"#7201a8\"],[0.3333333333333333,\"#9c179e\"],[0.4444444444444444,\"#bd3786\"],[0.5555555555555556,\"#d8576b\"],[0.6666666666666666,\"#ed7953\"],[0.7777777777777778,\"#fb9f3a\"],[0.8888888888888888,\"#fdca26\"],[1.0,\"#f0f921\"]],\"sequentialminus\":[[0.0,\"#0d0887\"],[0.1111111111111111,\"#46039f\"],[0.2222222222222222,\"#7201a8\"],[0.3333333333333333,\"#9c179e\"],[0.4444444444444444,\"#bd3786\"],[0.5555555555555556,\"#d8576b\"],[0.6666666666666666,\"#ed7953\"],[0.7777777777777778,\"#fb9f3a\"],[0.8888888888888888,\"#fdca26\"],[1.0,\"#f0f921\"]],\"diverging\":[[0,\"#8e0152\"],[0.1,\"#c51b7d\"],[0.2,\"#de77ae\"],[0.3,\"#f1b6da\"],[0.4,\"#fde0ef\"],[0.5,\"#f7f7f7\"],[0.6,\"#e6f5d0\"],[0.7,\"#b8e186\"],[0.8,\"#7fbc41\"],[0.9,\"#4d9221\"],[1,\"#276419\"]]},\"xaxis\":{\"gridcolor\":\"white\",\"linecolor\":\"white\",\"ticks\":\"\",\"title\":{\"standoff\":15},\"zerolinecolor\":\"white\",\"automargin\":true,\"zerolinewidth\":2},\"yaxis\":{\"gridcolor\":\"white\",\"linecolor\":\"white\",\"ticks\":\"\",\"title\":{\"standoff\":15},\"zerolinecolor\":\"white\",\"automargin\":true,\"zerolinewidth\":2},\"scene\":{\"xaxis\":{\"backgroundcolor\":\"#E5ECF6\",\"gridcolor\":\"white\",\"linecolor\":\"white\",\"showbackground\":true,\"ticks\":\"\",\"zerolinecolor\":\"white\",\"gridwidth\":2},\"yaxis\":{\"backgroundcolor\":\"#E5ECF6\",\"gridcolor\":\"white\",\"linecolor\":\"white\",\"showbackground\":true,\"ticks\":\"\",\"zerolinecolor\":\"white\",\"gridwidth\":2},\"zaxis\":{\"backgroundcolor\":\"#E5ECF6\",\"gridcolor\":\"white\",\"linecolor\":\"white\",\"showbackground\":true,\"ticks\":\"\",\"zerolinecolor\":\"white\",\"gridwidth\":2}},\"shapedefaults\":{\"line\":{\"color\":\"#2a3f5f\"}},\"annotationdefaults\":{\"arrowcolor\":\"#2a3f5f\",\"arrowhead\":0,\"arrowwidth\":1},\"geo\":{\"bgcolor\":\"white\",\"landcolor\":\"#E5ECF6\",\"subunitcolor\":\"white\",\"showland\":true,\"showlakes\":true,\"lakecolor\":\"white\"},\"title\":{\"x\":0.05},\"mapbox\":{\"style\":\"light\"}}},\"title\":{\"text\":\"Distribution of Map\"},\"geo\":{\"projection\":{\"type\":\"equirectangular\"},\"showframe\":false,\"showcoastlines\":false},\"width\":900,\"height\":600},                        {\"responsive\": true}                    ).then(function(){\n",
       "                            \n",
       "var gd = document.getElementById('8b60753b-5077-4fdd-b7fb-bed6d6562391');\n",
       "var x = new MutationObserver(function (mutations, observer) {{\n",
       "        var display = window.getComputedStyle(gd).display;\n",
       "        if (!display || display === 'none') {{\n",
       "            console.log([gd, 'removed!']);\n",
       "            Plotly.purge(gd);\n",
       "            observer.disconnect();\n",
       "        }}\n",
       "}});\n",
       "\n",
       "// Listen for the removal of the full notebook cells\n",
       "var notebookContainer = gd.closest('#notebook-container');\n",
       "if (notebookContainer) {{\n",
       "    x.observe(notebookContainer, {childList: true});\n",
       "}}\n",
       "\n",
       "// Listen for the clearing of the current output cell\n",
       "var outputEl = gd.closest('.output');\n",
       "if (outputEl) {{\n",
       "    x.observe(outputEl, {childList: true});\n",
       "}}\n",
       "\n",
       "                        })                };                });            </script>        </div>"
      ]
     },
     "metadata": {},
     "output_type": "display_data"
    }
   ],
   "source": [
    "import plotly.graph_objs as go\n",
    "import pandas as pd\n",
    "\n",
    "# 创建一个包含国家代码和随机数值的 DataFrame\n",
    "df = pd.DataFrame({\n",
    "    'iso_alpha': ['USA', 'CAN', 'MEX', 'BRA', 'ARG', 'COL', 'GER', 'FRA', 'RUS', 'CHN', 'IND', 'AUS', 'JPN', 'ZAF', 'NGA'],\n",
    "    'value': [20, 30, 15, 40, 20, 25, 30, 35, 45, 50, 40, 25, 35, 20, 10]  # 随机值\n",
    "})\n",
    "\n",
    "fig = go.Figure(data=go.Choropleth(\n",
    "    locations=df['iso_alpha'],  # Spatial coordinates\n",
    "    z=df['value'].astype(float),  # Data to be color-coded\n",
    "    text=df['iso_alpha'],  # Text to display on hover\n",
    "    colorscale='Reds',\n",
    "    colorbar_title=\"Number of Publication\",\n",
    "))\n",
    "\n",
    "fig.update_layout(\n",
    "    title_text='Distribution of Map',\n",
    "    geo=dict(\n",
    "        showframe=False,\n",
    "        showcoastlines=False,\n",
    "        projection_type='equirectangular'\n",
    "    ),\n",
    "    width=900,\n",
    "    height=600\n",
    ")\n",
    "\n",
    "fig.show()\n"
   ]
  },
  {
   "cell_type": "markdown",
   "id": "48f2526c-d268-4e57-b3f3-4a0bf8fb3901",
   "metadata": {},
   "source": [
    "### Bar - Total Number of Literature Categories"
   ]
  },
  {
   "cell_type": "code",
   "execution_count": 30,
   "id": "8a367a34-f02a-42a6-95dc-41f031756ab3",
   "metadata": {},
   "outputs": [
    {
     "data": {
      "application/vnd.plotly.v1+json": {
       "config": {
        "plotlyServerURL": "https://plot.ly"
       },
       "data": [
        {
         "name": "A",
         "text": [
          10,
          15,
          20,
          25,
          30
         ],
         "textposition": "auto",
         "type": "bar",
         "x": [
          "2016",
          "2017",
          "2018",
          "2019",
          "2020"
         ],
         "y": [
          10,
          15,
          20,
          25,
          30
         ]
        },
        {
         "name": "B",
         "text": [
          5,
          10,
          15,
          10,
          5
         ],
         "textposition": "auto",
         "type": "bar",
         "x": [
          "2016",
          "2017",
          "2018",
          "2019",
          "2020"
         ],
         "y": [
          5,
          10,
          15,
          10,
          5
         ]
        }
       ],
       "layout": {
        "autosize": true,
        "barmode": "group",
        "legend": {
         "title": {
          "text": "Literature Categories"
         }
        },
        "template": {
         "data": {
          "bar": [
           {
            "error_x": {
             "color": "#2a3f5f"
            },
            "error_y": {
             "color": "#2a3f5f"
            },
            "marker": {
             "line": {
              "color": "#E5ECF6",
              "width": 0.5
             },
             "pattern": {
              "fillmode": "overlay",
              "size": 10,
              "solidity": 0.2
             }
            },
            "type": "bar"
           }
          ],
          "barpolar": [
           {
            "marker": {
             "line": {
              "color": "#E5ECF6",
              "width": 0.5
             },
             "pattern": {
              "fillmode": "overlay",
              "size": 10,
              "solidity": 0.2
             }
            },
            "type": "barpolar"
           }
          ],
          "carpet": [
           {
            "aaxis": {
             "endlinecolor": "#2a3f5f",
             "gridcolor": "white",
             "linecolor": "white",
             "minorgridcolor": "white",
             "startlinecolor": "#2a3f5f"
            },
            "baxis": {
             "endlinecolor": "#2a3f5f",
             "gridcolor": "white",
             "linecolor": "white",
             "minorgridcolor": "white",
             "startlinecolor": "#2a3f5f"
            },
            "type": "carpet"
           }
          ],
          "choropleth": [
           {
            "colorbar": {
             "outlinewidth": 0,
             "ticks": ""
            },
            "type": "choropleth"
           }
          ],
          "contour": [
           {
            "colorbar": {
             "outlinewidth": 0,
             "ticks": ""
            },
            "colorscale": [
             [
              0,
              "#0d0887"
             ],
             [
              0.1111111111111111,
              "#46039f"
             ],
             [
              0.2222222222222222,
              "#7201a8"
             ],
             [
              0.3333333333333333,
              "#9c179e"
             ],
             [
              0.4444444444444444,
              "#bd3786"
             ],
             [
              0.5555555555555556,
              "#d8576b"
             ],
             [
              0.6666666666666666,
              "#ed7953"
             ],
             [
              0.7777777777777778,
              "#fb9f3a"
             ],
             [
              0.8888888888888888,
              "#fdca26"
             ],
             [
              1,
              "#f0f921"
             ]
            ],
            "type": "contour"
           }
          ],
          "contourcarpet": [
           {
            "colorbar": {
             "outlinewidth": 0,
             "ticks": ""
            },
            "type": "contourcarpet"
           }
          ],
          "heatmap": [
           {
            "colorbar": {
             "outlinewidth": 0,
             "ticks": ""
            },
            "colorscale": [
             [
              0,
              "#0d0887"
             ],
             [
              0.1111111111111111,
              "#46039f"
             ],
             [
              0.2222222222222222,
              "#7201a8"
             ],
             [
              0.3333333333333333,
              "#9c179e"
             ],
             [
              0.4444444444444444,
              "#bd3786"
             ],
             [
              0.5555555555555556,
              "#d8576b"
             ],
             [
              0.6666666666666666,
              "#ed7953"
             ],
             [
              0.7777777777777778,
              "#fb9f3a"
             ],
             [
              0.8888888888888888,
              "#fdca26"
             ],
             [
              1,
              "#f0f921"
             ]
            ],
            "type": "heatmap"
           }
          ],
          "heatmapgl": [
           {
            "colorbar": {
             "outlinewidth": 0,
             "ticks": ""
            },
            "colorscale": [
             [
              0,
              "#0d0887"
             ],
             [
              0.1111111111111111,
              "#46039f"
             ],
             [
              0.2222222222222222,
              "#7201a8"
             ],
             [
              0.3333333333333333,
              "#9c179e"
             ],
             [
              0.4444444444444444,
              "#bd3786"
             ],
             [
              0.5555555555555556,
              "#d8576b"
             ],
             [
              0.6666666666666666,
              "#ed7953"
             ],
             [
              0.7777777777777778,
              "#fb9f3a"
             ],
             [
              0.8888888888888888,
              "#fdca26"
             ],
             [
              1,
              "#f0f921"
             ]
            ],
            "type": "heatmapgl"
           }
          ],
          "histogram": [
           {
            "marker": {
             "pattern": {
              "fillmode": "overlay",
              "size": 10,
              "solidity": 0.2
             }
            },
            "type": "histogram"
           }
          ],
          "histogram2d": [
           {
            "colorbar": {
             "outlinewidth": 0,
             "ticks": ""
            },
            "colorscale": [
             [
              0,
              "#0d0887"
             ],
             [
              0.1111111111111111,
              "#46039f"
             ],
             [
              0.2222222222222222,
              "#7201a8"
             ],
             [
              0.3333333333333333,
              "#9c179e"
             ],
             [
              0.4444444444444444,
              "#bd3786"
             ],
             [
              0.5555555555555556,
              "#d8576b"
             ],
             [
              0.6666666666666666,
              "#ed7953"
             ],
             [
              0.7777777777777778,
              "#fb9f3a"
             ],
             [
              0.8888888888888888,
              "#fdca26"
             ],
             [
              1,
              "#f0f921"
             ]
            ],
            "type": "histogram2d"
           }
          ],
          "histogram2dcontour": [
           {
            "colorbar": {
             "outlinewidth": 0,
             "ticks": ""
            },
            "colorscale": [
             [
              0,
              "#0d0887"
             ],
             [
              0.1111111111111111,
              "#46039f"
             ],
             [
              0.2222222222222222,
              "#7201a8"
             ],
             [
              0.3333333333333333,
              "#9c179e"
             ],
             [
              0.4444444444444444,
              "#bd3786"
             ],
             [
              0.5555555555555556,
              "#d8576b"
             ],
             [
              0.6666666666666666,
              "#ed7953"
             ],
             [
              0.7777777777777778,
              "#fb9f3a"
             ],
             [
              0.8888888888888888,
              "#fdca26"
             ],
             [
              1,
              "#f0f921"
             ]
            ],
            "type": "histogram2dcontour"
           }
          ],
          "mesh3d": [
           {
            "colorbar": {
             "outlinewidth": 0,
             "ticks": ""
            },
            "type": "mesh3d"
           }
          ],
          "parcoords": [
           {
            "line": {
             "colorbar": {
              "outlinewidth": 0,
              "ticks": ""
             }
            },
            "type": "parcoords"
           }
          ],
          "pie": [
           {
            "automargin": true,
            "type": "pie"
           }
          ],
          "scatter": [
           {
            "fillpattern": {
             "fillmode": "overlay",
             "size": 10,
             "solidity": 0.2
            },
            "type": "scatter"
           }
          ],
          "scatter3d": [
           {
            "line": {
             "colorbar": {
              "outlinewidth": 0,
              "ticks": ""
             }
            },
            "marker": {
             "colorbar": {
              "outlinewidth": 0,
              "ticks": ""
             }
            },
            "type": "scatter3d"
           }
          ],
          "scattercarpet": [
           {
            "marker": {
             "colorbar": {
              "outlinewidth": 0,
              "ticks": ""
             }
            },
            "type": "scattercarpet"
           }
          ],
          "scattergeo": [
           {
            "marker": {
             "colorbar": {
              "outlinewidth": 0,
              "ticks": ""
             }
            },
            "type": "scattergeo"
           }
          ],
          "scattergl": [
           {
            "marker": {
             "colorbar": {
              "outlinewidth": 0,
              "ticks": ""
             }
            },
            "type": "scattergl"
           }
          ],
          "scattermapbox": [
           {
            "marker": {
             "colorbar": {
              "outlinewidth": 0,
              "ticks": ""
             }
            },
            "type": "scattermapbox"
           }
          ],
          "scatterpolar": [
           {
            "marker": {
             "colorbar": {
              "outlinewidth": 0,
              "ticks": ""
             }
            },
            "type": "scatterpolar"
           }
          ],
          "scatterpolargl": [
           {
            "marker": {
             "colorbar": {
              "outlinewidth": 0,
              "ticks": ""
             }
            },
            "type": "scatterpolargl"
           }
          ],
          "scatterternary": [
           {
            "marker": {
             "colorbar": {
              "outlinewidth": 0,
              "ticks": ""
             }
            },
            "type": "scatterternary"
           }
          ],
          "surface": [
           {
            "colorbar": {
             "outlinewidth": 0,
             "ticks": ""
            },
            "colorscale": [
             [
              0,
              "#0d0887"
             ],
             [
              0.1111111111111111,
              "#46039f"
             ],
             [
              0.2222222222222222,
              "#7201a8"
             ],
             [
              0.3333333333333333,
              "#9c179e"
             ],
             [
              0.4444444444444444,
              "#bd3786"
             ],
             [
              0.5555555555555556,
              "#d8576b"
             ],
             [
              0.6666666666666666,
              "#ed7953"
             ],
             [
              0.7777777777777778,
              "#fb9f3a"
             ],
             [
              0.8888888888888888,
              "#fdca26"
             ],
             [
              1,
              "#f0f921"
             ]
            ],
            "type": "surface"
           }
          ],
          "table": [
           {
            "cells": {
             "fill": {
              "color": "#EBF0F8"
             },
             "line": {
              "color": "white"
             }
            },
            "header": {
             "fill": {
              "color": "#C8D4E3"
             },
             "line": {
              "color": "white"
             }
            },
            "type": "table"
           }
          ]
         },
         "layout": {
          "annotationdefaults": {
           "arrowcolor": "#2a3f5f",
           "arrowhead": 0,
           "arrowwidth": 1
          },
          "autotypenumbers": "strict",
          "coloraxis": {
           "colorbar": {
            "outlinewidth": 0,
            "ticks": ""
           }
          },
          "colorscale": {
           "diverging": [
            [
             0,
             "#8e0152"
            ],
            [
             0.1,
             "#c51b7d"
            ],
            [
             0.2,
             "#de77ae"
            ],
            [
             0.3,
             "#f1b6da"
            ],
            [
             0.4,
             "#fde0ef"
            ],
            [
             0.5,
             "#f7f7f7"
            ],
            [
             0.6,
             "#e6f5d0"
            ],
            [
             0.7,
             "#b8e186"
            ],
            [
             0.8,
             "#7fbc41"
            ],
            [
             0.9,
             "#4d9221"
            ],
            [
             1,
             "#276419"
            ]
           ],
           "sequential": [
            [
             0,
             "#0d0887"
            ],
            [
             0.1111111111111111,
             "#46039f"
            ],
            [
             0.2222222222222222,
             "#7201a8"
            ],
            [
             0.3333333333333333,
             "#9c179e"
            ],
            [
             0.4444444444444444,
             "#bd3786"
            ],
            [
             0.5555555555555556,
             "#d8576b"
            ],
            [
             0.6666666666666666,
             "#ed7953"
            ],
            [
             0.7777777777777778,
             "#fb9f3a"
            ],
            [
             0.8888888888888888,
             "#fdca26"
            ],
            [
             1,
             "#f0f921"
            ]
           ],
           "sequentialminus": [
            [
             0,
             "#0d0887"
            ],
            [
             0.1111111111111111,
             "#46039f"
            ],
            [
             0.2222222222222222,
             "#7201a8"
            ],
            [
             0.3333333333333333,
             "#9c179e"
            ],
            [
             0.4444444444444444,
             "#bd3786"
            ],
            [
             0.5555555555555556,
             "#d8576b"
            ],
            [
             0.6666666666666666,
             "#ed7953"
            ],
            [
             0.7777777777777778,
             "#fb9f3a"
            ],
            [
             0.8888888888888888,
             "#fdca26"
            ],
            [
             1,
             "#f0f921"
            ]
           ]
          },
          "colorway": [
           "#636efa",
           "#EF553B",
           "#00cc96",
           "#ab63fa",
           "#FFA15A",
           "#19d3f3",
           "#FF6692",
           "#B6E880",
           "#FF97FF",
           "#FECB52"
          ],
          "font": {
           "color": "#2a3f5f"
          },
          "geo": {
           "bgcolor": "white",
           "lakecolor": "white",
           "landcolor": "#E5ECF6",
           "showlakes": true,
           "showland": true,
           "subunitcolor": "white"
          },
          "hoverlabel": {
           "align": "left"
          },
          "hovermode": "closest",
          "mapbox": {
           "style": "light"
          },
          "paper_bgcolor": "white",
          "plot_bgcolor": "#E5ECF6",
          "polar": {
           "angularaxis": {
            "gridcolor": "white",
            "linecolor": "white",
            "ticks": ""
           },
           "bgcolor": "#E5ECF6",
           "radialaxis": {
            "gridcolor": "white",
            "linecolor": "white",
            "ticks": ""
           }
          },
          "scene": {
           "xaxis": {
            "backgroundcolor": "#E5ECF6",
            "gridcolor": "white",
            "gridwidth": 2,
            "linecolor": "white",
            "showbackground": true,
            "ticks": "",
            "zerolinecolor": "white"
           },
           "yaxis": {
            "backgroundcolor": "#E5ECF6",
            "gridcolor": "white",
            "gridwidth": 2,
            "linecolor": "white",
            "showbackground": true,
            "ticks": "",
            "zerolinecolor": "white"
           },
           "zaxis": {
            "backgroundcolor": "#E5ECF6",
            "gridcolor": "white",
            "gridwidth": 2,
            "linecolor": "white",
            "showbackground": true,
            "ticks": "",
            "zerolinecolor": "white"
           }
          },
          "shapedefaults": {
           "line": {
            "color": "#2a3f5f"
           }
          },
          "ternary": {
           "aaxis": {
            "gridcolor": "white",
            "linecolor": "white",
            "ticks": ""
           },
           "baxis": {
            "gridcolor": "white",
            "linecolor": "white",
            "ticks": ""
           },
           "bgcolor": "#E5ECF6",
           "caxis": {
            "gridcolor": "white",
            "linecolor": "white",
            "ticks": ""
           }
          },
          "title": {
           "x": 0.05
          },
          "xaxis": {
           "automargin": true,
           "gridcolor": "white",
           "linecolor": "white",
           "ticks": "",
           "title": {
            "standoff": 15
           },
           "zerolinecolor": "white",
           "zerolinewidth": 2
          },
          "yaxis": {
           "automargin": true,
           "gridcolor": "white",
           "linecolor": "white",
           "ticks": "",
           "title": {
            "standoff": 15
           },
           "zerolinecolor": "white",
           "zerolinewidth": 2
          }
         }
        },
        "title": {
         "text": "Total Number of Literature Categories by year"
        },
        "xaxis": {
         "autorange": true,
         "range": [
          -0.5,
          4.5
         ],
         "title": {
          "text": "Year"
         },
         "type": "category"
        },
        "yaxis": {
         "autorange": true,
         "range": [
          0,
          31.57894736842105
         ],
         "title": {
          "text": "Total Number"
         },
         "type": "linear"
        }
       }
      },
      "image/png": "[encoded data removed]",
      "text/html": [
       "<div>                            <div id=\"fdca5817-d68f-44d9-8642-7d352b7b7f7c\" class=\"plotly-graph-div\" style=\"height:525px; width:100%;\"></div>            <script type=\"text/javascript\">                require([\"plotly\"], function(Plotly) {                    window.PLOTLYENV=window.PLOTLYENV || {};                                    if (document.getElementById(\"fdca5817-d68f-44d9-8642-7d352b7b7f7c\")) {                    Plotly.newPlot(                        \"fdca5817-d68f-44d9-8642-7d352b7b7f7c\",                        [{\"name\":\"A\",\"text\":[10.0,15.0,20.0,25.0,30.0],\"textposition\":\"auto\",\"x\":[\"2016\",\"2017\",\"2018\",\"2019\",\"2020\"],\"y\":[10,15,20,25,30],\"type\":\"bar\"},{\"name\":\"B\",\"text\":[5.0,10.0,15.0,10.0,5.0],\"textposition\":\"auto\",\"x\":[\"2016\",\"2017\",\"2018\",\"2019\",\"2020\"],\"y\":[5,10,15,10,5],\"type\":\"bar\"}],                        {\"template\":{\"data\":{\"histogram2dcontour\":[{\"type\":\"histogram2dcontour\",\"colorbar\":{\"outlinewidth\":0,\"ticks\":\"\"},\"colorscale\":[[0.0,\"#0d0887\"],[0.1111111111111111,\"#46039f\"],[0.2222222222222222,\"#7201a8\"],[0.3333333333333333,\"#9c179e\"],[0.4444444444444444,\"#bd3786\"],[0.5555555555555556,\"#d8576b\"],[0.6666666666666666,\"#ed7953\"],[0.7777777777777778,\"#fb9f3a\"],[0.8888888888888888,\"#fdca26\"],[1.0,\"#f0f921\"]]}],\"choropleth\":[{\"type\":\"choropleth\",\"colorbar\":{\"outlinewidth\":0,\"ticks\":\"\"}}],\"histogram2d\":[{\"type\":\"histogram2d\",\"colorbar\":{\"outlinewidth\":0,\"ticks\":\"\"},\"colorscale\":[[0.0,\"#0d0887\"],[0.1111111111111111,\"#46039f\"],[0.2222222222222222,\"#7201a8\"],[0.3333333333333333,\"#9c179e\"],[0.4444444444444444,\"#bd3786\"],[0.5555555555555556,\"#d8576b\"],[0.6666666666666666,\"#ed7953\"],[0.7777777777777778,\"#fb9f3a\"],[0.8888888888888888,\"#fdca26\"],[1.0,\"#f0f921\"]]}],\"heatmap\":[{\"type\":\"heatmap\",\"colorbar\":{\"outlinewidth\":0,\"ticks\":\"\"},\"colorscale\":[[0.0,\"#0d0887\"],[0.1111111111111111,\"#46039f\"],[0.2222222222222222,\"#7201a8\"],[0.3333333333333333,\"#9c179e\"],[0.4444444444444444,\"#bd3786\"],[0.5555555555555556,\"#d8576b\"],[0.6666666666666666,\"#ed7953\"],[0.7777777777777778,\"#fb9f3a\"],[0.8888888888888888,\"#fdca26\"],[1.0,\"#f0f921\"]]}],\"heatmapgl\":[{\"type\":\"heatmapgl\",\"colorbar\":{\"outlinewidth\":0,\"ticks\":\"\"},\"colorscale\":[[0.0,\"#0d0887\"],[0.1111111111111111,\"#46039f\"],[0.2222222222222222,\"#7201a8\"],[0.3333333333333333,\"#9c179e\"],[0.4444444444444444,\"#bd3786\"],[0.5555555555555556,\"#d8576b\"],[0.6666666666666666,\"#ed7953\"],[0.7777777777777778,\"#fb9f3a\"],[0.8888888888888888,\"#fdca26\"],[1.0,\"#f0f921\"]]}],\"contourcarpet\":[{\"type\":\"contourcarpet\",\"colorbar\":{\"outlinewidth\":0,\"ticks\":\"\"}}],\"contour\":[{\"type\":\"contour\",\"colorbar\":{\"outlinewidth\":0,\"ticks\":\"\"},\"colorscale\":[[0.0,\"#0d0887\"],[0.1111111111111111,\"#46039f\"],[0.2222222222222222,\"#7201a8\"],[0.3333333333333333,\"#9c179e\"],[0.4444444444444444,\"#bd3786\"],[0.5555555555555556,\"#d8576b\"],[0.6666666666666666,\"#ed7953\"],[0.7777777777777778,\"#fb9f3a\"],[0.8888888888888888,\"#fdca26\"],[1.0,\"#f0f921\"]]}],\"surface\":[{\"type\":\"surface\",\"colorbar\":{\"outlinewidth\":0,\"ticks\":\"\"},\"colorscale\":[[0.0,\"#0d0887\"],[0.1111111111111111,\"#46039f\"],[0.2222222222222222,\"#7201a8\"],[0.3333333333333333,\"#9c179e\"],[0.4444444444444444,\"#bd3786\"],[0.5555555555555556,\"#d8576b\"],[0.6666666666666666,\"#ed7953\"],[0.7777777777777778,\"#fb9f3a\"],[0.8888888888888888,\"#fdca26\"],[1.0,\"#f0f921\"]]}],\"mesh3d\":[{\"type\":\"mesh3d\",\"colorbar\":{\"outlinewidth\":0,\"ticks\":\"\"}}],\"scatter\":[{\"fillpattern\":{\"fillmode\":\"overlay\",\"size\":10,\"solidity\":0.2},\"type\":\"scatter\"}],\"parcoords\":[{\"type\":\"parcoords\",\"line\":{\"colorbar\":{\"outlinewidth\":0,\"ticks\":\"\"}}}],\"scatterpolargl\":[{\"type\":\"scatterpolargl\",\"marker\":{\"colorbar\":{\"outlinewidth\":0,\"ticks\":\"\"}}}],\"bar\":[{\"error_x\":{\"color\":\"#2a3f5f\"},\"error_y\":{\"color\":\"#2a3f5f\"},\"marker\":{\"line\":{\"color\":\"#E5ECF6\",\"width\":0.5},\"pattern\":{\"fillmode\":\"overlay\",\"size\":10,\"solidity\":0.2}},\"type\":\"bar\"}],\"scattergeo\":[{\"type\":\"scattergeo\",\"marker\":{\"colorbar\":{\"outlinewidth\":0,\"ticks\":\"\"}}}],\"scatterpolar\":[{\"type\":\"scatterpolar\",\"marker\":{\"colorbar\":{\"outlinewidth\":0,\"ticks\":\"\"}}}],\"histogram\":[{\"marker\":{\"pattern\":{\"fillmode\":\"overlay\",\"size\":10,\"solidity\":0.2}},\"type\":\"histogram\"}],\"scattergl\":[{\"type\":\"scattergl\",\"marker\":{\"colorbar\":{\"outlinewidth\":0,\"ticks\":\"\"}}}],\"scatter3d\":[{\"type\":\"scatter3d\",\"line\":{\"colorbar\":{\"outlinewidth\":0,\"ticks\":\"\"}},\"marker\":{\"colorbar\":{\"outlinewidth\":0,\"ticks\":\"\"}}}],\"scattermapbox\":[{\"type\":\"scattermapbox\",\"marker\":{\"colorbar\":{\"outlinewidth\":0,\"ticks\":\"\"}}}],\"scatterternary\":[{\"type\":\"scatterternary\",\"marker\":{\"colorbar\":{\"outlinewidth\":0,\"ticks\":\"\"}}}],\"scattercarpet\":[{\"type\":\"scattercarpet\",\"marker\":{\"colorbar\":{\"outlinewidth\":0,\"ticks\":\"\"}}}],\"carpet\":[{\"aaxis\":{\"endlinecolor\":\"#2a3f5f\",\"gridcolor\":\"white\",\"linecolor\":\"white\",\"minorgridcolor\":\"white\",\"startlinecolor\":\"#2a3f5f\"},\"baxis\":{\"endlinecolor\":\"#2a3f5f\",\"gridcolor\":\"white\",\"linecolor\":\"white\",\"minorgridcolor\":\"white\",\"startlinecolor\":\"#2a3f5f\"},\"type\":\"carpet\"}],\"table\":[{\"cells\":{\"fill\":{\"color\":\"#EBF0F8\"},\"line\":{\"color\":\"white\"}},\"header\":{\"fill\":{\"color\":\"#C8D4E3\"},\"line\":{\"color\":\"white\"}},\"type\":\"table\"}],\"barpolar\":[{\"marker\":{\"line\":{\"color\":\"#E5ECF6\",\"width\":0.5},\"pattern\":{\"fillmode\":\"overlay\",\"size\":10,\"solidity\":0.2}},\"type\":\"barpolar\"}],\"pie\":[{\"automargin\":true,\"type\":\"pie\"}]},\"layout\":{\"autotypenumbers\":\"strict\",\"colorway\":[\"#636efa\",\"#EF553B\",\"#00cc96\",\"#ab63fa\",\"#FFA15A\",\"#19d3f3\",\"#FF6692\",\"#B6E880\",\"#FF97FF\",\"#FECB52\"],\"font\":{\"color\":\"#2a3f5f\"},\"hovermode\":\"closest\",\"hoverlabel\":{\"align\":\"left\"},\"paper_bgcolor\":\"white\",\"plot_bgcolor\":\"#E5ECF6\",\"polar\":{\"bgcolor\":\"#E5ECF6\",\"angularaxis\":{\"gridcolor\":\"white\",\"linecolor\":\"white\",\"ticks\":\"\"},\"radialaxis\":{\"gridcolor\":\"white\",\"linecolor\":\"white\",\"ticks\":\"\"}},\"ternary\":{\"bgcolor\":\"#E5ECF6\",\"aaxis\":{\"gridcolor\":\"white\",\"linecolor\":\"white\",\"ticks\":\"\"},\"baxis\":{\"gridcolor\":\"white\",\"linecolor\":\"white\",\"ticks\":\"\"},\"caxis\":{\"gridcolor\":\"white\",\"linecolor\":\"white\",\"ticks\":\"\"}},\"coloraxis\":{\"colorbar\":{\"outlinewidth\":0,\"ticks\":\"\"}},\"colorscale\":{\"sequential\":[[0.0,\"#0d0887\"],[0.1111111111111111,\"#46039f\"],[0.2222222222222222,\"#7201a8\"],[0.3333333333333333,\"#9c179e\"],[0.4444444444444444,\"#bd3786\"],[0.5555555555555556,\"#d8576b\"],[0.6666666666666666,\"#ed7953\"],[0.7777777777777778,\"#fb9f3a\"],[0.8888888888888888,\"#fdca26\"],[1.0,\"#f0f921\"]],\"sequentialminus\":[[0.0,\"#0d0887\"],[0.1111111111111111,\"#46039f\"],[0.2222222222222222,\"#7201a8\"],[0.3333333333333333,\"#9c179e\"],[0.4444444444444444,\"#bd3786\"],[0.5555555555555556,\"#d8576b\"],[0.6666666666666666,\"#ed7953\"],[0.7777777777777778,\"#fb9f3a\"],[0.8888888888888888,\"#fdca26\"],[1.0,\"#f0f921\"]],\"diverging\":[[0,\"#8e0152\"],[0.1,\"#c51b7d\"],[0.2,\"#de77ae\"],[0.3,\"#f1b6da\"],[0.4,\"#fde0ef\"],[0.5,\"#f7f7f7\"],[0.6,\"#e6f5d0\"],[0.7,\"#b8e186\"],[0.8,\"#7fbc41\"],[0.9,\"#4d9221\"],[1,\"#276419\"]]},\"xaxis\":{\"gridcolor\":\"white\",\"linecolor\":\"white\",\"ticks\":\"\",\"title\":{\"standoff\":15},\"zerolinecolor\":\"white\",\"automargin\":true,\"zerolinewidth\":2},\"yaxis\":{\"gridcolor\":\"white\",\"linecolor\":\"white\",\"ticks\":\"\",\"title\":{\"standoff\":15},\"zerolinecolor\":\"white\",\"automargin\":true,\"zerolinewidth\":2},\"scene\":{\"xaxis\":{\"backgroundcolor\":\"#E5ECF6\",\"gridcolor\":\"white\",\"linecolor\":\"white\",\"showbackground\":true,\"ticks\":\"\",\"zerolinecolor\":\"white\",\"gridwidth\":2},\"yaxis\":{\"backgroundcolor\":\"#E5ECF6\",\"gridcolor\":\"white\",\"linecolor\":\"white\",\"showbackground\":true,\"ticks\":\"\",\"zerolinecolor\":\"white\",\"gridwidth\":2},\"zaxis\":{\"backgroundcolor\":\"#E5ECF6\",\"gridcolor\":\"white\",\"linecolor\":\"white\",\"showbackground\":true,\"ticks\":\"\",\"zerolinecolor\":\"white\",\"gridwidth\":2}},\"shapedefaults\":{\"line\":{\"color\":\"#2a3f5f\"}},\"annotationdefaults\":{\"arrowcolor\":\"#2a3f5f\",\"arrowhead\":0,\"arrowwidth\":1},\"geo\":{\"bgcolor\":\"white\",\"landcolor\":\"#E5ECF6\",\"subunitcolor\":\"white\",\"showland\":true,\"showlakes\":true,\"lakecolor\":\"white\"},\"title\":{\"x\":0.05},\"mapbox\":{\"style\":\"light\"}}},\"title\":{\"text\":\"Total Number of Literature Categories by year\"},\"legend\":{\"title\":{\"text\":\"Literature Categories\"}},\"xaxis\":{\"title\":{\"text\":\"Year\"}},\"yaxis\":{\"title\":{\"text\":\"Total Number\"}},\"barmode\":\"group\"},                        {\"responsive\": true}                    ).then(function(){\n",
       "                            \n",
       "var gd = document.getElementById('fdca5817-d68f-44d9-8642-7d352b7b7f7c');\n",
       "var x = new MutationObserver(function (mutations, observer) {{\n",
       "        var display = window.getComputedStyle(gd).display;\n",
       "        if (!display || display === 'none') {{\n",
       "            console.log([gd, 'removed!']);\n",
       "            Plotly.purge(gd);\n",
       "            observer.disconnect();\n",
       "        }}\n",
       "}});\n",
       "\n",
       "// Listen for the removal of the full notebook cells\n",
       "var notebookContainer = gd.closest('#notebook-container');\n",
       "if (notebookContainer) {{\n",
       "    x.observe(notebookContainer, {childList: true});\n",
       "}}\n",
       "\n",
       "// Listen for the clearing of the current output cell\n",
       "var outputEl = gd.closest('.output');\n",
       "if (outputEl) {{\n",
       "    x.observe(outputEl, {childList: true});\n",
       "}}\n",
       "\n",
       "                        })                };                });            </script>        </div>"
      ]
     },
     "metadata": {},
     "output_type": "display_data"
    }
   ],
   "source": [
    "import pandas as pd\n",
    "import plotly.graph_objs as go\n",
    "\n",
    "# 假设的数据集\n",
    "data = {\n",
    "    'Year': ['2016', '2017', '2018', '2019', '2020', '2016', '2017', '2018', '2019', '2020'],\n",
    "    'Category': ['A', 'A', 'A', 'A', 'A', 'B', 'B', 'B', 'B', 'B'],\n",
    "    'Count': [10, 15, 20, 25, 30, 5, 10, 15, 10, 5]\n",
    "}\n",
    "\n",
    "df = pd.DataFrame(data)\n",
    "\n",
    "# 按照年份和类别对数据进行分组，计算总数\n",
    "df_grouped = df.groupby(['Year', 'Category']).sum().reset_index()\n",
    "\n",
    "# 创建一个条形图\n",
    "fig = go.Figure()\n",
    "\n",
    "# 对于每个类别，添加一个条形图迹线\n",
    "for category in df_grouped['Category'].unique():\n",
    "    df_category = df_grouped[df_grouped['Category'] == category]\n",
    "    fig.add_trace(go.Bar(\n",
    "        x=df_category['Year'],\n",
    "        y=df_category['Count'],\n",
    "        name=category,\n",
    "        text=df_category['Count'],\n",
    "        textposition='auto',\n",
    "    ))\n",
    "\n",
    "# 更新布局以添加标题和使图例可点击\n",
    "fig.update_layout(\n",
    "    title_text='Total Number of Literature Categories by year', # 年度文献类别总数\n",
    "    xaxis=dict(title='Year'),\n",
    "    yaxis=dict(title='Total Number'), # 文献总数\n",
    "    barmode='group',\n",
    "    legend_title_text='Literature Categories'  # 文献类别\n",
    ")\n",
    "\n",
    "# 显示图表\n",
    "fig.show()\n"
   ]
  },
  {
   "cell_type": "markdown",
   "id": "8d87916d-74fe-46a5-b3a8-8528dbea1c1d",
   "metadata": {},
   "source": [
    "### line - Total Number of Literature Categories"
   ]
  },
  {
   "cell_type": "code",
   "execution_count": 15,
   "id": "e598ddcc-b9eb-4beb-a18d-29857f471bce",
   "metadata": {},
   "outputs": [
    {
     "data": {
      "application/vnd.plotly.v1+json": {
       "config": {
        "plotlyServerURL": "https://plot.ly"
       },
       "data": [
        {
         "line": {
          "shape": "spline"
         },
         "mode": "lines+markers",
         "name": "Clinical Trial",
         "type": "scatter",
         "x": [
          "2019",
          "2020",
          "2021",
          "2022",
          "2023"
         ],
         "y": [
          18,
          10,
          15,
          10,
          15
         ]
        },
        {
         "line": {
          "shape": "spline"
         },
         "mode": "lines+markers",
         "name": "Meta-Analysis",
         "type": "scatter",
         "x": [
          "2019",
          "2020",
          "2021",
          "2023"
         ],
         "y": [
          22,
          35,
          5,
          30
         ]
        }
       ],
       "layout": {
        "autosize": true,
        "legend": {
         "title": {
          "text": "Article Types"
         }
        },
        "template": {
         "data": {
          "bar": [
           {
            "error_x": {
             "color": "#2a3f5f"
            },
            "error_y": {
             "color": "#2a3f5f"
            },
            "marker": {
             "line": {
              "color": "#E5ECF6",
              "width": 0.5
             },
             "pattern": {
              "fillmode": "overlay",
              "size": 10,
              "solidity": 0.2
             }
            },
            "type": "bar"
           }
          ],
          "barpolar": [
           {
            "marker": {
             "line": {
              "color": "#E5ECF6",
              "width": 0.5
             },
             "pattern": {
              "fillmode": "overlay",
              "size": 10,
              "solidity": 0.2
             }
            },
            "type": "barpolar"
           }
          ],
          "carpet": [
           {
            "aaxis": {
             "endlinecolor": "#2a3f5f",
             "gridcolor": "white",
             "linecolor": "white",
             "minorgridcolor": "white",
             "startlinecolor": "#2a3f5f"
            },
            "baxis": {
             "endlinecolor": "#2a3f5f",
             "gridcolor": "white",
             "linecolor": "white",
             "minorgridcolor": "white",
             "startlinecolor": "#2a3f5f"
            },
            "type": "carpet"
           }
          ],
          "choropleth": [
           {
            "colorbar": {
             "outlinewidth": 0,
             "ticks": ""
            },
            "type": "choropleth"
           }
          ],
          "contour": [
           {
            "colorbar": {
             "outlinewidth": 0,
             "ticks": ""
            },
            "colorscale": [
             [
              0,
              "#0d0887"
             ],
             [
              0.1111111111111111,
              "#46039f"
             ],
             [
              0.2222222222222222,
              "#7201a8"
             ],
             [
              0.3333333333333333,
              "#9c179e"
             ],
             [
              0.4444444444444444,
              "#bd3786"
             ],
             [
              0.5555555555555556,
              "#d8576b"
             ],
             [
              0.6666666666666666,
              "#ed7953"
             ],
             [
              0.7777777777777778,
              "#fb9f3a"
             ],
             [
              0.8888888888888888,
              "#fdca26"
             ],
             [
              1,
              "#f0f921"
             ]
            ],
            "type": "contour"
           }
          ],
          "contourcarpet": [
           {
            "colorbar": {
             "outlinewidth": 0,
             "ticks": ""
            },
            "type": "contourcarpet"
           }
          ],
          "heatmap": [
           {
            "colorbar": {
             "outlinewidth": 0,
             "ticks": ""
            },
            "colorscale": [
             [
              0,
              "#0d0887"
             ],
             [
              0.1111111111111111,
              "#46039f"
             ],
             [
              0.2222222222222222,
              "#7201a8"
             ],
             [
              0.3333333333333333,
              "#9c179e"
             ],
             [
              0.4444444444444444,
              "#bd3786"
             ],
             [
              0.5555555555555556,
              "#d8576b"
             ],
             [
              0.6666666666666666,
              "#ed7953"
             ],
             [
              0.7777777777777778,
              "#fb9f3a"
             ],
             [
              0.8888888888888888,
              "#fdca26"
             ],
             [
              1,
              "#f0f921"
             ]
            ],
            "type": "heatmap"
           }
          ],
          "heatmapgl": [
           {
            "colorbar": {
             "outlinewidth": 0,
             "ticks": ""
            },
            "colorscale": [
             [
              0,
              "#0d0887"
             ],
             [
              0.1111111111111111,
              "#46039f"
             ],
             [
              0.2222222222222222,
              "#7201a8"
             ],
             [
              0.3333333333333333,
              "#9c179e"
             ],
             [
              0.4444444444444444,
              "#bd3786"
             ],
             [
              0.5555555555555556,
              "#d8576b"
             ],
             [
              0.6666666666666666,
              "#ed7953"
             ],
             [
              0.7777777777777778,
              "#fb9f3a"
             ],
             [
              0.8888888888888888,
              "#fdca26"
             ],
             [
              1,
              "#f0f921"
             ]
            ],
            "type": "heatmapgl"
           }
          ],
          "histogram": [
           {
            "marker": {
             "pattern": {
              "fillmode": "overlay",
              "size": 10,
              "solidity": 0.2
             }
            },
            "type": "histogram"
           }
          ],
          "histogram2d": [
           {
            "colorbar": {
             "outlinewidth": 0,
             "ticks": ""
            },
            "colorscale": [
             [
              0,
              "#0d0887"
             ],
             [
              0.1111111111111111,
              "#46039f"
             ],
             [
              0.2222222222222222,
              "#7201a8"
             ],
             [
              0.3333333333333333,
              "#9c179e"
             ],
             [
              0.4444444444444444,
              "#bd3786"
             ],
             [
              0.5555555555555556,
              "#d8576b"
             ],
             [
              0.6666666666666666,
              "#ed7953"
             ],
             [
              0.7777777777777778,
              "#fb9f3a"
             ],
             [
              0.8888888888888888,
              "#fdca26"
             ],
             [
              1,
              "#f0f921"
             ]
            ],
            "type": "histogram2d"
           }
          ],
          "histogram2dcontour": [
           {
            "colorbar": {
             "outlinewidth": 0,
             "ticks": ""
            },
            "colorscale": [
             [
              0,
              "#0d0887"
             ],
             [
              0.1111111111111111,
              "#46039f"
             ],
             [
              0.2222222222222222,
              "#7201a8"
             ],
             [
              0.3333333333333333,
              "#9c179e"
             ],
             [
              0.4444444444444444,
              "#bd3786"
             ],
             [
              0.5555555555555556,
              "#d8576b"
             ],
             [
              0.6666666666666666,
              "#ed7953"
             ],
             [
              0.7777777777777778,
              "#fb9f3a"
             ],
             [
              0.8888888888888888,
              "#fdca26"
             ],
             [
              1,
              "#f0f921"
             ]
            ],
            "type": "histogram2dcontour"
           }
          ],
          "mesh3d": [
           {
            "colorbar": {
             "outlinewidth": 0,
             "ticks": ""
            },
            "type": "mesh3d"
           }
          ],
          "parcoords": [
           {
            "line": {
             "colorbar": {
              "outlinewidth": 0,
              "ticks": ""
             }
            },
            "type": "parcoords"
           }
          ],
          "pie": [
           {
            "automargin": true,
            "type": "pie"
           }
          ],
          "scatter": [
           {
            "fillpattern": {
             "fillmode": "overlay",
             "size": 10,
             "solidity": 0.2
            },
            "type": "scatter"
           }
          ],
          "scatter3d": [
           {
            "line": {
             "colorbar": {
              "outlinewidth": 0,
              "ticks": ""
             }
            },
            "marker": {
             "colorbar": {
              "outlinewidth": 0,
              "ticks": ""
             }
            },
            "type": "scatter3d"
           }
          ],
          "scattercarpet": [
           {
            "marker": {
             "colorbar": {
              "outlinewidth": 0,
              "ticks": ""
             }
            },
            "type": "scattercarpet"
           }
          ],
          "scattergeo": [
           {
            "marker": {
             "colorbar": {
              "outlinewidth": 0,
              "ticks": ""
             }
            },
            "type": "scattergeo"
           }
          ],
          "scattergl": [
           {
            "marker": {
             "colorbar": {
              "outlinewidth": 0,
              "ticks": ""
             }
            },
            "type": "scattergl"
           }
          ],
          "scattermapbox": [
           {
            "marker": {
             "colorbar": {
              "outlinewidth": 0,
              "ticks": ""
             }
            },
            "type": "scattermapbox"
           }
          ],
          "scatterpolar": [
           {
            "marker": {
             "colorbar": {
              "outlinewidth": 0,
              "ticks": ""
             }
            },
            "type": "scatterpolar"
           }
          ],
          "scatterpolargl": [
           {
            "marker": {
             "colorbar": {
              "outlinewidth": 0,
              "ticks": ""
             }
            },
            "type": "scatterpolargl"
           }
          ],
          "scatterternary": [
           {
            "marker": {
             "colorbar": {
              "outlinewidth": 0,
              "ticks": ""
             }
            },
            "type": "scatterternary"
           }
          ],
          "surface": [
           {
            "colorbar": {
             "outlinewidth": 0,
             "ticks": ""
            },
            "colorscale": [
             [
              0,
              "#0d0887"
             ],
             [
              0.1111111111111111,
              "#46039f"
             ],
             [
              0.2222222222222222,
              "#7201a8"
             ],
             [
              0.3333333333333333,
              "#9c179e"
             ],
             [
              0.4444444444444444,
              "#bd3786"
             ],
             [
              0.5555555555555556,
              "#d8576b"
             ],
             [
              0.6666666666666666,
              "#ed7953"
             ],
             [
              0.7777777777777778,
              "#fb9f3a"
             ],
             [
              0.8888888888888888,
              "#fdca26"
             ],
             [
              1,
              "#f0f921"
             ]
            ],
            "type": "surface"
           }
          ],
          "table": [
           {
            "cells": {
             "fill": {
              "color": "#EBF0F8"
             },
             "line": {
              "color": "white"
             }
            },
            "header": {
             "fill": {
              "color": "#C8D4E3"
             },
             "line": {
              "color": "white"
             }
            },
            "type": "table"
           }
          ]
         },
         "layout": {
          "annotationdefaults": {
           "arrowcolor": "#2a3f5f",
           "arrowhead": 0,
           "arrowwidth": 1
          },
          "autotypenumbers": "strict",
          "coloraxis": {
           "colorbar": {
            "outlinewidth": 0,
            "ticks": ""
           }
          },
          "colorscale": {
           "diverging": [
            [
             0,
             "#8e0152"
            ],
            [
             0.1,
             "#c51b7d"
            ],
            [
             0.2,
             "#de77ae"
            ],
            [
             0.3,
             "#f1b6da"
            ],
            [
             0.4,
             "#fde0ef"
            ],
            [
             0.5,
             "#f7f7f7"
            ],
            [
             0.6,
             "#e6f5d0"
            ],
            [
             0.7,
             "#b8e186"
            ],
            [
             0.8,
             "#7fbc41"
            ],
            [
             0.9,
             "#4d9221"
            ],
            [
             1,
             "#276419"
            ]
           ],
           "sequential": [
            [
             0,
             "#0d0887"
            ],
            [
             0.1111111111111111,
             "#46039f"
            ],
            [
             0.2222222222222222,
             "#7201a8"
            ],
            [
             0.3333333333333333,
             "#9c179e"
            ],
            [
             0.4444444444444444,
             "#bd3786"
            ],
            [
             0.5555555555555556,
             "#d8576b"
            ],
            [
             0.6666666666666666,
             "#ed7953"
            ],
            [
             0.7777777777777778,
             "#fb9f3a"
            ],
            [
             0.8888888888888888,
             "#fdca26"
            ],
            [
             1,
             "#f0f921"
            ]
           ],
           "sequentialminus": [
            [
             0,
             "#0d0887"
            ],
            [
             0.1111111111111111,
             "#46039f"
            ],
            [
             0.2222222222222222,
             "#7201a8"
            ],
            [
             0.3333333333333333,
             "#9c179e"
            ],
            [
             0.4444444444444444,
             "#bd3786"
            ],
            [
             0.5555555555555556,
             "#d8576b"
            ],
            [
             0.6666666666666666,
             "#ed7953"
            ],
            [
             0.7777777777777778,
             "#fb9f3a"
            ],
            [
             0.8888888888888888,
             "#fdca26"
            ],
            [
             1,
             "#f0f921"
            ]
           ]
          },
          "colorway": [
           "#636efa",
           "#EF553B",
           "#00cc96",
           "#ab63fa",
           "#FFA15A",
           "#19d3f3",
           "#FF6692",
           "#B6E880",
           "#FF97FF",
           "#FECB52"
          ],
          "font": {
           "color": "#2a3f5f"
          },
          "geo": {
           "bgcolor": "white",
           "lakecolor": "white",
           "landcolor": "#E5ECF6",
           "showlakes": true,
           "showland": true,
           "subunitcolor": "white"
          },
          "hoverlabel": {
           "align": "left"
          },
          "hovermode": "closest",
          "mapbox": {
           "style": "light"
          },
          "paper_bgcolor": "white",
          "plot_bgcolor": "#E5ECF6",
          "polar": {
           "angularaxis": {
            "gridcolor": "white",
            "linecolor": "white",
            "ticks": ""
           },
           "bgcolor": "#E5ECF6",
           "radialaxis": {
            "gridcolor": "white",
            "linecolor": "white",
            "ticks": ""
           }
          },
          "scene": {
           "xaxis": {
            "backgroundcolor": "#E5ECF6",
            "gridcolor": "white",
            "gridwidth": 2,
            "linecolor": "white",
            "showbackground": true,
            "ticks": "",
            "zerolinecolor": "white"
           },
           "yaxis": {
            "backgroundcolor": "#E5ECF6",
            "gridcolor": "white",
            "gridwidth": 2,
            "linecolor": "white",
            "showbackground": true,
            "ticks": "",
            "zerolinecolor": "white"
           },
           "zaxis": {
            "backgroundcolor": "#E5ECF6",
            "gridcolor": "white",
            "gridwidth": 2,
            "linecolor": "white",
            "showbackground": true,
            "ticks": "",
            "zerolinecolor": "white"
           }
          },
          "shapedefaults": {
           "line": {
            "color": "#2a3f5f"
           }
          },
          "ternary": {
           "aaxis": {
            "gridcolor": "white",
            "linecolor": "white",
            "ticks": ""
           },
           "baxis": {
            "gridcolor": "white",
            "linecolor": "white",
            "ticks": ""
           },
           "bgcolor": "#E5ECF6",
           "caxis": {
            "gridcolor": "white",
            "linecolor": "white",
            "ticks": ""
           }
          },
          "title": {
           "x": 0.05
          },
          "xaxis": {
           "automargin": true,
           "gridcolor": "white",
           "linecolor": "white",
           "ticks": "",
           "title": {
            "standoff": 15
           },
           "zerolinecolor": "white",
           "zerolinewidth": 2
          },
          "yaxis": {
           "automargin": true,
           "gridcolor": "white",
           "linecolor": "white",
           "ticks": "",
           "title": {
            "standoff": 15
           },
           "zerolinecolor": "white",
           "zerolinewidth": 2
          }
         }
        },
        "title": {
         "text": "Total Number of Literature Categories by year"
        },
        "xaxis": {
         "autorange": true,
         "range": [
          -0.24475997295469912,
          4.244759972954699
         ],
         "title": {
          "text": "Year"
         },
         "type": "category"
        },
        "yaxis": {
         "autorange": true,
         "range": [
          2.5242718446601944,
          37.47572815533981
         ],
         "title": {
          "text": "Sum of Articles"
         },
         "type": "linear"
        }
       }
      },
      "image/png": "[encoded data removed]",
      "text/html": [
       "<div>                            <div id=\"b57a0d79-ccd4-4b17-97b8-002cdefbc68e\" class=\"plotly-graph-div\" style=\"height:525px; width:100%;\"></div>            <script type=\"text/javascript\">                require([\"plotly\"], function(Plotly) {                    window.PLOTLYENV=window.PLOTLYENV || {};                                    if (document.getElementById(\"b57a0d79-ccd4-4b17-97b8-002cdefbc68e\")) {                    Plotly.newPlot(                        \"b57a0d79-ccd4-4b17-97b8-002cdefbc68e\",                        [{\"line\":{\"shape\":\"spline\"},\"mode\":\"lines+markers\",\"name\":\"Clinical Trial\",\"x\":[\"2019\",\"2020\",\"2021\",\"2022\",\"2023\"],\"y\":[18,10,15,10,15],\"type\":\"scatter\"},{\"line\":{\"shape\":\"spline\"},\"mode\":\"lines+markers\",\"name\":\"Meta-Analysis\",\"x\":[\"2019\",\"2020\",\"2021\",\"2023\"],\"y\":[22,35,5,30],\"type\":\"scatter\"}],                        {\"template\":{\"data\":{\"histogram2dcontour\":[{\"type\":\"histogram2dcontour\",\"colorbar\":{\"outlinewidth\":0,\"ticks\":\"\"},\"colorscale\":[[0.0,\"#0d0887\"],[0.1111111111111111,\"#46039f\"],[0.2222222222222222,\"#7201a8\"],[0.3333333333333333,\"#9c179e\"],[0.4444444444444444,\"#bd3786\"],[0.5555555555555556,\"#d8576b\"],[0.6666666666666666,\"#ed7953\"],[0.7777777777777778,\"#fb9f3a\"],[0.8888888888888888,\"#fdca26\"],[1.0,\"#f0f921\"]]}],\"choropleth\":[{\"type\":\"choropleth\",\"colorbar\":{\"outlinewidth\":0,\"ticks\":\"\"}}],\"histogram2d\":[{\"type\":\"histogram2d\",\"colorbar\":{\"outlinewidth\":0,\"ticks\":\"\"},\"colorscale\":[[0.0,\"#0d0887\"],[0.1111111111111111,\"#46039f\"],[0.2222222222222222,\"#7201a8\"],[0.3333333333333333,\"#9c179e\"],[0.4444444444444444,\"#bd3786\"],[0.5555555555555556,\"#d8576b\"],[0.6666666666666666,\"#ed7953\"],[0.7777777777777778,\"#fb9f3a\"],[0.8888888888888888,\"#fdca26\"],[1.0,\"#f0f921\"]]}],\"heatmap\":[{\"type\":\"heatmap\",\"colorbar\":{\"outlinewidth\":0,\"ticks\":\"\"},\"colorscale\":[[0.0,\"#0d0887\"],[0.1111111111111111,\"#46039f\"],[0.2222222222222222,\"#7201a8\"],[0.3333333333333333,\"#9c179e\"],[0.4444444444444444,\"#bd3786\"],[0.5555555555555556,\"#d8576b\"],[0.6666666666666666,\"#ed7953\"],[0.7777777777777778,\"#fb9f3a\"],[0.8888888888888888,\"#fdca26\"],[1.0,\"#f0f921\"]]}],\"heatmapgl\":[{\"type\":\"heatmapgl\",\"colorbar\":{\"outlinewidth\":0,\"ticks\":\"\"},\"colorscale\":[[0.0,\"#0d0887\"],[0.1111111111111111,\"#46039f\"],[0.2222222222222222,\"#7201a8\"],[0.3333333333333333,\"#9c179e\"],[0.4444444444444444,\"#bd3786\"],[0.5555555555555556,\"#d8576b\"],[0.6666666666666666,\"#ed7953\"],[0.7777777777777778,\"#fb9f3a\"],[0.8888888888888888,\"#fdca26\"],[1.0,\"#f0f921\"]]}],\"contourcarpet\":[{\"type\":\"contourcarpet\",\"colorbar\":{\"outlinewidth\":0,\"ticks\":\"\"}}],\"contour\":[{\"type\":\"contour\",\"colorbar\":{\"outlinewidth\":0,\"ticks\":\"\"},\"colorscale\":[[0.0,\"#0d0887\"],[0.1111111111111111,\"#46039f\"],[0.2222222222222222,\"#7201a8\"],[0.3333333333333333,\"#9c179e\"],[0.4444444444444444,\"#bd3786\"],[0.5555555555555556,\"#d8576b\"],[0.6666666666666666,\"#ed7953\"],[0.7777777777777778,\"#fb9f3a\"],[0.8888888888888888,\"#fdca26\"],[1.0,\"#f0f921\"]]}],\"surface\":[{\"type\":\"surface\",\"colorbar\":{\"outlinewidth\":0,\"ticks\":\"\"},\"colorscale\":[[0.0,\"#0d0887\"],[0.1111111111111111,\"#46039f\"],[0.2222222222222222,\"#7201a8\"],[0.3333333333333333,\"#9c179e\"],[0.4444444444444444,\"#bd3786\"],[0.5555555555555556,\"#d8576b\"],[0.6666666666666666,\"#ed7953\"],[0.7777777777777778,\"#fb9f3a\"],[0.8888888888888888,\"#fdca26\"],[1.0,\"#f0f921\"]]}],\"mesh3d\":[{\"type\":\"mesh3d\",\"colorbar\":{\"outlinewidth\":0,\"ticks\":\"\"}}],\"scatter\":[{\"fillpattern\":{\"fillmode\":\"overlay\",\"size\":10,\"solidity\":0.2},\"type\":\"scatter\"}],\"parcoords\":[{\"type\":\"parcoords\",\"line\":{\"colorbar\":{\"outlinewidth\":0,\"ticks\":\"\"}}}],\"scatterpolargl\":[{\"type\":\"scatterpolargl\",\"marker\":{\"colorbar\":{\"outlinewidth\":0,\"ticks\":\"\"}}}],\"bar\":[{\"error_x\":{\"color\":\"#2a3f5f\"},\"error_y\":{\"color\":\"#2a3f5f\"},\"marker\":{\"line\":{\"color\":\"#E5ECF6\",\"width\":0.5},\"pattern\":{\"fillmode\":\"overlay\",\"size\":10,\"solidity\":0.2}},\"type\":\"bar\"}],\"scattergeo\":[{\"type\":\"scattergeo\",\"marker\":{\"colorbar\":{\"outlinewidth\":0,\"ticks\":\"\"}}}],\"scatterpolar\":[{\"type\":\"scatterpolar\",\"marker\":{\"colorbar\":{\"outlinewidth\":0,\"ticks\":\"\"}}}],\"histogram\":[{\"marker\":{\"pattern\":{\"fillmode\":\"overlay\",\"size\":10,\"solidity\":0.2}},\"type\":\"histogram\"}],\"scattergl\":[{\"type\":\"scattergl\",\"marker\":{\"colorbar\":{\"outlinewidth\":0,\"ticks\":\"\"}}}],\"scatter3d\":[{\"type\":\"scatter3d\",\"line\":{\"colorbar\":{\"outlinewidth\":0,\"ticks\":\"\"}},\"marker\":{\"colorbar\":{\"outlinewidth\":0,\"ticks\":\"\"}}}],\"scattermapbox\":[{\"type\":\"scattermapbox\",\"marker\":{\"colorbar\":{\"outlinewidth\":0,\"ticks\":\"\"}}}],\"scatterternary\":[{\"type\":\"scatterternary\",\"marker\":{\"colorbar\":{\"outlinewidth\":0,\"ticks\":\"\"}}}],\"scattercarpet\":[{\"type\":\"scattercarpet\",\"marker\":{\"colorbar\":{\"outlinewidth\":0,\"ticks\":\"\"}}}],\"carpet\":[{\"aaxis\":{\"endlinecolor\":\"#2a3f5f\",\"gridcolor\":\"white\",\"linecolor\":\"white\",\"minorgridcolor\":\"white\",\"startlinecolor\":\"#2a3f5f\"},\"baxis\":{\"endlinecolor\":\"#2a3f5f\",\"gridcolor\":\"white\",\"linecolor\":\"white\",\"minorgridcolor\":\"white\",\"startlinecolor\":\"#2a3f5f\"},\"type\":\"carpet\"}],\"table\":[{\"cells\":{\"fill\":{\"color\":\"#EBF0F8\"},\"line\":{\"color\":\"white\"}},\"header\":{\"fill\":{\"color\":\"#C8D4E3\"},\"line\":{\"color\":\"white\"}},\"type\":\"table\"}],\"barpolar\":[{\"marker\":{\"line\":{\"color\":\"#E5ECF6\",\"width\":0.5},\"pattern\":{\"fillmode\":\"overlay\",\"size\":10,\"solidity\":0.2}},\"type\":\"barpolar\"}],\"pie\":[{\"automargin\":true,\"type\":\"pie\"}]},\"layout\":{\"autotypenumbers\":\"strict\",\"colorway\":[\"#636efa\",\"#EF553B\",\"#00cc96\",\"#ab63fa\",\"#FFA15A\",\"#19d3f3\",\"#FF6692\",\"#B6E880\",\"#FF97FF\",\"#FECB52\"],\"font\":{\"color\":\"#2a3f5f\"},\"hovermode\":\"closest\",\"hoverlabel\":{\"align\":\"left\"},\"paper_bgcolor\":\"white\",\"plot_bgcolor\":\"#E5ECF6\",\"polar\":{\"bgcolor\":\"#E5ECF6\",\"angularaxis\":{\"gridcolor\":\"white\",\"linecolor\":\"white\",\"ticks\":\"\"},\"radialaxis\":{\"gridcolor\":\"white\",\"linecolor\":\"white\",\"ticks\":\"\"}},\"ternary\":{\"bgcolor\":\"#E5ECF6\",\"aaxis\":{\"gridcolor\":\"white\",\"linecolor\":\"white\",\"ticks\":\"\"},\"baxis\":{\"gridcolor\":\"white\",\"linecolor\":\"white\",\"ticks\":\"\"},\"caxis\":{\"gridcolor\":\"white\",\"linecolor\":\"white\",\"ticks\":\"\"}},\"coloraxis\":{\"colorbar\":{\"outlinewidth\":0,\"ticks\":\"\"}},\"colorscale\":{\"sequential\":[[0.0,\"#0d0887\"],[0.1111111111111111,\"#46039f\"],[0.2222222222222222,\"#7201a8\"],[0.3333333333333333,\"#9c179e\"],[0.4444444444444444,\"#bd3786\"],[0.5555555555555556,\"#d8576b\"],[0.6666666666666666,\"#ed7953\"],[0.7777777777777778,\"#fb9f3a\"],[0.8888888888888888,\"#fdca26\"],[1.0,\"#f0f921\"]],\"sequentialminus\":[[0.0,\"#0d0887\"],[0.1111111111111111,\"#46039f\"],[0.2222222222222222,\"#7201a8\"],[0.3333333333333333,\"#9c179e\"],[0.4444444444444444,\"#bd3786\"],[0.5555555555555556,\"#d8576b\"],[0.6666666666666666,\"#ed7953\"],[0.7777777777777778,\"#fb9f3a\"],[0.8888888888888888,\"#fdca26\"],[1.0,\"#f0f921\"]],\"diverging\":[[0,\"#8e0152\"],[0.1,\"#c51b7d\"],[0.2,\"#de77ae\"],[0.3,\"#f1b6da\"],[0.4,\"#fde0ef\"],[0.5,\"#f7f7f7\"],[0.6,\"#e6f5d0\"],[0.7,\"#b8e186\"],[0.8,\"#7fbc41\"],[0.9,\"#4d9221\"],[1,\"#276419\"]]},\"xaxis\":{\"gridcolor\":\"white\",\"linecolor\":\"white\",\"ticks\":\"\",\"title\":{\"standoff\":15},\"zerolinecolor\":\"white\",\"automargin\":true,\"zerolinewidth\":2},\"yaxis\":{\"gridcolor\":\"white\",\"linecolor\":\"white\",\"ticks\":\"\",\"title\":{\"standoff\":15},\"zerolinecolor\":\"white\",\"automargin\":true,\"zerolinewidth\":2},\"scene\":{\"xaxis\":{\"backgroundcolor\":\"#E5ECF6\",\"gridcolor\":\"white\",\"linecolor\":\"white\",\"showbackground\":true,\"ticks\":\"\",\"zerolinecolor\":\"white\",\"gridwidth\":2},\"yaxis\":{\"backgroundcolor\":\"#E5ECF6\",\"gridcolor\":\"white\",\"linecolor\":\"white\",\"showbackground\":true,\"ticks\":\"\",\"zerolinecolor\":\"white\",\"gridwidth\":2},\"zaxis\":{\"backgroundcolor\":\"#E5ECF6\",\"gridcolor\":\"white\",\"linecolor\":\"white\",\"showbackground\":true,\"ticks\":\"\",\"zerolinecolor\":\"white\",\"gridwidth\":2}},\"shapedefaults\":{\"line\":{\"color\":\"#2a3f5f\"}},\"annotationdefaults\":{\"arrowcolor\":\"#2a3f5f\",\"arrowhead\":0,\"arrowwidth\":1},\"geo\":{\"bgcolor\":\"white\",\"landcolor\":\"#E5ECF6\",\"subunitcolor\":\"white\",\"showland\":true,\"showlakes\":true,\"lakecolor\":\"white\"},\"title\":{\"x\":0.05},\"mapbox\":{\"style\":\"light\"}}},\"title\":{\"text\":\"Total Number of Literature Categories by year\"},\"legend\":{\"title\":{\"text\":\"Article Types\"}},\"xaxis\":{\"title\":{\"text\":\"Year\"}},\"yaxis\":{\"title\":{\"text\":\"Sum of Articles\"}}},                        {\"responsive\": true}                    ).then(function(){\n",
       "                            \n",
       "var gd = document.getElementById('b57a0d79-ccd4-4b17-97b8-002cdefbc68e');\n",
       "var x = new MutationObserver(function (mutations, observer) {{\n",
       "        var display = window.getComputedStyle(gd).display;\n",
       "        if (!display || display === 'none') {{\n",
       "            console.log([gd, 'removed!']);\n",
       "            Plotly.purge(gd);\n",
       "            observer.disconnect();\n",
       "        }}\n",
       "}});\n",
       "\n",
       "// Listen for the removal of the full notebook cells\n",
       "var notebookContainer = gd.closest('#notebook-container');\n",
       "if (notebookContainer) {{\n",
       "    x.observe(notebookContainer, {childList: true});\n",
       "}}\n",
       "\n",
       "// Listen for the clearing of the current output cell\n",
       "var outputEl = gd.closest('.output');\n",
       "if (outputEl) {{\n",
       "    x.observe(outputEl, {childList: true});\n",
       "}}\n",
       "\n",
       "                        })                };                });            </script>        </div>"
      ]
     },
     "metadata": {},
     "output_type": "display_data"
    }
   ],
   "source": [
    "# https://blog.csdn.net/weixin_56659172/article/details/126098284?ops_request_misc=&request_id=&biz_id=102&utm_term=fig%20=%20go.Figure()%20%E6%AF%8F%E6%AC%A1%E5%88%9B%E5%BB%BA%E4%B8%80%E4%B8%AA%E5%9B%BE&utm_medium=distribute.pc_search_result.none-task-blog-2~all~sobaiduweb~default-0-126098284.142^v99^control&spm=1018.2226.3001.4187\n",
    "import pandas as pd\n",
    "import plotly.graph_objs as go\n",
    "\n",
    "# 假设的数据集\n",
    "data = {\n",
    "    'Year': ['2020', '2019', '2020', '2021', '2019', '2023', '2019', '2020', '2021', '2022', '2023'],\n",
    "    'Category': ['Meta-Analysis', 'Meta-Analysis', 'Meta-Analysis', 'Meta-Analysis', 'Meta-Analysis', 'Meta-Analysis', 'Clinical Trial', 'Clinical Trial', 'Clinical Trial', 'Clinical Trial', 'Clinical Trial'],\n",
    "    'Count': [20, 10, 15, 5, 12, 30, 18, 10, 15, 10, 15]\n",
    "}\n",
    "\n",
    "df = pd.DataFrame(data)\n",
    "\n",
    "# 按照年份和类别对数据进行分组，计算总数\n",
    "df_grouped = df.groupby(['Year', 'Category']).sum().reset_index()\n",
    "\n",
    "# 创建一个折线图\n",
    "fig = go.Figure()\n",
    "\n",
    "# 对于每个类别，添加一个折线图迹线\n",
    "for category in df_grouped['Category'].unique():\n",
    "    df_category = df_grouped[df_grouped['Category'] == category]\n",
    "    fig.add_trace(go.Scatter(\n",
    "        x=df_category['Year'],\n",
    "        y=df_category['Count'],\n",
    "        mode='lines+markers',\n",
    "        name=category,\n",
    "        line=dict(shape='spline')  # 设置为平滑曲线\n",
    "    ))\n",
    "\n",
    "# 更新布局以添加标题和使图例可点击\n",
    "fig.update_layout(\n",
    "    title_text='Total Number of Literature Categories by year',  # 年度文献类别总数\n",
    "    xaxis=dict(title='Year'),\n",
    "    yaxis=dict(title='Sum of Articles'),\n",
    "    legend_title_text='Article Types'\n",
    ")\n",
    "\n",
    "# 显示图表\n",
    "fig.show()\n"
   ]
  },
  {
   "cell_type": "code",
   "execution_count": null,
   "id": "2f8db20d-6831-46ee-abd8-be714330f50b",
   "metadata": {},
   "outputs": [],
   "source": []
  }
 ],
 "metadata": {
  "kernelspec": {
   "display_name": "Python 3 (ipykernel)",
   "language": "python",
   "name": "python3"
  },
  "language_info": {
   "codemirror_mode": {
    "name": "ipython",
    "version": 3
   },
   "file_extension": ".py",
   "mimetype": "text/x-python",
   "name": "python",
   "nbconvert_exporter": "python",
   "pygments_lexer": "ipython3",
   "version": "3.11.5"
  }
 },
 "nbformat": 4,
 "nbformat_minor": 5
}
